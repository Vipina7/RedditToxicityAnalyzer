{
  "cells": [
    {
      "cell_type": "markdown",
      "metadata": {
        "id": "QsepwKhXZQoV"
      },
      "source": [
        "## Reddit Toxicity Detection\n",
        "\n",
        "This dataset contains posts from various subreddits, with each entry providing information on the subreddit name, the text content of the post (body), its controversiality (indicating if it sparked significant discussion), and the score (upvotes minus downvotes) received by the post. It can be used to analyze user engagement and sentiment across different subreddits."
      ]
    },
    {
      "cell_type": "markdown",
      "metadata": {
        "id": "dH2jgYZ5ZUjF"
      },
      "source": [
        "### The Dataset has following attributes\n",
        "1. **subreddit**: The name of the subreddit where the post was made.\n",
        "2. **body:** The content or text of the post or comment.\n",
        "3. **controversiality:** Indicates whether the post is controversial (1 for controversial, 0 for not).\n",
        "4. **score:** The score (upvotes minus downvotes) received by the post."
      ]
    },
    {
      "cell_type": "code",
      "execution_count": 4,
      "metadata": {
        "id": "wZvlPPODZKc-"
      },
      "outputs": [],
      "source": [
        "import pandas as pd\n",
        "import numpy as np"
      ]
    },
    {
      "cell_type": "code",
      "execution_count": 5,
      "metadata": {
        "colab": {
          "base_uri": "https://localhost:8080/",
          "height": 206
        },
        "id": "hhUluWzhw6jd",
        "outputId": "6b520180-c471-4a70-ce4e-1a3e5719c506"
      },
      "outputs": [
        {
          "data": {
            "text/html": [
              "<div>\n",
              "<style scoped>\n",
              "    .dataframe tbody tr th:only-of-type {\n",
              "        vertical-align: middle;\n",
              "    }\n",
              "\n",
              "    .dataframe tbody tr th {\n",
              "        vertical-align: top;\n",
              "    }\n",
              "\n",
              "    .dataframe thead th {\n",
              "        text-align: right;\n",
              "    }\n",
              "</style>\n",
              "<table border=\"1\" class=\"dataframe\">\n",
              "  <thead>\n",
              "    <tr style=\"text-align: right;\">\n",
              "      <th></th>\n",
              "      <th>subreddit</th>\n",
              "      <th>body</th>\n",
              "      <th>controversiality</th>\n",
              "      <th>score</th>\n",
              "    </tr>\n",
              "  </thead>\n",
              "  <tbody>\n",
              "    <tr>\n",
              "      <th>0</th>\n",
              "      <td>gameofthrones</td>\n",
              "      <td>Your submission has been automatically removed...</td>\n",
              "      <td>0</td>\n",
              "      <td>1</td>\n",
              "    </tr>\n",
              "    <tr>\n",
              "      <th>1</th>\n",
              "      <td>aww</td>\n",
              "      <td>Dont squeeze her with you massive hand, you me...</td>\n",
              "      <td>0</td>\n",
              "      <td>19</td>\n",
              "    </tr>\n",
              "    <tr>\n",
              "      <th>2</th>\n",
              "      <td>gaming</td>\n",
              "      <td>It's pretty well known and it was a paid produ...</td>\n",
              "      <td>0</td>\n",
              "      <td>3</td>\n",
              "    </tr>\n",
              "    <tr>\n",
              "      <th>3</th>\n",
              "      <td>news</td>\n",
              "      <td>You know we have laws against that currently c...</td>\n",
              "      <td>0</td>\n",
              "      <td>10</td>\n",
              "    </tr>\n",
              "    <tr>\n",
              "      <th>4</th>\n",
              "      <td>politics</td>\n",
              "      <td>Yes, there is a difference between gentle supp...</td>\n",
              "      <td>0</td>\n",
              "      <td>1</td>\n",
              "    </tr>\n",
              "  </tbody>\n",
              "</table>\n",
              "</div>"
            ],
            "text/plain": [
              "       subreddit                                               body  \\\n",
              "0  gameofthrones  Your submission has been automatically removed...   \n",
              "1            aww  Dont squeeze her with you massive hand, you me...   \n",
              "2         gaming  It's pretty well known and it was a paid produ...   \n",
              "3           news  You know we have laws against that currently c...   \n",
              "4       politics  Yes, there is a difference between gentle supp...   \n",
              "\n",
              "   controversiality  score  \n",
              "0                 0      1  \n",
              "1                 0     19  \n",
              "2                 0      3  \n",
              "3                 0     10  \n",
              "4                 0      1  "
            ]
          },
          "execution_count": 5,
          "metadata": {},
          "output_type": "execute_result"
        }
      ],
      "source": [
        "## read the dataset\n",
        "df = pd.read_csv(\"data/kaggle_RC_2019-05.csv\")\n",
        "df.head()"
      ]
    },
    {
      "cell_type": "code",
      "execution_count": 3,
      "metadata": {
        "colab": {
          "base_uri": "https://localhost:8080/"
        },
        "id": "Qt2fFk2Bw_bn",
        "outputId": "4b32f92a-c902-4734-b44b-fd5750d7ed81"
      },
      "outputs": [
        {
          "data": {
            "text/plain": [
              "(1000000, 4)"
            ]
          },
          "execution_count": 3,
          "metadata": {},
          "output_type": "execute_result"
        }
      ],
      "source": [
        "df.shape"
      ]
    },
    {
      "cell_type": "code",
      "execution_count": 4,
      "metadata": {
        "colab": {
          "base_uri": "https://localhost:8080/",
          "height": 209
        },
        "id": "yaIqiTy91zfT",
        "outputId": "7f1c8cb7-7052-4009-ef16-155bed4ed05f"
      },
      "outputs": [
        {
          "data": {
            "text/plain": [
              "subreddit           0\n",
              "body                0\n",
              "controversiality    0\n",
              "score               0\n",
              "dtype: int64"
            ]
          },
          "execution_count": 4,
          "metadata": {},
          "output_type": "execute_result"
        }
      ],
      "source": [
        "## null values\n",
        "df.isnull().sum()"
      ]
    },
    {
      "cell_type": "markdown",
      "metadata": {
        "id": "lDApcAhtZqzp"
      },
      "source": [
        "There are no null values"
      ]
    },
    {
      "cell_type": "code",
      "execution_count": 5,
      "metadata": {
        "colab": {
          "base_uri": "https://localhost:8080/"
        },
        "id": "Z624JtBW8NXd",
        "outputId": "1b60b8f5-93d1-4ce3-b12f-5bdf5512272d"
      },
      "outputs": [
        {
          "name": "stdout",
          "output_type": "stream",
          "text": [
            "['gameofthrones' 'aww' 'gaming' 'news' 'politics' 'dankmemes'\n",
            " 'relationship_advice' 'nba' 'worldnews' 'AskReddit' 'AmItheAsshole'\n",
            " 'SquaredCircle' 'The_Donald' 'leagueoflegends' 'hockey' 'videos'\n",
            " 'teenagers' 'gonewild' 'movies' 'funny' 'pics' 'marvelstudios' 'memes'\n",
            " 'soccer' 'freefolk' 'MortalKombat' 'todayilearned' 'apexlegends' 'asoiaf'\n",
            " 'Market76' 'Animemes' 'FortNiteBR' 'nfl' 'trashy' 'unpopularopinion'\n",
            " 'ChapoTrapHouse' 'RoastMe' 'Showerthoughts' 'wallstreetbets' 'Pikabu']\n",
            "\n",
            "Total number of distinct subreddit categories:  40\n"
          ]
        }
      ],
      "source": [
        "## Different subreddit categorirs\n",
        "print(df['subreddit'].unique())\n",
        "print(\"\\nTotal number of distinct subreddit categories: \",df['subreddit'].nunique())"
      ]
    },
    {
      "cell_type": "code",
      "execution_count": 6,
      "metadata": {
        "colab": {
          "base_uri": "https://localhost:8080/",
          "height": 428
        },
        "id": "AYeFt-Bo9Wk8",
        "outputId": "2b73a4bf-9c84-4d11-893f-5694d411d594"
      },
      "outputs": [
        {
          "data": {
            "image/png": "[encoded data removed]",
            "text/plain": [
              "<Figure size 640x480 with 1 Axes>"
            ]
          },
          "metadata": {},
          "output_type": "display_data"
        }
      ],
      "source": [
        "import matplotlib.pyplot as plt\n",
        "import seaborn as sns\n",
        "\n",
        "size = df['controversiality'].value_counts()\n",
        "\n",
        "plt.pie(x = size, labels=['Non-controversial','Controversial'], autopct='%1.2f%%')\n",
        "plt.title(\"Percentage of Controversial Comments\")\n",
        "plt.legend(loc = 'upper left', bbox_to_anchor = (1,1))\n",
        "plt.show()"
      ]
    },
    {
      "cell_type": "markdown",
      "metadata": {
        "id": "ktXQcUk-Z4mT"
      },
      "source": [
        "The dataset is imbalanced and therefore needs to be sampled into a balanced dataset"
      ]
    },
    {
      "cell_type": "code",
      "execution_count": 7,
      "metadata": {
        "colab": {
          "base_uri": "https://localhost:8080/"
        },
        "id": "swzDYs4U6o6C",
        "outputId": "27dceab0-8cf6-4969-ff36-1403200fa2a1"
      },
      "outputs": [
        {
          "name": "stdout",
          "output_type": "stream",
          "text": [
            "<class 'pandas.core.frame.DataFrame'>\n",
            "RangeIndex: 1000000 entries, 0 to 999999\n",
            "Data columns (total 4 columns):\n",
            " #   Column            Non-Null Count    Dtype \n",
            "---  ------            --------------    ----- \n",
            " 0   subreddit         1000000 non-null  object\n",
            " 1   body              1000000 non-null  object\n",
            " 2   controversiality  1000000 non-null  int64 \n",
            " 3   score             1000000 non-null  int64 \n",
            "dtypes: int64(2), object(2)\n",
            "memory usage: 30.5+ MB\n"
          ]
        }
      ],
      "source": [
        "df.info()"
      ]
    },
    {
      "cell_type": "code",
      "execution_count": 8,
      "metadata": {
        "colab": {
          "base_uri": "https://localhost:8080/",
          "height": 300
        },
        "id": "KcdZnmM88DeG",
        "outputId": "d8e4962c-1195-49ab-95c3-5455c818caa8"
      },
      "outputs": [
        {
          "data": {
            "text/html": [
              "<div>\n",
              "<style scoped>\n",
              "    .dataframe tbody tr th:only-of-type {\n",
              "        vertical-align: middle;\n",
              "    }\n",
              "\n",
              "    .dataframe tbody tr th {\n",
              "        vertical-align: top;\n",
              "    }\n",
              "\n",
              "    .dataframe thead th {\n",
              "        text-align: right;\n",
              "    }\n",
              "</style>\n",
              "<table border=\"1\" class=\"dataframe\">\n",
              "  <thead>\n",
              "    <tr style=\"text-align: right;\">\n",
              "      <th></th>\n",
              "      <th>controversiality</th>\n",
              "      <th>score</th>\n",
              "    </tr>\n",
              "  </thead>\n",
              "  <tbody>\n",
              "    <tr>\n",
              "      <th>count</th>\n",
              "      <td>1000000.000000</td>\n",
              "      <td>1000000.000000</td>\n",
              "    </tr>\n",
              "    <tr>\n",
              "      <th>mean</th>\n",
              "      <td>0.029583</td>\n",
              "      <td>11.510103</td>\n",
              "    </tr>\n",
              "    <tr>\n",
              "      <th>std</th>\n",
              "      <td>0.169434</td>\n",
              "      <td>149.671560</td>\n",
              "    </tr>\n",
              "    <tr>\n",
              "      <th>min</th>\n",
              "      <td>0.000000</td>\n",
              "      <td>-889.000000</td>\n",
              "    </tr>\n",
              "    <tr>\n",
              "      <th>25%</th>\n",
              "      <td>0.000000</td>\n",
              "      <td>1.000000</td>\n",
              "    </tr>\n",
              "    <tr>\n",
              "      <th>50%</th>\n",
              "      <td>0.000000</td>\n",
              "      <td>2.000000</td>\n",
              "    </tr>\n",
              "    <tr>\n",
              "      <th>75%</th>\n",
              "      <td>0.000000</td>\n",
              "      <td>4.000000</td>\n",
              "    </tr>\n",
              "    <tr>\n",
              "      <th>max</th>\n",
              "      <td>1.000000</td>\n",
              "      <td>35619.000000</td>\n",
              "    </tr>\n",
              "  </tbody>\n",
              "</table>\n",
              "</div>"
            ],
            "text/plain": [
              "       controversiality           score\n",
              "count    1000000.000000  1000000.000000\n",
              "mean           0.029583       11.510103\n",
              "std            0.169434      149.671560\n",
              "min            0.000000     -889.000000\n",
              "25%            0.000000        1.000000\n",
              "50%            0.000000        2.000000\n",
              "75%            0.000000        4.000000\n",
              "max            1.000000    35619.000000"
            ]
          },
          "execution_count": 8,
          "metadata": {},
          "output_type": "execute_result"
        }
      ],
      "source": [
        "df.describe()"
      ]
    },
    {
      "cell_type": "markdown",
      "metadata": {
        "id": "bLuwR0nMaDqq"
      },
      "source": [
        "There are a total of 1 million rows.\n",
        "1. controversiality is a binary attribute that has either 0 or 1\n",
        "2. score ranges from -889 to a maximum of 35619 which a total of upvotes and down votes for each commenter"
      ]
    },
    {
      "cell_type": "code",
      "execution_count": 8,
      "metadata": {
        "id": "s5zQfjCG933L"
      },
      "outputs": [],
      "source": [
        "from sklearn.utils import resample\n",
        "from imblearn.over_sampling import RandomOverSampler"
      ]
    },
    {
      "cell_type": "code",
      "execution_count": 10,
      "metadata": {
        "colab": {
          "base_uri": "https://localhost:8080/",
          "height": 206
        },
        "id": "siH9Go0BaGwC",
        "outputId": "a5d2ee4a-6ba1-4200-fcd1-28cdc7958575"
      },
      "outputs": [
        {
          "data": {
            "text/html": [
              "<div>\n",
              "<style scoped>\n",
              "    .dataframe tbody tr th:only-of-type {\n",
              "        vertical-align: middle;\n",
              "    }\n",
              "\n",
              "    .dataframe tbody tr th {\n",
              "        vertical-align: top;\n",
              "    }\n",
              "\n",
              "    .dataframe thead th {\n",
              "        text-align: right;\n",
              "    }\n",
              "</style>\n",
              "<table border=\"1\" class=\"dataframe\">\n",
              "  <thead>\n",
              "    <tr style=\"text-align: right;\">\n",
              "      <th></th>\n",
              "      <th>subreddit</th>\n",
              "      <th>body</th>\n",
              "      <th>controversiality</th>\n",
              "      <th>score</th>\n",
              "    </tr>\n",
              "  </thead>\n",
              "  <tbody>\n",
              "    <tr>\n",
              "      <th>0</th>\n",
              "      <td>Showerthoughts</td>\n",
              "      <td>Huh. Then my grandmother was the complete oppo...</td>\n",
              "      <td>0</td>\n",
              "      <td>1</td>\n",
              "    </tr>\n",
              "    <tr>\n",
              "      <th>1</th>\n",
              "      <td>MortalKombat</td>\n",
              "      <td>The grinding is my main concern... Consumables...</td>\n",
              "      <td>0</td>\n",
              "      <td>1</td>\n",
              "    </tr>\n",
              "    <tr>\n",
              "      <th>2</th>\n",
              "      <td>SquaredCircle</td>\n",
              "      <td>I remember seeing the promo on TV via Star Wor...</td>\n",
              "      <td>0</td>\n",
              "      <td>1</td>\n",
              "    </tr>\n",
              "    <tr>\n",
              "      <th>3</th>\n",
              "      <td>Market76</td>\n",
              "      <td>Sounds good! I’ll join you in a bit then</td>\n",
              "      <td>0</td>\n",
              "      <td>1</td>\n",
              "    </tr>\n",
              "    <tr>\n",
              "      <th>4</th>\n",
              "      <td>ChapoTrapHouse</td>\n",
              "      <td>Maybe I’m naive but I don’t understand how tha...</td>\n",
              "      <td>0</td>\n",
              "      <td>7</td>\n",
              "    </tr>\n",
              "  </tbody>\n",
              "</table>\n",
              "</div>"
            ],
            "text/plain": [
              "        subreddit                                               body  \\\n",
              "0  Showerthoughts  Huh. Then my grandmother was the complete oppo...   \n",
              "1    MortalKombat  The grinding is my main concern... Consumables...   \n",
              "2   SquaredCircle  I remember seeing the promo on TV via Star Wor...   \n",
              "3        Market76           Sounds good! I’ll join you in a bit then   \n",
              "4  ChapoTrapHouse  Maybe I’m naive but I don’t understand how tha...   \n",
              "\n",
              "   controversiality  score  \n",
              "0                 0      1  \n",
              "1                 0      1  \n",
              "2                 0      1  \n",
              "3                 0      1  \n",
              "4                 0      7  "
            ]
          },
          "execution_count": 10,
          "metadata": {},
          "output_type": "execute_result"
        }
      ],
      "source": [
        "## Taking the sample of data\n",
        "df_reduced = resample(df,\n",
        "                      n_samples=50000,\n",
        "                      stratify=df['controversiality'],\n",
        "                      random_state=42)\n",
        "\n",
        "df_reduced = df_reduced.reset_index().drop(columns = ['index'])\n",
        "df_reduced.head()"
      ]
    },
    {
      "cell_type": "code",
      "execution_count": 11,
      "metadata": {
        "colab": {
          "base_uri": "https://localhost:8080/",
          "height": 178
        },
        "id": "nFbbqfZlaJjg",
        "outputId": "044920fa-9709-4228-bda6-efbabd99639f"
      },
      "outputs": [
        {
          "data": {
            "text/plain": [
              "0    48521\n",
              "1     1479\n",
              "Name: controversiality, dtype: int64"
            ]
          },
          "execution_count": 11,
          "metadata": {},
          "output_type": "execute_result"
        }
      ],
      "source": [
        "df_reduced['controversiality'].value_counts()"
      ]
    },
    {
      "cell_type": "code",
      "execution_count": 12,
      "metadata": {
        "id": "rFC96EBNaMAk"
      },
      "outputs": [],
      "source": [
        "## balancing the imbalanced dataset\n",
        "\n",
        "feature = df_reduced['body']\n",
        "target = df_reduced['controversiality']\n",
        "\n",
        "oversampler = RandomOverSampler(sampling_strategy='auto', random_state=42)\n",
        "X, y = oversampler.fit_resample(feature.values.reshape(-1,1), target)\n",
        "\n",
        "df_balanced = pd.DataFrame({'body': X.flatten(), 'controversiality':y})"
      ]
    },
    {
      "cell_type": "code",
      "execution_count": 13,
      "metadata": {
        "colab": {
          "base_uri": "https://localhost:8080/",
          "height": 178
        },
        "id": "vGWiCEd0aN6u",
        "outputId": "c54c544e-3b15-4f71-de6f-a69789ab0535"
      },
      "outputs": [
        {
          "data": {
            "text/plain": [
              "0    48521\n",
              "1    48521\n",
              "Name: controversiality, dtype: int64"
            ]
          },
          "execution_count": 13,
          "metadata": {},
          "output_type": "execute_result"
        }
      ],
      "source": [
        "df_balanced['controversiality'].value_counts()"
      ]
    },
    {
      "cell_type": "markdown",
      "metadata": {
        "id": "BiqpHuvVaSR5"
      },
      "source": [
        "## Preprocessing the data"
      ]
    },
    {
      "cell_type": "code",
      "execution_count": 14,
      "metadata": {
        "id": "ZWrBiubhaQuV"
      },
      "outputs": [],
      "source": [
        "import re\n",
        "\n",
        "df_balanced['body'] = df_balanced['body'].apply(lambda x: re.sub('[^a-zA-Z0-9/s]',' ',x))\n",
        "df_balanced['body'] = df_balanced['body'].apply(lambda x: x.lower())"
      ]
    },
    {
      "cell_type": "code",
      "execution_count": 15,
      "metadata": {
        "colab": {
          "base_uri": "https://localhost:8080/",
          "height": 458
        },
        "id": "fx46QmrOaW3W",
        "outputId": "6a13670d-f0b4-48d0-9a36-dedc1289e31d"
      },
      "outputs": [
        {
          "data": {
            "text/plain": [
              "0        huh  then my grandmother was the complete oppo...\n",
              "1        the grinding is my main concern    consumables...\n",
              "2        i remember seeing the promo on tv via star wor...\n",
              "3                 sounds good  i ll join you in a bit then\n",
              "4        maybe i m naive but i don t understand how tha...\n",
              "                               ...                        \n",
              "97037                      jokes are supposed to be funny \n",
              "97038     gt what did the battle prove in the end  that...\n",
              "97039    i hear isaiah thomas will be available when ky...\n",
              "97040      breathing on him results in paralysis  so yeah \n",
              "97041         it s good you ve taken the high road on this\n",
              "Name: body, Length: 97042, dtype: object"
            ]
          },
          "execution_count": 15,
          "metadata": {},
          "output_type": "execute_result"
        }
      ],
      "source": [
        "df_balanced['body']"
      ]
    },
    {
      "cell_type": "markdown",
      "metadata": {
        "id": "RDPOoEhGbzO0"
      },
      "source": [
        "## Word Embedding\n",
        "\n",
        "vectorization of texts using gensim model"
      ]
    },
    {
      "cell_type": "code",
      "execution_count": 7,
      "metadata": {
        "id": "ZMaNkLGJbynx"
      },
      "outputs": [],
      "source": [
        "import gensim"
      ]
    },
    {
      "cell_type": "code",
      "execution_count": 17,
      "metadata": {
        "id": "oT6Hl3tTbykL"
      },
      "outputs": [],
      "source": [
        "from gensim.models import Word2Vec, KeyedVectors\n",
        "import gensim.downloader as api"
      ]
    },
    {
      "cell_type": "code",
      "execution_count": 18,
      "metadata": {
        "colab": {
          "base_uri": "https://localhost:8080/"
        },
        "id": "ll7AkT9zbygL",
        "outputId": "b60b746e-096a-4688-ce88-7efad9e3d572"
      },
      "outputs": [],
      "source": [
        "## initialize the model\n",
        "wv = api.load('word2vec-google-news-300')"
      ]
    },
    {
      "cell_type": "code",
      "execution_count": 22,
      "metadata": {
        "id": "FkyvknLWbyUz"
      },
      "outputs": [],
      "source": [
        "## a function to vectorize the text\n",
        "from tensorflow.keras.preprocessing.sequence import pad_sequences\n",
        "def vectorize_text(sentence, word2vec_model, embedding_dim):\n",
        "  \"\"\"Converts a sentence into a vector by averaging the word vectors of all words in the sentence.\"\"\"\n",
        "  words = str(sentence).split()\n",
        "  valid_words = [word2vec_model[word] for word in words if word in word2vec_model]\n",
        "  if valid_words:\n",
        "    return np.array(valid_words)\n",
        "  else:\n",
        "    return np.zeros((1,embedding_dim))\n",
        "\n",
        "\n",
        "embedding_dim = 300\n",
        "X = df_balanced['body'].apply(lambda x: vectorize_text(x, wv, embedding_dim=300))\n",
        "X = pad_sequences(X, maxlen=50, dtype='float32', padding='post', truncating='post')\n",
        "X = np.array(X)\n",
        "y = df_balanced['controversiality']"
      ]
    },
    {
      "cell_type": "code",
      "execution_count": 56,
      "metadata": {},
      "outputs": [
        {
          "data": {
            "text/plain": [
              "(97042, 50, 300)"
            ]
          },
          "execution_count": 56,
          "metadata": {},
          "output_type": "execute_result"
        }
      ],
      "source": [
        "X.shape"
      ]
    },
    {
      "cell_type": "code",
      "execution_count": 32,
      "metadata": {
        "id": "84B7muteaYkV"
      },
      "outputs": [],
      "source": [
        "import tensorflow as tf\n",
        "from tensorflow.keras.models import Sequential\n",
        "from tensorflow.keras.layers import Dense, Embedding, LSTM, GRU, Dropout\n",
        "from tensorflow.keras.callbacks import EarlyStopping"
      ]
    },
    {
      "cell_type": "markdown",
      "metadata": {
        "id": "lZNWfvsNWWRI"
      },
      "source": [
        "## Split the data into training and test sets"
      ]
    },
    {
      "cell_type": "code",
      "execution_count": 27,
      "metadata": {
        "id": "1QVlhS2yWVer"
      },
      "outputs": [],
      "source": [
        "from sklearn.model_selection import train_test_split\n",
        "X_train, X_test, y_train, y_test = train_test_split(X, y, test_size=0.2, random_state=33)\n",
        "\n"
      ]
    },
    {
      "cell_type": "code",
      "execution_count": 69,
      "metadata": {},
      "outputs": [],
      "source": [
        "\"\"\"X_train = X_train.reshape(X_train.shape[0], 1, X_train.shape[1])\n",
        "X_test = X_test.reshape(X_test.shape[0], 1, X_test.shape[1])\"\"\""
      ]
    },
    {
      "cell_type": "markdown",
      "metadata": {
        "id": "iWHEI5FnanOh"
      },
      "source": [
        "## Model Building"
      ]
    },
    {
      "cell_type": "code",
      "execution_count": 30,
      "metadata": {
        "colab": {
          "base_uri": "https://localhost:8080/"
        },
        "id": "E_Tktjyyal2b",
        "outputId": "0e1b29c9-54e6-4c78-a6d3-1931cd9eeddd"
      },
      "outputs": [
        {
          "name": "stderr",
          "output_type": "stream",
          "text": [
            "c:\\Vipina\\FindJ\\Resume\\GitHub\\Reddit_comments\\venv\\lib\\site-packages\\keras\\src\\layers\\rnn\\rnn.py:200: UserWarning: Do not pass an `input_shape`/`input_dim` argument to a layer. When using Sequential models, prefer using an `Input(shape)` object as the first layer in the model instead.\n",
            "  super().__init__(**kwargs)\n"
          ]
        }
      ],
      "source": [
        "model = Sequential()\n",
        "model.add(GRU(64, return_sequences = False, input_shape = (50,300)))\n",
        "model.add(Dropout(0.2))\n",
        "model.add(Dense(1, activation='sigmoid'))"
      ]
    },
    {
      "cell_type": "code",
      "execution_count": 32,
      "metadata": {
        "colab": {
          "base_uri": "https://localhost:8080/",
          "height": 225
        },
        "id": "nVBCD9cSaqqH",
        "outputId": "71178647-6951-4de9-b4a4-b03623e2ca10"
      },
      "outputs": [
        {
          "data": {
            "text/html": [
              "<pre style=\"white-space:pre;overflow-x:auto;line-height:normal;font-family:Menlo,'DejaVu Sans Mono',consolas,'Courier New',monospace\"><span style=\"font-weight: bold\">Model: \"sequential\"</span>\n",
              "</pre>\n"
            ],
            "text/plain": [
              "\u001b[1mModel: \"sequential\"\u001b[0m\n"
            ]
          },
          "metadata": {},
          "output_type": "display_data"
        },
        {
          "data": {
            "text/html": [
              "<pre style=\"white-space:pre;overflow-x:auto;line-height:normal;font-family:Menlo,'DejaVu Sans Mono',consolas,'Courier New',monospace\">┏━━━━━━━━━━━━━━━━━━━━━━━━━━━━━━━━━┳━━━━━━━━━━━━━━━━━━━━━━━━┳━━━━━━━━━━━━━━━┓\n",
              "┃<span style=\"font-weight: bold\"> Layer (type)                    </span>┃<span style=\"font-weight: bold\"> Output Shape           </span>┃<span style=\"font-weight: bold\">       Param # </span>┃\n",
              "┡━━━━━━━━━━━━━━━━━━━━━━━━━━━━━━━━━╇━━━━━━━━━━━━━━━━━━━━━━━━╇━━━━━━━━━━━━━━━┩\n",
              "│ gru (<span style=\"color: #0087ff; text-decoration-color: #0087ff\">GRU</span>)                       │ (<span style=\"color: #00d7ff; text-decoration-color: #00d7ff\">None</span>, <span style=\"color: #00af00; text-decoration-color: #00af00\">64</span>)             │        <span style=\"color: #00af00; text-decoration-color: #00af00\">70,272</span> │\n",
              "├─────────────────────────────────┼────────────────────────┼───────────────┤\n",
              "│ dropout (<span style=\"color: #0087ff; text-decoration-color: #0087ff\">Dropout</span>)               │ (<span style=\"color: #00d7ff; text-decoration-color: #00d7ff\">None</span>, <span style=\"color: #00af00; text-decoration-color: #00af00\">64</span>)             │             <span style=\"color: #00af00; text-decoration-color: #00af00\">0</span> │\n",
              "├─────────────────────────────────┼────────────────────────┼───────────────┤\n",
              "│ dense (<span style=\"color: #0087ff; text-decoration-color: #0087ff\">Dense</span>)                   │ (<span style=\"color: #00d7ff; text-decoration-color: #00d7ff\">None</span>, <span style=\"color: #00af00; text-decoration-color: #00af00\">1</span>)              │            <span style=\"color: #00af00; text-decoration-color: #00af00\">65</span> │\n",
              "└─────────────────────────────────┴────────────────────────┴───────────────┘\n",
              "</pre>\n"
            ],
            "text/plain": [
              "┏━━━━━━━━━━━━━━━━━━━━━━━━━━━━━━━━━┳━━━━━━━━━━━━━━━━━━━━━━━━┳━━━━━━━━━━━━━━━┓\n",
              "┃\u001b[1m \u001b[0m\u001b[1mLayer (type)                   \u001b[0m\u001b[1m \u001b[0m┃\u001b[1m \u001b[0m\u001b[1mOutput Shape          \u001b[0m\u001b[1m \u001b[0m┃\u001b[1m \u001b[0m\u001b[1m      Param #\u001b[0m\u001b[1m \u001b[0m┃\n",
              "┡━━━━━━━━━━━━━━━━━━━━━━━━━━━━━━━━━╇━━━━━━━━━━━━━━━━━━━━━━━━╇━━━━━━━━━━━━━━━┩\n",
              "│ gru (\u001b[38;5;33mGRU\u001b[0m)                       │ (\u001b[38;5;45mNone\u001b[0m, \u001b[38;5;34m64\u001b[0m)             │        \u001b[38;5;34m70,272\u001b[0m │\n",
              "├─────────────────────────────────┼────────────────────────┼───────────────┤\n",
              "│ dropout (\u001b[38;5;33mDropout\u001b[0m)               │ (\u001b[38;5;45mNone\u001b[0m, \u001b[38;5;34m64\u001b[0m)             │             \u001b[38;5;34m0\u001b[0m │\n",
              "├─────────────────────────────────┼────────────────────────┼───────────────┤\n",
              "│ dense (\u001b[38;5;33mDense\u001b[0m)                   │ (\u001b[38;5;45mNone\u001b[0m, \u001b[38;5;34m1\u001b[0m)              │            \u001b[38;5;34m65\u001b[0m │\n",
              "└─────────────────────────────────┴────────────────────────┴───────────────┘\n"
            ]
          },
          "metadata": {},
          "output_type": "display_data"
        },
        {
          "data": {
            "text/html": [
              "<pre style=\"white-space:pre;overflow-x:auto;line-height:normal;font-family:Menlo,'DejaVu Sans Mono',consolas,'Courier New',monospace\"><span style=\"font-weight: bold\"> Total params: </span><span style=\"color: #00af00; text-decoration-color: #00af00\">70,337</span> (274.75 KB)\n",
              "</pre>\n"
            ],
            "text/plain": [
              "\u001b[1m Total params: \u001b[0m\u001b[38;5;34m70,337\u001b[0m (274.75 KB)\n"
            ]
          },
          "metadata": {},
          "output_type": "display_data"
        },
        {
          "data": {
            "text/html": [
              "<pre style=\"white-space:pre;overflow-x:auto;line-height:normal;font-family:Menlo,'DejaVu Sans Mono',consolas,'Courier New',monospace\"><span style=\"font-weight: bold\"> Trainable params: </span><span style=\"color: #00af00; text-decoration-color: #00af00\">70,337</span> (274.75 KB)\n",
              "</pre>\n"
            ],
            "text/plain": [
              "\u001b[1m Trainable params: \u001b[0m\u001b[38;5;34m70,337\u001b[0m (274.75 KB)\n"
            ]
          },
          "metadata": {},
          "output_type": "display_data"
        },
        {
          "data": {
            "text/html": [
              "<pre style=\"white-space:pre;overflow-x:auto;line-height:normal;font-family:Menlo,'DejaVu Sans Mono',consolas,'Courier New',monospace\"><span style=\"font-weight: bold\"> Non-trainable params: </span><span style=\"color: #00af00; text-decoration-color: #00af00\">0</span> (0.00 B)\n",
              "</pre>\n"
            ],
            "text/plain": [
              "\u001b[1m Non-trainable params: \u001b[0m\u001b[38;5;34m0\u001b[0m (0.00 B)\n"
            ]
          },
          "metadata": {},
          "output_type": "display_data"
        }
      ],
      "source": [
        "## summary of the model\n",
        "model.summary()"
      ]
    },
    {
      "cell_type": "code",
      "execution_count": 33,
      "metadata": {
        "id": "D2HDDqyTatOO"
      },
      "outputs": [],
      "source": [
        "## compile the model\n",
        "model.compile(optimizer='adam', loss='binary_crossentropy', metrics=['accuracy'])"
      ]
    },
    {
      "cell_type": "code",
      "execution_count": 34,
      "metadata": {
        "id": "JtDiu1VRav4-"
      },
      "outputs": [],
      "source": [
        "##  Definig the early stopping\n",
        "early_stopping = EarlyStopping(\n",
        "    monitor = 'val_loss',\n",
        "    patience = 5,\n",
        "    restore_best_weights = True\n",
        ")"
      ]
    },
    {
      "cell_type": "code",
      "execution_count": 35,
      "metadata": {
        "colab": {
          "base_uri": "https://localhost:8080/"
        },
        "id": "2uDh_Lgfaxtc",
        "outputId": "05e7e43f-bec0-48e7-e105-f168db15f895"
      },
      "outputs": [
        {
          "name": "stdout",
          "output_type": "stream",
          "text": [
            "Epoch 1/30\n",
            "\u001b[1m971/971\u001b[0m \u001b[32m━━━━━━━━━━━━━━━━━━━━\u001b[0m\u001b[37m\u001b[0m \u001b[1m24s\u001b[0m 22ms/step - accuracy: 0.5806 - loss: 0.6593 - val_accuracy: 0.7255 - val_loss: 0.5418\n",
            "Epoch 2/30\n",
            "\u001b[1m971/971\u001b[0m \u001b[32m━━━━━━━━━━━━━━━━━━━━\u001b[0m\u001b[37m\u001b[0m \u001b[1m17s\u001b[0m 17ms/step - accuracy: 0.7746 - loss: 0.4806 - val_accuracy: 0.8851 - val_loss: 0.3051\n",
            "Epoch 3/30\n",
            "\u001b[1m971/971\u001b[0m \u001b[32m━━━━━━━━━━━━━━━━━━━━\u001b[0m\u001b[37m\u001b[0m \u001b[1m16s\u001b[0m 17ms/step - accuracy: 0.9032 - loss: 0.2626 - val_accuracy: 0.8958 - val_loss: 0.2587\n",
            "Epoch 4/30\n",
            "\u001b[1m971/971\u001b[0m \u001b[32m━━━━━━━━━━━━━━━━━━━━\u001b[0m\u001b[37m\u001b[0m \u001b[1m17s\u001b[0m 17ms/step - accuracy: 0.9550 - loss: 0.1395 - val_accuracy: 0.9572 - val_loss: 0.1363\n",
            "Epoch 5/30\n",
            "\u001b[1m971/971\u001b[0m \u001b[32m━━━━━━━━━━━━━━━━━━━━\u001b[0m\u001b[37m\u001b[0m \u001b[1m17s\u001b[0m 17ms/step - accuracy: 0.9710 - loss: 0.0889 - val_accuracy: 0.9641 - val_loss: 0.1081\n",
            "Epoch 6/30\n",
            "\u001b[1m971/971\u001b[0m \u001b[32m━━━━━━━━━━━━━━━━━━━━\u001b[0m\u001b[37m\u001b[0m \u001b[1m17s\u001b[0m 18ms/step - accuracy: 0.9775 - loss: 0.0630 - val_accuracy: 0.9738 - val_loss: 0.0876\n",
            "Epoch 7/30\n",
            "\u001b[1m971/971\u001b[0m \u001b[32m━━━━━━━━━━━━━━━━━━━━\u001b[0m\u001b[37m\u001b[0m \u001b[1m17s\u001b[0m 17ms/step - accuracy: 0.9806 - loss: 0.0519 - val_accuracy: 0.9726 - val_loss: 0.0776\n",
            "Epoch 8/30\n",
            "\u001b[1m971/971\u001b[0m \u001b[32m━━━━━━━━━━━━━━━━━━━━\u001b[0m\u001b[37m\u001b[0m \u001b[1m17s\u001b[0m 17ms/step - accuracy: 0.9859 - loss: 0.0350 - val_accuracy: 0.9659 - val_loss: 0.0904\n",
            "Epoch 9/30\n",
            "\u001b[1m971/971\u001b[0m \u001b[32m━━━━━━━━━━━━━━━━━━━━\u001b[0m\u001b[37m\u001b[0m \u001b[1m17s\u001b[0m 17ms/step - accuracy: 0.9829 - loss: 0.0431 - val_accuracy: 0.9686 - val_loss: 0.1069\n",
            "Epoch 10/30\n",
            "\u001b[1m971/971\u001b[0m \u001b[32m━━━━━━━━━━━━━━━━━━━━\u001b[0m\u001b[37m\u001b[0m \u001b[1m17s\u001b[0m 17ms/step - accuracy: 0.9844 - loss: 0.0363 - val_accuracy: 0.9755 - val_loss: 0.0708\n",
            "Epoch 11/30\n",
            "\u001b[1m971/971\u001b[0m \u001b[32m━━━━━━━━━━━━━━━━━━━━\u001b[0m\u001b[37m\u001b[0m \u001b[1m17s\u001b[0m 17ms/step - accuracy: 0.9884 - loss: 0.0258 - val_accuracy: 0.9770 - val_loss: 0.0724\n",
            "Epoch 12/30\n",
            "\u001b[1m971/971\u001b[0m \u001b[32m━━━━━━━━━━━━━━━━━━━━\u001b[0m\u001b[37m\u001b[0m \u001b[1m17s\u001b[0m 17ms/step - accuracy: 0.9867 - loss: 0.0295 - val_accuracy: 0.9778 - val_loss: 0.0737\n",
            "Epoch 13/30\n",
            "\u001b[1m971/971\u001b[0m \u001b[32m━━━━━━━━━━━━━━━━━━━━\u001b[0m\u001b[37m\u001b[0m \u001b[1m17s\u001b[0m 17ms/step - accuracy: 0.9846 - loss: 0.0348 - val_accuracy: 0.9735 - val_loss: 0.0900\n",
            "Epoch 14/30\n",
            "\u001b[1m971/971\u001b[0m \u001b[32m━━━━━━━━━━━━━━━━━━━━\u001b[0m\u001b[37m\u001b[0m \u001b[1m18s\u001b[0m 18ms/step - accuracy: 0.9889 - loss: 0.0245 - val_accuracy: 0.9735 - val_loss: 0.1075\n",
            "Epoch 15/30\n",
            "\u001b[1m971/971\u001b[0m \u001b[32m━━━━━━━━━━━━━━━━━━━━\u001b[0m\u001b[37m\u001b[0m \u001b[1m17s\u001b[0m 17ms/step - accuracy: 0.9850 - loss: 0.0337 - val_accuracy: 0.9724 - val_loss: 0.0784\n"
          ]
        },
        {
          "data": {
            "text/plain": [
              "<keras.src.callbacks.history.History at 0x25f014a4e20>"
            ]
          },
          "execution_count": 35,
          "metadata": {},
          "output_type": "execute_result"
        }
      ],
      "source": [
        "## train the model\n",
        "model.fit(X_train, y_train, epochs=30, batch_size=64, validation_split=0.2, callbacks=early_stopping)"
      ]
    },
    {
      "cell_type": "code",
      "execution_count": 36,
      "metadata": {
        "colab": {
          "base_uri": "https://localhost:8080/",
          "height": 623
        },
        "id": "4o1KJBaKqreg",
        "outputId": "de2863df-0001-4658-e1cd-745c3a5bd7bc"
      },
      "outputs": [
        {
          "name": "stdout",
          "output_type": "stream",
          "text": [
            "\u001b[1m607/607\u001b[0m \u001b[32m━━━━━━━━━━━━━━━━━━━━\u001b[0m\u001b[37m\u001b[0m \u001b[1m3s\u001b[0m 5ms/step\n",
            "              precision    recall  f1-score   support\n",
            "\n",
            "           0       1.00      0.96      0.98      9797\n",
            "           1       0.96      1.00      0.98      9612\n",
            "\n",
            "    accuracy                           0.98     19409\n",
            "   macro avg       0.98      0.98      0.98     19409\n",
            "weighted avg       0.98      0.98      0.98     19409\n",
            "\n"
          ]
        },
        {
          "data": {
            "image/png": "[encoded data removed]",
            "text/plain": [
              "<Figure size 640x480 with 2 Axes>"
            ]
          },
          "metadata": {},
          "output_type": "display_data"
        }
      ],
      "source": [
        "## Evaluate the model\n",
        "from sklearn.metrics import confusion_matrix, ConfusionMatrixDisplay, classification_report\n",
        "\n",
        "predictions = model.predict(X_test)\n",
        "predicted_labels = (predictions > 0.5).astype(int)\n",
        "\n",
        "print(classification_report(y_test, predicted_labels))\n",
        "\n",
        "cm = confusion_matrix(y_test, predicted_labels)\n",
        "disp = ConfusionMatrixDisplay(confusion_matrix=cm, display_labels=['Non-Toxic', 'Toxic'])\n",
        "disp.plot(values_format = '')\n",
        "plt.show()"
      ]
    },
    {
      "cell_type": "markdown",
      "metadata": {},
      "source": [
        "The model has given an accuracy of 97% with the train as well as test data."
      ]
    },
    {
      "cell_type": "code",
      "execution_count": 72,
      "metadata": {},
      "outputs": [],
      "source": [
        "text = \"Are we really expected to believe that in humanity's last stand,there was noone more qualified to command than a 10 year old kid? Almost all the northern lords are there (fuck you Glover),the Vale's men too,and a bunch of randoms from different kingdoms with military experience but they get bossed around by child.\"\n",
        "text = re.sub(r'[^a-zA-Z0-9]', ' ', text)\n",
        "text = text.lower()\n",
        "text = text.split()\n",
        "text = np.array([vectorize_text(word, wv, 300) for word in text])\n",
        "text = pad_sequences(text, maxlen=50, dtype='float32', padding='post', truncating='post')\n",
        "\n"
      ]
    },
    {
      "cell_type": "code",
      "execution_count": 73,
      "metadata": {},
      "outputs": [
        {
          "data": {
            "text/plain": [
              "(58, 50, 300)"
            ]
          },
          "execution_count": 73,
          "metadata": {},
          "output_type": "execute_result"
        }
      ],
      "source": [
        "text.shape"
      ]
    },
    {
      "cell_type": "code",
      "execution_count": 74,
      "metadata": {},
      "outputs": [
        {
          "name": "stdout",
          "output_type": "stream",
          "text": [
            "\u001b[1m2/2\u001b[0m \u001b[32m━━━━━━━━━━━━━━━━━━━━\u001b[0m\u001b[37m\u001b[0m \u001b[1m0s\u001b[0m 18ms/step\n"
          ]
        },
        {
          "data": {
            "text/plain": [
              "3.506092354655266"
            ]
          },
          "execution_count": 74,
          "metadata": {},
          "output_type": "execute_result"
        }
      ],
      "source": [
        "model.predict(text)[0][0] * 100"
      ]
    },
    {
      "cell_type": "markdown",
      "metadata": {},
      "source": [
        "## Word2Vec model and FastText model\n",
        "\n",
        "since the google model is not performing well on the data, it would be best to build the model from scratch exclusively for the reddit dataset."
      ]
    },
    {
      "cell_type": "code",
      "execution_count": 9,
      "metadata": {},
      "outputs": [],
      "source": [
        "from gensim.models import Word2Vec, FastText\n",
        "\n",
        "df = pd.read_csv('data\\kaggle_RC_2019-05.csv')\n",
        "\n",
        "## Taking the sample of data\n",
        "df_reduced = resample(df,\n",
        "                      n_samples=50000,\n",
        "                      stratify=df['controversiality'],\n",
        "                      random_state=42)\n",
        "\n",
        "df_reduced = df_reduced.reset_index().drop(columns = ['index'])\n",
        "df_reduced.head()\n",
        "\n",
        "\n",
        "feature = df_reduced['body']\n",
        "target = df_reduced['controversiality']\n",
        "\n",
        "oversampler = RandomOverSampler(sampling_strategy='auto', random_state=42)\n",
        "X, y = oversampler.fit_resample(feature.values.reshape(-1,1), target)\n",
        "\n",
        "df_balanced = pd.DataFrame({'body': X.flatten(), 'controversiality':y})\n"
      ]
    },
    {
      "cell_type": "code",
      "execution_count": 14,
      "metadata": {},
      "outputs": [
        {
          "data": {
            "text/html": [
              "<div>\n",
              "<style scoped>\n",
              "    .dataframe tbody tr th:only-of-type {\n",
              "        vertical-align: middle;\n",
              "    }\n",
              "\n",
              "    .dataframe tbody tr th {\n",
              "        vertical-align: top;\n",
              "    }\n",
              "\n",
              "    .dataframe thead th {\n",
              "        text-align: right;\n",
              "    }\n",
              "</style>\n",
              "<table border=\"1\" class=\"dataframe\">\n",
              "  <thead>\n",
              "    <tr style=\"text-align: right;\">\n",
              "      <th></th>\n",
              "      <th>body</th>\n",
              "      <th>controversiality</th>\n",
              "    </tr>\n",
              "  </thead>\n",
              "  <tbody>\n",
              "    <tr>\n",
              "      <th>0</th>\n",
              "      <td>Huh. Then my grandmother was the complete oppo...</td>\n",
              "      <td>0</td>\n",
              "    </tr>\n",
              "    <tr>\n",
              "      <th>1</th>\n",
              "      <td>The grinding is my main concern... Consumables...</td>\n",
              "      <td>0</td>\n",
              "    </tr>\n",
              "    <tr>\n",
              "      <th>2</th>\n",
              "      <td>I remember seeing the promo on TV via Star Wor...</td>\n",
              "      <td>0</td>\n",
              "    </tr>\n",
              "    <tr>\n",
              "      <th>3</th>\n",
              "      <td>Sounds good! I’ll join you in a bit then</td>\n",
              "      <td>0</td>\n",
              "    </tr>\n",
              "    <tr>\n",
              "      <th>4</th>\n",
              "      <td>Maybe I’m naive but I don’t understand how tha...</td>\n",
              "      <td>0</td>\n",
              "    </tr>\n",
              "  </tbody>\n",
              "</table>\n",
              "</div>"
            ],
            "text/plain": [
              "                                                body  controversiality\n",
              "0  Huh. Then my grandmother was the complete oppo...                 0\n",
              "1  The grinding is my main concern... Consumables...                 0\n",
              "2  I remember seeing the promo on TV via Star Wor...                 0\n",
              "3           Sounds good! I’ll join you in a bit then                 0\n",
              "4  Maybe I’m naive but I don’t understand how tha...                 0"
            ]
          },
          "execution_count": 14,
          "metadata": {},
          "output_type": "execute_result"
        }
      ],
      "source": [
        "df_balanced.head()"
      ]
    },
    {
      "cell_type": "code",
      "execution_count": 16,
      "metadata": {},
      "outputs": [
        {
          "name": "stderr",
          "output_type": "stream",
          "text": [
            "C:\\Users\\Vipina m\\AppData\\Local\\Temp\\ipykernel_7332\\2569489390.py:9: MarkupResemblesLocatorWarning: The input looks more like a filename than markup. You may want to open this file and pass the filehandle into Beautiful Soup.\n",
            "  sentence = BeautifulSoup(sentence,'lxml').get_text()\n"
          ]
        }
      ],
      "source": [
        "## preprocess and train test split the dataset\n",
        "import re\n",
        "from bs4 import BeautifulSoup\n",
        "\n",
        "def preprocess_text(sentence):\n",
        "    sentence = str(sentence).lower()\n",
        "    sentence = re.sub('[^a-zA-z0-9]',' ',sentence)\n",
        "    sentence = re.sub(r'(http|https|ftp|ssh)://([\\w_-]+(?:(?:\\.[\\w_-]+)+))([\\w.,@?^=%&:/~+#-]*[\\w@?^=%&/~+#-])?','',sentence)\n",
        "    sentence = BeautifulSoup(sentence,'lxml').get_text()\n",
        "\n",
        "    return sentence\n",
        "\n",
        "df_balanced['body'] = df_balanced['body'].apply(lambda x: preprocess_text(x))\n",
        "X = df_balanced['body']\n",
        "y = df_balanced['controversiality']\n",
        "\n",
        "from sklearn.model_selection import train_test_split\n",
        "train_set, test_set = train_test_split(df_balanced, test_size=0.2, random_state=33)\n"
      ]
    },
    {
      "cell_type": "code",
      "execution_count": 17,
      "metadata": {},
      "outputs": [
        {
          "data": {
            "text/html": [
              "<div>\n",
              "<style scoped>\n",
              "    .dataframe tbody tr th:only-of-type {\n",
              "        vertical-align: middle;\n",
              "    }\n",
              "\n",
              "    .dataframe tbody tr th {\n",
              "        vertical-align: top;\n",
              "    }\n",
              "\n",
              "    .dataframe thead th {\n",
              "        text-align: right;\n",
              "    }\n",
              "</style>\n",
              "<table border=\"1\" class=\"dataframe\">\n",
              "  <thead>\n",
              "    <tr style=\"text-align: right;\">\n",
              "      <th></th>\n",
              "      <th>body</th>\n",
              "      <th>controversiality</th>\n",
              "    </tr>\n",
              "  </thead>\n",
              "  <tbody>\n",
              "    <tr>\n",
              "      <th>40902</th>\n",
              "      <td>i still listen to leo s podcast</td>\n",
              "      <td>0</td>\n",
              "    </tr>\n",
              "    <tr>\n",
              "      <th>920</th>\n",
              "      <td>good  then maybe everyone can shut the hell up...</td>\n",
              "      <td>0</td>\n",
              "    </tr>\n",
              "    <tr>\n",
              "      <th>25243</th>\n",
              "      <td>damn right you are</td>\n",
              "      <td>0</td>\n",
              "    </tr>\n",
              "    <tr>\n",
              "      <th>84238</th>\n",
              "      <td>no  foles is a good underdog story  but did no...</td>\n",
              "      <td>1</td>\n",
              "    </tr>\n",
              "    <tr>\n",
              "      <th>74672</th>\n",
              "      <td>hopefully he s a dlc  he has to be seeing as a...</td>\n",
              "      <td>1</td>\n",
              "    </tr>\n",
              "    <tr>\n",
              "      <th>...</th>\n",
              "      <td>...</td>\n",
              "      <td>...</td>\n",
              "    </tr>\n",
              "    <tr>\n",
              "      <th>27849</th>\n",
              "      <td>so wait  how exactly would this work   you d i...</td>\n",
              "      <td>0</td>\n",
              "    </tr>\n",
              "    <tr>\n",
              "      <th>92818</th>\n",
              "      <td>4   16          1999                          ...</td>\n",
              "      <td>1</td>\n",
              "    </tr>\n",
              "    <tr>\n",
              "      <th>578</th>\n",
              "      <td>spartacus  from downtown with a disjointed lab...</td>\n",
              "      <td>0</td>\n",
              "    </tr>\n",
              "    <tr>\n",
              "      <th>67975</th>\n",
              "      <td>gettleman needs to come to terms with the fact...</td>\n",
              "      <td>1</td>\n",
              "    </tr>\n",
              "    <tr>\n",
              "      <th>23572</th>\n",
              "      <td>shet bud ur right  this rlly be a bruh moment</td>\n",
              "      <td>0</td>\n",
              "    </tr>\n",
              "  </tbody>\n",
              "</table>\n",
              "<p>77633 rows × 2 columns</p>\n",
              "</div>"
            ],
            "text/plain": [
              "                                                    body  controversiality\n",
              "40902                    i still listen to leo s podcast                 0\n",
              "920    good  then maybe everyone can shut the hell up...                 0\n",
              "25243                            damn right you are                      0\n",
              "84238  no  foles is a good underdog story  but did no...                 1\n",
              "74672  hopefully he s a dlc  he has to be seeing as a...                 1\n",
              "...                                                  ...               ...\n",
              "27849  so wait  how exactly would this work   you d i...                 0\n",
              "92818  4   16          1999                          ...                 1\n",
              "578    spartacus  from downtown with a disjointed lab...                 0\n",
              "67975  gettleman needs to come to terms with the fact...                 1\n",
              "23572      shet bud ur right  this rlly be a bruh moment                 0\n",
              "\n",
              "[77633 rows x 2 columns]"
            ]
          },
          "execution_count": 17,
          "metadata": {},
          "output_type": "execute_result"
        }
      ],
      "source": [
        "train_set"
      ]
    },
    {
      "cell_type": "code",
      "execution_count": 21,
      "metadata": {},
      "outputs": [
        {
          "data": {
            "text/plain": [
              "['i still listen to leo s podcast',\n",
              " 'good  then maybe everyone can shut the hell up and we can move on ',\n",
              " 'damn right you are     ',\n",
              " 'no  foles is a good underdog story  but did not have a better game  stat wise  flacco was more accurate  but threw the ball less  flacco had 8 7 yards per attempt  whereas foles had slightly less  8 67   given flacco s run throughout the entire playoffs  tossing 12 tds and 0 ints  he is the better player in my opinion  he s got the best postseason since montana ',\n",
              " 'hopefully he s a dlc  he has to be seeing as a recent datamine revealed that 19 dlc characters are being released ']"
            ]
          },
          "execution_count": 21,
          "metadata": {},
          "output_type": "execute_result"
        }
      ],
      "source": [
        "\n",
        "corpus_train = train_set['body'].tolist()\n",
        "corpus_train[:5]\n"
      ]
    },
    {
      "cell_type": "code",
      "execution_count": 22,
      "metadata": {},
      "outputs": [],
      "source": [
        "## Train the word2vec model\n",
        "\n",
        "word2vec_model = Word2Vec(sentences=corpus_train, vector_size=300, window=5, min_count=1)\n",
        "\n",
        "def vectorize_with_word2vec(sentence, model, embedding_dim=100):\n",
        "    \"\"\"\n",
        "    Vectorizes a sentence using Word2Vec model, handling OOV words by averaging the word vectors.\n",
        "    \n",
        "    :param sentence: The input sentence as a string\n",
        "    :param model: The trained Word2Vec model\n",
        "    :param embedding_dim: The dimensionality of the word vectors\n",
        "    :return: Averaged word vector for the sentence\n",
        "    \"\"\"\n",
        "    words = sentence.split()\n",
        "    word_vectors = [model.wv[word] for word in words if word in model.wv]\n",
        "    \n",
        "    if word_vectors:\n",
        "        return np.array(word_vectors)  \n",
        "    else:\n",
        "        return np.zeros((1,embedding_dim))"
      ]
    },
    {
      "cell_type": "code",
      "execution_count": 24,
      "metadata": {},
      "outputs": [],
      "source": [
        "from tensorflow.keras.preprocessing.sequence import pad_sequences\n",
        "\n",
        "X_train = train_set['body'].apply(lambda x: vectorize_with_word2vec(sentence=x, model=word2vec_model, embedding_dim=300))\n",
        "X_train = pad_sequences(X_train, maxlen=50, padding=\"post\", truncating=\"post\", dtype=\"float32\")\n",
        "X_train = np.array(X_train)\n",
        "y_train = train_set['controversiality']\n",
        "\n",
        "X_test = test_set['body'].apply(lambda x: vectorize_with_word2vec(sentence=x, model=word2vec_model, embedding_dim=300))\n",
        "X_test = pad_sequences(X_test, maxlen=50, padding=\"post\", truncating=\"post\", dtype=\"float32\")\n",
        "X_test = np.array(X_test)\n",
        "y_test = test_set['controversiality']\n",
        "\n"
      ]
    },
    {
      "cell_type": "code",
      "execution_count": 128,
      "metadata": {},
      "outputs": [
        {
          "data": {
            "text/plain": [
              "300"
            ]
          },
          "execution_count": 128,
          "metadata": {},
          "output_type": "execute_result"
        }
      ],
      "source": [
        "len(X_train[0][0])"
      ]
    },
    {
      "cell_type": "code",
      "execution_count": 107,
      "metadata": {},
      "outputs": [
        {
          "name": "stderr",
          "output_type": "stream",
          "text": [
            "c:\\Vipina\\FindJ\\Resume\\GitHub\\Reddit_comments\\venv\\lib\\site-packages\\keras\\src\\layers\\rnn\\rnn.py:200: UserWarning: Do not pass an `input_shape`/`input_dim` argument to a layer. When using Sequential models, prefer using an `Input(shape)` object as the first layer in the model instead.\n",
            "  super().__init__(**kwargs)\n"
          ]
        }
      ],
      "source": [
        "## define the dl model\n",
        "model = Sequential()\n",
        "model.add(GRU(64, return_sequences = False, input_shape = (50,300)))\n",
        "model.add(Dropout(0.2))\n",
        "model.add(Dense(1, activation='sigmoid'))\n",
        "\n",
        "model.compile(optimizer='adam', loss='binary_crossentropy', metrics=['accuracy'])"
      ]
    },
    {
      "cell_type": "code",
      "execution_count": 130,
      "metadata": {},
      "outputs": [],
      "source": [
        "##  Definig the early stopping\n",
        "early_stopping = EarlyStopping(\n",
        "    monitor = 'val_loss',\n",
        "    patience = 5,\n",
        "    restore_best_weights = True\n",
        ")"
      ]
    },
    {
      "cell_type": "code",
      "execution_count": 132,
      "metadata": {},
      "outputs": [
        {
          "name": "stdout",
          "output_type": "stream",
          "text": [
            "Epoch 1/100\n",
            "\u001b[1m971/971\u001b[0m \u001b[32m━━━━━━━━━━━━━━━━━━━━\u001b[0m\u001b[37m\u001b[0m \u001b[1m20s\u001b[0m 21ms/step - accuracy: 0.6431 - loss: 0.5727 - val_accuracy: 0.6379 - val_loss: 0.5966\n",
            "Epoch 2/100\n",
            "\u001b[1m971/971\u001b[0m \u001b[32m━━━━━━━━━━━━━━━━━━━━\u001b[0m\u001b[37m\u001b[0m \u001b[1m17s\u001b[0m 18ms/step - accuracy: 0.6434 - loss: 0.5717 - val_accuracy: 0.6377 - val_loss: 0.5918\n",
            "Epoch 3/100\n",
            "\u001b[1m971/971\u001b[0m \u001b[32m━━━━━━━━━━━━━━━━━━━━\u001b[0m\u001b[37m\u001b[0m \u001b[1m17s\u001b[0m 18ms/step - accuracy: 0.6444 - loss: 0.5670 - val_accuracy: 0.6355 - val_loss: 0.5860\n",
            "Epoch 4/100\n",
            "\u001b[1m971/971\u001b[0m \u001b[32m━━━━━━━━━━━━━━━━━━━━\u001b[0m\u001b[37m\u001b[0m \u001b[1m18s\u001b[0m 18ms/step - accuracy: 0.6463 - loss: 0.5626 - val_accuracy: 0.6398 - val_loss: 0.5777\n",
            "Epoch 5/100\n",
            "\u001b[1m971/971\u001b[0m \u001b[32m━━━━━━━━━━━━━━━━━━━━\u001b[0m\u001b[37m\u001b[0m \u001b[1m18s\u001b[0m 18ms/step - accuracy: 0.6498 - loss: 0.5598 - val_accuracy: 0.6312 - val_loss: 0.5875\n",
            "Epoch 6/100\n",
            "\u001b[1m971/971\u001b[0m \u001b[32m━━━━━━━━━━━━━━━━━━━━\u001b[0m\u001b[37m\u001b[0m \u001b[1m18s\u001b[0m 18ms/step - accuracy: 0.6492 - loss: 0.5589 - val_accuracy: 0.6282 - val_loss: 0.5784\n",
            "Epoch 7/100\n",
            "\u001b[1m971/971\u001b[0m \u001b[32m━━━━━━━━━━━━━━━━━━━━\u001b[0m\u001b[37m\u001b[0m \u001b[1m18s\u001b[0m 18ms/step - accuracy: 0.6488 - loss: 0.5555 - val_accuracy: 0.6441 - val_loss: 0.5705\n",
            "Epoch 8/100\n",
            "\u001b[1m971/971\u001b[0m \u001b[32m━━━━━━━━━━━━━━━━━━━━\u001b[0m\u001b[37m\u001b[0m \u001b[1m18s\u001b[0m 18ms/step - accuracy: 0.6539 - loss: 0.5509 - val_accuracy: 0.6416 - val_loss: 0.5742\n",
            "Epoch 9/100\n",
            "\u001b[1m971/971\u001b[0m \u001b[32m━━━━━━━━━━━━━━━━━━━━\u001b[0m\u001b[37m\u001b[0m \u001b[1m18s\u001b[0m 18ms/step - accuracy: 0.6439 - loss: 0.5684 - val_accuracy: 0.6247 - val_loss: 0.5959\n",
            "Epoch 10/100\n",
            "\u001b[1m971/971\u001b[0m \u001b[32m━━━━━━━━━━━━━━━━━━━━\u001b[0m\u001b[37m\u001b[0m \u001b[1m17s\u001b[0m 18ms/step - accuracy: 0.6378 - loss: 0.5741 - val_accuracy: 0.6400 - val_loss: 0.5791\n",
            "Epoch 11/100\n",
            "\u001b[1m971/971\u001b[0m \u001b[32m━━━━━━━━━━━━━━━━━━━━\u001b[0m\u001b[37m\u001b[0m \u001b[1m18s\u001b[0m 19ms/step - accuracy: 0.6492 - loss: 0.5593 - val_accuracy: 0.6386 - val_loss: 0.5851\n",
            "Epoch 12/100\n",
            "\u001b[1m971/971\u001b[0m \u001b[32m━━━━━━━━━━━━━━━━━━━━\u001b[0m\u001b[37m\u001b[0m \u001b[1m18s\u001b[0m 18ms/step - accuracy: 0.6459 - loss: 0.5575 - val_accuracy: 0.6222 - val_loss: 0.5764\n"
          ]
        },
        {
          "data": {
            "text/plain": [
              "<keras.src.callbacks.history.History at 0x25ea33fe080>"
            ]
          },
          "execution_count": 132,
          "metadata": {},
          "output_type": "execute_result"
        }
      ],
      "source": [
        "## train the model\n",
        "model.fit(X_train, y_train, epochs=100, batch_size=64, validation_split=0.2, callbacks=early_stopping)"
      ]
    },
    {
      "cell_type": "code",
      "execution_count": 133,
      "metadata": {},
      "outputs": [
        {
          "name": "stdout",
          "output_type": "stream",
          "text": [
            "\u001b[1m607/607\u001b[0m \u001b[32m━━━━━━━━━━━━━━━━━━━━\u001b[0m\u001b[37m\u001b[0m \u001b[1m3s\u001b[0m 5ms/step\n",
            "              precision    recall  f1-score   support\n",
            "\n",
            "           0       0.62      0.77      0.69      9797\n",
            "           1       0.69      0.52      0.59      9612\n",
            "\n",
            "    accuracy                           0.65     19409\n",
            "   macro avg       0.66      0.65      0.64     19409\n",
            "weighted avg       0.66      0.65      0.64     19409\n",
            "\n"
          ]
        },
        {
          "data": {
            "image/png": "[encoded data removed]",
            "text/plain": [
              "<Figure size 640x480 with 2 Axes>"
            ]
          },
          "metadata": {},
          "output_type": "display_data"
        }
      ],
      "source": [
        "predictions = model.predict(X_test)\n",
        "predicted_labels = (predictions > 0.5).astype(int)\n",
        "\n",
        "print(classification_report(y_test, predicted_labels))\n",
        "\n",
        "cm = confusion_matrix(y_test, predicted_labels)\n",
        "disp = ConfusionMatrixDisplay(confusion_matrix=cm, display_labels=['Non-Toxic', 'Toxic'])\n",
        "disp.plot(values_format = '')\n",
        "plt.show()"
      ]
    },
    {
      "cell_type": "code",
      "execution_count": 144,
      "metadata": {},
      "outputs": [],
      "source": [
        "text = \"Are we really expected to believe that in humanity's last stand,there was noone more qualified to command than a 10 year old kid? Almost all the northern lords are there (fuck you Glover),the Vale's men too,and a bunch of randoms from different kingdoms with military experience but they get bossed around by child.\"\n",
        "text = re.sub(r'[^a-zA-Z0-9]', ' ', text)\n",
        "text = text.lower()\n",
        "text = text.split()\n",
        "text = np.array([vectorize_with_word2vec(word, word2vec_model, 300) for word in text])\n",
        "text = pad_sequences(text, maxlen=50, dtype='float32', padding='post', truncating='post')"
      ]
    },
    {
      "cell_type": "code",
      "execution_count": 145,
      "metadata": {},
      "outputs": [
        {
          "name": "stdout",
          "output_type": "stream",
          "text": [
            "\u001b[1m2/2\u001b[0m \u001b[32m━━━━━━━━━━━━━━━━━━━━\u001b[0m\u001b[37m\u001b[0m \u001b[1m0s\u001b[0m 27ms/step\n"
          ]
        },
        {
          "data": {
            "text/plain": [
              "48.90109300613403"
            ]
          },
          "execution_count": 145,
          "metadata": {},
          "output_type": "execute_result"
        }
      ],
      "source": [
        "model.predict(text)[0][0] * 100"
      ]
    },
    {
      "cell_type": "markdown",
      "metadata": {},
      "source": [
        "The model is able to capture atleast 48% toxicity which is a significant value unlike how it classified the same text as non toxic with 3% toxicity which is a very low value"
      ]
    },
    {
      "cell_type": "markdown",
      "metadata": {},
      "source": [
        "## FastText Model"
      ]
    },
    {
      "cell_type": "code",
      "execution_count": 138,
      "metadata": {},
      "outputs": [
        {
          "data": {
            "text/plain": [
              "40902                      i still listen to leo s podcast\n",
              "920      good  then maybe everyone can shut the hell up...\n",
              "25243                              damn right you are     \n",
              "84238    no  foles is a good underdog story  but did no...\n",
              "74672    hopefully he s a dlc  he has to be seeing as a...\n",
              "                               ...                        \n",
              "27849    so wait  how exactly would this work   you d i...\n",
              "92818    4   16          1999                          ...\n",
              "578      spartacus  from downtown with a disjointed lab...\n",
              "67975    gettleman needs to come to terms with the fact...\n",
              "23572        shet bud ur right  this rlly be a bruh moment\n",
              "Name: body, Length: 77633, dtype: object"
            ]
          },
          "execution_count": 138,
          "metadata": {},
          "output_type": "execute_result"
        }
      ],
      "source": [
        "corpus_train"
      ]
    },
    {
      "cell_type": "code",
      "execution_count": 25,
      "metadata": {},
      "outputs": [],
      "source": [
        "from gensim.models import FastText\n",
        "\n",
        "fasttext_model = FastText(sentences=corpus_train, vector_size=300, window=5, min_count=1)\n",
        "\n",
        "def vectorize_with_fasttext(sentence, model, embedding_dim=100):\n",
        "    \"\"\"\n",
        "    Vectorizes a sentence using Word2Vec model, handling OOV words by averaging the word vectors.\n",
        "    \n",
        "    :param sentence: The input sentence as a string\n",
        "    :param model: The trained Word2Vec model\n",
        "    :param embedding_dim: The dimensionality of the word vectors\n",
        "    :return: Averaged word vector for the sentence\n",
        "    \"\"\"\n",
        "    words = sentence.split()\n",
        "    word_vectors = [model.wv[word] for word in words if word in model.wv]\n",
        "    \n",
        "    if word_vectors:\n",
        "        return np.array(word_vectors)  \n",
        "    else:\n",
        "        return np.zeros((1,embedding_dim))"
      ]
    },
    {
      "cell_type": "code",
      "execution_count": 26,
      "metadata": {},
      "outputs": [],
      "source": [
        "X_train = train_set['body'].apply(lambda x: vectorize_with_fasttext(sentence=x, model=fasttext_model, embedding_dim=300))\n",
        "X_train = pad_sequences(X_train, maxlen=50, padding=\"post\", truncating=\"post\", dtype=\"float32\")\n",
        "X_train = np.array(X_train)\n",
        "y_train = train_set['controversiality']\n",
        "\n",
        "X_test = test_set['body'].apply(lambda x: vectorize_with_fasttext(sentence=x, model=fasttext_model, embedding_dim=300))\n",
        "X_test = pad_sequences(X_test, maxlen=50, padding=\"post\", truncating=\"post\", dtype=\"float32\")\n",
        "X_test = np.array(X_test)\n",
        "y_test = test_set['controversiality']"
      ]
    },
    {
      "cell_type": "code",
      "execution_count": 34,
      "metadata": {},
      "outputs": [],
      "source": [
        "## define the dl model\n",
        "model = Sequential()\n",
        "model.add(GRU(64, return_sequences = True, input_shape = (50,300)))\n",
        "model.add(GRU(32))\n",
        "model.add(Dropout(0.2))\n",
        "model.add(Dense(1, activation = 'sigmoid'))\n",
        "\n",
        "model.compile(optimizer='adam', loss='binary_crossentropy', metrics=['accuracy'])"
      ]
    },
    {
      "cell_type": "code",
      "execution_count": 35,
      "metadata": {},
      "outputs": [
        {
          "name": "stdout",
          "output_type": "stream",
          "text": [
            "Epoch 1/100\n",
            "\u001b[1m971/971\u001b[0m \u001b[32m━━━━━━━━━━━━━━━━━━━━\u001b[0m\u001b[37m\u001b[0m \u001b[1m33s\u001b[0m 31ms/step - accuracy: 0.5158 - loss: 0.6900 - val_accuracy: 0.5555 - val_loss: 0.6779\n",
            "Epoch 2/100\n",
            "\u001b[1m971/971\u001b[0m \u001b[32m━━━━━━━━━━━━━━━━━━━━\u001b[0m\u001b[37m\u001b[0m \u001b[1m27s\u001b[0m 28ms/step - accuracy: 0.5541 - loss: 0.6798 - val_accuracy: 0.5751 - val_loss: 0.6695\n",
            "Epoch 3/100\n",
            "\u001b[1m971/971\u001b[0m \u001b[32m━━━━━━━━━━━━━━━━━━━━\u001b[0m\u001b[37m\u001b[0m \u001b[1m27s\u001b[0m 28ms/step - accuracy: 0.5686 - loss: 0.6712 - val_accuracy: 0.5786 - val_loss: 0.6615\n",
            "Epoch 4/100\n",
            "\u001b[1m971/971\u001b[0m \u001b[32m━━━━━━━━━━━━━━━━━━━━\u001b[0m\u001b[37m\u001b[0m \u001b[1m27s\u001b[0m 28ms/step - accuracy: 0.5697 - loss: 0.6650 - val_accuracy: 0.5836 - val_loss: 0.6530\n",
            "Epoch 5/100\n",
            "\u001b[1m971/971\u001b[0m \u001b[32m━━━━━━━━━━━━━━━━━━━━\u001b[0m\u001b[37m\u001b[0m \u001b[1m28s\u001b[0m 28ms/step - accuracy: 0.5893 - loss: 0.6502 - val_accuracy: 0.5997 - val_loss: 0.6364\n",
            "Epoch 6/100\n",
            "\u001b[1m971/971\u001b[0m \u001b[32m━━━━━━━━━━━━━━━━━━━━\u001b[0m\u001b[37m\u001b[0m \u001b[1m28s\u001b[0m 29ms/step - accuracy: 0.5949 - loss: 0.6359 - val_accuracy: 0.6174 - val_loss: 0.6226\n",
            "Epoch 7/100\n",
            "\u001b[1m971/971\u001b[0m \u001b[32m━━━━━━━━━━━━━━━━━━━━\u001b[0m\u001b[37m\u001b[0m \u001b[1m28s\u001b[0m 28ms/step - accuracy: 0.6088 - loss: 0.6208 - val_accuracy: 0.6199 - val_loss: 0.6084\n",
            "Epoch 8/100\n",
            "\u001b[1m971/971\u001b[0m \u001b[32m━━━━━━━━━━━━━━━━━━━━\u001b[0m\u001b[37m\u001b[0m \u001b[1m27s\u001b[0m 28ms/step - accuracy: 0.6279 - loss: 0.6006 - val_accuracy: 0.6424 - val_loss: 0.5890\n",
            "Epoch 9/100\n",
            "\u001b[1m971/971\u001b[0m \u001b[32m━━━━━━━━━━━━━━━━━━━━\u001b[0m\u001b[37m\u001b[0m \u001b[1m27s\u001b[0m 28ms/step - accuracy: 0.6403 - loss: 0.5838 - val_accuracy: 0.6508 - val_loss: 0.5760\n",
            "Epoch 10/100\n",
            "\u001b[1m971/971\u001b[0m \u001b[32m━━━━━━━━━━━━━━━━━━━━\u001b[0m\u001b[37m\u001b[0m \u001b[1m27s\u001b[0m 28ms/step - accuracy: 0.6554 - loss: 0.5623 - val_accuracy: 0.6598 - val_loss: 0.5666\n",
            "Epoch 11/100\n",
            "\u001b[1m971/971\u001b[0m \u001b[32m━━━━━━━━━━━━━━━━━━━━\u001b[0m\u001b[37m\u001b[0m \u001b[1m28s\u001b[0m 28ms/step - accuracy: 0.6713 - loss: 0.5471 - val_accuracy: 0.6833 - val_loss: 0.5435\n",
            "Epoch 12/100\n",
            "\u001b[1m971/971\u001b[0m \u001b[32m━━━━━━━━━━━━━━━━━━━━\u001b[0m\u001b[37m\u001b[0m \u001b[1m27s\u001b[0m 28ms/step - accuracy: 0.6788 - loss: 0.5366 - val_accuracy: 0.6920 - val_loss: 0.5286\n",
            "Epoch 13/100\n",
            "\u001b[1m971/971\u001b[0m \u001b[32m━━━━━━━━━━━━━━━━━━━━\u001b[0m\u001b[37m\u001b[0m \u001b[1m27s\u001b[0m 28ms/step - accuracy: 0.6908 - loss: 0.5221 - val_accuracy: 0.6944 - val_loss: 0.5169\n",
            "Epoch 14/100\n",
            "\u001b[1m971/971\u001b[0m \u001b[32m━━━━━━━━━━━━━━━━━━━━\u001b[0m\u001b[37m\u001b[0m \u001b[1m27s\u001b[0m 28ms/step - accuracy: 0.6936 - loss: 0.5061 - val_accuracy: 0.6956 - val_loss: 0.5199\n",
            "Epoch 15/100\n",
            "\u001b[1m971/971\u001b[0m \u001b[32m━━━━━━━━━━━━━━━━━━━━\u001b[0m\u001b[37m\u001b[0m \u001b[1m27s\u001b[0m 28ms/step - accuracy: 0.7009 - loss: 0.5010 - val_accuracy: 0.7000 - val_loss: 0.5149\n",
            "Epoch 16/100\n",
            "\u001b[1m971/971\u001b[0m \u001b[32m━━━━━━━━━━━━━━━━━━━━\u001b[0m\u001b[37m\u001b[0m \u001b[1m27s\u001b[0m 28ms/step - accuracy: 0.7092 - loss: 0.4910 - val_accuracy: 0.7122 - val_loss: 0.5068\n",
            "Epoch 17/100\n",
            "\u001b[1m971/971\u001b[0m \u001b[32m━━━━━━━━━━━━━━━━━━━━\u001b[0m\u001b[37m\u001b[0m \u001b[1m27s\u001b[0m 28ms/step - accuracy: 0.7159 - loss: 0.4790 - val_accuracy: 0.7063 - val_loss: 0.4856\n",
            "Epoch 18/100\n",
            "\u001b[1m971/971\u001b[0m \u001b[32m━━━━━━━━━━━━━━━━━━━━\u001b[0m\u001b[37m\u001b[0m \u001b[1m28s\u001b[0m 29ms/step - accuracy: 0.7226 - loss: 0.4662 - val_accuracy: 0.7175 - val_loss: 0.4955\n",
            "Epoch 19/100\n",
            "\u001b[1m971/971\u001b[0m \u001b[32m━━━━━━━━━━━━━━━━━━━━\u001b[0m\u001b[37m\u001b[0m \u001b[1m27s\u001b[0m 28ms/step - accuracy: 0.7290 - loss: 0.4638 - val_accuracy: 0.7247 - val_loss: 0.4822\n",
            "Epoch 20/100\n",
            "\u001b[1m971/971\u001b[0m \u001b[32m━━━━━━━━━━━━━━━━━━━━\u001b[0m\u001b[37m\u001b[0m \u001b[1m27s\u001b[0m 28ms/step - accuracy: 0.7307 - loss: 0.4590 - val_accuracy: 0.7305 - val_loss: 0.4784\n",
            "Epoch 21/100\n",
            "\u001b[1m971/971\u001b[0m \u001b[32m━━━━━━━━━━━━━━━━━━━━\u001b[0m\u001b[37m\u001b[0m \u001b[1m27s\u001b[0m 28ms/step - accuracy: 0.7428 - loss: 0.4501 - val_accuracy: 0.7222 - val_loss: 0.4865\n",
            "Epoch 22/100\n",
            "\u001b[1m971/971\u001b[0m \u001b[32m━━━━━━━━━━━━━━━━━━━━\u001b[0m\u001b[37m\u001b[0m \u001b[1m27s\u001b[0m 28ms/step - accuracy: 0.7464 - loss: 0.4434 - val_accuracy: 0.7363 - val_loss: 0.4784\n",
            "Epoch 23/100\n",
            "\u001b[1m971/971\u001b[0m \u001b[32m━━━━━━━━━━━━━━━━━━━━\u001b[0m\u001b[37m\u001b[0m \u001b[1m27s\u001b[0m 28ms/step - accuracy: 0.7520 - loss: 0.4355 - val_accuracy: 0.7520 - val_loss: 0.4550\n",
            "Epoch 24/100\n",
            "\u001b[1m971/971\u001b[0m \u001b[32m━━━━━━━━━━━━━━━━━━━━\u001b[0m\u001b[37m\u001b[0m \u001b[1m27s\u001b[0m 28ms/step - accuracy: 0.7663 - loss: 0.4244 - val_accuracy: 0.7363 - val_loss: 0.4716\n",
            "Epoch 25/100\n",
            "\u001b[1m971/971\u001b[0m \u001b[32m━━━━━━━━━━━━━━━━━━━━\u001b[0m\u001b[37m\u001b[0m \u001b[1m27s\u001b[0m 28ms/step - accuracy: 0.7686 - loss: 0.4199 - val_accuracy: 0.7458 - val_loss: 0.4504\n",
            "Epoch 26/100\n",
            "\u001b[1m971/971\u001b[0m \u001b[32m━━━━━━━━━━━━━━━━━━━━\u001b[0m\u001b[37m\u001b[0m \u001b[1m27s\u001b[0m 28ms/step - accuracy: 0.7707 - loss: 0.4217 - val_accuracy: 0.7810 - val_loss: 0.4223\n",
            "Epoch 27/100\n",
            "\u001b[1m971/971\u001b[0m \u001b[32m━━━━━━━━━━━━━━━━━━━━\u001b[0m\u001b[37m\u001b[0m \u001b[1m27s\u001b[0m 28ms/step - accuracy: 0.7788 - loss: 0.4051 - val_accuracy: 0.7792 - val_loss: 0.4210\n",
            "Epoch 28/100\n",
            "\u001b[1m971/971\u001b[0m \u001b[32m━━━━━━━━━━━━━━━━━━━━\u001b[0m\u001b[37m\u001b[0m \u001b[1m28s\u001b[0m 29ms/step - accuracy: 0.7846 - loss: 0.4000 - val_accuracy: 0.7796 - val_loss: 0.4210\n",
            "Epoch 29/100\n",
            "\u001b[1m971/971\u001b[0m \u001b[32m━━━━━━━━━━━━━━━━━━━━\u001b[0m\u001b[37m\u001b[0m \u001b[1m28s\u001b[0m 28ms/step - accuracy: 0.7886 - loss: 0.3966 - val_accuracy: 0.7799 - val_loss: 0.4123\n",
            "Epoch 30/100\n",
            "\u001b[1m971/971\u001b[0m \u001b[32m━━━━━━━━━━━━━━━━━━━━\u001b[0m\u001b[37m\u001b[0m \u001b[1m27s\u001b[0m 28ms/step - accuracy: 0.7937 - loss: 0.3849 - val_accuracy: 0.7961 - val_loss: 0.4075\n",
            "Epoch 31/100\n",
            "\u001b[1m971/971\u001b[0m \u001b[32m━━━━━━━━━━━━━━━━━━━━\u001b[0m\u001b[37m\u001b[0m \u001b[1m28s\u001b[0m 28ms/step - accuracy: 0.7996 - loss: 0.3791 - val_accuracy: 0.8022 - val_loss: 0.3961\n",
            "Epoch 32/100\n",
            "\u001b[1m971/971\u001b[0m \u001b[32m━━━━━━━━━━━━━━━━━━━━\u001b[0m\u001b[37m\u001b[0m \u001b[1m27s\u001b[0m 28ms/step - accuracy: 0.8098 - loss: 0.3689 - val_accuracy: 0.8034 - val_loss: 0.3909\n",
            "Epoch 33/100\n",
            "\u001b[1m971/971\u001b[0m \u001b[32m━━━━━━━━━━━━━━━━━━━━\u001b[0m\u001b[37m\u001b[0m \u001b[1m28s\u001b[0m 28ms/step - accuracy: 0.8145 - loss: 0.3594 - val_accuracy: 0.7938 - val_loss: 0.4096\n",
            "Epoch 34/100\n",
            "\u001b[1m971/971\u001b[0m \u001b[32m━━━━━━━━━━━━━━━━━━━━\u001b[0m\u001b[37m\u001b[0m \u001b[1m27s\u001b[0m 28ms/step - accuracy: 0.8139 - loss: 0.3604 - val_accuracy: 0.8085 - val_loss: 0.3793\n",
            "Epoch 35/100\n",
            "\u001b[1m971/971\u001b[0m \u001b[32m━━━━━━━━━━━━━━━━━━━━\u001b[0m\u001b[37m\u001b[0m \u001b[1m27s\u001b[0m 28ms/step - accuracy: 0.8213 - loss: 0.3485 - val_accuracy: 0.8128 - val_loss: 0.3786\n",
            "Epoch 36/100\n",
            "\u001b[1m971/971\u001b[0m \u001b[32m━━━━━━━━━━━━━━━━━━━━\u001b[0m\u001b[37m\u001b[0m \u001b[1m27s\u001b[0m 28ms/step - accuracy: 0.8229 - loss: 0.3491 - val_accuracy: 0.8193 - val_loss: 0.3663\n",
            "Epoch 37/100\n",
            "\u001b[1m971/971\u001b[0m \u001b[32m━━━━━━━━━━━━━━━━━━━━\u001b[0m\u001b[37m\u001b[0m \u001b[1m28s\u001b[0m 28ms/step - accuracy: 0.8292 - loss: 0.3394 - val_accuracy: 0.8302 - val_loss: 0.3546\n",
            "Epoch 38/100\n",
            "\u001b[1m971/971\u001b[0m \u001b[32m━━━━━━━━━━━━━━━━━━━━\u001b[0m\u001b[37m\u001b[0m \u001b[1m29s\u001b[0m 30ms/step - accuracy: 0.8329 - loss: 0.3343 - val_accuracy: 0.8262 - val_loss: 0.3559\n",
            "Epoch 39/100\n",
            "\u001b[1m971/971\u001b[0m \u001b[32m━━━━━━━━━━━━━━━━━━━━\u001b[0m\u001b[37m\u001b[0m \u001b[1m30s\u001b[0m 31ms/step - accuracy: 0.8362 - loss: 0.3281 - val_accuracy: 0.8290 - val_loss: 0.3542\n",
            "Epoch 40/100\n",
            "\u001b[1m971/971\u001b[0m \u001b[32m━━━━━━━━━━━━━━━━━━━━\u001b[0m\u001b[37m\u001b[0m \u001b[1m31s\u001b[0m 32ms/step - accuracy: 0.8405 - loss: 0.3201 - val_accuracy: 0.8191 - val_loss: 0.3692\n",
            "Epoch 41/100\n",
            "\u001b[1m971/971\u001b[0m \u001b[32m━━━━━━━━━━━━━━━━━━━━\u001b[0m\u001b[37m\u001b[0m \u001b[1m30s\u001b[0m 31ms/step - accuracy: 0.8433 - loss: 0.3203 - val_accuracy: 0.8319 - val_loss: 0.3483\n",
            "Epoch 42/100\n",
            "\u001b[1m971/971\u001b[0m \u001b[32m━━━━━━━━━━━━━━━━━━━━\u001b[0m\u001b[37m\u001b[0m \u001b[1m28s\u001b[0m 29ms/step - accuracy: 0.8456 - loss: 0.3103 - val_accuracy: 0.8356 - val_loss: 0.3459\n",
            "Epoch 43/100\n",
            "\u001b[1m971/971\u001b[0m \u001b[32m━━━━━━━━━━━━━━━━━━━━\u001b[0m\u001b[37m\u001b[0m \u001b[1m28s\u001b[0m 29ms/step - accuracy: 0.8469 - loss: 0.3099 - val_accuracy: 0.8377 - val_loss: 0.3423\n",
            "Epoch 44/100\n",
            "\u001b[1m971/971\u001b[0m \u001b[32m━━━━━━━━━━━━━━━━━━━━\u001b[0m\u001b[37m\u001b[0m \u001b[1m28s\u001b[0m 29ms/step - accuracy: 0.8506 - loss: 0.3040 - val_accuracy: 0.8434 - val_loss: 0.3313\n",
            "Epoch 45/100\n",
            "\u001b[1m971/971\u001b[0m \u001b[32m━━━━━━━━━━━━━━━━━━━━\u001b[0m\u001b[37m\u001b[0m \u001b[1m28s\u001b[0m 29ms/step - accuracy: 0.8529 - loss: 0.3012 - val_accuracy: 0.8549 - val_loss: 0.3144\n",
            "Epoch 46/100\n",
            "\u001b[1m971/971\u001b[0m \u001b[32m━━━━━━━━━━━━━━━━━━━━\u001b[0m\u001b[37m\u001b[0m \u001b[1m28s\u001b[0m 29ms/step - accuracy: 0.8597 - loss: 0.2889 - val_accuracy: 0.8348 - val_loss: 0.3600\n",
            "Epoch 47/100\n",
            "\u001b[1m971/971\u001b[0m \u001b[32m━━━━━━━━━━━━━━━━━━━━\u001b[0m\u001b[37m\u001b[0m \u001b[1m28s\u001b[0m 29ms/step - accuracy: 0.8570 - loss: 0.2951 - val_accuracy: 0.8528 - val_loss: 0.3154\n",
            "Epoch 48/100\n",
            "\u001b[1m971/971\u001b[0m \u001b[32m━━━━━━━━━━━━━━━━━━━━\u001b[0m\u001b[37m\u001b[0m \u001b[1m28s\u001b[0m 29ms/step - accuracy: 0.8629 - loss: 0.2810 - val_accuracy: 0.8544 - val_loss: 0.3055\n",
            "Epoch 49/100\n",
            "\u001b[1m971/971\u001b[0m \u001b[32m━━━━━━━━━━━━━━━━━━━━\u001b[0m\u001b[37m\u001b[0m \u001b[1m30s\u001b[0m 30ms/step - accuracy: 0.8655 - loss: 0.2787 - val_accuracy: 0.8546 - val_loss: 0.3142\n",
            "Epoch 50/100\n",
            "\u001b[1m971/971\u001b[0m \u001b[32m━━━━━━━━━━━━━━━━━━━━\u001b[0m\u001b[37m\u001b[0m \u001b[1m28s\u001b[0m 29ms/step - accuracy: 0.8668 - loss: 0.2760 - val_accuracy: 0.8525 - val_loss: 0.3188\n",
            "Epoch 51/100\n",
            "\u001b[1m971/971\u001b[0m \u001b[32m━━━━━━━━━━━━━━━━━━━━\u001b[0m\u001b[37m\u001b[0m \u001b[1m41s\u001b[0m 30ms/step - accuracy: 0.8710 - loss: 0.2721 - val_accuracy: 0.8629 - val_loss: 0.2984\n",
            "Epoch 52/100\n",
            "\u001b[1m971/971\u001b[0m \u001b[32m━━━━━━━━━━━━━━━━━━━━\u001b[0m\u001b[37m\u001b[0m \u001b[1m30s\u001b[0m 31ms/step - accuracy: 0.8718 - loss: 0.2657 - val_accuracy: 0.8585 - val_loss: 0.3191\n",
            "Epoch 53/100\n",
            "\u001b[1m971/971\u001b[0m \u001b[32m━━━━━━━━━━━━━━━━━━━━\u001b[0m\u001b[37m\u001b[0m \u001b[1m31s\u001b[0m 31ms/step - accuracy: 0.8707 - loss: 0.2687 - val_accuracy: 0.8273 - val_loss: 0.3610\n",
            "Epoch 54/100\n",
            "\u001b[1m971/971\u001b[0m \u001b[32m━━━━━━━━━━━━━━━━━━━━\u001b[0m\u001b[37m\u001b[0m \u001b[1m30s\u001b[0m 31ms/step - accuracy: 0.8711 - loss: 0.2688 - val_accuracy: 0.8546 - val_loss: 0.3146\n",
            "Epoch 55/100\n",
            "\u001b[1m971/971\u001b[0m \u001b[32m━━━━━━━━━━━━━━━━━━━━\u001b[0m\u001b[37m\u001b[0m \u001b[1m28s\u001b[0m 29ms/step - accuracy: 0.8797 - loss: 0.2535 - val_accuracy: 0.8429 - val_loss: 0.3346\n",
            "Epoch 56/100\n",
            "\u001b[1m971/971\u001b[0m \u001b[32m━━━━━━━━━━━━━━━━━━━━\u001b[0m\u001b[37m\u001b[0m \u001b[1m28s\u001b[0m 29ms/step - accuracy: 0.8731 - loss: 0.2601 - val_accuracy: 0.8543 - val_loss: 0.3167\n",
            "Epoch 57/100\n",
            "\u001b[1m971/971\u001b[0m \u001b[32m━━━━━━━━━━━━━━━━━━━━\u001b[0m\u001b[37m\u001b[0m \u001b[1m28s\u001b[0m 29ms/step - accuracy: 0.8797 - loss: 0.2501 - val_accuracy: 0.8664 - val_loss: 0.2924\n",
            "Epoch 58/100\n",
            "\u001b[1m971/971\u001b[0m \u001b[32m━━━━━━━━━━━━━━━━━━━━\u001b[0m\u001b[37m\u001b[0m \u001b[1m28s\u001b[0m 29ms/step - accuracy: 0.8791 - loss: 0.2523 - val_accuracy: 0.8586 - val_loss: 0.2951\n",
            "Epoch 59/100\n",
            "\u001b[1m971/971\u001b[0m \u001b[32m━━━━━━━━━━━━━━━━━━━━\u001b[0m\u001b[37m\u001b[0m \u001b[1m28s\u001b[0m 28ms/step - accuracy: 0.8820 - loss: 0.2493 - val_accuracy: 0.8679 - val_loss: 0.2836\n",
            "Epoch 60/100\n",
            "\u001b[1m971/971\u001b[0m \u001b[32m━━━━━━━━━━━━━━━━━━━━\u001b[0m\u001b[37m\u001b[0m \u001b[1m30s\u001b[0m 30ms/step - accuracy: 0.8854 - loss: 0.2422 - val_accuracy: 0.8755 - val_loss: 0.2894\n",
            "Epoch 61/100\n",
            "\u001b[1m971/971\u001b[0m \u001b[32m━━━━━━━━━━━━━━━━━━━━\u001b[0m\u001b[37m\u001b[0m \u001b[1m28s\u001b[0m 29ms/step - accuracy: 0.8844 - loss: 0.2435 - val_accuracy: 0.8751 - val_loss: 0.2782\n",
            "Epoch 62/100\n",
            "\u001b[1m971/971\u001b[0m \u001b[32m━━━━━━━━━━━━━━━━━━━━\u001b[0m\u001b[37m\u001b[0m \u001b[1m28s\u001b[0m 29ms/step - accuracy: 0.8872 - loss: 0.2385 - val_accuracy: 0.8785 - val_loss: 0.2786\n",
            "Epoch 63/100\n",
            "\u001b[1m971/971\u001b[0m \u001b[32m━━━━━━━━━━━━━━━━━━━━\u001b[0m\u001b[37m\u001b[0m \u001b[1m28s\u001b[0m 29ms/step - accuracy: 0.8893 - loss: 0.2335 - val_accuracy: 0.8779 - val_loss: 0.2793\n",
            "Epoch 64/100\n",
            "\u001b[1m971/971\u001b[0m \u001b[32m━━━━━━━━━━━━━━━━━━━━\u001b[0m\u001b[37m\u001b[0m \u001b[1m29s\u001b[0m 29ms/step - accuracy: 0.8938 - loss: 0.2292 - val_accuracy: 0.8678 - val_loss: 0.2939\n",
            "Epoch 65/100\n",
            "\u001b[1m971/971\u001b[0m \u001b[32m━━━━━━━━━━━━━━━━━━━━\u001b[0m\u001b[37m\u001b[0m \u001b[1m29s\u001b[0m 30ms/step - accuracy: 0.8930 - loss: 0.2262 - val_accuracy: 0.8643 - val_loss: 0.3128\n",
            "Epoch 66/100\n",
            "\u001b[1m971/971\u001b[0m \u001b[32m━━━━━━━━━━━━━━━━━━━━\u001b[0m\u001b[37m\u001b[0m \u001b[1m29s\u001b[0m 29ms/step - accuracy: 0.8898 - loss: 0.2353 - val_accuracy: 0.8731 - val_loss: 0.2854\n",
            "Epoch 67/100\n",
            "\u001b[1m971/971\u001b[0m \u001b[32m━━━━━━━━━━━━━━━━━━━━\u001b[0m\u001b[37m\u001b[0m \u001b[1m28s\u001b[0m 29ms/step - accuracy: 0.8938 - loss: 0.2246 - val_accuracy: 0.8759 - val_loss: 0.2900\n",
            "Epoch 68/100\n",
            "\u001b[1m971/971\u001b[0m \u001b[32m━━━━━━━━━━━━━━━━━━━━\u001b[0m\u001b[37m\u001b[0m \u001b[1m29s\u001b[0m 30ms/step - accuracy: 0.8968 - loss: 0.2200 - val_accuracy: 0.8927 - val_loss: 0.2494\n",
            "Epoch 69/100\n",
            "\u001b[1m971/971\u001b[0m \u001b[32m━━━━━━━━━━━━━━━━━━━━\u001b[0m\u001b[37m\u001b[0m \u001b[1m29s\u001b[0m 29ms/step - accuracy: 0.8970 - loss: 0.2193 - val_accuracy: 0.8828 - val_loss: 0.2681\n",
            "Epoch 70/100\n",
            "\u001b[1m971/971\u001b[0m \u001b[32m━━━━━━━━━━━━━━━━━━━━\u001b[0m\u001b[37m\u001b[0m \u001b[1m28s\u001b[0m 29ms/step - accuracy: 0.8942 - loss: 0.2266 - val_accuracy: 0.8742 - val_loss: 0.2744\n",
            "Epoch 71/100\n",
            "\u001b[1m971/971\u001b[0m \u001b[32m━━━━━━━━━━━━━━━━━━━━\u001b[0m\u001b[37m\u001b[0m \u001b[1m29s\u001b[0m 30ms/step - accuracy: 0.8987 - loss: 0.2155 - val_accuracy: 0.8838 - val_loss: 0.2741\n",
            "Epoch 72/100\n",
            "\u001b[1m971/971\u001b[0m \u001b[32m━━━━━━━━━━━━━━━━━━━━\u001b[0m\u001b[37m\u001b[0m \u001b[1m28s\u001b[0m 29ms/step - accuracy: 0.9024 - loss: 0.2087 - val_accuracy: 0.8807 - val_loss: 0.2653\n",
            "Epoch 73/100\n",
            "\u001b[1m971/971\u001b[0m \u001b[32m━━━━━━━━━━━━━━━━━━━━\u001b[0m\u001b[37m\u001b[0m \u001b[1m28s\u001b[0m 29ms/step - accuracy: 0.9042 - loss: 0.2070 - val_accuracy: 0.8781 - val_loss: 0.2693\n",
            "Epoch 74/100\n",
            "\u001b[1m971/971\u001b[0m \u001b[32m━━━━━━━━━━━━━━━━━━━━\u001b[0m\u001b[37m\u001b[0m \u001b[1m28s\u001b[0m 29ms/step - accuracy: 0.9035 - loss: 0.2050 - val_accuracy: 0.8810 - val_loss: 0.2764\n",
            "Epoch 75/100\n",
            "\u001b[1m971/971\u001b[0m \u001b[32m━━━━━━━━━━━━━━━━━━━━\u001b[0m\u001b[37m\u001b[0m \u001b[1m28s\u001b[0m 29ms/step - accuracy: 0.9067 - loss: 0.1993 - val_accuracy: 0.8858 - val_loss: 0.2570\n",
            "Epoch 76/100\n",
            "\u001b[1m971/971\u001b[0m \u001b[32m━━━━━━━━━━━━━━━━━━━━\u001b[0m\u001b[37m\u001b[0m \u001b[1m29s\u001b[0m 30ms/step - accuracy: 0.9036 - loss: 0.2040 - val_accuracy: 0.8743 - val_loss: 0.2880\n",
            "Epoch 77/100\n",
            "\u001b[1m971/971\u001b[0m \u001b[32m━━━━━━━━━━━━━━━━━━━━\u001b[0m\u001b[37m\u001b[0m \u001b[1m30s\u001b[0m 31ms/step - accuracy: 0.9071 - loss: 0.2006 - val_accuracy: 0.8812 - val_loss: 0.2600\n",
            "Epoch 78/100\n",
            "\u001b[1m971/971\u001b[0m \u001b[32m━━━━━━━━━━━━━━━━━━━━\u001b[0m\u001b[37m\u001b[0m \u001b[1m31s\u001b[0m 32ms/step - accuracy: 0.9048 - loss: 0.1994 - val_accuracy: 0.8930 - val_loss: 0.2454\n",
            "Epoch 79/100\n",
            "\u001b[1m971/971\u001b[0m \u001b[32m━━━━━━━━━━━━━━━━━━━━\u001b[0m\u001b[37m\u001b[0m \u001b[1m30s\u001b[0m 31ms/step - accuracy: 0.9101 - loss: 0.1927 - val_accuracy: 0.8915 - val_loss: 0.2678\n",
            "Epoch 80/100\n",
            "\u001b[1m971/971\u001b[0m \u001b[32m━━━━━━━━━━━━━━━━━━━━\u001b[0m\u001b[37m\u001b[0m \u001b[1m29s\u001b[0m 30ms/step - accuracy: 0.9078 - loss: 0.1971 - val_accuracy: 0.8919 - val_loss: 0.2497\n",
            "Epoch 81/100\n",
            "\u001b[1m971/971\u001b[0m \u001b[32m━━━━━━━━━━━━━━━━━━━━\u001b[0m\u001b[37m\u001b[0m \u001b[1m29s\u001b[0m 29ms/step - accuracy: 0.9087 - loss: 0.1947 - val_accuracy: 0.8961 - val_loss: 0.2423\n",
            "Epoch 82/100\n",
            "\u001b[1m971/971\u001b[0m \u001b[32m━━━━━━━━━━━━━━━━━━━━\u001b[0m\u001b[37m\u001b[0m \u001b[1m30s\u001b[0m 30ms/step - accuracy: 0.9087 - loss: 0.1957 - val_accuracy: 0.8846 - val_loss: 0.2583\n",
            "Epoch 83/100\n",
            "\u001b[1m971/971\u001b[0m \u001b[32m━━━━━━━━━━━━━━━━━━━━\u001b[0m\u001b[37m\u001b[0m \u001b[1m29s\u001b[0m 30ms/step - accuracy: 0.9105 - loss: 0.1926 - val_accuracy: 0.8908 - val_loss: 0.2485\n",
            "Epoch 84/100\n",
            "\u001b[1m971/971\u001b[0m \u001b[32m━━━━━━━━━━━━━━━━━━━━\u001b[0m\u001b[37m\u001b[0m \u001b[1m29s\u001b[0m 30ms/step - accuracy: 0.9138 - loss: 0.1885 - val_accuracy: 0.8899 - val_loss: 0.2531\n",
            "Epoch 85/100\n",
            "\u001b[1m971/971\u001b[0m \u001b[32m━━━━━━━━━━━━━━━━━━━━\u001b[0m\u001b[37m\u001b[0m \u001b[1m30s\u001b[0m 31ms/step - accuracy: 0.9154 - loss: 0.1862 - val_accuracy: 0.8881 - val_loss: 0.2504\n",
            "Epoch 86/100\n",
            "\u001b[1m971/971\u001b[0m \u001b[32m━━━━━━━━━━━━━━━━━━━━\u001b[0m\u001b[37m\u001b[0m \u001b[1m31s\u001b[0m 32ms/step - accuracy: 0.9154 - loss: 0.1816 - val_accuracy: 0.8921 - val_loss: 0.2571\n",
            "Epoch 87/100\n",
            "\u001b[1m971/971\u001b[0m \u001b[32m━━━━━━━━━━━━━━━━━━━━\u001b[0m\u001b[37m\u001b[0m \u001b[1m29s\u001b[0m 29ms/step - accuracy: 0.9130 - loss: 0.1842 - val_accuracy: 0.8994 - val_loss: 0.2379\n",
            "Epoch 88/100\n",
            "\u001b[1m971/971\u001b[0m \u001b[32m━━━━━━━━━━━━━━━━━━━━\u001b[0m\u001b[37m\u001b[0m \u001b[1m30s\u001b[0m 30ms/step - accuracy: 0.9194 - loss: 0.1737 - val_accuracy: 0.8930 - val_loss: 0.2438\n",
            "Epoch 89/100\n",
            "\u001b[1m971/971\u001b[0m \u001b[32m━━━━━━━━━━━━━━━━━━━━\u001b[0m\u001b[37m\u001b[0m \u001b[1m30s\u001b[0m 31ms/step - accuracy: 0.9163 - loss: 0.1833 - val_accuracy: 0.9072 - val_loss: 0.2178\n",
            "Epoch 90/100\n",
            "\u001b[1m971/971\u001b[0m \u001b[32m━━━━━━━━━━━━━━━━━━━━\u001b[0m\u001b[37m\u001b[0m \u001b[1m30s\u001b[0m 30ms/step - accuracy: 0.9187 - loss: 0.1727 - val_accuracy: 0.9029 - val_loss: 0.2368\n",
            "Epoch 91/100\n",
            "\u001b[1m971/971\u001b[0m \u001b[32m━━━━━━━━━━━━━━━━━━━━\u001b[0m\u001b[37m\u001b[0m \u001b[1m29s\u001b[0m 30ms/step - accuracy: 0.9200 - loss: 0.1726 - val_accuracy: 0.8999 - val_loss: 0.2393\n",
            "Epoch 92/100\n",
            "\u001b[1m971/971\u001b[0m \u001b[32m━━━━━━━━━━━━━━━━━━━━\u001b[0m\u001b[37m\u001b[0m \u001b[1m29s\u001b[0m 30ms/step - accuracy: 0.9217 - loss: 0.1724 - val_accuracy: 0.9004 - val_loss: 0.2413\n",
            "Epoch 93/100\n",
            "\u001b[1m971/971\u001b[0m \u001b[32m━━━━━━━━━━━━━━━━━━━━\u001b[0m\u001b[37m\u001b[0m \u001b[1m30s\u001b[0m 31ms/step - accuracy: 0.9178 - loss: 0.1737 - val_accuracy: 0.8930 - val_loss: 0.2488\n",
            "Epoch 94/100\n",
            "\u001b[1m971/971\u001b[0m \u001b[32m━━━━━━━━━━━━━━━━━━━━\u001b[0m\u001b[37m\u001b[0m \u001b[1m29s\u001b[0m 30ms/step - accuracy: 0.9186 - loss: 0.1721 - val_accuracy: 0.9113 - val_loss: 0.2211\n",
            "Epoch 95/100\n",
            "\u001b[1m971/971\u001b[0m \u001b[32m━━━━━━━━━━━━━━━━━━━━\u001b[0m\u001b[37m\u001b[0m \u001b[1m29s\u001b[0m 30ms/step - accuracy: 0.9212 - loss: 0.1722 - val_accuracy: 0.8991 - val_loss: 0.2422\n",
            "Epoch 96/100\n",
            "\u001b[1m971/971\u001b[0m \u001b[32m━━━━━━━━━━━━━━━━━━━━\u001b[0m\u001b[37m\u001b[0m \u001b[1m29s\u001b[0m 30ms/step - accuracy: 0.9218 - loss: 0.1660 - val_accuracy: 0.8914 - val_loss: 0.2452\n",
            "Epoch 97/100\n",
            "\u001b[1m971/971\u001b[0m \u001b[32m━━━━━━━━━━━━━━━━━━━━\u001b[0m\u001b[37m\u001b[0m \u001b[1m30s\u001b[0m 31ms/step - accuracy: 0.9237 - loss: 0.1665 - val_accuracy: 0.9031 - val_loss: 0.2385\n",
            "Epoch 98/100\n",
            "\u001b[1m971/971\u001b[0m \u001b[32m━━━━━━━━━━━━━━━━━━━━\u001b[0m\u001b[37m\u001b[0m \u001b[1m29s\u001b[0m 30ms/step - accuracy: 0.9190 - loss: 0.1791 - val_accuracy: 0.8966 - val_loss: 0.2384\n",
            "Epoch 99/100\n",
            "\u001b[1m971/971\u001b[0m \u001b[32m━━━━━━━━━━━━━━━━━━━━\u001b[0m\u001b[37m\u001b[0m \u001b[1m30s\u001b[0m 30ms/step - accuracy: 0.9238 - loss: 0.1640 - val_accuracy: 0.9004 - val_loss: 0.2375\n"
          ]
        },
        {
          "data": {
            "text/plain": [
              "<keras.src.callbacks.history.History at 0x1cb35b04220>"
            ]
          },
          "execution_count": 35,
          "metadata": {},
          "output_type": "execute_result"
        }
      ],
      "source": [
        "## Using the same model for learning but with a different train and test sets to check the change in performance\n",
        "##  Definig the early stopping\n",
        "early_stopping = EarlyStopping(\n",
        "    monitor = 'val_loss',\n",
        "    patience = 10,\n",
        "    restore_best_weights = True\n",
        ")\n",
        "\n",
        "model.fit(X_train, y_train, epochs=100, validation_split=0.2, batch_size=64, callbacks=early_stopping)"
      ]
    },
    {
      "cell_type": "markdown",
      "metadata": {},
      "source": [
        "This model is giving a greater accuracy as compared to the model that was trained with word2vec model"
      ]
    },
    {
      "cell_type": "code",
      "execution_count": 39,
      "metadata": {},
      "outputs": [
        {
          "name": "stdout",
          "output_type": "stream",
          "text": [
            "\u001b[1m607/607\u001b[0m \u001b[32m━━━━━━━━━━━━━━━━━━━━\u001b[0m\u001b[37m\u001b[0m \u001b[1m4s\u001b[0m 7ms/step\n",
            "              precision    recall  f1-score   support\n",
            "\n",
            "           0       0.94      0.86      0.90      9797\n",
            "           1       0.87      0.95      0.91      9612\n",
            "\n",
            "    accuracy                           0.90     19409\n",
            "   macro avg       0.90      0.90      0.90     19409\n",
            "weighted avg       0.91      0.90      0.90     19409\n",
            "\n"
          ]
        },
        {
          "data": {
            "image/png": "[encoded data removed]",
            "text/plain": [
              "<Figure size 640x480 with 2 Axes>"
            ]
          },
          "metadata": {},
          "output_type": "display_data"
        }
      ],
      "source": [
        "from sklearn.metrics import confusion_matrix, ConfusionMatrixDisplay, classification_report\n",
        "import matplotlib.pyplot as plt\n",
        "\n",
        "predictions = model.predict(X_test)\n",
        "predicted_labels = (predictions > 0.5).astype(int)\n",
        "\n",
        "print(classification_report(y_test, predicted_labels))\n",
        "\n",
        "cm = confusion_matrix(y_test, predicted_labels)\n",
        "disp = ConfusionMatrixDisplay(confusion_matrix=cm, display_labels=['Non-Toxic', 'Toxic'])\n",
        "disp.plot(values_format = '')\n",
        "plt.show()"
      ]
    },
    {
      "cell_type": "markdown",
      "metadata": {},
      "source": [
        "The model with fast-text is giving around 73% accuracy which is better than word2vec"
      ]
    },
    {
      "cell_type": "code",
      "execution_count": 40,
      "metadata": {},
      "outputs": [],
      "source": [
        "text = \"Are we really expected to believe that in humanity's last stand,there was noone more qualified to command than a 10 year old kid? Almost all the northern lords are there (fuck you Glover),the Vale's men too,and a bunch of randoms from different kingdoms with military experience but they get bossed around by child.\"\n",
        "text = re.sub(r'[^a-zA-Z0-9]', ' ', text)\n",
        "text = text.lower()\n",
        "text = text.split()\n",
        "text = np.array([vectorize_with_fasttext(word, fasttext_model, 300) for word in text])\n",
        "text = pad_sequences(text, maxlen=50, dtype='float32', padding='post', truncating='post')   "
      ]
    },
    {
      "cell_type": "code",
      "execution_count": 41,
      "metadata": {},
      "outputs": [
        {
          "name": "stdout",
          "output_type": "stream",
          "text": [
            "\u001b[1m2/2\u001b[0m \u001b[32m━━━━━━━━━━━━━━━━━━━━\u001b[0m\u001b[37m\u001b[0m \u001b[1m0s\u001b[0m 20ms/step\n"
          ]
        },
        {
          "data": {
            "text/plain": [
              "21.438945829868317"
            ]
          },
          "execution_count": 41,
          "metadata": {},
          "output_type": "execute_result"
        }
      ],
      "source": [
        "model.predict(text)[0][0] * 100"
      ]
    }
  ],
  "metadata": {
    "accelerator": "GPU",
    "colab": {
      "gpuType": "T4",
      "provenance": []
    },
    "kernelspec": {
      "display_name": "Python 3",
      "name": "python3"
    },
    "language_info": {
      "codemirror_mode": {
        "name": "ipython",
        "version": 3
      },
      "file_extension": ".py",
      "mimetype": "text/x-python",
      "name": "python",
      "nbconvert_exporter": "python",
      "pygments_lexer": "ipython3",
      "version": "3.10.0"
    }
  },
  "nbformat": 4,
  "nbformat_minor": 0
}
