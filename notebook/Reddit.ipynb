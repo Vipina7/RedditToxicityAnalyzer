{
  "cells": [
    {
      "cell_type": "markdown",
      "metadata": {
        "id": "QsepwKhXZQoV"
      },
      "source": [
        "## Reddit Toxicity Detection\n",
        "\n",
        "This dataset contains posts from various subreddits, with each entry providing information on the subreddit name, the text content of the post (body), its controversiality (indicating if it sparked significant discussion), and the score (upvotes minus downvotes) received by the post. It can be used to analyze user engagement and sentiment across different subreddits."
      ]
    },
    {
      "cell_type": "markdown",
      "metadata": {
        "id": "dH2jgYZ5ZUjF"
      },
      "source": [
        "### The Dataset has following attributes\n",
        "1. **subreddit**: The name of the subreddit where the post was made.\n",
        "2. **body:** The content or text of the post or comment.\n",
        "3. **controversiality:** Indicates whether the post is controversial (1 for controversial, 0 for not).\n",
        "4. **score:** The score (upvotes minus downvotes) received by the post."
      ]
    },
    {
      "cell_type": "code",
      "execution_count": 1,
      "metadata": {
        "id": "wZvlPPODZKc-"
      },
      "outputs": [],
      "source": [
        "import pandas as pd\n",
        "import numpy as np"
      ]
    },
    {
      "cell_type": "code",
      "execution_count": 2,
      "metadata": {
        "colab": {
          "base_uri": "https://localhost:8080/",
          "height": 206
        },
        "id": "hhUluWzhw6jd",
        "outputId": "6b520180-c471-4a70-ce4e-1a3e5719c506"
      },
      "outputs": [
        {
          "data": {
            "text/html": [
              "<div>\n",
              "<style scoped>\n",
              "    .dataframe tbody tr th:only-of-type {\n",
              "        vertical-align: middle;\n",
              "    }\n",
              "\n",
              "    .dataframe tbody tr th {\n",
              "        vertical-align: top;\n",
              "    }\n",
              "\n",
              "    .dataframe thead th {\n",
              "        text-align: right;\n",
              "    }\n",
              "</style>\n",
              "<table border=\"1\" class=\"dataframe\">\n",
              "  <thead>\n",
              "    <tr style=\"text-align: right;\">\n",
              "      <th></th>\n",
              "      <th>subreddit</th>\n",
              "      <th>body</th>\n",
              "      <th>controversiality</th>\n",
              "      <th>score</th>\n",
              "    </tr>\n",
              "  </thead>\n",
              "  <tbody>\n",
              "    <tr>\n",
              "      <th>0</th>\n",
              "      <td>gameofthrones</td>\n",
              "      <td>Your submission has been automatically removed...</td>\n",
              "      <td>0</td>\n",
              "      <td>1</td>\n",
              "    </tr>\n",
              "    <tr>\n",
              "      <th>1</th>\n",
              "      <td>aww</td>\n",
              "      <td>Dont squeeze her with you massive hand, you me...</td>\n",
              "      <td>0</td>\n",
              "      <td>19</td>\n",
              "    </tr>\n",
              "    <tr>\n",
              "      <th>2</th>\n",
              "      <td>gaming</td>\n",
              "      <td>It's pretty well known and it was a paid produ...</td>\n",
              "      <td>0</td>\n",
              "      <td>3</td>\n",
              "    </tr>\n",
              "    <tr>\n",
              "      <th>3</th>\n",
              "      <td>news</td>\n",
              "      <td>You know we have laws against that currently c...</td>\n",
              "      <td>0</td>\n",
              "      <td>10</td>\n",
              "    </tr>\n",
              "    <tr>\n",
              "      <th>4</th>\n",
              "      <td>politics</td>\n",
              "      <td>Yes, there is a difference between gentle supp...</td>\n",
              "      <td>0</td>\n",
              "      <td>1</td>\n",
              "    </tr>\n",
              "  </tbody>\n",
              "</table>\n",
              "</div>"
            ],
            "text/plain": [
              "       subreddit                                               body  \\\n",
              "0  gameofthrones  Your submission has been automatically removed...   \n",
              "1            aww  Dont squeeze her with you massive hand, you me...   \n",
              "2         gaming  It's pretty well known and it was a paid produ...   \n",
              "3           news  You know we have laws against that currently c...   \n",
              "4       politics  Yes, there is a difference between gentle supp...   \n",
              "\n",
              "   controversiality  score  \n",
              "0                 0      1  \n",
              "1                 0     19  \n",
              "2                 0      3  \n",
              "3                 0     10  \n",
              "4                 0      1  "
            ]
          },
          "execution_count": 2,
          "metadata": {},
          "output_type": "execute_result"
        }
      ],
      "source": [
        "## read the dataset\n",
        "df = pd.read_csv(\"data/kaggle_RC_2019-05.csv\")\n",
        "df.head()"
      ]
    },
    {
      "cell_type": "code",
      "execution_count": 3,
      "metadata": {
        "colab": {
          "base_uri": "https://localhost:8080/"
        },
        "id": "Qt2fFk2Bw_bn",
        "outputId": "4b32f92a-c902-4734-b44b-fd5750d7ed81"
      },
      "outputs": [
        {
          "data": {
            "text/plain": [
              "(1000000, 4)"
            ]
          },
          "execution_count": 3,
          "metadata": {},
          "output_type": "execute_result"
        }
      ],
      "source": [
        "df.shape"
      ]
    },
    {
      "cell_type": "code",
      "execution_count": 4,
      "metadata": {
        "colab": {
          "base_uri": "https://localhost:8080/",
          "height": 209
        },
        "id": "yaIqiTy91zfT",
        "outputId": "7f1c8cb7-7052-4009-ef16-155bed4ed05f"
      },
      "outputs": [
        {
          "data": {
            "text/plain": [
              "subreddit           0\n",
              "body                0\n",
              "controversiality    0\n",
              "score               0\n",
              "dtype: int64"
            ]
          },
          "execution_count": 4,
          "metadata": {},
          "output_type": "execute_result"
        }
      ],
      "source": [
        "## null values\n",
        "df.isnull().sum()"
      ]
    },
    {
      "cell_type": "markdown",
      "metadata": {
        "id": "lDApcAhtZqzp"
      },
      "source": [
        "There are no null values"
      ]
    },
    {
      "cell_type": "code",
      "execution_count": 5,
      "metadata": {
        "colab": {
          "base_uri": "https://localhost:8080/"
        },
        "id": "Z624JtBW8NXd",
        "outputId": "1b60b8f5-93d1-4ce3-b12f-5bdf5512272d"
      },
      "outputs": [
        {
          "name": "stdout",
          "output_type": "stream",
          "text": [
            "['gameofthrones' 'aww' 'gaming' 'news' 'politics' 'dankmemes'\n",
            " 'relationship_advice' 'nba' 'worldnews' 'AskReddit' 'AmItheAsshole'\n",
            " 'SquaredCircle' 'The_Donald' 'leagueoflegends' 'hockey' 'videos'\n",
            " 'teenagers' 'gonewild' 'movies' 'funny' 'pics' 'marvelstudios' 'memes'\n",
            " 'soccer' 'freefolk' 'MortalKombat' 'todayilearned' 'apexlegends' 'asoiaf'\n",
            " 'Market76' 'Animemes' 'FortNiteBR' 'nfl' 'trashy' 'unpopularopinion'\n",
            " 'ChapoTrapHouse' 'RoastMe' 'Showerthoughts' 'wallstreetbets' 'Pikabu']\n",
            "\n",
            "Total number of distinct subreddit categories:  40\n"
          ]
        }
      ],
      "source": [
        "## Different subreddit categorirs\n",
        "print(df['subreddit'].unique())\n",
        "print(\"\\nTotal number of distinct subreddit categories: \",df['subreddit'].nunique())"
      ]
    },
    {
      "cell_type": "code",
      "execution_count": 6,
      "metadata": {
        "colab": {
          "base_uri": "https://localhost:8080/",
          "height": 428
        },
        "id": "AYeFt-Bo9Wk8",
        "outputId": "2b73a4bf-9c84-4d11-893f-5694d411d594"
      },
      "outputs": [
        {
          "data": {
            "image/png": "[encoded data removed]",
            "text/plain": [
              "<Figure size 640x480 with 1 Axes>"
            ]
          },
          "metadata": {},
          "output_type": "display_data"
        }
      ],
      "source": [
        "import matplotlib.pyplot as plt\n",
        "import seaborn as sns\n",
        "\n",
        "size = df['controversiality'].value_counts()\n",
        "\n",
        "plt.pie(x = size, labels=['Non-controversial','Controversial'], autopct='%1.2f%%')\n",
        "plt.title(\"Percentage of Controversial Comments\")\n",
        "plt.legend(loc = 'upper left', bbox_to_anchor = (1,1))\n",
        "plt.show()"
      ]
    },
    {
      "cell_type": "markdown",
      "metadata": {
        "id": "ktXQcUk-Z4mT"
      },
      "source": [
        "The dataset is imbalanced and therefore needs to be sampled into a balanced dataset"
      ]
    },
    {
      "cell_type": "code",
      "execution_count": 7,
      "metadata": {
        "colab": {
          "base_uri": "https://localhost:8080/"
        },
        "id": "swzDYs4U6o6C",
        "outputId": "27dceab0-8cf6-4969-ff36-1403200fa2a1"
      },
      "outputs": [
        {
          "name": "stdout",
          "output_type": "stream",
          "text": [
            "<class 'pandas.core.frame.DataFrame'>\n",
            "RangeIndex: 1000000 entries, 0 to 999999\n",
            "Data columns (total 4 columns):\n",
            " #   Column            Non-Null Count    Dtype \n",
            "---  ------            --------------    ----- \n",
            " 0   subreddit         1000000 non-null  object\n",
            " 1   body              1000000 non-null  object\n",
            " 2   controversiality  1000000 non-null  int64 \n",
            " 3   score             1000000 non-null  int64 \n",
            "dtypes: int64(2), object(2)\n",
            "memory usage: 30.5+ MB\n"
          ]
        }
      ],
      "source": [
        "df.info()"
      ]
    },
    {
      "cell_type": "code",
      "execution_count": 8,
      "metadata": {
        "colab": {
          "base_uri": "https://localhost:8080/",
          "height": 300
        },
        "id": "KcdZnmM88DeG",
        "outputId": "d8e4962c-1195-49ab-95c3-5455c818caa8"
      },
      "outputs": [
        {
          "data": {
            "text/html": [
              "<div>\n",
              "<style scoped>\n",
              "    .dataframe tbody tr th:only-of-type {\n",
              "        vertical-align: middle;\n",
              "    }\n",
              "\n",
              "    .dataframe tbody tr th {\n",
              "        vertical-align: top;\n",
              "    }\n",
              "\n",
              "    .dataframe thead th {\n",
              "        text-align: right;\n",
              "    }\n",
              "</style>\n",
              "<table border=\"1\" class=\"dataframe\">\n",
              "  <thead>\n",
              "    <tr style=\"text-align: right;\">\n",
              "      <th></th>\n",
              "      <th>controversiality</th>\n",
              "      <th>score</th>\n",
              "    </tr>\n",
              "  </thead>\n",
              "  <tbody>\n",
              "    <tr>\n",
              "      <th>count</th>\n",
              "      <td>1000000.000000</td>\n",
              "      <td>1000000.000000</td>\n",
              "    </tr>\n",
              "    <tr>\n",
              "      <th>mean</th>\n",
              "      <td>0.029583</td>\n",
              "      <td>11.510103</td>\n",
              "    </tr>\n",
              "    <tr>\n",
              "      <th>std</th>\n",
              "      <td>0.169434</td>\n",
              "      <td>149.671560</td>\n",
              "    </tr>\n",
              "    <tr>\n",
              "      <th>min</th>\n",
              "      <td>0.000000</td>\n",
              "      <td>-889.000000</td>\n",
              "    </tr>\n",
              "    <tr>\n",
              "      <th>25%</th>\n",
              "      <td>0.000000</td>\n",
              "      <td>1.000000</td>\n",
              "    </tr>\n",
              "    <tr>\n",
              "      <th>50%</th>\n",
              "      <td>0.000000</td>\n",
              "      <td>2.000000</td>\n",
              "    </tr>\n",
              "    <tr>\n",
              "      <th>75%</th>\n",
              "      <td>0.000000</td>\n",
              "      <td>4.000000</td>\n",
              "    </tr>\n",
              "    <tr>\n",
              "      <th>max</th>\n",
              "      <td>1.000000</td>\n",
              "      <td>35619.000000</td>\n",
              "    </tr>\n",
              "  </tbody>\n",
              "</table>\n",
              "</div>"
            ],
            "text/plain": [
              "       controversiality           score\n",
              "count    1000000.000000  1000000.000000\n",
              "mean           0.029583       11.510103\n",
              "std            0.169434      149.671560\n",
              "min            0.000000     -889.000000\n",
              "25%            0.000000        1.000000\n",
              "50%            0.000000        2.000000\n",
              "75%            0.000000        4.000000\n",
              "max            1.000000    35619.000000"
            ]
          },
          "execution_count": 8,
          "metadata": {},
          "output_type": "execute_result"
        }
      ],
      "source": [
        "df.describe()"
      ]
    },
    {
      "cell_type": "markdown",
      "metadata": {
        "id": "bLuwR0nMaDqq"
      },
      "source": [
        "There are a total of 1 million rows.\n",
        "1. controversiality is a binary attribute that has either 0 or 1\n",
        "2. score ranges from -889 to a maximum of 35619 which a total of upvotes and down votes for each commenter"
      ]
    },
    {
      "cell_type": "code",
      "execution_count": 9,
      "metadata": {
        "id": "s5zQfjCG933L"
      },
      "outputs": [],
      "source": [
        "from sklearn.utils import resample\n",
        "from imblearn.over_sampling import RandomOverSampler"
      ]
    },
    {
      "cell_type": "code",
      "execution_count": 10,
      "metadata": {
        "colab": {
          "base_uri": "https://localhost:8080/",
          "height": 206
        },
        "id": "siH9Go0BaGwC",
        "outputId": "a5d2ee4a-6ba1-4200-fcd1-28cdc7958575"
      },
      "outputs": [
        {
          "data": {
            "text/html": [
              "<div>\n",
              "<style scoped>\n",
              "    .dataframe tbody tr th:only-of-type {\n",
              "        vertical-align: middle;\n",
              "    }\n",
              "\n",
              "    .dataframe tbody tr th {\n",
              "        vertical-align: top;\n",
              "    }\n",
              "\n",
              "    .dataframe thead th {\n",
              "        text-align: right;\n",
              "    }\n",
              "</style>\n",
              "<table border=\"1\" class=\"dataframe\">\n",
              "  <thead>\n",
              "    <tr style=\"text-align: right;\">\n",
              "      <th></th>\n",
              "      <th>subreddit</th>\n",
              "      <th>body</th>\n",
              "      <th>controversiality</th>\n",
              "      <th>score</th>\n",
              "    </tr>\n",
              "  </thead>\n",
              "  <tbody>\n",
              "    <tr>\n",
              "      <th>0</th>\n",
              "      <td>Showerthoughts</td>\n",
              "      <td>Huh. Then my grandmother was the complete oppo...</td>\n",
              "      <td>0</td>\n",
              "      <td>1</td>\n",
              "    </tr>\n",
              "    <tr>\n",
              "      <th>1</th>\n",
              "      <td>MortalKombat</td>\n",
              "      <td>The grinding is my main concern... Consumables...</td>\n",
              "      <td>0</td>\n",
              "      <td>1</td>\n",
              "    </tr>\n",
              "    <tr>\n",
              "      <th>2</th>\n",
              "      <td>SquaredCircle</td>\n",
              "      <td>I remember seeing the promo on TV via Star Wor...</td>\n",
              "      <td>0</td>\n",
              "      <td>1</td>\n",
              "    </tr>\n",
              "    <tr>\n",
              "      <th>3</th>\n",
              "      <td>Market76</td>\n",
              "      <td>Sounds good! I’ll join you in a bit then</td>\n",
              "      <td>0</td>\n",
              "      <td>1</td>\n",
              "    </tr>\n",
              "    <tr>\n",
              "      <th>4</th>\n",
              "      <td>ChapoTrapHouse</td>\n",
              "      <td>Maybe I’m naive but I don’t understand how tha...</td>\n",
              "      <td>0</td>\n",
              "      <td>7</td>\n",
              "    </tr>\n",
              "  </tbody>\n",
              "</table>\n",
              "</div>"
            ],
            "text/plain": [
              "        subreddit                                               body  \\\n",
              "0  Showerthoughts  Huh. Then my grandmother was the complete oppo...   \n",
              "1    MortalKombat  The grinding is my main concern... Consumables...   \n",
              "2   SquaredCircle  I remember seeing the promo on TV via Star Wor...   \n",
              "3        Market76           Sounds good! I’ll join you in a bit then   \n",
              "4  ChapoTrapHouse  Maybe I’m naive but I don’t understand how tha...   \n",
              "\n",
              "   controversiality  score  \n",
              "0                 0      1  \n",
              "1                 0      1  \n",
              "2                 0      1  \n",
              "3                 0      1  \n",
              "4                 0      7  "
            ]
          },
          "execution_count": 10,
          "metadata": {},
          "output_type": "execute_result"
        }
      ],
      "source": [
        "## Taking the sample of data\n",
        "df_reduced = resample(df,\n",
        "                      n_samples=50000,\n",
        "                      stratify=df['controversiality'],\n",
        "                      random_state=42)\n",
        "\n",
        "df_reduced = df_reduced.reset_index().drop(columns = ['index'])\n",
        "df_reduced.head()"
      ]
    },
    {
      "cell_type": "code",
      "execution_count": 11,
      "metadata": {
        "colab": {
          "base_uri": "https://localhost:8080/",
          "height": 178
        },
        "id": "nFbbqfZlaJjg",
        "outputId": "044920fa-9709-4228-bda6-efbabd99639f"
      },
      "outputs": [
        {
          "data": {
            "text/plain": [
              "0    48521\n",
              "1     1479\n",
              "Name: controversiality, dtype: int64"
            ]
          },
          "execution_count": 11,
          "metadata": {},
          "output_type": "execute_result"
        }
      ],
      "source": [
        "df_reduced['controversiality'].value_counts()"
      ]
    },
    {
      "cell_type": "code",
      "execution_count": 12,
      "metadata": {
        "id": "rFC96EBNaMAk"
      },
      "outputs": [],
      "source": [
        "## balancing the imbalanced dataset\n",
        "\n",
        "feature = df_reduced['body']\n",
        "target = df_reduced['controversiality']\n",
        "\n",
        "oversampler = RandomOverSampler(sampling_strategy='auto', random_state=42)\n",
        "X, y = oversampler.fit_resample(feature.values.reshape(-1,1), target)\n",
        "\n",
        "df_balanced = pd.DataFrame({'body': X.flatten(), 'controversiality':y})"
      ]
    },
    {
      "cell_type": "code",
      "execution_count": 13,
      "metadata": {
        "colab": {
          "base_uri": "https://localhost:8080/",
          "height": 178
        },
        "id": "vGWiCEd0aN6u",
        "outputId": "c54c544e-3b15-4f71-de6f-a69789ab0535"
      },
      "outputs": [
        {
          "data": {
            "text/plain": [
              "0    48521\n",
              "1    48521\n",
              "Name: controversiality, dtype: int64"
            ]
          },
          "execution_count": 13,
          "metadata": {},
          "output_type": "execute_result"
        }
      ],
      "source": [
        "df_balanced['controversiality'].value_counts()"
      ]
    },
    {
      "cell_type": "markdown",
      "metadata": {
        "id": "BiqpHuvVaSR5"
      },
      "source": [
        "## Preprocessing the data"
      ]
    },
    {
      "cell_type": "code",
      "execution_count": 14,
      "metadata": {
        "id": "ZWrBiubhaQuV"
      },
      "outputs": [],
      "source": [
        "import re\n",
        "\n",
        "df_balanced['body'] = df_balanced['body'].apply(lambda x: re.sub('[^a-zA-Z0-9/s]',' ',x))\n",
        "df_balanced['body'] = df_balanced['body'].apply(lambda x: x.lower())"
      ]
    },
    {
      "cell_type": "code",
      "execution_count": 15,
      "metadata": {
        "colab": {
          "base_uri": "https://localhost:8080/",
          "height": 458
        },
        "id": "fx46QmrOaW3W",
        "outputId": "6a13670d-f0b4-48d0-9a36-dedc1289e31d"
      },
      "outputs": [
        {
          "data": {
            "text/plain": [
              "0        huh  then my grandmother was the complete oppo...\n",
              "1        the grinding is my main concern    consumables...\n",
              "2        i remember seeing the promo on tv via star wor...\n",
              "3                 sounds good  i ll join you in a bit then\n",
              "4        maybe i m naive but i don t understand how tha...\n",
              "                               ...                        \n",
              "97037                      jokes are supposed to be funny \n",
              "97038     gt what did the battle prove in the end  that...\n",
              "97039    i hear isaiah thomas will be available when ky...\n",
              "97040      breathing on him results in paralysis  so yeah \n",
              "97041         it s good you ve taken the high road on this\n",
              "Name: body, Length: 97042, dtype: object"
            ]
          },
          "execution_count": 15,
          "metadata": {},
          "output_type": "execute_result"
        }
      ],
      "source": [
        "df_balanced['body']"
      ]
    },
    {
      "cell_type": "markdown",
      "metadata": {
        "id": "RDPOoEhGbzO0"
      },
      "source": [
        "## Word Embedding\n",
        "\n",
        "vectorization of texts using gensim model"
      ]
    },
    {
      "cell_type": "code",
      "execution_count": 16,
      "metadata": {
        "id": "ZMaNkLGJbynx"
      },
      "outputs": [],
      "source": [
        "import gensim"
      ]
    },
    {
      "cell_type": "code",
      "execution_count": 17,
      "metadata": {
        "id": "oT6Hl3tTbykL"
      },
      "outputs": [],
      "source": [
        "from gensim.models import Word2Vec, KeyedVectors\n",
        "import gensim.downloader as api"
      ]
    },
    {
      "cell_type": "code",
      "execution_count": 18,
      "metadata": {
        "colab": {
          "base_uri": "https://localhost:8080/"
        },
        "id": "ll7AkT9zbygL",
        "outputId": "b60b746e-096a-4688-ce88-7efad9e3d572"
      },
      "outputs": [],
      "source": [
        "## initialize the model\n",
        "wv = api.load('word2vec-google-news-300')"
      ]
    },
    {
      "cell_type": "code",
      "execution_count": 22,
      "metadata": {
        "id": "FkyvknLWbyUz"
      },
      "outputs": [],
      "source": [
        "## a function to vectorize the text\n",
        "from tensorflow.keras.preprocessing.sequence import pad_sequences\n",
        "def vectorize_text(sentence, word2vec_model, embedding_dim):\n",
        "  \"\"\"Converts a sentence into a vector by averaging the word vectors of all words in the sentence.\"\"\"\n",
        "  words = str(sentence).split()\n",
        "  valid_words = [word2vec_model[word] for word in words if word in word2vec_model]\n",
        "  if valid_words:\n",
        "    return np.array(valid_words)\n",
        "  else:\n",
        "    return np.zeros((1,embedding_dim))\n",
        "\n",
        "\n",
        "embedding_dim = 300\n",
        "X = df_balanced['body'].apply(lambda x: vectorize_text(x, wv, embedding_dim=300))\n",
        "X = pad_sequences(X, maxlen=50, dtype='float32', padding='post', truncating='post')\n",
        "X = np.array(X)\n",
        "y = df_balanced['controversiality']"
      ]
    },
    {
      "cell_type": "code",
      "execution_count": 56,
      "metadata": {},
      "outputs": [
        {
          "data": {
            "text/plain": [
              "(97042, 50, 300)"
            ]
          },
          "execution_count": 56,
          "metadata": {},
          "output_type": "execute_result"
        }
      ],
      "source": [
        "X.shape"
      ]
    },
    {
      "cell_type": "code",
      "execution_count": 29,
      "metadata": {
        "id": "84B7muteaYkV"
      },
      "outputs": [],
      "source": [
        "import tensorflow as tf\n",
        "from tensorflow.keras.models import Sequential\n",
        "from tensorflow.keras.layers import Dense, Embedding, LSTM, GRU, Dropout\n",
        "from tensorflow.keras.callbacks import EarlyStopping"
      ]
    },
    {
      "cell_type": "markdown",
      "metadata": {
        "id": "lZNWfvsNWWRI"
      },
      "source": [
        "## Split the data into training and test sets"
      ]
    },
    {
      "cell_type": "code",
      "execution_count": 27,
      "metadata": {
        "id": "1QVlhS2yWVer"
      },
      "outputs": [],
      "source": [
        "from sklearn.model_selection import train_test_split\n",
        "X_train, X_test, y_train, y_test = train_test_split(X, y, test_size=0.2, random_state=33)\n",
        "\n"
      ]
    },
    {
      "cell_type": "code",
      "execution_count": 69,
      "metadata": {},
      "outputs": [],
      "source": [
        "\"\"\"X_train = X_train.reshape(X_train.shape[0], 1, X_train.shape[1])\n",
        "X_test = X_test.reshape(X_test.shape[0], 1, X_test.shape[1])\"\"\""
      ]
    },
    {
      "cell_type": "markdown",
      "metadata": {
        "id": "iWHEI5FnanOh"
      },
      "source": [
        "## Model Building"
      ]
    },
    {
      "cell_type": "code",
      "execution_count": 30,
      "metadata": {
        "colab": {
          "base_uri": "https://localhost:8080/"
        },
        "id": "E_Tktjyyal2b",
        "outputId": "0e1b29c9-54e6-4c78-a6d3-1931cd9eeddd"
      },
      "outputs": [
        {
          "name": "stderr",
          "output_type": "stream",
          "text": [
            "c:\\Vipina\\FindJ\\Resume\\GitHub\\Reddit_comments\\venv\\lib\\site-packages\\keras\\src\\layers\\rnn\\rnn.py:200: UserWarning: Do not pass an `input_shape`/`input_dim` argument to a layer. When using Sequential models, prefer using an `Input(shape)` object as the first layer in the model instead.\n",
            "  super().__init__(**kwargs)\n"
          ]
        }
      ],
      "source": [
        "model = Sequential()\n",
        "model.add(GRU(64, return_sequences = False, input_shape = (50,300)))\n",
        "model.add(Dropout(0.2))\n",
        "model.add(Dense(1, activation='sigmoid'))"
      ]
    },
    {
      "cell_type": "code",
      "execution_count": 32,
      "metadata": {
        "colab": {
          "base_uri": "https://localhost:8080/",
          "height": 225
        },
        "id": "nVBCD9cSaqqH",
        "outputId": "71178647-6951-4de9-b4a4-b03623e2ca10"
      },
      "outputs": [
        {
          "data": {
            "text/html": [
              "<pre style=\"white-space:pre;overflow-x:auto;line-height:normal;font-family:Menlo,'DejaVu Sans Mono',consolas,'Courier New',monospace\"><span style=\"font-weight: bold\">Model: \"sequential\"</span>\n",
              "</pre>\n"
            ],
            "text/plain": [
              "\u001b[1mModel: \"sequential\"\u001b[0m\n"
            ]
          },
          "metadata": {},
          "output_type": "display_data"
        },
        {
          "data": {
            "text/html": [
              "<pre style=\"white-space:pre;overflow-x:auto;line-height:normal;font-family:Menlo,'DejaVu Sans Mono',consolas,'Courier New',monospace\">┏━━━━━━━━━━━━━━━━━━━━━━━━━━━━━━━━━┳━━━━━━━━━━━━━━━━━━━━━━━━┳━━━━━━━━━━━━━━━┓\n",
              "┃<span style=\"font-weight: bold\"> Layer (type)                    </span>┃<span style=\"font-weight: bold\"> Output Shape           </span>┃<span style=\"font-weight: bold\">       Param # </span>┃\n",
              "┡━━━━━━━━━━━━━━━━━━━━━━━━━━━━━━━━━╇━━━━━━━━━━━━━━━━━━━━━━━━╇━━━━━━━━━━━━━━━┩\n",
              "│ gru (<span style=\"color: #0087ff; text-decoration-color: #0087ff\">GRU</span>)                       │ (<span style=\"color: #00d7ff; text-decoration-color: #00d7ff\">None</span>, <span style=\"color: #00af00; text-decoration-color: #00af00\">64</span>)             │        <span style=\"color: #00af00; text-decoration-color: #00af00\">70,272</span> │\n",
              "├─────────────────────────────────┼────────────────────────┼───────────────┤\n",
              "│ dropout (<span style=\"color: #0087ff; text-decoration-color: #0087ff\">Dropout</span>)               │ (<span style=\"color: #00d7ff; text-decoration-color: #00d7ff\">None</span>, <span style=\"color: #00af00; text-decoration-color: #00af00\">64</span>)             │             <span style=\"color: #00af00; text-decoration-color: #00af00\">0</span> │\n",
              "├─────────────────────────────────┼────────────────────────┼───────────────┤\n",
              "│ dense (<span style=\"color: #0087ff; text-decoration-color: #0087ff\">Dense</span>)                   │ (<span style=\"color: #00d7ff; text-decoration-color: #00d7ff\">None</span>, <span style=\"color: #00af00; text-decoration-color: #00af00\">1</span>)              │            <span style=\"color: #00af00; text-decoration-color: #00af00\">65</span> │\n",
              "└─────────────────────────────────┴────────────────────────┴───────────────┘\n",
              "</pre>\n"
            ],
            "text/plain": [
              "┏━━━━━━━━━━━━━━━━━━━━━━━━━━━━━━━━━┳━━━━━━━━━━━━━━━━━━━━━━━━┳━━━━━━━━━━━━━━━┓\n",
              "┃\u001b[1m \u001b[0m\u001b[1mLayer (type)                   \u001b[0m\u001b[1m \u001b[0m┃\u001b[1m \u001b[0m\u001b[1mOutput Shape          \u001b[0m\u001b[1m \u001b[0m┃\u001b[1m \u001b[0m\u001b[1m      Param #\u001b[0m\u001b[1m \u001b[0m┃\n",
              "┡━━━━━━━━━━━━━━━━━━━━━━━━━━━━━━━━━╇━━━━━━━━━━━━━━━━━━━━━━━━╇━━━━━━━━━━━━━━━┩\n",
              "│ gru (\u001b[38;5;33mGRU\u001b[0m)                       │ (\u001b[38;5;45mNone\u001b[0m, \u001b[38;5;34m64\u001b[0m)             │        \u001b[38;5;34m70,272\u001b[0m │\n",
              "├─────────────────────────────────┼────────────────────────┼───────────────┤\n",
              "│ dropout (\u001b[38;5;33mDropout\u001b[0m)               │ (\u001b[38;5;45mNone\u001b[0m, \u001b[38;5;34m64\u001b[0m)             │             \u001b[38;5;34m0\u001b[0m │\n",
              "├─────────────────────────────────┼────────────────────────┼───────────────┤\n",
              "│ dense (\u001b[38;5;33mDense\u001b[0m)                   │ (\u001b[38;5;45mNone\u001b[0m, \u001b[38;5;34m1\u001b[0m)              │            \u001b[38;5;34m65\u001b[0m │\n",
              "└─────────────────────────────────┴────────────────────────┴───────────────┘\n"
            ]
          },
          "metadata": {},
          "output_type": "display_data"
        },
        {
          "data": {
            "text/html": [
              "<pre style=\"white-space:pre;overflow-x:auto;line-height:normal;font-family:Menlo,'DejaVu Sans Mono',consolas,'Courier New',monospace\"><span style=\"font-weight: bold\"> Total params: </span><span style=\"color: #00af00; text-decoration-color: #00af00\">70,337</span> (274.75 KB)\n",
              "</pre>\n"
            ],
            "text/plain": [
              "\u001b[1m Total params: \u001b[0m\u001b[38;5;34m70,337\u001b[0m (274.75 KB)\n"
            ]
          },
          "metadata": {},
          "output_type": "display_data"
        },
        {
          "data": {
            "text/html": [
              "<pre style=\"white-space:pre;overflow-x:auto;line-height:normal;font-family:Menlo,'DejaVu Sans Mono',consolas,'Courier New',monospace\"><span style=\"font-weight: bold\"> Trainable params: </span><span style=\"color: #00af00; text-decoration-color: #00af00\">70,337</span> (274.75 KB)\n",
              "</pre>\n"
            ],
            "text/plain": [
              "\u001b[1m Trainable params: \u001b[0m\u001b[38;5;34m70,337\u001b[0m (274.75 KB)\n"
            ]
          },
          "metadata": {},
          "output_type": "display_data"
        },
        {
          "data": {
            "text/html": [
              "<pre style=\"white-space:pre;overflow-x:auto;line-height:normal;font-family:Menlo,'DejaVu Sans Mono',consolas,'Courier New',monospace\"><span style=\"font-weight: bold\"> Non-trainable params: </span><span style=\"color: #00af00; text-decoration-color: #00af00\">0</span> (0.00 B)\n",
              "</pre>\n"
            ],
            "text/plain": [
              "\u001b[1m Non-trainable params: \u001b[0m\u001b[38;5;34m0\u001b[0m (0.00 B)\n"
            ]
          },
          "metadata": {},
          "output_type": "display_data"
        }
      ],
      "source": [
        "## summary of the model\n",
        "model.summary()"
      ]
    },
    {
      "cell_type": "code",
      "execution_count": 33,
      "metadata": {
        "id": "D2HDDqyTatOO"
      },
      "outputs": [],
      "source": [
        "## compile the model\n",
        "model.compile(optimizer='adam', loss='binary_crossentropy', metrics=['accuracy'])"
      ]
    },
    {
      "cell_type": "code",
      "execution_count": 34,
      "metadata": {
        "id": "JtDiu1VRav4-"
      },
      "outputs": [],
      "source": [
        "##  Definig the early stopping\n",
        "early_stopping = EarlyStopping(\n",
        "    monitor = 'val_loss',\n",
        "    patience = 5,\n",
        "    restore_best_weights = True\n",
        ")"
      ]
    },
    {
      "cell_type": "code",
      "execution_count": 35,
      "metadata": {
        "colab": {
          "base_uri": "https://localhost:8080/"
        },
        "id": "2uDh_Lgfaxtc",
        "outputId": "05e7e43f-bec0-48e7-e105-f168db15f895"
      },
      "outputs": [
        {
          "name": "stdout",
          "output_type": "stream",
          "text": [
            "Epoch 1/30\n",
            "\u001b[1m971/971\u001b[0m \u001b[32m━━━━━━━━━━━━━━━━━━━━\u001b[0m\u001b[37m\u001b[0m \u001b[1m24s\u001b[0m 22ms/step - accuracy: 0.5806 - loss: 0.6593 - val_accuracy: 0.7255 - val_loss: 0.5418\n",
            "Epoch 2/30\n",
            "\u001b[1m971/971\u001b[0m \u001b[32m━━━━━━━━━━━━━━━━━━━━\u001b[0m\u001b[37m\u001b[0m \u001b[1m17s\u001b[0m 17ms/step - accuracy: 0.7746 - loss: 0.4806 - val_accuracy: 0.8851 - val_loss: 0.3051\n",
            "Epoch 3/30\n",
            "\u001b[1m971/971\u001b[0m \u001b[32m━━━━━━━━━━━━━━━━━━━━\u001b[0m\u001b[37m\u001b[0m \u001b[1m16s\u001b[0m 17ms/step - accuracy: 0.9032 - loss: 0.2626 - val_accuracy: 0.8958 - val_loss: 0.2587\n",
            "Epoch 4/30\n",
            "\u001b[1m971/971\u001b[0m \u001b[32m━━━━━━━━━━━━━━━━━━━━\u001b[0m\u001b[37m\u001b[0m \u001b[1m17s\u001b[0m 17ms/step - accuracy: 0.9550 - loss: 0.1395 - val_accuracy: 0.9572 - val_loss: 0.1363\n",
            "Epoch 5/30\n",
            "\u001b[1m971/971\u001b[0m \u001b[32m━━━━━━━━━━━━━━━━━━━━\u001b[0m\u001b[37m\u001b[0m \u001b[1m17s\u001b[0m 17ms/step - accuracy: 0.9710 - loss: 0.0889 - val_accuracy: 0.9641 - val_loss: 0.1081\n",
            "Epoch 6/30\n",
            "\u001b[1m971/971\u001b[0m \u001b[32m━━━━━━━━━━━━━━━━━━━━\u001b[0m\u001b[37m\u001b[0m \u001b[1m17s\u001b[0m 18ms/step - accuracy: 0.9775 - loss: 0.0630 - val_accuracy: 0.9738 - val_loss: 0.0876\n",
            "Epoch 7/30\n",
            "\u001b[1m971/971\u001b[0m \u001b[32m━━━━━━━━━━━━━━━━━━━━\u001b[0m\u001b[37m\u001b[0m \u001b[1m17s\u001b[0m 17ms/step - accuracy: 0.9806 - loss: 0.0519 - val_accuracy: 0.9726 - val_loss: 0.0776\n",
            "Epoch 8/30\n",
            "\u001b[1m971/971\u001b[0m \u001b[32m━━━━━━━━━━━━━━━━━━━━\u001b[0m\u001b[37m\u001b[0m \u001b[1m17s\u001b[0m 17ms/step - accuracy: 0.9859 - loss: 0.0350 - val_accuracy: 0.9659 - val_loss: 0.0904\n",
            "Epoch 9/30\n",
            "\u001b[1m971/971\u001b[0m \u001b[32m━━━━━━━━━━━━━━━━━━━━\u001b[0m\u001b[37m\u001b[0m \u001b[1m17s\u001b[0m 17ms/step - accuracy: 0.9829 - loss: 0.0431 - val_accuracy: 0.9686 - val_loss: 0.1069\n",
            "Epoch 10/30\n",
            "\u001b[1m971/971\u001b[0m \u001b[32m━━━━━━━━━━━━━━━━━━━━\u001b[0m\u001b[37m\u001b[0m \u001b[1m17s\u001b[0m 17ms/step - accuracy: 0.9844 - loss: 0.0363 - val_accuracy: 0.9755 - val_loss: 0.0708\n",
            "Epoch 11/30\n",
            "\u001b[1m971/971\u001b[0m \u001b[32m━━━━━━━━━━━━━━━━━━━━\u001b[0m\u001b[37m\u001b[0m \u001b[1m17s\u001b[0m 17ms/step - accuracy: 0.9884 - loss: 0.0258 - val_accuracy: 0.9770 - val_loss: 0.0724\n",
            "Epoch 12/30\n",
            "\u001b[1m971/971\u001b[0m \u001b[32m━━━━━━━━━━━━━━━━━━━━\u001b[0m\u001b[37m\u001b[0m \u001b[1m17s\u001b[0m 17ms/step - accuracy: 0.9867 - loss: 0.0295 - val_accuracy: 0.9778 - val_loss: 0.0737\n",
            "Epoch 13/30\n",
            "\u001b[1m971/971\u001b[0m \u001b[32m━━━━━━━━━━━━━━━━━━━━\u001b[0m\u001b[37m\u001b[0m \u001b[1m17s\u001b[0m 17ms/step - accuracy: 0.9846 - loss: 0.0348 - val_accuracy: 0.9735 - val_loss: 0.0900\n",
            "Epoch 14/30\n",
            "\u001b[1m971/971\u001b[0m \u001b[32m━━━━━━━━━━━━━━━━━━━━\u001b[0m\u001b[37m\u001b[0m \u001b[1m18s\u001b[0m 18ms/step - accuracy: 0.9889 - loss: 0.0245 - val_accuracy: 0.9735 - val_loss: 0.1075\n",
            "Epoch 15/30\n",
            "\u001b[1m971/971\u001b[0m \u001b[32m━━━━━━━━━━━━━━━━━━━━\u001b[0m\u001b[37m\u001b[0m \u001b[1m17s\u001b[0m 17ms/step - accuracy: 0.9850 - loss: 0.0337 - val_accuracy: 0.9724 - val_loss: 0.0784\n"
          ]
        },
        {
          "data": {
            "text/plain": [
              "<keras.src.callbacks.history.History at 0x25f014a4e20>"
            ]
          },
          "execution_count": 35,
          "metadata": {},
          "output_type": "execute_result"
        }
      ],
      "source": [
        "## train the model\n",
        "model.fit(X_train, y_train, epochs=30, batch_size=64, validation_split=0.2, callbacks=early_stopping)"
      ]
    },
    {
      "cell_type": "code",
      "execution_count": 36,
      "metadata": {
        "colab": {
          "base_uri": "https://localhost:8080/",
          "height": 623
        },
        "id": "4o1KJBaKqreg",
        "outputId": "de2863df-0001-4658-e1cd-745c3a5bd7bc"
      },
      "outputs": [
        {
          "name": "stdout",
          "output_type": "stream",
          "text": [
            "\u001b[1m607/607\u001b[0m \u001b[32m━━━━━━━━━━━━━━━━━━━━\u001b[0m\u001b[37m\u001b[0m \u001b[1m3s\u001b[0m 5ms/step\n",
            "              precision    recall  f1-score   support\n",
            "\n",
            "           0       1.00      0.96      0.98      9797\n",
            "           1       0.96      1.00      0.98      9612\n",
            "\n",
            "    accuracy                           0.98     19409\n",
            "   macro avg       0.98      0.98      0.98     19409\n",
            "weighted avg       0.98      0.98      0.98     19409\n",
            "\n"
          ]
        },
        {
          "data": {
            "image/png": "[encoded data removed]",
            "text/plain": [
              "<Figure size 640x480 with 2 Axes>"
            ]
          },
          "metadata": {},
          "output_type": "display_data"
        }
      ],
      "source": [
        "## Evaluate the model\n",
        "from sklearn.metrics import confusion_matrix, ConfusionMatrixDisplay, classification_report\n",
        "\n",
        "predictions = model.predict(X_test)\n",
        "predicted_labels = (predictions > 0.5).astype(int)\n",
        "\n",
        "print(classification_report(y_test, predicted_labels))\n",
        "\n",
        "cm = confusion_matrix(y_test, predicted_labels)\n",
        "disp = ConfusionMatrixDisplay(confusion_matrix=cm, display_labels=['Non-Toxic', 'Toxic'])\n",
        "disp.plot(values_format = '')\n",
        "plt.show()"
      ]
    },
    {
      "cell_type": "markdown",
      "metadata": {},
      "source": [
        "The model has given an accuracy of 97% with the train as well as test data."
      ]
    },
    {
      "cell_type": "code",
      "execution_count": 72,
      "metadata": {},
      "outputs": [],
      "source": [
        "text = \"Are we really expected to believe that in humanity's last stand,there was noone more qualified to command than a 10 year old kid? Almost all the northern lords are there (fuck you Glover),the Vale's men too,and a bunch of randoms from different kingdoms with military experience but they get bossed around by child.\"\n",
        "text = re.sub(r'[^a-zA-Z0-9]', ' ', text)\n",
        "text = text.lower()\n",
        "text = text.split()\n",
        "text = np.array([vectorize_text(word, wv, 300) for word in text])\n",
        "text = pad_sequences(text, maxlen=50, dtype='float32', padding='post', truncating='post')\n",
        "\n"
      ]
    },
    {
      "cell_type": "code",
      "execution_count": 73,
      "metadata": {},
      "outputs": [
        {
          "data": {
            "text/plain": [
              "(58, 50, 300)"
            ]
          },
          "execution_count": 73,
          "metadata": {},
          "output_type": "execute_result"
        }
      ],
      "source": [
        "text.shape"
      ]
    },
    {
      "cell_type": "code",
      "execution_count": 74,
      "metadata": {},
      "outputs": [
        {
          "name": "stdout",
          "output_type": "stream",
          "text": [
            "\u001b[1m2/2\u001b[0m \u001b[32m━━━━━━━━━━━━━━━━━━━━\u001b[0m\u001b[37m\u001b[0m \u001b[1m0s\u001b[0m 18ms/step\n"
          ]
        },
        {
          "data": {
            "text/plain": [
              "3.506092354655266"
            ]
          },
          "execution_count": 74,
          "metadata": {},
          "output_type": "execute_result"
        }
      ],
      "source": [
        "model.predict(text)[0][0] * 100"
      ]
    },
    {
      "cell_type": "markdown",
      "metadata": {},
      "source": [
        "## Word2Vec model and FastText model\n",
        "\n",
        "since the google model is not performing well on the data, it would be best to build the model from scratch exclusively for the reddit dataset."
      ]
    },
    {
      "cell_type": "code",
      "execution_count": 109,
      "metadata": {},
      "outputs": [],
      "source": [
        "from gensim.models import Word2Vec, FastText\n",
        "\n",
        "df = pd.read_csv('data\\kaggle_RC_2019-05.csv')\n",
        "\n",
        "## Taking the sample of data\n",
        "df_reduced = resample(df,\n",
        "                      n_samples=50000,\n",
        "                      stratify=df['controversiality'],\n",
        "                      random_state=42)\n",
        "\n",
        "df_reduced = df_reduced.reset_index().drop(columns = ['index'])\n",
        "df_reduced.head()\n",
        "\n",
        "\n",
        "feature = df_reduced['body']\n",
        "target = df_reduced['controversiality']\n",
        "\n",
        "oversampler = RandomOverSampler(sampling_strategy='auto', random_state=42)\n",
        "X, y = oversampler.fit_resample(feature.values.reshape(-1,1), target)\n",
        "\n",
        "df_balanced = pd.DataFrame({'body': X.flatten(), 'controversiality':y})\n"
      ]
    },
    {
      "cell_type": "code",
      "execution_count": 110,
      "metadata": {},
      "outputs": [
        {
          "data": {
            "text/html": [
              "<div>\n",
              "<style scoped>\n",
              "    .dataframe tbody tr th:only-of-type {\n",
              "        vertical-align: middle;\n",
              "    }\n",
              "\n",
              "    .dataframe tbody tr th {\n",
              "        vertical-align: top;\n",
              "    }\n",
              "\n",
              "    .dataframe thead th {\n",
              "        text-align: right;\n",
              "    }\n",
              "</style>\n",
              "<table border=\"1\" class=\"dataframe\">\n",
              "  <thead>\n",
              "    <tr style=\"text-align: right;\">\n",
              "      <th></th>\n",
              "      <th>body</th>\n",
              "      <th>controversiality</th>\n",
              "    </tr>\n",
              "  </thead>\n",
              "  <tbody>\n",
              "    <tr>\n",
              "      <th>0</th>\n",
              "      <td>Huh. Then my grandmother was the complete oppo...</td>\n",
              "      <td>0</td>\n",
              "    </tr>\n",
              "    <tr>\n",
              "      <th>1</th>\n",
              "      <td>The grinding is my main concern... Consumables...</td>\n",
              "      <td>0</td>\n",
              "    </tr>\n",
              "    <tr>\n",
              "      <th>2</th>\n",
              "      <td>I remember seeing the promo on TV via Star Wor...</td>\n",
              "      <td>0</td>\n",
              "    </tr>\n",
              "    <tr>\n",
              "      <th>3</th>\n",
              "      <td>Sounds good! I’ll join you in a bit then</td>\n",
              "      <td>0</td>\n",
              "    </tr>\n",
              "    <tr>\n",
              "      <th>4</th>\n",
              "      <td>Maybe I’m naive but I don’t understand how tha...</td>\n",
              "      <td>0</td>\n",
              "    </tr>\n",
              "  </tbody>\n",
              "</table>\n",
              "</div>"
            ],
            "text/plain": [
              "                                                body  controversiality\n",
              "0  Huh. Then my grandmother was the complete oppo...                 0\n",
              "1  The grinding is my main concern... Consumables...                 0\n",
              "2  I remember seeing the promo on TV via Star Wor...                 0\n",
              "3           Sounds good! I’ll join you in a bit then                 0\n",
              "4  Maybe I’m naive but I don’t understand how tha...                 0"
            ]
          },
          "execution_count": 110,
          "metadata": {},
          "output_type": "execute_result"
        }
      ],
      "source": [
        "df_balanced.head()"
      ]
    },
    {
      "cell_type": "code",
      "execution_count": 111,
      "metadata": {},
      "outputs": [
        {
          "name": "stderr",
          "output_type": "stream",
          "text": [
            "C:\\Users\\Vipina m\\AppData\\Local\\Temp\\ipykernel_26180\\4052908335.py:9: MarkupResemblesLocatorWarning: The input looks more like a filename than markup. You may want to open this file and pass the filehandle into Beautiful Soup.\n",
            "  sentence = BeautifulSoup(sentence,'lxml').get_text()\n"
          ]
        }
      ],
      "source": [
        "## preprocess and train test split the dataset\n",
        "\n",
        "from bs4 import BeautifulSoup\n",
        "\n",
        "def preprocess_text(sentence):\n",
        "    sentence = str(sentence).lower()\n",
        "    sentence = re.sub('[^a-zA-z0-9]',' ',sentence)\n",
        "    sentence = re.sub(r'(http|https|ftp|ssh)://([\\w_-]+(?:(?:\\.[\\w_-]+)+))([\\w.,@?^=%&:/~+#-]*[\\w@?^=%&/~+#-])?','',sentence)\n",
        "    sentence = BeautifulSoup(sentence,'lxml').get_text()\n",
        "\n",
        "    return sentence\n",
        "\n",
        "df_balanced['body'] = df_balanced['body'].apply(lambda x: preprocess_text(x))\n",
        "X = df_balanced['body']\n",
        "y = df_balanced['controversiality']\n",
        "\n",
        "from sklearn.model_selection import train_test_split\n",
        "train_set, test_set = train_test_split(df_balanced, test_size=0.2, random_state=33)\n"
      ]
    },
    {
      "cell_type": "code",
      "execution_count": 112,
      "metadata": {},
      "outputs": [
        {
          "data": {
            "text/html": [
              "<div>\n",
              "<style scoped>\n",
              "    .dataframe tbody tr th:only-of-type {\n",
              "        vertical-align: middle;\n",
              "    }\n",
              "\n",
              "    .dataframe tbody tr th {\n",
              "        vertical-align: top;\n",
              "    }\n",
              "\n",
              "    .dataframe thead th {\n",
              "        text-align: right;\n",
              "    }\n",
              "</style>\n",
              "<table border=\"1\" class=\"dataframe\">\n",
              "  <thead>\n",
              "    <tr style=\"text-align: right;\">\n",
              "      <th></th>\n",
              "      <th>body</th>\n",
              "      <th>controversiality</th>\n",
              "    </tr>\n",
              "  </thead>\n",
              "  <tbody>\n",
              "    <tr>\n",
              "      <th>40902</th>\n",
              "      <td>i still listen to leo s podcast</td>\n",
              "      <td>0</td>\n",
              "    </tr>\n",
              "    <tr>\n",
              "      <th>920</th>\n",
              "      <td>good  then maybe everyone can shut the hell up...</td>\n",
              "      <td>0</td>\n",
              "    </tr>\n",
              "    <tr>\n",
              "      <th>25243</th>\n",
              "      <td>damn right you are</td>\n",
              "      <td>0</td>\n",
              "    </tr>\n",
              "    <tr>\n",
              "      <th>84238</th>\n",
              "      <td>no  foles is a good underdog story  but did no...</td>\n",
              "      <td>1</td>\n",
              "    </tr>\n",
              "    <tr>\n",
              "      <th>74672</th>\n",
              "      <td>hopefully he s a dlc  he has to be seeing as a...</td>\n",
              "      <td>1</td>\n",
              "    </tr>\n",
              "    <tr>\n",
              "      <th>...</th>\n",
              "      <td>...</td>\n",
              "      <td>...</td>\n",
              "    </tr>\n",
              "    <tr>\n",
              "      <th>27849</th>\n",
              "      <td>so wait  how exactly would this work   you d i...</td>\n",
              "      <td>0</td>\n",
              "    </tr>\n",
              "    <tr>\n",
              "      <th>92818</th>\n",
              "      <td>4   16          1999                          ...</td>\n",
              "      <td>1</td>\n",
              "    </tr>\n",
              "    <tr>\n",
              "      <th>578</th>\n",
              "      <td>spartacus  from downtown with a disjointed lab...</td>\n",
              "      <td>0</td>\n",
              "    </tr>\n",
              "    <tr>\n",
              "      <th>67975</th>\n",
              "      <td>gettleman needs to come to terms with the fact...</td>\n",
              "      <td>1</td>\n",
              "    </tr>\n",
              "    <tr>\n",
              "      <th>23572</th>\n",
              "      <td>shet bud ur right  this rlly be a bruh moment</td>\n",
              "      <td>0</td>\n",
              "    </tr>\n",
              "  </tbody>\n",
              "</table>\n",
              "<p>77633 rows × 2 columns</p>\n",
              "</div>"
            ],
            "text/plain": [
              "                                                    body  controversiality\n",
              "40902                    i still listen to leo s podcast                 0\n",
              "920    good  then maybe everyone can shut the hell up...                 0\n",
              "25243                            damn right you are                      0\n",
              "84238  no  foles is a good underdog story  but did no...                 1\n",
              "74672  hopefully he s a dlc  he has to be seeing as a...                 1\n",
              "...                                                  ...               ...\n",
              "27849  so wait  how exactly would this work   you d i...                 0\n",
              "92818  4   16          1999                          ...                 1\n",
              "578    spartacus  from downtown with a disjointed lab...                 0\n",
              "67975  gettleman needs to come to terms with the fact...                 1\n",
              "23572      shet bud ur right  this rlly be a bruh moment                 0\n",
              "\n",
              "[77633 rows x 2 columns]"
            ]
          },
          "execution_count": 112,
          "metadata": {},
          "output_type": "execute_result"
        }
      ],
      "source": [
        "train_set"
      ]
    },
    {
      "cell_type": "code",
      "execution_count": 113,
      "metadata": {},
      "outputs": [
        {
          "data": {
            "text/plain": [
              "['huh  then my grandmother was the complete opposite  my mother s family is the epitomy of protestant quaker moral repression  and my gma was the absolute picture perfect 50s kid  60s teen  married a preacher  stepford wife kind of thing   didn t work out too well for her  hence my mother s rebellion   my mom just told me   don t get pregnant in school  don t get married if you do  ',\n",
              " 'the grinding is my main concern    consumables etc    i dont understand much  have been busy to keep myself updated',\n",
              " 'i remember seeing the promo on tv via star world s tna friday airings  shit felt like a silly fever dream ',\n",
              " 'sounds good  i ll join you in a bit then',\n",
              " 'maybe i m naive but i don t understand how that would make them vote for the right  the party that is trying to cut funding to those very things ']"
            ]
          },
          "execution_count": 113,
          "metadata": {},
          "output_type": "execute_result"
        }
      ],
      "source": [
        "\n",
        "corpus_train = train_set['body']\n",
        "corpus[:5]\n",
        "\n"
      ]
    },
    {
      "cell_type": "code",
      "execution_count": 90,
      "metadata": {},
      "outputs": [
        {
          "data": {
            "text/plain": [
              "['huh  then my grandmother was the complete opposite  my mother s family is the epitomy of protestant quaker moral repression  and my gma was the absolute picture perfect 50s kid  60s teen  married a preacher  stepford wife kind of thing   didn t work out too well for her  hence my mother s rebellion   my mom just told me   don t get pregnant in school  don t get married if you do  ',\n",
              " 'the grinding is my main concern    consumables etc    i dont understand much  have been busy to keep myself updated',\n",
              " 'i remember seeing the promo on tv via star world s tna friday airings  shit felt like a silly fever dream ',\n",
              " 'sounds good  i ll join you in a bit then',\n",
              " 'maybe i m naive but i don t understand how that would make them vote for the right  the party that is trying to cut funding to those very things ']"
            ]
          },
          "execution_count": 90,
          "metadata": {},
          "output_type": "execute_result"
        }
      ],
      "source": []
    },
    {
      "cell_type": "code",
      "execution_count": 116,
      "metadata": {},
      "outputs": [],
      "source": [
        "## Train the word2vec model\n",
        "\n",
        "word2vec_model = Word2Vec(sentences=corpus_train, vector_size=300, window=5, min_count=1)\n",
        "\n",
        "def vectorize_with_word2vec(sentence, model, embedding_dim=100):\n",
        "    \"\"\"\n",
        "    Vectorizes a sentence using Word2Vec model, handling OOV words by averaging the word vectors.\n",
        "    \n",
        "    :param sentence: The input sentence as a string\n",
        "    :param model: The trained Word2Vec model\n",
        "    :param embedding_dim: The dimensionality of the word vectors\n",
        "    :return: Averaged word vector for the sentence\n",
        "    \"\"\"\n",
        "    words = sentence.split()\n",
        "    word_vectors = [model.wv[word] for word in words if word in model.wv]\n",
        "    \n",
        "    if word_vectors:\n",
        "        return np.array(word_vectors)  \n",
        "    else:\n",
        "        return np.zeros((1,embedding_dim))"
      ]
    },
    {
      "cell_type": "code",
      "execution_count": 129,
      "metadata": {},
      "outputs": [],
      "source": [
        "X_train = train_set['body'].apply(lambda x: vectorize_with_word2vec(sentence=x, model=word2vec_model, embedding_dim=300))\n",
        "X_train = pad_sequences(X_train, maxlen=50, padding=\"post\", truncating=\"post\", dtype=\"float32\")\n",
        "X_train = np.array(X_train)\n",
        "y_train = train_set['controversiality']\n",
        "\n",
        "X_test = test_set['body'].apply(lambda x: vectorize_with_word2vec(sentence=x, model=word2vec_model, embedding_dim=300))\n",
        "X_test = pad_sequences(X_test, maxlen=50, padding=\"post\", truncating=\"post\", dtype=\"float32\")\n",
        "X_test = np.array(X_test)\n",
        "y_test = test_set['controversiality']\n",
        "\n"
      ]
    },
    {
      "cell_type": "code",
      "execution_count": 128,
      "metadata": {},
      "outputs": [
        {
          "data": {
            "text/plain": [
              "300"
            ]
          },
          "execution_count": 128,
          "metadata": {},
          "output_type": "execute_result"
        }
      ],
      "source": [
        "len(X_train[0][0])"
      ]
    },
    {
      "cell_type": "code",
      "execution_count": 107,
      "metadata": {},
      "outputs": [
        {
          "name": "stderr",
          "output_type": "stream",
          "text": [
            "c:\\Vipina\\FindJ\\Resume\\GitHub\\Reddit_comments\\venv\\lib\\site-packages\\keras\\src\\layers\\rnn\\rnn.py:200: UserWarning: Do not pass an `input_shape`/`input_dim` argument to a layer. When using Sequential models, prefer using an `Input(shape)` object as the first layer in the model instead.\n",
            "  super().__init__(**kwargs)\n"
          ]
        }
      ],
      "source": [
        "## define the dl model\n",
        "model = Sequential()\n",
        "model.add(GRU(64, return_sequences = False, input_shape = (50,300)))\n",
        "model.add(Dropout(0.2))\n",
        "model.add(Dense(1, activation='sigmoid'))\n",
        "\n",
        "model.compile(optimizer='adam', loss='binary_crossentropy', metrics=['accuracy'])"
      ]
    },
    {
      "cell_type": "code",
      "execution_count": 130,
      "metadata": {},
      "outputs": [],
      "source": [
        "##  Definig the early stopping\n",
        "early_stopping = EarlyStopping(\n",
        "    monitor = 'val_loss',\n",
        "    patience = 5,\n",
        "    restore_best_weights = True\n",
        ")"
      ]
    },
    {
      "cell_type": "code",
      "execution_count": 132,
      "metadata": {},
      "outputs": [
        {
          "name": "stdout",
          "output_type": "stream",
          "text": [
            "Epoch 1/100\n",
            "\u001b[1m971/971\u001b[0m \u001b[32m━━━━━━━━━━━━━━━━━━━━\u001b[0m\u001b[37m\u001b[0m \u001b[1m20s\u001b[0m 21ms/step - accuracy: 0.6431 - loss: 0.5727 - val_accuracy: 0.6379 - val_loss: 0.5966\n",
            "Epoch 2/100\n",
            "\u001b[1m971/971\u001b[0m \u001b[32m━━━━━━━━━━━━━━━━━━━━\u001b[0m\u001b[37m\u001b[0m \u001b[1m17s\u001b[0m 18ms/step - accuracy: 0.6434 - loss: 0.5717 - val_accuracy: 0.6377 - val_loss: 0.5918\n",
            "Epoch 3/100\n",
            "\u001b[1m971/971\u001b[0m \u001b[32m━━━━━━━━━━━━━━━━━━━━\u001b[0m\u001b[37m\u001b[0m \u001b[1m17s\u001b[0m 18ms/step - accuracy: 0.6444 - loss: 0.5670 - val_accuracy: 0.6355 - val_loss: 0.5860\n",
            "Epoch 4/100\n",
            "\u001b[1m971/971\u001b[0m \u001b[32m━━━━━━━━━━━━━━━━━━━━\u001b[0m\u001b[37m\u001b[0m \u001b[1m18s\u001b[0m 18ms/step - accuracy: 0.6463 - loss: 0.5626 - val_accuracy: 0.6398 - val_loss: 0.5777\n",
            "Epoch 5/100\n",
            "\u001b[1m971/971\u001b[0m \u001b[32m━━━━━━━━━━━━━━━━━━━━\u001b[0m\u001b[37m\u001b[0m \u001b[1m18s\u001b[0m 18ms/step - accuracy: 0.6498 - loss: 0.5598 - val_accuracy: 0.6312 - val_loss: 0.5875\n",
            "Epoch 6/100\n",
            "\u001b[1m971/971\u001b[0m \u001b[32m━━━━━━━━━━━━━━━━━━━━\u001b[0m\u001b[37m\u001b[0m \u001b[1m18s\u001b[0m 18ms/step - accuracy: 0.6492 - loss: 0.5589 - val_accuracy: 0.6282 - val_loss: 0.5784\n",
            "Epoch 7/100\n",
            "\u001b[1m971/971\u001b[0m \u001b[32m━━━━━━━━━━━━━━━━━━━━\u001b[0m\u001b[37m\u001b[0m \u001b[1m18s\u001b[0m 18ms/step - accuracy: 0.6488 - loss: 0.5555 - val_accuracy: 0.6441 - val_loss: 0.5705\n",
            "Epoch 8/100\n",
            "\u001b[1m971/971\u001b[0m \u001b[32m━━━━━━━━━━━━━━━━━━━━\u001b[0m\u001b[37m\u001b[0m \u001b[1m18s\u001b[0m 18ms/step - accuracy: 0.6539 - loss: 0.5509 - val_accuracy: 0.6416 - val_loss: 0.5742\n",
            "Epoch 9/100\n",
            "\u001b[1m971/971\u001b[0m \u001b[32m━━━━━━━━━━━━━━━━━━━━\u001b[0m\u001b[37m\u001b[0m \u001b[1m18s\u001b[0m 18ms/step - accuracy: 0.6439 - loss: 0.5684 - val_accuracy: 0.6247 - val_loss: 0.5959\n",
            "Epoch 10/100\n",
            "\u001b[1m971/971\u001b[0m \u001b[32m━━━━━━━━━━━━━━━━━━━━\u001b[0m\u001b[37m\u001b[0m \u001b[1m17s\u001b[0m 18ms/step - accuracy: 0.6378 - loss: 0.5741 - val_accuracy: 0.6400 - val_loss: 0.5791\n",
            "Epoch 11/100\n",
            "\u001b[1m971/971\u001b[0m \u001b[32m━━━━━━━━━━━━━━━━━━━━\u001b[0m\u001b[37m\u001b[0m \u001b[1m18s\u001b[0m 19ms/step - accuracy: 0.6492 - loss: 0.5593 - val_accuracy: 0.6386 - val_loss: 0.5851\n",
            "Epoch 12/100\n",
            "\u001b[1m971/971\u001b[0m \u001b[32m━━━━━━━━━━━━━━━━━━━━\u001b[0m\u001b[37m\u001b[0m \u001b[1m18s\u001b[0m 18ms/step - accuracy: 0.6459 - loss: 0.5575 - val_accuracy: 0.6222 - val_loss: 0.5764\n"
          ]
        },
        {
          "data": {
            "text/plain": [
              "<keras.src.callbacks.history.History at 0x25ea33fe080>"
            ]
          },
          "execution_count": 132,
          "metadata": {},
          "output_type": "execute_result"
        }
      ],
      "source": [
        "## train the model\n",
        "model.fit(X_train, y_train, epochs=100, batch_size=64, validation_split=0.2, callbacks=early_stopping)"
      ]
    },
    {
      "cell_type": "code",
      "execution_count": 133,
      "metadata": {},
      "outputs": [
        {
          "name": "stdout",
          "output_type": "stream",
          "text": [
            "\u001b[1m607/607\u001b[0m \u001b[32m━━━━━━━━━━━━━━━━━━━━\u001b[0m\u001b[37m\u001b[0m \u001b[1m3s\u001b[0m 5ms/step\n",
            "              precision    recall  f1-score   support\n",
            "\n",
            "           0       0.62      0.77      0.69      9797\n",
            "           1       0.69      0.52      0.59      9612\n",
            "\n",
            "    accuracy                           0.65     19409\n",
            "   macro avg       0.66      0.65      0.64     19409\n",
            "weighted avg       0.66      0.65      0.64     19409\n",
            "\n"
          ]
        },
        {
          "data": {
            "image/png": "[encoded data removed]",
            "text/plain": [
              "<Figure size 640x480 with 2 Axes>"
            ]
          },
          "metadata": {},
          "output_type": "display_data"
        }
      ],
      "source": [
        "predictions = model.predict(X_test)\n",
        "predicted_labels = (predictions > 0.5).astype(int)\n",
        "\n",
        "print(classification_report(y_test, predicted_labels))\n",
        "\n",
        "cm = confusion_matrix(y_test, predicted_labels)\n",
        "disp = ConfusionMatrixDisplay(confusion_matrix=cm, display_labels=['Non-Toxic', 'Toxic'])\n",
        "disp.plot(values_format = '')\n",
        "plt.show()"
      ]
    },
    {
      "cell_type": "code",
      "execution_count": 144,
      "metadata": {},
      "outputs": [],
      "source": [
        "text = \"Are we really expected to believe that in humanity's last stand,there was noone more qualified to command than a 10 year old kid? Almost all the northern lords are there (fuck you Glover),the Vale's men too,and a bunch of randoms from different kingdoms with military experience but they get bossed around by child.\"\n",
        "text = re.sub(r'[^a-zA-Z0-9]', ' ', text)\n",
        "text = text.lower()\n",
        "text = text.split()\n",
        "text = np.array([vectorize_with_word2vec(word, word2vec_model, 300) for word in text])\n",
        "text = pad_sequences(text, maxlen=50, dtype='float32', padding='post', truncating='post')"
      ]
    },
    {
      "cell_type": "code",
      "execution_count": 145,
      "metadata": {},
      "outputs": [
        {
          "name": "stdout",
          "output_type": "stream",
          "text": [
            "\u001b[1m2/2\u001b[0m \u001b[32m━━━━━━━━━━━━━━━━━━━━\u001b[0m\u001b[37m\u001b[0m \u001b[1m0s\u001b[0m 27ms/step\n"
          ]
        },
        {
          "data": {
            "text/plain": [
              "48.90109300613403"
            ]
          },
          "execution_count": 145,
          "metadata": {},
          "output_type": "execute_result"
        }
      ],
      "source": [
        "model.predict(text)[0][0] * 100"
      ]
    },
    {
      "cell_type": "markdown",
      "metadata": {},
      "source": [
        "The model is able to capture atleast 48% toxicity which is a significant value unlike how it classified the same text as non toxic with 3% toxicity which is a very low value"
      ]
    },
    {
      "cell_type": "markdown",
      "metadata": {},
      "source": [
        "## FastText Model"
      ]
    },
    {
      "cell_type": "code",
      "execution_count": 138,
      "metadata": {},
      "outputs": [
        {
          "data": {
            "text/plain": [
              "40902                      i still listen to leo s podcast\n",
              "920      good  then maybe everyone can shut the hell up...\n",
              "25243                              damn right you are     \n",
              "84238    no  foles is a good underdog story  but did no...\n",
              "74672    hopefully he s a dlc  he has to be seeing as a...\n",
              "                               ...                        \n",
              "27849    so wait  how exactly would this work   you d i...\n",
              "92818    4   16          1999                          ...\n",
              "578      spartacus  from downtown with a disjointed lab...\n",
              "67975    gettleman needs to come to terms with the fact...\n",
              "23572        shet bud ur right  this rlly be a bruh moment\n",
              "Name: body, Length: 77633, dtype: object"
            ]
          },
          "execution_count": 138,
          "metadata": {},
          "output_type": "execute_result"
        }
      ],
      "source": [
        "corpus_train"
      ]
    },
    {
      "cell_type": "code",
      "execution_count": 139,
      "metadata": {},
      "outputs": [],
      "source": [
        "from gensim.models import FastText\n",
        "\n",
        "fasttext_model = FastText(sentences=corpus_train, vector_size=300, window=5, min_count=1)\n",
        "\n",
        "def vectorize_with_fasttext(sentence, model, embedding_dim=100):\n",
        "    \"\"\"\n",
        "    Vectorizes a sentence using Word2Vec model, handling OOV words by averaging the word vectors.\n",
        "    \n",
        "    :param sentence: The input sentence as a string\n",
        "    :param model: The trained Word2Vec model\n",
        "    :param embedding_dim: The dimensionality of the word vectors\n",
        "    :return: Averaged word vector for the sentence\n",
        "    \"\"\"\n",
        "    words = sentence.split()\n",
        "    word_vectors = [model.wv[word] for word in words if word in model.wv]\n",
        "    \n",
        "    if word_vectors:\n",
        "        return np.array(word_vectors)  \n",
        "    else:\n",
        "        return np.zeros((1,embedding_dim))"
      ]
    },
    {
      "cell_type": "code",
      "execution_count": 141,
      "metadata": {},
      "outputs": [],
      "source": [
        "X_train = train_set['body'].apply(lambda x: vectorize_with_fasttext(sentence=x, model=fasttext_model, embedding_dim=300))\n",
        "X_train = pad_sequences(X_train, maxlen=50, padding=\"post\", truncating=\"post\", dtype=\"float32\")\n",
        "X_train = np.array(X_train)\n",
        "y_train = train_set['controversiality']\n",
        "\n",
        "X_test = test_set['body'].apply(lambda x: vectorize_with_fasttext(sentence=x, model=fasttext_model, embedding_dim=300))\n",
        "X_test = pad_sequences(X_test, maxlen=50, padding=\"post\", truncating=\"post\", dtype=\"float32\")\n",
        "X_test = np.array(X_test)\n",
        "y_test = test_set['controversiality']"
      ]
    },
    {
      "cell_type": "code",
      "execution_count": 147,
      "metadata": {},
      "outputs": [
        {
          "name": "stdout",
          "output_type": "stream",
          "text": [
            "Epoch 1/100\n",
            "\u001b[1m971/971\u001b[0m \u001b[32m━━━━━━━━━━━━━━━━━━━━\u001b[0m\u001b[37m\u001b[0m \u001b[1m20s\u001b[0m 21ms/step - accuracy: 0.5467 - loss: 0.6779 - val_accuracy: 0.5720 - val_loss: 0.6643\n",
            "Epoch 2/100\n",
            "\u001b[1m971/971\u001b[0m \u001b[32m━━━━━━━━━━━━━━━━━━━━\u001b[0m\u001b[37m\u001b[0m \u001b[1m18s\u001b[0m 19ms/step - accuracy: 0.5576 - loss: 0.6694 - val_accuracy: 0.5641 - val_loss: 0.6611\n",
            "Epoch 3/100\n",
            "\u001b[1m971/971\u001b[0m \u001b[32m━━━━━━━━━━━━━━━━━━━━\u001b[0m\u001b[37m\u001b[0m \u001b[1m18s\u001b[0m 18ms/step - accuracy: 0.5730 - loss: 0.6594 - val_accuracy: 0.5914 - val_loss: 0.6545\n",
            "Epoch 4/100\n",
            "\u001b[1m971/971\u001b[0m \u001b[32m━━━━━━━━━━━━━━━━━━━━\u001b[0m\u001b[37m\u001b[0m \u001b[1m18s\u001b[0m 18ms/step - accuracy: 0.5803 - loss: 0.6536 - val_accuracy: 0.6034 - val_loss: 0.6375\n",
            "Epoch 5/100\n",
            "\u001b[1m971/971\u001b[0m \u001b[32m━━━━━━━━━━━━━━━━━━━━\u001b[0m\u001b[37m\u001b[0m \u001b[1m18s\u001b[0m 18ms/step - accuracy: 0.5981 - loss: 0.6361 - val_accuracy: 0.6201 - val_loss: 0.6264\n",
            "Epoch 6/100\n",
            "\u001b[1m971/971\u001b[0m \u001b[32m━━━━━━━━━━━━━━━━━━━━\u001b[0m\u001b[37m\u001b[0m \u001b[1m18s\u001b[0m 19ms/step - accuracy: 0.6091 - loss: 0.6229 - val_accuracy: 0.6137 - val_loss: 0.6219\n",
            "Epoch 7/100\n",
            "\u001b[1m971/971\u001b[0m \u001b[32m━━━━━━━━━━━━━━━━━━━━\u001b[0m\u001b[37m\u001b[0m \u001b[1m18s\u001b[0m 19ms/step - accuracy: 0.6257 - loss: 0.6077 - val_accuracy: 0.6256 - val_loss: 0.6039\n",
            "Epoch 8/100\n",
            "\u001b[1m971/971\u001b[0m \u001b[32m━━━━━━━━━━━━━━━━━━━━\u001b[0m\u001b[37m\u001b[0m \u001b[1m18s\u001b[0m 18ms/step - accuracy: 0.6396 - loss: 0.5907 - val_accuracy: 0.6342 - val_loss: 0.5860\n",
            "Epoch 9/100\n",
            "\u001b[1m971/971\u001b[0m \u001b[32m━━━━━━━━━━━━━━━━━━━━\u001b[0m\u001b[37m\u001b[0m \u001b[1m18s\u001b[0m 18ms/step - accuracy: 0.6407 - loss: 0.5809 - val_accuracy: 0.6513 - val_loss: 0.5801\n",
            "Epoch 10/100\n",
            "\u001b[1m971/971\u001b[0m \u001b[32m━━━━━━━━━━━━━━━━━━━━\u001b[0m\u001b[37m\u001b[0m \u001b[1m18s\u001b[0m 18ms/step - accuracy: 0.6495 - loss: 0.5692 - val_accuracy: 0.6648 - val_loss: 0.5619\n",
            "Epoch 11/100\n",
            "\u001b[1m971/971\u001b[0m \u001b[32m━━━━━━━━━━━━━━━━━━━━\u001b[0m\u001b[37m\u001b[0m \u001b[1m18s\u001b[0m 19ms/step - accuracy: 0.6597 - loss: 0.5595 - val_accuracy: 0.6680 - val_loss: 0.5594\n",
            "Epoch 12/100\n",
            "\u001b[1m971/971\u001b[0m \u001b[32m━━━━━━━━━━━━━━━━━━━━\u001b[0m\u001b[37m\u001b[0m \u001b[1m18s\u001b[0m 18ms/step - accuracy: 0.6639 - loss: 0.5469 - val_accuracy: 0.6739 - val_loss: 0.5460\n",
            "Epoch 13/100\n",
            "\u001b[1m971/971\u001b[0m \u001b[32m━━━━━━━━━━━━━━━━━━━━\u001b[0m\u001b[37m\u001b[0m \u001b[1m18s\u001b[0m 19ms/step - accuracy: 0.6672 - loss: 0.5409 - val_accuracy: 0.6798 - val_loss: 0.5402\n",
            "Epoch 14/100\n",
            "\u001b[1m971/971\u001b[0m \u001b[32m━━━━━━━━━━━━━━━━━━━━\u001b[0m\u001b[37m\u001b[0m \u001b[1m19s\u001b[0m 20ms/step - accuracy: 0.6802 - loss: 0.5247 - val_accuracy: 0.6907 - val_loss: 0.5308\n",
            "Epoch 15/100\n",
            "\u001b[1m971/971\u001b[0m \u001b[32m━━━━━━━━━━━━━━━━━━━━\u001b[0m\u001b[37m\u001b[0m \u001b[1m19s\u001b[0m 19ms/step - accuracy: 0.6889 - loss: 0.5134 - val_accuracy: 0.6653 - val_loss: 0.5350\n",
            "Epoch 16/100\n",
            "\u001b[1m971/971\u001b[0m \u001b[32m━━━━━━━━━━━━━━━━━━━━\u001b[0m\u001b[37m\u001b[0m \u001b[1m19s\u001b[0m 20ms/step - accuracy: 0.6875 - loss: 0.5104 - val_accuracy: 0.6619 - val_loss: 0.5359\n",
            "Epoch 17/100\n",
            "\u001b[1m971/971\u001b[0m \u001b[32m━━━━━━━━━━━━━━━━━━━━\u001b[0m\u001b[37m\u001b[0m \u001b[1m18s\u001b[0m 18ms/step - accuracy: 0.6859 - loss: 0.5126 - val_accuracy: 0.6971 - val_loss: 0.5121\n",
            "Epoch 18/100\n",
            "\u001b[1m971/971\u001b[0m \u001b[32m━━━━━━━━━━━━━━━━━━━━\u001b[0m\u001b[37m\u001b[0m \u001b[1m18s\u001b[0m 19ms/step - accuracy: 0.6962 - loss: 0.5053 - val_accuracy: 0.6967 - val_loss: 0.5116\n",
            "Epoch 19/100\n",
            "\u001b[1m971/971\u001b[0m \u001b[32m━━━━━━━━━━━━━━━━━━━━\u001b[0m\u001b[37m\u001b[0m \u001b[1m18s\u001b[0m 18ms/step - accuracy: 0.6998 - loss: 0.4919 - val_accuracy: 0.7003 - val_loss: 0.5076\n",
            "Epoch 20/100\n",
            "\u001b[1m971/971\u001b[0m \u001b[32m━━━━━━━━━━━━━━━━━━━━\u001b[0m\u001b[37m\u001b[0m \u001b[1m19s\u001b[0m 19ms/step - accuracy: 0.7007 - loss: 0.4858 - val_accuracy: 0.7043 - val_loss: 0.4949\n",
            "Epoch 21/100\n",
            "\u001b[1m971/971\u001b[0m \u001b[32m━━━━━━━━━━━━━━━━━━━━\u001b[0m\u001b[37m\u001b[0m \u001b[1m19s\u001b[0m 20ms/step - accuracy: 0.6965 - loss: 0.4916 - val_accuracy: 0.7070 - val_loss: 0.4967\n",
            "Epoch 22/100\n",
            "\u001b[1m971/971\u001b[0m \u001b[32m━━━━━━━━━━━━━━━━━━━━\u001b[0m\u001b[37m\u001b[0m \u001b[1m18s\u001b[0m 19ms/step - accuracy: 0.7058 - loss: 0.4837 - val_accuracy: 0.7101 - val_loss: 0.4808\n",
            "Epoch 23/100\n",
            "\u001b[1m971/971\u001b[0m \u001b[32m━━━━━━━━━━━━━━━━━━━━\u001b[0m\u001b[37m\u001b[0m \u001b[1m18s\u001b[0m 18ms/step - accuracy: 0.7079 - loss: 0.4818 - val_accuracy: 0.7113 - val_loss: 0.4900\n",
            "Epoch 24/100\n",
            "\u001b[1m971/971\u001b[0m \u001b[32m━━━━━━━━━━━━━━━━━━━━\u001b[0m\u001b[37m\u001b[0m \u001b[1m18s\u001b[0m 18ms/step - accuracy: 0.7118 - loss: 0.4691 - val_accuracy: 0.7043 - val_loss: 0.4943\n",
            "Epoch 25/100\n",
            "\u001b[1m971/971\u001b[0m \u001b[32m━━━━━━━━━━━━━━━━━━━━\u001b[0m\u001b[37m\u001b[0m \u001b[1m18s\u001b[0m 18ms/step - accuracy: 0.7127 - loss: 0.4736 - val_accuracy: 0.7093 - val_loss: 0.4978\n",
            "Epoch 26/100\n",
            "\u001b[1m971/971\u001b[0m \u001b[32m━━━━━━━━━━━━━━━━━━━━\u001b[0m\u001b[37m\u001b[0m \u001b[1m18s\u001b[0m 19ms/step - accuracy: 0.7105 - loss: 0.4697 - val_accuracy: 0.7102 - val_loss: 0.4805\n",
            "Epoch 27/100\n",
            "\u001b[1m971/971\u001b[0m \u001b[32m━━━━━━━━━━━━━━━━━━━━\u001b[0m\u001b[37m\u001b[0m \u001b[1m18s\u001b[0m 18ms/step - accuracy: 0.7147 - loss: 0.4624 - val_accuracy: 0.7119 - val_loss: 0.4797\n",
            "Epoch 28/100\n",
            "\u001b[1m971/971\u001b[0m \u001b[32m━━━━━━━━━━━━━━━━━━━━\u001b[0m\u001b[37m\u001b[0m \u001b[1m18s\u001b[0m 19ms/step - accuracy: 0.7104 - loss: 0.4676 - val_accuracy: 0.7171 - val_loss: 0.4719\n",
            "Epoch 29/100\n",
            "\u001b[1m971/971\u001b[0m \u001b[32m━━━━━━━━━━━━━━━━━━━━\u001b[0m\u001b[37m\u001b[0m \u001b[1m18s\u001b[0m 19ms/step - accuracy: 0.7163 - loss: 0.4652 - val_accuracy: 0.7137 - val_loss: 0.4809\n",
            "Epoch 30/100\n",
            "\u001b[1m971/971\u001b[0m \u001b[32m━━━━━━━━━━━━━━━━━━━━\u001b[0m\u001b[37m\u001b[0m \u001b[1m18s\u001b[0m 18ms/step - accuracy: 0.7205 - loss: 0.4517 - val_accuracy: 0.7139 - val_loss: 0.4780\n",
            "Epoch 31/100\n",
            "\u001b[1m971/971\u001b[0m \u001b[32m━━━━━━━━━━━━━━━━━━━━\u001b[0m\u001b[37m\u001b[0m \u001b[1m18s\u001b[0m 18ms/step - accuracy: 0.7209 - loss: 0.4508 - val_accuracy: 0.7225 - val_loss: 0.4664\n",
            "Epoch 32/100\n",
            "\u001b[1m971/971\u001b[0m \u001b[32m━━━━━━━━━━━━━━━━━━━━\u001b[0m\u001b[37m\u001b[0m \u001b[1m18s\u001b[0m 18ms/step - accuracy: 0.7255 - loss: 0.4535 - val_accuracy: 0.7183 - val_loss: 0.4794\n",
            "Epoch 33/100\n",
            "\u001b[1m971/971\u001b[0m \u001b[32m━━━━━━━━━━━━━━━━━━━━\u001b[0m\u001b[37m\u001b[0m \u001b[1m18s\u001b[0m 19ms/step - accuracy: 0.7192 - loss: 0.4505 - val_accuracy: 0.7260 - val_loss: 0.4656\n",
            "Epoch 34/100\n",
            "\u001b[1m971/971\u001b[0m \u001b[32m━━━━━━━━━━━━━━━━━━━━\u001b[0m\u001b[37m\u001b[0m \u001b[1m18s\u001b[0m 18ms/step - accuracy: 0.7210 - loss: 0.4485 - val_accuracy: 0.7188 - val_loss: 0.4782\n",
            "Epoch 35/100\n",
            "\u001b[1m971/971\u001b[0m \u001b[32m━━━━━━━━━━━━━━━━━━━━\u001b[0m\u001b[37m\u001b[0m \u001b[1m18s\u001b[0m 18ms/step - accuracy: 0.7208 - loss: 0.4479 - val_accuracy: 0.7014 - val_loss: 0.4741\n",
            "Epoch 36/100\n",
            "\u001b[1m971/971\u001b[0m \u001b[32m━━━━━━━━━━━━━━━━━━━━\u001b[0m\u001b[37m\u001b[0m \u001b[1m18s\u001b[0m 18ms/step - accuracy: 0.7246 - loss: 0.4421 - val_accuracy: 0.7191 - val_loss: 0.4809\n",
            "Epoch 37/100\n",
            "\u001b[1m971/971\u001b[0m \u001b[32m━━━━━━━━━━━━━━━━━━━━\u001b[0m\u001b[37m\u001b[0m \u001b[1m18s\u001b[0m 18ms/step - accuracy: 0.7270 - loss: 0.4490 - val_accuracy: 0.7231 - val_loss: 0.4681\n",
            "Epoch 38/100\n",
            "\u001b[1m971/971\u001b[0m \u001b[32m━━━━━━━━━━━━━━━━━━━━\u001b[0m\u001b[37m\u001b[0m \u001b[1m18s\u001b[0m 18ms/step - accuracy: 0.7264 - loss: 0.4441 - val_accuracy: 0.7165 - val_loss: 0.4802\n"
          ]
        },
        {
          "data": {
            "text/plain": [
              "<keras.src.callbacks.history.History at 0x25eacba3ca0>"
            ]
          },
          "execution_count": 147,
          "metadata": {},
          "output_type": "execute_result"
        }
      ],
      "source": [
        "## Using the same model for learning but with a different train and test sets to check the change in performance\n",
        "\n",
        "model.fit(X_train, y_train, epochs=100, validation_split=0.2, batch_size=64, callbacks=early_stopping)"
      ]
    },
    {
      "cell_type": "markdown",
      "metadata": {},
      "source": [
        "This model is giving a greater accuracy as compared to the model that was trained with word2vec model"
      ]
    },
    {
      "cell_type": "code",
      "execution_count": 148,
      "metadata": {},
      "outputs": [
        {
          "name": "stdout",
          "output_type": "stream",
          "text": [
            "\u001b[1m607/607\u001b[0m \u001b[32m━━━━━━━━━━━━━━━━━━━━\u001b[0m\u001b[37m\u001b[0m \u001b[1m3s\u001b[0m 5ms/step\n",
            "              precision    recall  f1-score   support\n",
            "\n",
            "           0       0.68      0.85      0.76      9797\n",
            "           1       0.80      0.60      0.68      9612\n",
            "\n",
            "    accuracy                           0.73     19409\n",
            "   macro avg       0.74      0.72      0.72     19409\n",
            "weighted avg       0.74      0.73      0.72     19409\n",
            "\n"
          ]
        },
        {
          "data": {
            "image/png": "[encoded data removed]",
            "text/plain": [
              "<Figure size 640x480 with 2 Axes>"
            ]
          },
          "metadata": {},
          "output_type": "display_data"
        }
      ],
      "source": [
        "predictions = model.predict(X_test)\n",
        "predicted_labels = (predictions > 0.5).astype(int)\n",
        "\n",
        "print(classification_report(y_test, predicted_labels))\n",
        "\n",
        "cm = confusion_matrix(y_test, predicted_labels)\n",
        "disp = ConfusionMatrixDisplay(confusion_matrix=cm, display_labels=['Non-Toxic', 'Toxic'])\n",
        "disp.plot(values_format = '')\n",
        "plt.show()"
      ]
    },
    {
      "cell_type": "markdown",
      "metadata": {},
      "source": [
        "The model with fast-text is giving around 73% accuracy which is better than word2vec"
      ]
    },
    {
      "cell_type": "code",
      "execution_count": 149,
      "metadata": {},
      "outputs": [],
      "source": [
        "text = \"Are we really expected to believe that in humanity's last stand,there was noone more qualified to command than a 10 year old kid? Almost all the northern lords are there (fuck you Glover),the Vale's men too,and a bunch of randoms from different kingdoms with military experience but they get bossed around by child.\"\n",
        "text = re.sub(r'[^a-zA-Z0-9]', ' ', text)\n",
        "text = text.lower()\n",
        "text = text.split()\n",
        "text = np.array([vectorize_with_fasttext(word, fasttext_model, 300) for word in text])\n",
        "text = pad_sequences(text, maxlen=50, dtype='float32', padding='post', truncating='post')"
      ]
    },
    {
      "cell_type": "code",
      "execution_count": 150,
      "metadata": {},
      "outputs": [
        {
          "name": "stdout",
          "output_type": "stream",
          "text": [
            "\u001b[1m2/2\u001b[0m \u001b[32m━━━━━━━━━━━━━━━━━━━━\u001b[0m\u001b[37m\u001b[0m \u001b[1m0s\u001b[0m 26ms/step\n"
          ]
        },
        {
          "data": {
            "text/plain": [
              "49.163344502449036"
            ]
          },
          "execution_count": 150,
          "metadata": {},
          "output_type": "execute_result"
        }
      ],
      "source": [
        "model.predict(text)[0][0] * 100"
      ]
    },
    {
      "cell_type": "code",
      "execution_count": 156,
      "metadata": {},
      "outputs": [
        {
          "data": {
            "text/plain": [
              "['i still listen to leo s podcast',\n",
              " 'good  then maybe everyone can shut the hell up and we can move on ',\n",
              " 'damn right you are     ',\n",
              " 'no  foles is a good underdog story  but did not have a better game  stat wise  flacco was more accurate  but threw the ball less  flacco had 8 7 yards per attempt  whereas foles had slightly less  8 67   given flacco s run throughout the entire playoffs  tossing 12 tds and 0 ints  he is the better player in my opinion  he s got the best postseason since montana ',\n",
              " 'hopefully he s a dlc  he has to be seeing as a recent datamine revealed that 19 dlc characters are being released ',\n",
              " 'he s a lot more like the democrats than he will admit  if he doesn t keep harping on the same shit  he doesn t have much else to contribute to the discussion ',\n",
              " 'similar in other regions ',\n",
              " 'that is a gas station',\n",
              " 'well one is a rb  the other a wr  so that s a start ',\n",
              " 'no particular order  mahomes  donald  mack  hopkins  cox  thomas  brees   wagner  gurley  and e  jackson    that last selection might be a slight homer pick lol',\n",
              " 'sorry  your [submission] https   www reddit com r fortnitebr comments bjuaun can_epic_give_us_the_option_to_remove_cosmetics   in  r fortnitebr was removed because the post was not long enough to encourage a meaningful discussion  please note  this action was performed automatically  and adding characters in an attempt to circumvent this filter will result in an automatic ban from  r fortnitebr     please do not send us modmail asking to manually approve a post  we will not make any exceptions     i am a bot  and this action was performed automatically  please [contact the moderators of this subreddit]  message compose  to  r fortnitebr  if you have any questions or concerns  ',\n",
              " 'put in pot of water and let it boil',\n",
              " 'and because  you know  the men who actually committed it had a problem with constant us military  political  and economic intervention in the middle east ',\n",
              " 'the goal of mma is not to inflict brain damage lmao',\n",
              " 'uh  you buy a couple thousand dollar beater and drive that instead of buying a  40k car  this means that you have a small car payment for a short time or no payment at all  get it ',\n",
              " 'weird  it s unavailable for me ',\n",
              " 'almost every single movie based off a video game has been awful and tanked in the box office   why would this be different ',\n",
              " 'one boy  woow  he was happy   ',\n",
              " 'well  consdering most of it takes place in high school  i dont know   im thinking just maybe there is less meeting in person for situations to    arrise   because people are in constant contact and meet up less  maybe ',\n",
              " 'your submission has been automatically removed because all post titles must begin with one hard bracketed spoiler scope tag  like [spoilers] or [no spoilers]  please review the options posted in the [spoiler guide]  r gameofthrones w spoiler_guide  to find the title scope most appropriate for your post and [resubmit your content]  r gameofthrones submit     i am a bot  and this action was performed automatically  please [contact the moderators of this subreddit]  message compose  to  r gameofthrones  if you have any questions or concerns  ',\n",
              " 'who the fuck claps at a strip club ',\n",
              " 'mkx designs were fine  and stop trying to necro an old argument  op ',\n",
              " 'let s support this man like the buttons on his shirt ',\n",
              " 'why are we not funding this  ',\n",
              " 'if you aint first you re last ',\n",
              " 'persecuting women who don t produce enough breast milk is not the same as criminalizing homosexuality   most of the world still sees homosexuality as a disorder ',\n",
              " 'very cool can t wait for it to get buried in some subcommittee until the bombs drop',\n",
              " 'lever   quad explosive double barrel   a  50 cal machine gun with weight reduction  limb damage and a double ammo capacity ',\n",
              " 'from my perspective it was just completely unworkable  it s physically draining on the mother and  many babies have stopped being interested in milk by that stage  not all of them and if you really want to then it s not like you can t  but mandating two years seems crazy to me   that just my experience though ',\n",
              " 'he has an eye infection  so the owner not taking him to a vet is breaking my heart ',\n",
              " 'for listening to oasis   you should ',\n",
              " 'spoiler warning    all officially released show and book content allowed  including trailers and pre released chapters  no leaked information or paparazzi photos of the set  for more info please check the [spoiler guide]  r gameofthrones w spoiler_guide     i am a bot  and this action was performed automatically  please [contact the moderators of this subreddit]  message compose  to  r gameofthrones  if you have any questions or concerns  ',\n",
              " 'they ve been duped  i ve seen another one of these around',\n",
              " 'i mean  yes and yes  but it s also about morning being the worst time of the day  the coffee is a great visual for my child to know i m trying to chill out for a few more minutes ',\n",
              " 'i own a roku device for slingtv and it s great  so you should buy calls ',\n",
              " 'is it just me or does it always seem like the first game you play  at least solo  tends to have a higher probability of making the top 3 winning  i wonder if this is an intentional matchmaking gimmick to start off on a high note',\n",
              " 'as a reminder  this subreddit [is for civil discussion ]  r politics wiki index wiki_be_civil   in general  be courteous to others  attack ideas  not users  personal insults  shill or troll accusations  hate speech    any   advocating or wishing death physical harm  and other rule violations can result in a permanent ban    if you see comments in violation of our rules  please report them          i am a bot  and this action was performed automatically  please [contact the moderators of this subreddit]  message compose  to  r politics  if you have any questions or concerns  ',\n",
              " 'agreed about both players ',\n",
              " 'how about all options and i ll use my hands too    ',\n",
              " 'raphtalia is best girl',\n",
              " 'lmao dude literally stops the ball from going forward with his hand ',\n",
              " 'that entire thread was a mix of 45 y o cat ladies screeching  girl power   while a bunch of basement dwelling loli lovers encouraged buying a pre teen girl a vibrator because it gets their rocks off   it s disgusting ',\n",
              " 'oh my oh my   they invented the word   perfect  after looking at your   whit a perfect round ass   beautiful pussy and beautiful tits but your nipples     incredible freaking gorgeous   can i kiss your nipple  ',\n",
              " 'it s not just the men that can t stand her ',\n",
              " 'put a watermark somewhere too in case instagram normies try to steal it ',\n",
              " 'yeah for real  my sister and bro in law have been really stressed at their job and my dad s never been to a playoff game and had a near death experience 2 years ago  they have more than earned this  super stoked for them ',\n",
              " 'i didn t know sinead and moby were even dating ',\n",
              " 'a very poor mans miranda cosgrove   ',\n",
              " '',\n",
              " 'hey there  i read all the books and i prefer the show  mainly because the show is going to be finished in my lifetime   there s also the fact that most of the complaints about the show are that people don t it think it delivers on everything that s been built up so far  that the ending isn t justified by the set up  how the hell can the books wrap things up any better when there s about a dozen more plot threads and a hundred more characters  these last books are taking forever to write because grrm can t wrap up what he started in a way that he s happy with  probably because it can t be done in the first place  in my opinion ',\n",
              " 'i wish reddit would get off this idea that everything has to be super duper polite and nice ',\n",
              " 'to be fair  your parents had at least one child  you   so if you don t plan on procreating you could probably live comfortably on what they couldn t  the american dream of a house  nice car  picket fence  diamond ring  and 2 36 kids isn t really possible anymore on a single or even a pair of middle class incomes  but that doesn t mean happiness isn t    my favorite phrase of all time is  two incomes no kids  ',\n",
              " 'just wanna point that out',\n",
              " 'she probably will  seems like they tried to keep couples together  i just hope  becky2belts doesn t last long so each brand can have their own feuds and they can use all the women they have to a better capacity',\n",
              " 'yes   them invading other realities will have major repurcussions in those realities   nebula didn t know you d have to sacrifice someone you loved  but rather maybe that gamorra tried to kill him one last time or something   capt america leaves thor s hammer the instant thor stole it from that reality  that realities thor will likely just think he misplaced it  or he will be in a random location summoning it to him  and not think about where it came from   it s unknown if thor knew they would have to return them  he likely didn t as hulk figured that out  and that s info thor never got  so yeah  thor might be an asshole  but he also figured they d need any chance they can have to fix their issue   when it comes to quill  that reality doesn t have gamorra or thanos anymore  so while something similar with the guardians could have happened  it is unlikely  so xandar might be fucked  but the snap never happened there  at the same time  when cap returns the stone  he could have told quill what it was  to help keep it away from ronan   and if you re referring to loki escaping then that is obviously cause they messed up   your point is fair though  and i totally agree  if there s an infinite reality  why should we care about those realities  why not just jump back to 5min before stark snaps  and steal that stark into the main universe  that reality will sieze to exist due to thanos  but the prime one will have tony alive and well  and thanos defeated  the thing that makes them  heroic  is simply that they had good intentions  doing it all for the greater good  which is why they wouldn t go back and save a person cause it would likely doom that reality  and then dooming a reality on purpose isn t very heroic ',\n",
              " 'going to take a huge risk and say  i watched it for the first time  recently  as an adult  30   and both my 4 year old an i were so bored half way through we turned it off  we don t watch much tv so for her to check out too was surprising  all the characters did things a normal person wouldn t  at  every  turn  outcomes were chosen at random  i don t shit on anyone else for liking it  but i was very disappointed after finally checking it out  maybe age of first viewing is a factor ',\n",
              " 'in this picture not so much  there are other pics on her instagram where the resemblance is a little more obvious ',\n",
              " 'doesn t look like it',\n",
              " 'anyone i don t understand uses 4chan  ',\n",
              " 'there s a guy at shawshanks who can help with that  but you gotta trust your wife ',\n",
              " 'refs are riding the sharks dick rn ',\n",
              " 'omg bishop would wipe the fucking ice with that punky little shit ',\n",
              " 'nope just client side  on his screen you built the wall after he shot ',\n",
              " 'gt  special counsel robert s  mueller iii wrote a letter in late march complaining to attorney general william p  barr that a four page memo to congress describing the principal conclusions of the investigation into president trump  did not fully capture the context  nature  and substance  of mueller s work  according to a copy of the letter reviewed tuesday by the washington post   the only thing we know mueller said was this from the letter    your quote     gt   after the attorney general received special counsel mueller s letter  he called him to discuss it   a justice department spokeswoman said tuesday evening   in a cordial and professional conversation  the special counsel emphasized that nothing in the attorney general s march 24 letter was inaccurate or misleading  but  he expressed frustration over the lack of context and the resulting media coverage regarding the special counsel s obstruction analysis  they then discussed whether additional context from the report would be helpful and could be quickly released   came from justice department spokeswomen ',\n",
              " 'how much trade for the pump ',\n",
              " 'big bro is a cheater',\n",
              " 'do you ever let anybody in that pussy  ',\n",
              " 'maybe he had to stand still for it to work or something ',\n",
              " 'seriously folks  delete facebook  instagram and any other piece of shit owned by these clowns and move on ',\n",
              " 'the things that keeps me up the most is stressing about falling alseep to get enough sleep haha',\n",
              " 'someone who s active in r completeanarchy and r latestagecapitalism doesn t think a politician is far enough to the left  imagine my shock ',\n",
              " 'here s the venn diagram of incels and redpillers   o',\n",
              " 'is that how you speak to your king  ',\n",
              " 'i put away 2 3 liters a day  just really like it  don t like alcohol or coffee  so i m not biting through lots of money  also not fat  helps me feel full ',\n",
              " '',\n",
              " 'it would be so great if he came back ',\n",
              " 'they played last year lol',\n",
              " 'he stays on the floor and forces his team to call timeout  you guys are ridiculous',\n",
              " 'oh yeah  fuck republicans  those evil fucking morons  every republican in power is evil  and every republican voter is an ignorant moron    wait  this is reddit  so people are probably going to take this seriously  this comment was in jest  because in reality  republicans aren t the reason we have mass shootings  the very fact that people are trying to make a debate about mental health a political issue is fucking disgusting  but sure  go ahead  keep using innocent blood to push your political agenda  you sick assholes  ',\n",
              " 'they knew the battle was happening at night  why did they not light bonfires around in the open fields ',\n",
              " 'maybe if they bury the hatchet  they ll have the opportunity to accidentally cross swords too ',\n",
              " 'never had it tested  but i suspect this may be the case ',\n",
              " 'that s exactly why i liked it lmao  i have weird playstyles',\n",
              " 'hello  we only allow people with an account that has 50 comment karma to post promotional links on our community  this is to deter promotional spammers and limit the amount of bots coming to our community to post non apex legends related content     i am a bot  and this action was performed automatically  please [contact the moderators of this subreddit]  message compose  to  r apexlegends  if you have any questions or concerns  ',\n",
              " 'care to give another example ',\n",
              " 'professor sounds like the stupidest mf alive',\n",
              " 'that s not dying  that s waning   dying is when something is on its deathbed  when you can barely play it anymore  black ops 4 is dying  if you can queue and get in a match in 15 seconds then you re not playing a dying game',\n",
              " 'yta  people need to be more objective  regardless on commenters  views on what a fetus is and what are it s rights   believe me  i have  strong views on the topic   op is dismissing even his right to know  they both participated in this act that can and did result in pregnancy  so they both at the very least deserve to have full disclosure  i will go ahead and say that keeping this from him is not only an asshole move  but immoral ',\n",
              " 'don t you have a sex toy to go buy for your preteen ',\n",
              " 'just like the airports  get paid to deliver your stuff   lose  said stuff  sell it and profit off of their own ineptitude   if they were truly trying to find the owners  they would have a website where they post unclaimed goods and the owners could search for their lost items ',\n",
              " 'does anyone know why serial killer murders arent reported on  or why most terrorist attacks prior to 9 11 were not widely mentioned  theres a long known about phycological phenomenon where  more publicity causes more of the same bad shit to happen  stop making crazy people famous or is it infamous  it only incentivizes the behavior  these shootings should be reported as follows  breaking active shooter at least one dead ^ if any dead the public at large dosent need to know the body count    multiple injuries  suspect in custody  suspect dead  suspect at large   ^ if its anything other than suspect at large never show his face or say his name on television   make known that the person shall never be anything other than a statistic in the record also that if captured only the court case records will ever mention his name those shall be sealed for 1 yr   these kinds of people are nothing in life and are seeking to be something in death deny them this and it will happen less ',\n",
              " 'texas   ha  we have three of the fastest growing  cities in the world    our economy is bigger than france s economy',\n",
              " 'i just moved to washington state from california and i would love to go swimming during the hotter days of summer  fishing is common  so there are probably discarded fish hooks on the bottom  i plan on getting a wet suit  so i don t get cold because jesus the puget sound gets chilly  and water shoes   edit  i also have crohn s disease  so if i get an infection or parasite  i could die  so   ',\n",
              " 'yep  except for the millions of dead bodies that have accumulated because of the  argument  ',\n",
              " 'agreed  al pastor is the nectar of the gods ',\n",
              " 'give the guy some credit  i assume he will wait until at least half of the season is over before his patience diminishes ',\n",
              " 'i was under the impression that they didn t go  back in time   rather they went back into a different timeline    still doesn t really counter point your question fully i think  but it s plausible that they weren t really traveling back along their own time but rather interrupting other  currently ongoing timelines ',\n",
              " 'out of curiosity  what s actually going on with gudelj ',\n",
              " 'but they just filled the anime with bullshit to keep subaru alive',\n",
              " 'nah season 7 was like this aswell  jaime milliseconds from getting toasted by drogon  bron magically comes flying to his rescue    jon and co about to get overrun by wights when they were out past the wall   no problem dany will just show up last second to save the day ',\n",
              " 'i have not come across any liverpool fans in any way excusing this  either on here or on the liverpool sub    i get that you re pissed that chelsea are treated differently on here  and rightly so  but this is a mod issue  not a fan issue   by the way  these guys in the video are compete cunts',\n",
              " 'what do you own that is more valuable than human life and please can i have one ',\n",
              " 'i cant speak for the government s response to mash shooting but i will say is that is more citizens carried guns mass shooting would be stopped in their tracks  more mass shooting are stopped by gun owners than there are successful mass shootings  you only read about the successful ones and the ones stopped by gun owners dont make the national news because the death toll is the shooter or none ',\n",
              " 'is the tail on a buttplug  cause my mans whole ass is showing',\n",
              " 'vermin  horrible set of fans ',\n",
              " 'so if you want to start a business which requires capital  where do you get your money ',\n",
              " 'collective control of the means of production',\n",
              " 'nah  they re paying the same as they would be if they got  the balls instead of you ',\n",
              " 'mueller did a herculean effort in this investigation  i m worried that the dems are going to be too focused on the outcome of it before it s too late to mobilize voters for 2020  i don t like trump   some would say i hate him   but i want my candidates to be focused on mobilizing voters on things that matter  the earth not being able to sustain human life in 100 years  single payer healthcare  progressive tax system  etc   i m worried focusing on this is going to energize the right  let s focus on platform and voting trump out of office ',\n",
              " 'guessing it was hooked somehow and died ',\n",
              " 'wait to try jayce then  his skin is easily the best ',\n",
              " 'that s gotta bee pretty rough ',\n",
              " 'i don t think sonic is gonna be as bad as mario bros  imo it ll be a just ok kids film ',\n",
              " 'playing on a 300 usd portable console and expeting it to be as powerful as the others  no ',\n",
              " 'is it just me or is it a little odd that they tried to fix an issue with the aerodynamics of the plane by changing the control systems  i don t know much about aeronautics to be fair  has this kind of thing been done before ',\n",
              " 'op put as much thought into bitching as d amp d did into writing that pile of shit episode',\n",
              " 'the ww would eventually have found a way regardless  freeze the ocean and walk on it or what have you ',\n",
              " 'it s almost like giannis is a better player than kyrie      lmao',\n",
              " 'when will vaping be considered one and the same   i feel vaping is getting a free pass   at least in canada  they advertise  catchy packaging and lots of marketing dollars spent to hook teens on their expensive habits      and arguably harder to quit   ',\n",
              " 'i m not sure what the fuck i just watched lol',\n",
              " 'esh it might be an ill behaved service animal but still a service animal  i had a medical foster whose service animal s sole purpose was to keep her anxiety in check  this really isn t your business  if it keeps relieving itself in the hallways  and jumping on you  you can alert the proper personnel that the service animal is misbehaving but since your outrage is mostly due to you thinking she s faking i d just learn to take a deep breath and let it go until it directly effects you',\n",
              " 'can t offend vegans if they re all dead',\n",
              " 'like you tell ulla     tidy oop ',\n",
              " 'just like any hog worth his trough',\n",
              " 'ahh the dream of spring theory     grrm literally springs outta the bushes ',\n",
              " 'zero crafting materials  how does one even accomplish that after so much time played ',\n",
              " 'what evidence do we have that he s better in 1 on 1 combat  literally nothing says he would be better ',\n",
              " 'what the hell is that title  some punctuation would do you good ',\n",
              " 'nah bud  it s that your point isn t a particularly well thought out one     i ve explained why twice already  this will be the last time   you pick ad carries for a ranged physical damage dps   no champions you ve listed  not cass  not irelia  not ryze  who s not played bot anyway  none of them provide that   so if you re saying he won t play them then g2 cannot find ranged physical damage unless they play gangplank   that s called a draft issue   i expect the conversation to circle around a bit and then you d asked me this exact same question for a third time so i think at this point it s obvious neither of us are getting anywhere tbh   we ll see if he plays an adc at msi ',\n",
              " 'with the quality of writing and plot twists lately i doubt they ve got a riddle that complicated ',\n",
              " 'gt  maduro s party lost the previous national assembly elections  first of all  no they didn t  but the opposition parties always controlled more seats in the national assembly  but that legislative body doesn t exist  it voted to dissolve itself and rewrite the constitution which formed the constituent assembly  which by its nature is more inclusive and represents more poor people than the na ever did giving the psuv the actual advantage   that s why the opposition refused to stand for ca elections even though they were encouraged to  they knew they were going to lose   but even in the national assembly  the psuv were the largest single party  the opposition was spread between multiple parties ',\n",
              " 'because god s whole thing is free will ',\n",
              " 'i worked with disabled adults for a while and used the word  dysfunctional  in a staff meeting   not even referring to a client   i was told that the word  dysfunctional  was ableist   wtf     what s next   start erasing any  offensive  words from the dictionary   i m really starting to feel like i m living in orwellian times where others dictate our vocabulary aka newspeak ',\n",
              " 'dunno how to format spoiler on mobile so i ll pm you',\n",
              " 'breh you ask this every day ',\n",
              " 'the question is  do they know why it s better or that it s just better ',\n",
              " 'gt he wants to include corporations in his favorite  all lives matter  motto    any of that loaded ass sentence',\n",
              " 'stupid kid thinks motor boats can be male or female ',\n",
              " 'gt  um  yea  thats exactly what it means  because if they have been given info from you then they are no longer experiencing it fof themselves  they experienced it through you   how s that  you cannot experience something through other people  experience is inherently subjective  you cannot transfer your feelings    gt  this seems to be a classic case of  i have one experience and everyone should think the same as me    that is not my point  i marked this thread as discussion for something    gt  some people exactly do want to go in knowing 0  of what happens  and thats their right   they don t have that right  it is their preference  if someone thinks not informing a person about something would be immoral  then that person should inform ',\n",
              " 'i main jacqui and i ve only seen one other person play her online so far       i wish she wasn t slept on  but then again it means almost no one is prepared for the nonsense she can pull off  once you land the clinch a couple times people start to play really sub optimally and let you land combos you shouldn t get to just because they re so worried about getting command grabbed ',\n",
              " 'most of the female heroes of the mcu were nearby  watching more closely on my 4th rewatch about where they all came from to so quickly to rally on peter parker  he gets an assist from captain america with mjolnir first bringing him closer to the van but gets knocked off it but rescue comes and toss him up to valkyrie  scarlet witch was close behind until peter parker gets knocked off the pegasus by sanctuary ii  you see him rolling and trying to run before he gets trapped by the bombardment but before you do you see okoye fighting someone in the background   you also see starlord near okoye and i forgot who else but was male  but if gamora and nebula were near him still after rescuing him than they were close  also the bombardment kind of reset the battlefield as most had to take cover or it cleared the field temporarily in that spot  hope pym was near the van the entire time trying to make the time machine work and they got it and don t forget she and antman made it across pretty fast to the van from the other side of the battle originally too  so the only two that idk where they came from are mantis and shuri since we last saw shuri blasting people near the portal she came out of or that i saw  someone said they saw mantis sleeping one of the giants ',\n",
              " 'very  by 2030 our planet s climate will be ruined ',\n",
              " 'lol what a shit call   ',\n",
              " 'if you run fast enough you can probably go right over the spaces',\n",
              " 'how much do you spend per offer  ',\n",
              " 'wonder why  maybe because of shit like this  uh  there are literally studies about women not feeling welcomed into communities  this thread is a great example of why ',\n",
              " '[i m sorry but  literal  actually means stupid the way you use it ] https   i imgflip com 2zsahi jpg   i mean that s what you mean by making it too easy  right  maybe i m just projecting ',\n",
              " 'it will haskins is talented not that jones isn t but haskins is gonna be special',\n",
              " 'has he not done anything for you  he was a big reason why frankfurt managed to become such a threat  crowning the season by besting bayern in the cup final   but i guess that had as much to do with what he brought on the pitch as with how he led the team  and i guess he was not bought by you to lead   ',\n",
              " 'it cost him the true best girl   ',\n",
              " 'in iron  first blood means the game will end in at least an hour ',\n",
              " 'right because that automatically makes them better than everyone right  come on now',\n",
              " 'the very first semester there was like a month delay but that s it  as long as you submit your enrollment form to your va folks at the school each enrollment period pretty early on  you should be fine ',\n",
              " 'it never loses value  lol nothing in the world can be 100  recycled ',\n",
              " 'just as much as christianity or the rest of them  they re all cults religions ',\n",
              " '',\n",
              " 'i figured she was in the tree',\n",
              " 'i never want to see another post about how useful user reviews are',\n",
              " 'literally me 1 hour ago as well  am finally able to click on all these spoiler tagged posts ',\n",
              " 'it s a ps5  just the one he wanted too',\n",
              " 'the who said that processed meats are known as a cancer risk factor  everyone should know it ',\n",
              " 'hits on emelin martin and sedin were beauties  clean as fuck  and wingels had just tried to elbow marner in the head  come on now  marchands rap sheet dwarfs kadris ',\n",
              " 'i m hoping this was a very subtle reference to the pokemon movie  if it was  i want you to know  i hear you  i love you  can t double upvote ',\n",
              " 'i always assumed connections and bribes were a non zero part of admissions  i also think you have to show capability to succeed in the given environment to be allowed in the first place  i had connections that could ve gotten me into yale but my gpa was too low for it to be considered ',\n",
              " 'yea aim assists tend to track simple movements like that',\n",
              " 'wow   i guess all those  i m venezuelan  and i want the coup  redditors should have been out on the street yesterday instead of on reddit misrepresenting guaido s support with the military ',\n",
              " 'they don t even try tho at least make some tag team combos up',\n",
              " 'reminder  when someone links to a thread outside of  r chapotraphouse  please avoid posting or voting in the linked thread  if it s seen as  brigading  it could get you suspended or banned     i am a bot  and this action was performed automatically  please [contact the moderators of this subreddit]  message compose  to  r chapotraphouse  if you have any questions or concerns  ',\n",
              " 'dude that made me actually laugh  first good one ive seen on r funny this week',\n",
              " 'so i m a muslim   if i went on a boat with someone  i would expect women to go around wearing bikinis   that s  normal    i would  not  expect women to go around topless  because i wouldn t expect that to be typical   if i had known ahead of time that you d be topless  i probably  actually  definitely  wouldn t have gone  and i m a woman  btw   it s not about sex   it s about the fact that you re quite literally half naked and i wouldn t want to look at a naked person    but  if i were already there    then  i guess i don t see it as that big a sacrifice for you to put a shirt on   just for that trip   i agree that if i were to continue to go on the boat  it would be unreasonable for me to expect you to conform to my modesty standards   but for a guest  for one time and one time only  we can all make accommodations ',\n",
              " 'i m a big fan of roman just challenging to people to fights',\n",
              " 'okay  several things to unpack here ',\n",
              " 'completely and totally  yes  if there was a group of westboro baptist level christians that shot up a carnival  i would hope the police shoot anyone screaming  praise jesus the one true son of god  at ground zero  the world is running out of tolerance for religious radicals  in this case  they happened to be jihadists ',\n",
              " 'he looks like a chubby singh brother ',\n",
              " 'hopefully no one  i never want to see brock in a wwe ring ever again ',\n",
              " 'let me fuk kik dan444222',\n",
              " 'kind of  but not really  he didn t realize just how traumatic the experience was for her  odds are that op is still processing things  so she may have not made that clear   and that s okay  she s certainly not to be blamed for needing time to work through things     this probably won t be the only time that something triggers op  and that s also completely ok  and when it does  it s fine if both of them apologize  sometimes when we say  i m sorry   we re really saying  i m sorry that happened   it s not always admitting fault  sometimes it s just expressing sympathy ',\n",
              " 'info  did you text her about this  i don t think you re wrong for having a discussion with her about this  but the channel  amp  how you present this topic matters  this is a heavy conversation  she s a preteen  amp  she s obviously going through some emotional upheaval if she is reaching out to you in an attempt to reconnect  i don t think this type of conversation is appropriate to have over text between adults  but especially not for an adult to text this to a child ',\n",
              " 'kudos to fernerbache substitute top laner  tho kinda unfair fb had 2 top laners',\n",
              " 'gt  perfection is the refinement of boredom  it s doing the same thing all the time perfectly     lt cough cough gt   mcu   lt cough cough gt  ',\n",
              " 'happened to me in an aram a week ago',\n",
              " 'it s not the same though  that s like comparing the price of an iphone in 2010 vs 2019    relative the time  tna numbers were problematic  relative to now wwe s numbers are still pretty good    but the consistent drop in wwe numbers is the problem ',\n",
              " 'hahahahaha this sub is the only reason i use reddit    ',\n",
              " 'of course she can masturbate  but you are advocating he buy a 12 year old child a sex toy ',\n",
              " 'buzzfeed needs to burn',\n",
              " 'why is pikachu doing blackface',\n",
              " 'the title  greatest solo queue player  is fairly pointless anyways  because most of the best players  pros  tend to not care about solo queue the same way and getting x  win rate isn t their goal  pretty sure a lot of pros easily get rank 1 when they actually go for it  including faker last year  so there is a clear difference between playing solo queue to practice  for fun  vs trying hard to climb ',\n",
              " 'i read an article many years ago that said that a lot of san francisco gas lines had rusted away to the point where the gas was just flowing through holes in the soil ',\n",
              " 'this has got to be 1 game no ',\n",
              " 'he really does swallow well ',\n",
              " 'or the ability to defend yourself against someone who is crazy and wants to shoot up a place randomly   because  you know  self defense is bad i guess    the majority  literally 99 999999   of gun owners have never shot anyone   but you keep villainizing people for exercising their ability to be self reliant   edit  downvotes don t change statistical facts  kids ',\n",
              " 'gt unrelated to the actual functioning performance of the economy  amp  society  we re running up a record deficit  the tax cut that was supposed to result in 5  gdp growth or more is sputtering  the trump shutdown is costing us billions  farmer bankruptcies are skyrocketing  we re putting children in concentration camps   this is not what winning looks like to a reasonable person ',\n",
              " 'i think what scares people off is her similarity to hrc  which is incredibly unfair to warren ',\n",
              " 'both unpredictable line ups for sure  the fuck   vidal and rakitic together nhm',\n",
              " 'lol it s more complicated than you seem to think  believe it or not there is more to combat sports than just punching each other in the head  just like there is more to hockey than just scoring  you are grossly over simplifying the sport  i don t really care to continue this further though because i don t see you changing your mind and i have too much work to do to even be on reddit in the first place    fuck brad marchand ',\n",
              " 'and because  you know  the men who actually committed it had a problem with constant us military  political  and economic intervention in the middle east ',\n",
              " 'today i got my jazz teacher with a  you dropped you pocket  prank',\n",
              " 'haha can you imagine    we do not     condone the actions      and condemn it      we will work   with police         to bring those guilty to justice  we cannot comment  further at this time    ',\n",
              " 'hell  give that woman an oscar ',\n",
              " 'it was nothing besides a general prediction about her being an assassin  considering the showrunners admitted they didn t come up with arya killing the night king until later ',\n",
              " 'i liked the film but man the reaction or overreaction to it on here in its official discussion thread was crazy ',\n",
              " 'ok na challenjour  we will see ',\n",
              " 'i m 14 and i have decided i suffer from depression  help me nooo',\n",
              " 'but russia isn t bullying the us  russia is just being the jock flaunting his big muscles  it s annoying  but you don t get into a fight with him for it  you just ignore it ',\n",
              " 'i can t imagine being this invested in reddit    downvote',\n",
              " 'i m so tired of seeing this  it s wasn t even that funny the first time i saw it  i guess to each their own though',\n",
              " 'watch out  r frat is about to get butthurt  ',\n",
              " 'may have been a retcon but to me  it s not an obvious retcon  it seems to work ',\n",
              " 'meme that  i d upvote',\n",
              " 'whats racist about calling a thief a thief  nobodys saying black people are predisposed to this or anything  if they are then fuck them  the guys race is irrelevant  if it seems meaningful then that honestly says more about you',\n",
              " 'yes  but how many accidents would have happened if those scooter riders had used a bike or walked by foot   like any physical activity  from the moment you get out of bed gas some inherent risk   i don t think riding a slow scooter is significantly more dangerous than walking the same distance or biking it   and it s significantly more environmentally friendly than driving your car ',\n",
              " 'i get it was fun for people but it was so broken ',\n",
              " 'w h o l e s o m e m e m e s',\n",
              " 'in my view if u dont hav ur life planned out by 11th grade  ur screwd',\n",
              " 'i ve read somewhere that the incredible hulk was actually a sequel to the 2003 hulk before marvel got involved and made changes to the script so that it fits their universe ',\n",
              " 'i thought about this  i wouldnt trust anyone else with this task  you have to do it yourself to know that its done  i dont know if i would trust any of my generals telling me  hes dead ',\n",
              " 'i feel like virtually everyone with strong opinions  including yourself  look for the worst possible person from the  other side    and come out of it smelling like shit',\n",
              " 'it s praiseworthy that a person is doing it  but it doesn t make one presidential  his lack policy understanding is exactly the opposite of what we need right now  and what he has said policy wise errs on the side of centrism  which is all fine and good just not my cup of tea ',\n",
              " 'what a dive from messi',\n",
              " 'oh so is it character specific gear or random ',\n",
              " 'rune 5 just fitted into its slot  rune 5 is at the volcano  restart your playground session ',\n",
              " 'when you re a celebrity  they let you do it  lmao',\n",
              " 'geras is a problem even once you start low blocking his bitchass sand trap  then he mixes you up with an overhead kombo ender that does decent damage too  milk dud head ass',\n",
              " 'hate to break it to you but between democrats and republicans there are a  lot  more homophobes on the right  so yeah  i believe there are a good number of republicans that hate him for being gay because there are a good number of republicans that hate  anyone  for being gay ',\n",
              " 'i ve been saying sansa won t be pleased with the north cheering dany for what her sister ended up doing  which is saving the world and if she knows jon is the actual heir to the throne that just adds to it  no way in hell does sansa bend the knee to dany in this situation  she ll want the north to be free  honestly  sansa will end up outsmarting dany tbh  use jon to get rid of her ',\n",
              " 'i think it s that people are seeing the survivability as a popularity contest    backed up a wall swinging wildly against a nearly endless horde should not work as well as it did    sam and his death couch while screaming and flailing should not have worked either    everybody in the crypt was a sitting duck but survived by using extras as body shields and cowering in a corner   i don t think i even saw davos fight but he made it without much of a scratch  just a cameo seeing arya on the wall  and he wasn t paired with a fighting buddy or anything    people were ready to have their hearts ripped out  as the show has done before with even lower stakes than an apocalyptic level battle against creatures that oppose death  less main characters survived a damn wedding    i can get that the dynamic of the show gets more difficult to work with if that had happened  with a limited cast and 3 longer than average episodes left  but it felt cheap    personally  i thought it was still epic  and i just want to see where the show goes from here  but it gave me a worried feeling of delving into plot armor and trope territory  i expected way more bloodshed  i ve got mixed feelings and i m worried that the lack of george r r  martin involvement is going to show    and from an objective standpoint  it seems like the night king got a 1 episode resolution after 8 seasons of build up  and cersei s going to get 3  or maybe 2  if there s some type of post conflict episode  that just seems    off ',\n",
              " 'brock vs  roman at wrestlemania 34 was neat  boring match  but the blood was one of the high points ',\n",
              " 'that s sad  some vegan food rocks ',\n",
              " 'dear world   please take dealer stickers and plate frames off you car  thx ',\n",
              " 'i tried it once and it wasn t too bad  i just would never choose it myself ',\n",
              " 'i d say i m full of more wonder than most  i go out birdwatching before work almost every morning  and find joy in seeing even the most common birds  but at the same time it s troubling seeing so many birds killed by buildings  and people completely oblivious to the problem ',\n",
              " 'first of all  go ahead  give me a number and a reliable source for that number   secondly  what takes more plant farming  giving them to 60 billion animals or eating them directly by 7 billion people ',\n",
              " 'swerfs  when you really don t have a clue about how oppression  the patriarchy  capitalism and law enforcement work    amp  x200b   when you  do  have a clue   1  oppression works  among other ways  through the authoritative enforcement of restrictive moral codes on people  so imposing  no sex for money  values oppresses people because it gives a select authority the power to enforce a set of rules over people  2  the patriarchy doesn t work by just giving men sex and showing women as sexually provocative individuals  it works by putting men in positions of control over women  which is what you do when     1  you just assume that women are the only ones engaging in prostitution    2  while failing to notice that men will be the ones mostly in charge of enforcing bans on prostitution 3  capitalism is the commodification and marketization of everything  if you ban prostitution  you just increase the costs of entry for prostitutes and force them to submit themselves to criminal enterprises that can cover the costs of bribing law enforcement and anything else  4  law enforcement isn t automatic and perfect  it just creates the rules that authorities have the power to enforce at their own discretion  so combining all of the above  you give an authority  mostly masculine  a two fold service of protection and punishment and power over a specific group of people  with the incentive to use it for their benefit  so you don t ban prostitution and liberate victims of sex trafficking  but instead allow authorities to punish prostitutes and sex slaves if they deviate from what is considered as acceptable behavior for them  while also incentivizing a partnership between organized crime  basically clandestine corporate networks  and state authorities   so within a capitalistic framework  legalizing prostitution is the best first step to solving the problems swerfs claim to care about  namely the objectification and denigration of women  since at least you remove a significant element of patriarchal control  and from there you can move on to the next issues regarding capitalism and patriarchal hierarchies in the broader sense    amp  x200b      or at least that s how i see it ',\n",
              " 'look at that nice couple photo  lt 3 you know she saved this frame',\n",
              " 'i mean  there s a 5 star hiac match  the match type itself isn t what s making the main roster bad ',\n",
              " 'i dont remember what the rock climber symbolizes',\n",
              " 'this is where the word  theoretical  would come into play  this is running off the assumption that there is an infinite number between 0 and 1  so imagine this  there is a line between two dice  since there is always an infinite number between 0  the point in which the lines contact the die  and 1  the next line  there is an infinite number of pairs of points in which the lines can come in contact with ',\n",
              " 'he beat him to the spot  clear blocking foul  the foul tatum got on his drive earlier  look at that and tell me that wasn t softer than any call giannis has got yet ',\n",
              " 'yeah they gravitate towards 1 or 2 superstars  but then they hate the rest  no  i feel like most new viewers will like one of curry  lebron  harden and hate the other 2  just my observation ',\n",
              " 'nta   however  i may be biased  i don t like anyone touching or using my things without my permission  i will almost always say yes when asked  but it s like a matter of respect and communication to me  i suppose ',\n",
              " 'you are on the right track    keep it up ',\n",
              " 'gt  this hurts his credibility  there are people who think he s credible  i thought people only paid attention to him because he s an idiot',\n",
              " 'me either  was mostly curious how they can do it for so little  i backed it earlier today ',\n",
              " 'just decorate it with glow in the dark stickers ',\n",
              " 'lol it s more complicated than you seem to think  believe it or not there is more to combat sports than just punching each other in the head  just like there is more to hockey than just scoring  you are grossly over simplifying the sport  i don t really care to continue this further though because i don t see you changing your mind and i have too much work to do to even be on reddit in the first place    fuck brad marchand ',\n",
              " 'how much time do you spend on your eyebrows ',\n",
              " 'all i m saying is we don t need this post every week  let alone every day  and i ve seen at least 6 of these since release  and a few more from before about geras  blood specifically  if the first one didn t catch the developer s eye  then more probably won t unless it for some reason gains big traction  and they just end up flooding the feed   i support the cause  but unless its something game breaking it would behoove you to be a little more considerate in the frequency of the posts ',\n",
              " 'anyone know the best places to farm materials and run to the volcano right away ',\n",
              " 'i will defend this point at risk of down votes as well ',\n",
              " 'we pay good money for it too',\n",
              " 'interesting  is it just like an extra thing along with a primary flavor or just straight up cbd ',\n",
              " 'jesus fuxking christ    i d ask why  but i m down 10k on ba 5 3 calls that require 395 405 to be itm',\n",
              " 'lol literally nazis openly march in the street waving swastika flags chanting  jews will not replace us  and  blood and soil    are you lying to downplay the severity of fascism or are you just uninformed ',\n",
              " 'that would be awful  tony would die immedietly',\n",
              " 'they should have preemptively thrown them like a million bones  especially to kog maw and varus   but oh wait  they re not as profittable as vayne  so it ain t happening ',\n",
              " '[if you like this  then you should check out his original marble machine ] https   youtu be ivuu8jobb1q ',\n",
              " 'when you don t have a care in the world ',\n",
              " 'yta  going against the grain but you re slightly ta  i think the first thing people are eating stuck on is the fact that the guy is mormon and that it s his religious beliefs that are driving him to ask you wear a shirt  the thing is it s equally possible that his asking of you to put on a shirt has nothing to do with actual religious beliefs and more that he was just uncomfortable because it s not something he is used to assumably growing up in a more conservative setting    you overreacted and let this little thing ruin the day and mood for everyone else  different things make people uncomfortable one of my friends is incredibly hairy and we make jokes about how he should put on a shirt every time we go swimming and some people in the group are genuinely uncomfortable with it  we d never force him to wear a shirt but there s no harm in asking   btw  friend is fine with it  he brags about it and says it s how real men look and will razz those of us with less hair just as much ',\n",
              " 'proceeds to get shit on by wunder',\n",
              " 'there are plenty of herbs were and still are popular in europe that can enrich your culinary experience  parsley  dill  onions  chives  garlic  rosemary  thyme all taste great on potatoes and they re all grown in europe  in fact if you put all those and add some salt and oil animal fat to your potatoes  they will taste amazing  without any spices ',\n",
              " 'ah ok very understandable',\n",
              " 'article i  section 3  clause 7    judgment in cases of impeachment shall not extend further than to removal from office  and disqualification to hold and enjoy any office of honor  trust or profit under the united states  but the party convicted shall nevertheless be liable and subject to indictment  trial  judgment and punishment  according to law    in order for a president to be indicted criminally he must first be impeached and convicted in the senate  which would remove him from office   it s literally in black and white in the constitution ',\n",
              " 'the left is strong in the news sub  the funny part is that most people haven t even read it and come to an opinion  this sub is dust ',\n",
              " 'thank you so much  ',\n",
              " 'so are you shilling for nrs or wb  or both    its hard to tell',\n",
              " 'no iphones for meeeeeeeeeee',\n",
              " 'kids stabbing another kid  teachers  calm as fric',\n",
              " 'good stories rarely give people perfect closure      thank you  you might be the most rational person on the asoiaf sub right now   we won t get all the mysteries and questions answered in the show   even the books  which are much more detailed and layered  might leave us in the end with unanswered questions that we are meant to think about and theory craft on indefinitely ',\n",
              " 'based on my  30m research grant  the evidence is quite convincing  homeless people  have no house to live in ',\n",
              " 'care to give another example ',\n",
              " 'i love how everyone is going cash   sell low baby ',\n",
              " 'my favorite part was how thanos kicks cap  iron man  and thor s ass but they write it so that good ol captain marvel doesn t even flinch at his punches or headbutts  only getting knocked away when thanos uses a stone   and by favorite i mean easily my least favorite part of the movie   it s like they forgot that thor took out malekith while he wielded the aether  before thor was at his strongest that we ve seen so far  i guess in addition to being overweight  depressed  and suffering from ptsd  they were implying that he was much  much weaker and less powerful than he was 5 years prior ',\n",
              " 'the nk was never going to do a 1v1 pissing contest because there was a chance he d lose  why would he  a cold and relentless force of nature  give up his advantages to seek out his opposite number for a cinematic duel when he can instead use his army of wights  he doesn t have a personal beef with jon  he doesn t give a shit about jon  jon is simply another obstacle for him  he was never going to have some dramatic duel with him  jon brought the news  jon brought the armies together  jon got them the weapons they needed to have a fighting chance  jon tried his damnedest to stick to the plan and be ready for when the nk came for bran  hell  he helped get the bastard stuck on foot  this whole setup wouldn t have been possible without jon  as for bran  well  bran can t move  he can t fight him  the best he could do is warg into someone else to fight for him  but why would he do that when pretty much anyone could fight better than he could anyway   tldr  the nk was fighting to win  and would never get into a straight fight that he could lose  that s why it had to be arya  we can argue that they should have given a better explanation of her approach than what we got  and i can agree with that ',\n",
              " 'top ten saddest moments in history',\n",
              " 'interrupting everyone and just consistently wrong',\n",
              " 'the goal of mma is not to inflict brain damage lmao',\n",
              " 'sorry i don t understand  what s wrong about showing a betting website ',\n",
              " 'my experience is quite different  i tend to have interesting  wide ranging conversations on it  but even what you describe isn t an anti social effect like cocaine has  nobody wants to fight when they re stoned  but coke makes a lot of people aggressive  i mean  antisocial  in this sense    gt anti social behaviours are actions that harm or lack consideration for the well being of others [1] it has also been defined as any type of conduct that violates the basic rights of another person[2] and any behaviour that is considered to be disruptive to others in society [3]  https   en wikipedia org wiki anti social_behaviour',\n",
              " 'this was all due to a criminal president who has a daughter that has not even passed high school with a  wealth of over 5 billion stashed in the eu   this has absolutely nothing to do with socialism it is actually abused capitalism in its worst form ',\n",
              " 'kudos to fernerbache substitute top laner  tho kinda unfair fb had 2 top laners',\n",
              " 'that looks fun  i would slap the shit outta everybody ',\n",
              " 'give the guy some credit  i assume he will wait until at least half of the season is over before his patience diminishes ',\n",
              " 'she is  but her style of assassination is being an infiltrator and  poisoner   and she can defend herself pretty well with a staff if absolutely necessary  ',\n",
              " 'i clicked on this even though i haven t watched endgame yet i m so dumb',\n",
              " 'what  are you even a real person ',\n",
              " '',\n",
              " 'where do you people get this stuff from ',\n",
              " 'gt  we know they re gonna beat cersei    they don t have the option to just sac kings landing anymore  they are no longer totally dominate  and could even be the underdogs  except for the wmd dragons    you can t just say nothing matters because the good guys will win  we know that we will get a bittersweet ending  cersei might get away with everything and her unborn kid starts going through a new dany like cycle   the aftermath of the undead battle alone will spur conflict about marching south  etc ',\n",
              " 'pta movies are so overrated imo ',\n",
              " 'well seeing as how los angeles is a city and florida is a state  of course winning a state sways an election  that is  by definition  how electoral votes count   you get credit for the state s electoral votes   the electoral vote comes into play as it doesn t allow large metropolitan areas to determine the fate of an entire state   an example of this  in florida  is that large metropolitan areas such as broward county  mostly democrat  didn t decide the fate of florida  which donald trump won  ',\n",
              " 'what a fucking douche ',\n",
              " 'i have a pet bird and he ll climb right up on you re chest and reach over to steal bites as you bring your food to your mouth  birds are ridiculous  i love them so much ',\n",
              " 'so people who don t deserve to be in d4 are now stuck there  is that what you mean ',\n",
              " 'gt  laws r dum   we are a nation of laws  policy  and precedent   whether those are just or unjust is immaterial to this discussion ',\n",
              " 'couldn t agree more  everyone is turning this into a  oh what if it was a black person getting shot  argument  disgusting  forgetting this woman lost her life and using this to push their agendas',\n",
              " 'i saw it   i liked the part when \\\\_\\\\_\\\\_\\\\_\\\\_\\\\_\\\\_      i have no way of finishing that sentence   first time ever for me   even movies i didn t like usually have one or two scenes that i enjoyed   not this movie ',\n",
              " 'but they were over like crazy tonight',\n",
              " 'hi everyone  please make sure to   upvote   well written unpopular controversial opinions  and   downvote   badly written opinions or popular opinions   please note that we are currently removing all political opinions as part of a trial period  if your post is political and was not caught in the filter  please post it in the politics megathread at the top of the sub  thanks     i am a bot  and this action was performed automatically  please [contact the moderators of this subreddit]  message compose  to  r unpopularopinion  if you have any questions or concerns  ',\n",
              " 'basically this   it was fun in this sub when it was all theorycrafting   those fan fiction theories didn t exactly pan out in the show and it got really cranky around here ',\n",
              " 'i think this meme will never die  but i m happy that it probably won t ',\n",
              " 'gt unrelated to the actual functioning performance of the economy  amp  society  we re running up a record deficit  the tax cut that was supposed to result in 5  gdp growth or more is sputtering  the trump shutdown is costing us billions  farmer bankruptcies are skyrocketing  we re putting children in concentration camps   this is not what winning looks like to a reasonable person ',\n",
              " '',\n",
              " 'yeah thats a no for me dog  i have no s4 skins',\n",
              " 'of course they did       ',\n",
              " 'friki said that it would be jon the one who execute tyrion  chopping off his head  by this point and after episode 3  i dont think friki is a reliable source of information anymore  and im talking as a fan and subscriber of his channel',\n",
              " 'i remember reading this somewhere   ',\n",
              " 'everyone isn t though  not in asia where i live   if i polled people at my work 99  would know who darth vader is  maybe 10  would know who thanos is ',\n",
              " 'if the red woman wouldn t have  enchanted  their weapons  they wouldn t have rallied and just charged  why don t people understand  the dothraki charging in wasnt a  tactical decision  no one ordered them to charge in  they where inspired and just did exactly what dothraki do ',\n",
              " 'if you do you re not 100  straight either and there s nothing wrong with that  only insecure men say they like their ass played with but are totally straight ',\n",
              " 'the sign isn t even weathered in the slightest yet the op is acting like they ve driven past it for several days    amp  x200b   sorry  not buying it ',\n",
              " 'i love avatar but is that really you  ',\n",
              " 'i don t care what anyone says here or assumes about me  if the drum gun wins  i d be the happiest man alive  god i miss that gun and the sound of it  although just to play it on the safe side  update their rarity to legendary epic because a gun as op as drum gun shouldn t be a rare uncommon  to nerf it  they can reduce the magazine and fire rate on it so it doesn t shred builds as quickly  make the spawns as frequent as a scar  or less to it ',\n",
              " 'you changed the banana        lol        that takes some skill     ',\n",
              " 'i guess he gets to open the prezzies in the next room where the party is then ',\n",
              " 'you can be snarky all you want  but it doesn t change the numbers  check out the the fbi homicide report  as well as the reports by the cdc nri on gun violence if you want hard numbers ',\n",
              " 'you won t be the last ',\n",
              " '^this tho    i would much rather wait for some amazingly polished content than a lump of coal that will be gradually polished to the same level',\n",
              " 'wow from the replay   easy pen holyy',\n",
              " 'apple basically forces you to by nearly bricking your phone with updates  fuck apple phones ',\n",
              " 'itt  being forced to work an immoral  demeaning job against your will out of a capitalistic economic necessity negates your personal autonomy if you re doing paid sex off camera  you can t do that job  pick a different one that you enjoy less',\n",
              " 'the problem is how to identify a facist  so far  the antifa group are violently opposed to free speech  free association  any opinion not in lock step with their own   they are facists ',\n",
              " 'i m sorry just travel  with what money can i move my whole family with  from new hampshire  i m only going south and we ain t walking lol',\n",
              " 'it s an ipo i thought it didn t have to make sense until a few days later',\n",
              " 'how would you know',\n",
              " 'in my view if u dont hav ur life planned out by 11th grade  ur screwd',\n",
              " 'yep  saw this today and didn t want anything to do with it  just moved on',\n",
              " 'rvp shouldve been sold to juve by force  wenger is such a pushover ',\n",
              " 'fuck that bitch  sounds like a her problem to come up with the money for her surgery  go travel or something with your money ',\n",
              " 'i mean  sonic is from another dimension  he s not a mutated version of an earth hedgehog or anything like that  i can suspend disbelief since he s not meant to be an earth hedgehog   also  there is a [type of fish] https   www scienceabc com nature animals sheepshead fish facts fish human teeth html  in our real world that does have teeth just like humans do  so an otherwordly creature with human like teeth isn t that much of a stretch when things other than humans in the real world have them   hell  every alien in the mcu seems to have human like teeth  and that doesn t bother anyone   edit  ya ll so fucking nitpicky  i m sick of hearing about sonic  if you hate it so much then shut up about it and let it die  you re just giving it free publicity ',\n",
              " 'i really hope messi dicks them in the second half ',\n",
              " 'even funnier then that it s often brought up in reverence of the man ',\n",
              " 'the original battle plan was to use the dragons  so it kind of had to come to that somehow  but i agree him dying that way would suck  maybe he could ve created a huge ice shield or something  or what i really wanted to see was the two dragons  ice   regular  spewing fire and seeing the blue and the orange fire meet  but somehow the ice dragon wins out  it would ve been really cool  like star wars with the colored light sabors meeting ',\n",
              " 'it s the equivalent of giving each page of the report a one sentence summary  of course it did not capture the context ',\n",
              " 'no ones gives a shit',\n",
              " 'we should be forced to play our ahl squads after 3 playoff games each series  anything physical after the whistle is an auto suspension',\n",
              " 'yeah but that s melisandre   she can probably make herself invisible or something ',\n",
              " 'am i the only one having issues with battle pass xp  i get about the same stats as my friends  play about the same amount  but they re 30 levels or so ahead  not sure what the issue is  even when we win together they get more xp',\n",
              " 'tatum gets away with lots of pushoffs and moving screens',\n",
              " '2 of the most popular opinions floating around right now are either that the avengers movies are great and the other being that they suck badly  you re opinion is hilariously common and not unpopular  seriously gotta wonder if you ve even noticed the other 2 dozen posts that were basically just like yours here in the last week ',\n",
              " 'hope someone robs your house',\n",
              " 'gt  with multiple projections  you can always select the one that fits the data   yes you can    but what s being done here is not viewing each individual projection  but looking at many projections as an envelope  if we were to pick the best projection we d conclude that most of the others were  underestimating  the amount and rate of sea level rise    importantly  science isn t a contest over who is most right  it s an effort to learn truth  most projections are going to be wrong to some degree  that doesn t mean we can t learn a lot from them     gt  yeah  i thought you might bring that up   the tide gauges actually show no acceleration at all  they are much more precise and linear  except for geological events  earthquakes  tsunamis  etc    you need to provide evidence for this  both the claim that tide gauges show no acceleration and the claim that tide gauges are more accurate than satellites ',\n",
              " 'god bless the cav',\n",
              " 'gt no opinion   high quality stuff',\n",
              " 'and what is sex ed supposed to teach a girl with hormonal urges to do  hands aren t satisfying  dildos aren t allowed  what the hell do we do then ',\n",
              " 'somewhat painfull to watch tbh',\n",
              " 'wait is earth chan a trap ',\n",
              " 'pro guaido supporters say he s good  pro maduro supporters say he s bad  it depends what side you pick ',\n",
              " 'gt  there are plenty of criticisms you could level at endgame  but lack of originality isn t one of them  [ahem  ] https   static independent co uk s3fs public thumbnails image 2015 09 30 11 back to the future 2 jpg w968h681   semi spoilers ',\n",
              " 'where are all the experts calling out medics and poch from yesterday ',\n",
              " 'he seems to really know his stuff   i really can t watch too much of it though as the nose ring shit is too much for me  i just really don t like looking at them ',\n",
              " 'barr is the definition of the  banality of evil  he s hiding behind these legal definitions and dry statutory lingo to obfuscate his true intentions    his letter lacked context  his press conference was pure spin  his previous congressional testimony was misleading when he used the word  spying  in relation to the previous administration    don t let his low energy  golly gee whiz attitude fool you  he is president trump s most dangerous cabinet member  by a substantial margin ',\n",
              " 'sequential drawings with dialogue for the purposes of humour printed on thinly sliced wood  exuberance was had   congratulations mr  pyle  many thanks for the wonderful art and i wish you the best ',\n",
              " 'this is going to be the worst game thread in  r nba history  this sub already has a tenous at best grasp of basketball but then add in that you cant go 2 posts without complaining about fouls plus everything surrounding this game and yup this thread is going to be trash',\n",
              " 'it s good you ve taken the high road on this',\n",
              " 'i used to think jeffree star looked like an alien but made the asthetic look so mystical and beautiful  you on the other hand look like an alabama man fucked his alien cousin ',\n",
              " 'people called you hipster just for that you are the only one recognize lumpy s jokes are demand ',\n",
              " 'does this thing have any processing power  i mean you cant fit a decent grafics card in there',\n",
              " 'do you still have a few  i d like to buy marsupial  speed demon and chameleon ',\n",
              " 'i am a pretty big gabbard supporter  she gets hit with ridiculous smears constantly  but even she doesn t get hit as hard as omar ',\n",
              " 'it was quiet when they bought the apartment ',\n",
              " 'but the spanish police do it to french fans  italian fans and catalonian voters recently   not sure why you re so surprised at another group saying the spanish police are ott',\n",
              " 'wwe fans tends overreacted they are make ton of money from wwe network   selling telecasting rights  saudi ppvs   fans are underestimating  wwe s global presence they are telecasting in well over 40  countrys   in india alone they are telecasting in 4 different languages and they are getting nearly 50  millions viewership for raw and smackdown on weekly basis ',\n",
              " 'nah  i don t usually respond to these  but holy hell some people on here have lost their damn minds  you don t need to tell this guy anything  and you don t need to have a child that you can t provide for  or want  it s her body  her choice  that s all there is to it  she has no obligation to carry a fetus to term because y all are crying about abortions    please don t apologize for asking others about your situation  none of those commenting that are negative towards you should bring you down or make you regret getting an opinion  this guilt tactic shit about abortions needs to stop ',\n",
              " 'if you ain t gonna leave  gotta bob and weave ',\n",
              " 'gt it s the same damned wage any other unskilled labour is paid  why should a restaurant server earn more than a grocery store cashier  or janitorial staff    ah yes  the classic american self destructive petty jealousy defense  letting the lowest class do the fighting for the people at the very top who are only getting richer and richer and hoarding more and more money ',\n",
              " '',\n",
              " 'it did feel forced and pandering  i ve seen this point made several times now  and it s always downvoted  i get why people are defending it  because there are a lot of stupid incels out there that can t handle strong female characters  and due to that everyone feels like they need to defend this scene   i have 2 young daughters  and i m super psyched that they are growing up in a world with these badass women heroes  however  there are multiple problems with this scene that have nothing to do with that   1  saying  she s not alone  when you are referring to captain marvel is so stupid  she is  by far  the strongest hero on the battlefield and she would have no problem getting to the van by herself  she just blew through the giant space ship  2  all the female characters  and only the female characters  happen to be right there on that part of the battlefield at that moment  3  the music swell  and just making a meal out of the moment   for me  it completely took me out of the movie  that s just my opinion  and i m super stoked that it had a huge impact on its target audience  i just feel like they could have had a similar moment  with the same affect  that was put together in a way that made more narrative sense and didn t feel like a manufactured moment ',\n",
              " 'you think they re bad  you should see what the human race has done  ',\n",
              " 'and this is why you have so many mass shootings',\n",
              " 'good lad   these ball less creeps would piss themselves if they weren t mob handed',\n",
              " 'if it means anything  bardem is okay as fake davy jones ',\n",
              " 'they all could say that  i will never believe wwe would ever be interested in bringing him back  unless it is simply to avoid him joining aew or something ',\n",
              " 'yea witcher 3 if you want bang for your buck  took me about a year of casual playing just that to beat it and the dlcs  so good  last of us is incredible too obviously if you want an emotional story  also play this on hard  makes you worry more about your ammo and stress like you should in a post apocalyptic world ',\n",
              " 'it s an hbo original show',\n",
              " 'let s get ready to foooooouuuuull ',\n",
              " 'best comment on this thread ',\n",
              " 'nta   however  i may be biased  i don t like anyone touching or using my things without my permission  i will almost always say yes when asked  but it s like a matter of respect and communication to me  i suppose ',\n",
              " 'the difference is that infinity war could fully focus on being a superhero movie  and  the most ambitious crossover event   endgame had to focus a fair amount on character and story completion  and being a sort of farewell movie  that said  i absolutely love both and it still amazes me marvel was able to pull this off',\n",
              " 'you mean adam sandler ',\n",
              " 'expect how many people has aqua killed',\n",
              " 'yeah i don t see the japan hype cause  they almost beat c9 and went 2 1 vs brazil   not like russia got to 5 games vs brazil the very same tournament or grex looked legit good in playins  we will see but dfm definetely has the advantage of international experience   i still think a russian player should have made the list considering i was told they regularly pick 3 scaling lanes and still win them in one of the better wildcard regions that also is a lot less top heavy than japan ',\n",
              " 'oh my  curry and harden both in the locker room ',\n",
              " 'why is carol even on this list ',\n",
              " 'can t offend vegans if they re all dead',\n",
              " 'which is clearly not the case ',\n",
              " 'joe russo confirmed that giving back the stone will not bring back nat  she s a permanent sacrifice  cap can just give it back to red skull who will wait for the next person to arrive ',\n",
              " 'he s probably trying to deny his own sexuality  also  this is not common  this is the first time i have heard of this ',\n",
              " 'what that guy is suggesting is word for word what the canucks were saying after naslund went down ',\n",
              " 'yea man i remember you ha  disconnected    been awful tonight for it  back in now',\n",
              " 'kids  all pointless stuff from the high school curriculum',\n",
              " 'wait he s still alive ',\n",
              " 'terrorists to call terrorists terrorists ',\n",
              " 'yea cuz that happened',\n",
              " 'why is my bank account so low   bank account  student loans  bank account  rent  bank account  internet bill to massive corporation in a highly concentrated market with little to no competition  bank account  cell phone bill   see  internet bill   bank account  absurdly high insurance premiums for a married couple aged 30',\n",
              " 'spoken like a true confederate',\n",
              " 'you re able to do your own research  but i doubt you do  if you did  you d have an actual counter argument  it s always the same with you people  you make a claim  but the second someone questions it you can t give an answer back  nice ',\n",
              " 'he literally had his hand flat on the ball and brought giannis all the way to the ground ',\n",
              " 'everyone isn t though  not in asia where i live   if i polled people at my work 99  would know who darth vader is  maybe 10  would know who thanos is ',\n",
              " 'gt i don t know if it s helpful to then accuse  say  in this case  nearly every single brit  american  or australian of arrogance for not knowing another language  would their lives be better in knowing more tongues  sure  are a lot of them arrogant in looking down at foreigners  yes     gt but being monolingual isn t innately arrogant  it s    just what it is    i never described monolingualism as being arrogance   it was that saying in a modern  global world  one doesn t  need  to learn anything other as  a reasonable excuse  is arrogance  because it implies that anyone else outside your bubble  no matter how big  should have to engage with you in your language  when there are much wider spoken languages    if anything what i was saying was that choosing to remain monolingual could be ignorant  and that s pretty heavy handed i suppose  but additionally if you re presented the opportunity to discover a new language and culture but choose not to as you don t think you d use that language much in everyday life   that sounds like wilful ignorance to me',\n",
              " 'i loved everything except the last 10 minuets and the fact that sam is still alive  there was a lot of plot armour  but sam s was just ridiculous  and i can overlook the shit battle plan because it was done for dramatic effect and seeing all the dothraki lights going out in the distance was bone chilling ',\n",
              " 'yeah i know but the safe has been there since december 2018 when i started playing so  should be some way to open it ',\n",
              " 'it s a well known post from there  https   www reddit com r ihadastroke comments a3o654 can_you_weed_drug_n_o ',\n",
              " 'just imagine they are giving your children breathing problems   because they are and they diserve to be kicked in their tiny pinuses ',\n",
              " 'lol now we re blaming mistakes as partially intentionally missteps to pay homage to the ot    the mental gymnastics to defend some of the decisions made in the st are wild ',\n",
              " 'he fought theon just before that when he could have let the wights do the job for him ',\n",
              " 'how old  because 16 17 is the impression i get and that s old enough to know better  in any case it s better people are taught young that acting like this isn t okay because have you ever tried to educate a grown ass adult thats set in their ways    and i guess you could say i m angry  trans kids  i would argue  have a harder time growing up than the rest of us  we just had to grow up with other kids being mean to us and they have a good chunk of the world against them so i have very little patience or empathy for people that make it even harder  like i said earlier  op could have easily taken one of the solo sleeping spots since nobody else seemed to have a problem with the poor girl but instead she acted like this  i mean imagine how embarrassed you would be if you were already sensitive about your genitals and somebody made the entire focus of a party just that ',\n",
              " 'dr  strange opens up a portal  problem solved ',\n",
              " 'what kind of percentage are we talking about here    ',\n",
              " 'that s some lofty praise  given that paul brown also coached maybe the actual best player ever in jim brown  plus  didn t motley break the color barrier in pro football ',\n",
              " 'i always  while i m waiting in the champ select screen  is type in youtube   type the champ name you use  vs champ name you will face while waiting in the loading screen  watch in youtube that matchup  like    kassadin vs zed  or ahri vs zed   amp  x200b   lux vs yasuo  karthus vs yasuo   amp  x200b   and watch how the challenger players deal with it    amp  x200b   but in general  you want to focus on harass  don t stand near a dying minion vs yasuo  but you can harass ez since you know yasuo will dash to reach it so he is vulnerable then  but be quick  otherwise yasuo dashes back   kite  orb walk  so shoot when harrassing and  immediately step back  don t give him a chance  type in google  league of legends tethering guide  it s really helpful    amp  x200b   vs zed is much easier  don t be close if his shadow  w  is up  harass when his shadow is down  it has a long cooldown  when ganking  make sure the timing is right  like ahri s e should give you and your jungler enough time to insta zed if timed correctly    amp  x200b   i would go boots over ability power pre 6  if you know you can t handle it  this will give you more chance to dodge zed s q    amp  x200b   vs yasuo  the only way yasuo can beat you is tornado into r  you can see when yasuo is stacked  he becomes red and wind effects show that he has a tornado skill  just stay far back if he has that skill   in a couple of seconds it will wear of and then you have another 30 seconds or something to harass him  before a new tornado appears    amp  x200b   vs nasus it s much easier  if you know his kit  most nasus players don t go for last hits  they only focus on stacking their q  so what did we learn from this  well  now we know that harrassing last hits won t work  so how do we harass nasus  answer  always keep counting nasus  q cooldown  exactly when his q cooldown is gone  and you see him walking to last hit  spam nasus with all your abilities  so don t use your abilities for minions  why not  because    amp  x200b   1  nasus players always slow push under their own tower for easy stacking  you want to freeze the wave at all cost  he can t overextend unless he wants to get ganked so he ll miss cs or otherwise you will harass him    amp  x200b   2  early game nasus is one of the weakest champs in the game  this is the time to make him weaker by not letting him stack  mid game it s already too late ',\n",
              " 'i knew guys that were modifying their trucks for  rolling coal  in high school  that was the late 90s  they just didn t call it rolling coal back then  it didn t have a name ',\n",
              " 'imagine hermione killing voldemort  that s how i feel about this ',\n",
              " 'this is an example of exactly what s wrong with society ',\n",
              " 'my fellow ifunny master race where u at           we must overthrow the infidels ',\n",
              " 'gt if you have more than 625 ap as kayle  you re trolling  so there s that   not at all   her ap build  while not the go to anymore is very much viable   and absolutely recommended if the only other source of magic damage is your support and that happens to be a tank ',\n",
              " '[i ll just leave this here] https   i imgur com fhxcv4u jpg  ',\n",
              " 'van dijk will shut messi down',\n",
              " 'are you saying chavez wasn t a socialist   maduro is stealing from his own people based on socialist policies  i m just not sure how anything going on in venezuela can be blamed on america  please explain that party to me  even if we did put sanctions on them  it was because of their actions and actions have consequences ',\n",
              " 'ok  ok  ok  so should should should sh sh sh   ',\n",
              " 'crushes are for children  stop misreading kindness as love ',\n",
              " 'i have math homework that i don t understand  ',\n",
              " 'something so subjective is bound to be ',\n",
              " 'he sure is holding up a nice piss balloon target  how considerate ',\n",
              " 'stone tool culture sounds like a metal band ',\n",
              " 'plus  don t forget clegane s realization  clegane   we re fighting death  you can t beat death  berric   tell her that ',\n",
              " 'this was all due to a criminal president who has a daughter that has not even passed high school with a  wealth of over 5 billion stashed in the eu   this has absolutely nothing to do with socialism it is actually abused capitalism in its worst form ',\n",
              " 'yta   grow the fuck up  females use sex toys  stop acting like an over protective prick  it s completely natural for a 12 year old to be exploring their sexuality and masturbating  by punishing her for being human you probably did more harm to her in the long run than you think  would you rather your 12 year old daughter have sex  let her buy a vibrator and leave her the fuck alone ',\n",
              " 'blues fans like to eat da poo poo',\n",
              " 'by having pictures leaked with jizz on your face ',\n",
              " 'gt why are you so many of you such disgusting nazis who think that jewish people should be forced to live with terrorists   yeah  why do so many people think jews should have to live with idf soldiers  just inhumane',\n",
              " 'whays up with reddit upvoting threads for me  whay is going on here ',\n",
              " 'people in the west still do  we just call it  property taxes  ',\n",
              " 'well one is a rb  the other a wr  so that s a start ',\n",
              " 'exactly  people think theres some kind of secret cia fbi nsa or what other entity they want to blame   the fact is oil is the nation s major export which fuels their economy  oil prices per barrel have been dropping yearly  with the exception of a few times    venezuela is a socialist country  so many of their public programs come from oil  lower oil prices means less money to pay for services therefore inflated money  this start well before 2017  the country has been going down the drain ',\n",
              " 'i don t see how that s the case  could you provide some examples so i have something to go off  they explicitly target white supremacists ',\n",
              " 'how else do you make somebody accessible to incentives  ',\n",
              " 'am i a joke to you ',\n",
              " 'i get this when trying to play on my switch all the damn time   just happened not even 10 min ago',\n",
              " 'that s not an excuse to whitewash our past ',\n",
              " 'i mean i ll try to save some for you  no promises  i may have quite an appetite',\n",
              " 'this is so sad  alexa  play star spangled banner ',\n",
              " 'people are allowed to like things differently than you  you don t get to be the authority on what people enjoy or find entertaining  that said  you re allowed to feel disappointed that the show is devolving  i know i did once  but demeaning people because they like things different than you do is a quick jaunt down the path of asshole dom  and i find this sub s attitude  both subs  really  disgusting  i love the books and their depth  and i love coming here and reading theories on what s going to happen  i also enjoy watching the tv show  sure the show started out great  but as we all know that s because they were working off of the books  the moment d amp d had to come up with their own material  it all went downhill  i m not going to defend the show or last night s episode  in this post  because yes  there is a lot wrong with what they re doing  but i still enjoyed the spectacle   i came to the realization that the show and books are two different stories a long time ago  and it has made the show viewing experience all the better ',\n",
              " 'this is so sad  alexa  play star spangled banner ',\n",
              " 'you re a freakin  genius  you idiot ',\n",
              " 'mate  just do a screenshot ',\n",
              " 'no  but link was the main character in the legend of zelda   ',\n",
              " 'agreed  it should be reserved for those calling for genocide and ethno states ',\n",
              " 'you look like an english middle aged lesbian ',\n",
              " 'a lot of people downvoted but i actually laughed sadistically  take my upvote ',\n",
              " 'i think it s harder for kazuma because he dies and comes back too',\n",
              " 'gt  cth becoming the new srs is fucking hilarious  basically every thread even tangentially related to left wing politics has faux centrist invalids saying  looks like the chapocels are brigading again      once mr  chapo s incredible podcast ride does the star wars episode  we can take over the rest of reddit',\n",
              " 'can you imagine if guns were banned and there were no school shootings at all  and security would never need to worry about it ever ',\n",
              " 'now wingman sucks dick ',\n",
              " 'they ve got to remove all of it or none of it  can t take this down and leave some of the shit that s been posted in the last day up ',\n",
              " 'i love that sales pitch ',\n",
              " 'you could argue that she isn t clean  it s just that  she  manufactures her own performance enhancing drugs   the solution to this mess it probably to have an  everything else  category of competition   or maybe she can enter the special olympics and basically win everything ',\n",
              " 'tnt is so much better than espn but they still have marv    ',\n",
              " 'yes it is  ',\n",
              " 'i didn t mention in the post but i do actually get her off at least once a week and i do think that it is actually more than enough to satisfy her probably cuz she has a low sex drive   i tried talking to her very respectfully before about my needs and how i need more than what she is giving me now  she always promises to try harder but nothing changes so i just kinda pretend to be happy and alright with how our relationship is right now ',\n",
              " 'in almost any other store  sure  the law is 18    i ve dealt with loud crying kids in plenty other stores  plane rides  etc  it doesn t bother me much  and even if it did  tough shit  but it s just the context in this case  but like i said on other replies  were all entitled to our own opinion my friend',\n",
              " 'huffpost 2016  trump has 2  chance of winning  huffpost 2020  trump has 0 5  chance',\n",
              " 'i m american  but tell people i m canadian when traveling abroad ',\n",
              " 'honestly you sound like you deserve it ',\n",
              " 'i m thinking go to the hq of some shit torture 500 company and set myself on fire in the lobby ',\n",
              " 'natto  japanese fermented soybeans  i couldn t even finish one bite due to the texture alone  it s basically beans coated in snot ',\n",
              " 'it looks like you ve posted an idea for a new practice  service  or product  as such  your submission has been removed   please try  r crazyideas or  r lightbulb for such things    for future reference  showerthoughts should offer unique perspectives on existing phenomena or objects  not suggestions for new ones             important    please read [our rules] https   www reddit com r showerthoughts wiki rules  and [the faq] https   www reddit com r showerthoughts wiki faq  before messaging the moderators  please also [do a google search] http   www google com  for your thought to ensure that it is both original and unique             i am a bot  and this action was performed automatically  please [contact the moderators of this subreddit]  message compose  to  r showerthoughts  if you have any questions or concerns  ',\n",
              " 'i hear isaiah thomas will be available when kyrie leaves',\n",
              " 'point taken and my personal eye tests for a team out of my league were off apparently  as a denver fan that usually beat cincy i never thought twice about it  i always imagined their pass attack as formidable  usually because of chad and tj and later on from aj and john ross now    i will say this  all a team has is running or passing as an attack and cincy has been absolutely lackluster in the former  other than   corey dillon  in the early 2000s maybe james brooks in the 90s and rudi in the late 2000s cincy has been a black hole for running backs  sure a decent year for gio  joe mixon  cedric benson etc    they are a just a place where rb go to get less than 1000 yards and die trying  not since archie griffin has cincy ever had a ground game and that    sorry    is a fact ',\n",
              " 'for the love of god don t count them everyday  you ll be really sad ',\n",
              " 'imo it s a tossup between gibbs and noll  only reason i didn t put him over noll is because i dinged him a bit for not having great players  at the end of the day  he s at least partially responsible for the players he had  but his ability to get the most out of his team might be unmatched in nfl history ',\n",
              " 'agree to sort of disagree  it s an asshole move  but it s worth it  to me  i d seriously cut my mother off over this sort of disagreement  if she were that fucking dangerously ignorant  i occasionally endorse the nuclear option ',\n",
              " 'that mouse has toothpicks in his back smh my head     ',\n",
              " 'yeah longbow is ridiculously good right now',\n",
              " 'if this is a dank meme    upvote   this comment    if this is not a dank meme    downvote   this comment    if this post breaks the rules    report   it and   downvote   this comment    ^thank ^you ^for ^helping ^us ^in ^keeping ^ r dankmemes ^dank  [^hit ^us ^up] https   www reddit com message compose to  r dankmemes  ^if ^you ^have ^any ^questions  ^  ^i m ^a ^bot ',\n",
              " 'any big budget home release is getting a near field mix  but kind of like the gots too dark thing  the equipment they are using at the post house is almost always top flight  where as my tv is from costco and my dinky sony sound bar is far from a surround set up ',\n",
              " 'why  are you assuming western europeans abort more   the major thing explaining the difference in crime rates is quite obviously gun control ',\n",
              " 'i dont think this is trashy at all  it s annoying and irresponsible to put you credit rating in the hands of an under paid server but not really trashy just dumb and a stupid excuse not to tip  clearly they were not planning to tip considering they had this typed up to begin with ',\n",
              " 'look smaller than some of those volunteer events bernie had via video conference ',\n",
              " 'exactly  people think theres some kind of secret cia fbi nsa or what other entity they want to blame   the fact is oil is the nation s major export which fuels their economy  oil prices per barrel have been dropping yearly  with the exception of a few times    venezuela is a socialist country  so many of their public programs come from oil  lower oil prices means less money to pay for services therefore inflated money  this start well before 2017  the country has been going down the drain ',\n",
              " 'just one small tidbit  witch king vs gandalf happens before rohan shows up  the witch king breaks gandalfs staff and moves in to kill him  suddenly you hear the horn and the witch king flies off to see what s going on ',\n",
              " 'i used the word conspiracy  and the investigation didn t find one  anything else you say is moot ',\n",
              " 'the big dawg is listed mate  ',\n",
              " 'don t lump nerds with incels  please  but i see what you mean about the landscape of bullying having changed',\n",
              " 'they are the victims here  mate  ',\n",
              " 'i m sure he will give us his best  that s not necessarily a dig a carrey  but this script will be atrocious  he s a poor fit for the role  and he s already erratic in his personal life in a way hollywood tends to shy away from  if this had been a good movie it could have relaunched his career ',\n",
              " 'does this thing have any processing power  i mean you cant fit a decent grafics card in there',\n",
              " 'a 2 0 means an entirely new game',\n",
              " 'and this is another reason i can t go into nursing become a doctor like my family has been begging me to  i m allergic to hand sanitizer  i break out in hives  it s painful as hell  my fingers swell up and if i use it multiple times a day it becomes worse and makes it difficult to move my fingers  it becomes so bad i cry  i much prefer hand washing ',\n",
              " 'it s called a template mate',\n",
              " 'im going to guess trump is not youre president',\n",
              " 'cause i only use reddit for the lol forms  your the ones that don t even consider other genres actul games   cant belive you took bait that wasn t even there ',\n",
              " 'fuck you  stop spamming this shit  every time i see this post i m throwing a plastic bottle in the stream',\n",
              " 'i believe you are incorrect  i have seen several reddit threads about recoil patterns ',\n",
              " 'it s a quote from a television show repeated on a sub dedicated to what   nfl news    ',\n",
              " 'vvd just let suarez walk right by him',\n",
              " 'i ll take a look in my stash within the hour  i don t think i have any good bolstering stuff though  if i don t   3 5k ',\n",
              " 'why the quotes around she ',\n",
              " 'hope someone robs your house',\n",
              " 'no  but we do need anew assault rifle',\n",
              " 'it s also easier than ever to get into shape with the internet though   like  even just getting into reasonable shape and dressing better can turn you from a 4 10 into a 7 10 really really fast   nobody should be bullied for it  but nobody s obligated to find anyone else attractive either   very few people are so ugly they can t get around it without an exercise diet regimen and good fashion sense   hell  we live in a world where benedict cumberbatch is a sex symbol   i think you re fine ',\n",
              " 'wait  so put options literally can t go tits up ',\n",
              " 'hey there   u spacetimeinflux   thanks for your comment in  r trashy   unfortunately  your comment has been removed for the following reason s      rule 1  behave yourself  toxic behavior of any kind is banned      for a full list of our rules  please review [the sidebar] https   www reddit com r trashy about sidebar    if you have any questions or concerns  feel free to [message the moderators] https   www reddit com message compose to  2fr 2ftrashy   including all relevant information and links ',\n",
              " 'barely   he was a glorified mailman ',\n",
              " 'imagine being on an english talking forum with a majority of americans  who tend to support english teams  and english posters and playing the victim card ',\n",
              " 'which is a pretty shitty thing to do ',\n",
              " 'gt current rank 5 e cd with 40  cdr  3 6 seconds  holy shit looking at the numbers is a nightmare tbh  glad with the direction they ve taken ',\n",
              " 'the president s campaign illegally worked with a hostile foreign power to elect an incompetent shit can to weaken the united states  russia had the means to change voting records in florida  i bet they also had the means in other states  i also bet that before all is said and done it comes out that records for democrat voters in key states were deleted or changed  which explains the fuckery that many peopleexperienced when try went to vote  the truth is leaking to the public slowly  but surely ',\n",
              " 'he destroyed the packers before mack was ever there ',\n",
              " 'that s definitely a handball',\n",
              " 'i find it odd that six months ago venezuela wasnt on anyone s radar in the us and now its used as a talking point of both sides to reinforce their own political biases   the right loves to point out venezuela and say  look thats what socialism does      when the maduro regime is a full blown dictatorship   unlike venezuela almost all socialist countries are democratic   maduro has banned oposition from running in election and stripped congress of power   thats not democracy   socialist or otherwise   which isnt to say i support socialism   im not   also most of the dnc would be right wing compared to latin american socialists   then on the other side of things you have leftists claiming maduro is a legit guy and everything would be fine without us sanctions   again not true   venezuelas problems started long before us sanctions which began with obama in 2016 and only targeted corrupt  individuals not venezuela as a whole   millions of people had already fled venezuela long before trump and the us media started paying attention   trump and cronies may be looking to take advantage but venezuela s problems began in venezuela and continue because of maduro ',\n",
              " 'i remember a quantum leap episode with this premise   man  that was a good show ',\n",
              " 'yeah well someone did something nice to you so you thanks them ',\n",
              " 'scorpion fans are so whiny it s getting annoying',\n",
              " 'no  for the aa 10mm  i haven t gotten to your other thread  just landed from work ',\n",
              " 'factually complete is an impossible standard when discussing a 400 page report in 4 pages ',\n",
              " 'what a fucking douche ',\n",
              " 'they say production error  either that or she has some level of control over it',\n",
              " 'they ve been duped  i ve seen another one of these around',\n",
              " 'fucking halloween  ever since i turned 17 i was no longer allowed to go out  it s the idea of dressing up as something fucking cool or wacky that i miss   the fun gatherings at the school gym where you can win prizes and whatnot  now i pay bills and have clinical depression ',\n",
              " 'this game is much less fun now ',\n",
              " 'let me get this straight    you actually think one or more episodes will be filled with jon and dany love scenes and that possibly episode 4 might have a weird ending  and you also believe that relationships in westeros  drift apart  and that it takes several episodes for that to happen    how long did it take for dany to banish jorah when she found out he had spied    how long did it take tyrion to kill shae when he found her with tywin    or maybe you think dany will go to college and break up with jon at thanksgiving    if it happens it will be because dany goes bonkers',\n",
              " 'people like you are how trump got elected lol',\n",
              " 'gt  i think it could be that most of the  moderate  people tend to stay quiet  while zealots and drum bangers want to shout their shit from the rooftops  so the conversation gets muddied by idiots on both sides of the fence   i think this really hits it home  over the years i have had a lot of vegan and vegetarian friends  and i can only think of maybe 2 or 3  who i would consider judgmental and absolutely none i would call  militant   so i think to me and a lot of people who actually are vegans and interacting with vegans irl  we just don t come across that as much as it s portrayed to us  so it feels like a big bogeyman   i cannot think of a single person i have known or even met  who i could imagine actually saying  you re a murderer  sort your fucking life out   on the internet  oh pff well shit people say much much worse about all kinds of things on the internet  that is no surprise  but irl  even in a group of all vegans  if someone said that kind of thing  overwhelmingly most of the vegans i ve actually known would be like  dude  stop  that s not helpful at all ',\n",
              " 'man am i dizzy',\n",
              " 'i doubt it is as simple as that  the reality is that when you re deciding on a specific course of action  values need to be interpreted  and people interpret them differently  also when politicians are talking about values  they tend to be thinking about what their voters want to hear  their real views are often a bit more nuanced ',\n",
              " 'i m almost max caps  do you have anything to trade maybe  i can take another 1k caps and maybe some ammo if you have any 5 56  or bulk lead lol',\n",
              " 'i don t see how that s the case  could you provide some examples so i have something to go off  they explicitly target white supremacists ',\n",
              " 'i know for liu kang s nunchaku at least you have to absorb a projectile with them to be able to trigger a krushing blow ',\n",
              " 'i pulled a sneaky one on ya',\n",
              " 'did anyone read the article',\n",
              " 'they done the math s   aussie ',\n",
              " 'i feel like virtually everyone with strong opinions  including yourself  look for the worst possible person from the  other side    and come out of it smelling like shit',\n",
              " 'i will have to use this line next time i go to a club ',\n",
              " 'even there  that was the decision of a small  geographically isolated group who believed they were in imminent danger of being overrun by the whites  of all the horrors of the civil war and the atrocities that inevitably show up when you have millions of soldiers locked in a desperate fight for their lives  a few strategically valuable rich innocents dying is the tiniest drop in an ocean of blood and it s absurd that those few lives  taken at the decision of men who believed their own deaths were likely imminent  are ever held up as a  boo hoo mean ol  commies dared to spill the divine blood of innocent royalty  this is the worst thing anyone has ever done and it tars anyone who advocates for equality and economic democracy to this day  ',\n",
              " 'just like the airports  get paid to deliver your stuff   lose  said stuff  sell it and profit off of their own ineptitude   if they were truly trying to find the owners  they would have a website where they post unclaimed goods and the owners could search for their lost items ',\n",
              " 'i wouldn t give a shit about a 12 year old boy buying a fleshlight either   i was using a vibrating toothbrush when i was 13  was that wrong somehow  if not  why is it wrong to use a toy specifically made for that ',\n",
              " 'true  greg comes from thesquatingdog and craig comes from noahsnoah ',\n",
              " 'that s like smoking a cigarette outside  if someone has to walk over to me and say its bothering them  and we are outside  they need to get their ass out of face lol  being next to them is one thing  just because the wind is blowing it in their direction  not really my problem   i m talking more than 15 ft  away ',\n",
              " 'the point is that free speech is a universal right  not a constitutional one  so trying to make it a constitutional issue  like the left does so they can get off on a technicality  ignores the universality of free speech  our constitution just says the government cannot take that away   so when you think about it they re actually abusing human rights  not just ignoring the constitution ',\n",
              " 'hope my  sq calls and my  lyft puts make tendies ',\n",
              " 'people mistake you for jennifer aniston    people like stevie wonder  andrea bocelli etc ',\n",
              " 'his voice is so fucking annoying i couldn t even watch the video  listening to him is almost enraging for some reason ',\n",
              " 'the us  government  is always playing hero and savior and somehow we manage to get into endless wars   we don t like dictators or terrorists  they scream yet magically we re allies with countries like saudi arabia  guess what  they are led by very fucking dictatory dictators and 11 of the 19 terrorists who carried out the 9 11 attacks were saudi citizens  it s funny how this all works out  huh  it s almost as if the entire us government and established 2 party system is full of shit and always have ulterior motives ',\n",
              " 'you just reminded me of old fiora  where you built 5 tiamats and ulted for a pentakill ',\n",
              " 'but it s weird because all the bad guys keep apologizing ',\n",
              " 'trump doesn t support any ideology or race or creed  he is a self serving opportunist who reads from a script meant to divide his opponents and enemies and unite other groups into a large enough base to defeat them  he supports israel for the lobby and money just like he supports white supremacists and neo nazis for the lobby and the money  he has no loyalty  he has no beliefs  so  you re right  he s not a nazi  but if it d get him money  power and votes  he would be ',\n",
              " '5          deathmach  team deathmach                                 7                                                                                                           ',\n",
              " 'i second this    amp  x200b   also  i noticed people cleaning part of the inner road in front of their homes with broomstick ',\n",
              " 'liverpool and neanderthals  name a better duo ',\n",
              " 'this  it s bullshit how we have to unlock the  maskless  masks  no mask should have been default    i spent over 300k on the shrine and i still can t have my girl skarlet without a mask ',\n",
              " 'livingston has not been good in the playoffs ',\n",
              " 'i hope archer 1999 doesn t suck',\n",
              " 'you ll always be on the edge of your seat ',\n",
              " 'it s almost like giannis is a better player than kyrie      lmao',\n",
              " 'sweet adding you now',\n",
              " 'but kyrie  gt  lillard   ',\n",
              " 'he hid them  and burned what he considered his worst work  as a protest to the irs when he got more famous  they had told him something about his art never making enough money to support his kids or something ',\n",
              " 'so fucking much  broh  ',\n",
              " 'gt i don t know many catholic footballers who go around quoting bobby sands though    mate it still doesn t mean they re a supporter  quoting a uvf uda member doesn t make you a supporter of them  probably means you agree with their cause but it doesn t mean you support the group   gt he s put up on his twitter other things about the ira like songs and posts  i don t know many other members of the roi team that are that sectarian   ira songs  mate that controversy was him putting up a wolfetones song on twitter and again supporting the wolfetones doesn t make you a member of the ira if it did half of fucking ireland would be in the  ra',\n",
              " 'gt  maduro s party lost the previous national assembly elections  first of all  no they didn t  but the opposition parties always controlled more seats in the national assembly  but that legislative body doesn t exist  it voted to dissolve itself and rewrite the constitution which formed the constituent assembly  which by its nature is more inclusive and represents more poor people than the na ever did giving the psuv the actual advantage   that s why the opposition refused to stand for ca elections even though they were encouraged to  they knew they were going to lose   but even in the national assembly  the psuv were the largest single party  the opposition was spread between multiple parties ',\n",
              " 'also the harsh reparations that were demanded from germany was almost certainly a factor in causing wwii  in wwi  arguably both sides were kind of equally at fault and were certainly equally responsible for the destruction  although it is common  it is not fair to blame everything on the loser ',\n",
              " 'source for that claim ',\n",
              " 'i feel bad for both of them',\n",
              " 'no  they were remarkable for their time  and far better than most other humans on the planet at the time ',\n",
              " '',\n",
              " '',\n",
              " 'you re allowed to be wrong  it s literally  literally  always been pronounced  jif   look it up ',\n",
              " '[i m doing my part ] http   imgur com gallery cmfkfgp ',\n",
              " 'apparently repub senators brought up hillary clinton and obama several times during the barr senate hearing lol',\n",
              " 'gt he should have had the proton cannon in the final battle   only if he gets to shout out  here s my sunday best  ',\n",
              " 'just like the airports  get paid to deliver your stuff   lose  said stuff  sell it and profit off of their own ineptitude   if they were truly trying to find the owners  they would have a website where they post unclaimed goods and the owners could search for their lost items ',\n",
              " 'when will vaping be considered one and the same   i feel vaping is getting a free pass   at least in canada  they advertise  catchy packaging and lots of marketing dollars spent to hook teens on their expensive habits      and arguably harder to quit   ',\n",
              " 'seriously though  fuck griffith  will the author die before guts gets his revenge ',\n",
              " 'i guess some jaime or some lannister cousin    or is she ruling in the  baratheon  name     amp  x200b   targaryens dont have a  lawfu  claim anymore since the lannisters are the somewhat legal     ruling family ',\n",
              " 'the black panthers tortured and murdered people  trafficked in drugs  and shook down oakland businesses for protection money  they were also in favor of violent communist  revolution  in the united states and idolized mao and kim il sung  oh  but they had free breakfast programs  so it s all good ',\n",
              " 'she s a g damn world treasure',\n",
              " 'wow the list is full of shit ',\n",
              " 'basis of sex is genetics not hormones ',\n",
              " 'swerfs  when you really don t have a clue about how oppression  the patriarchy  capitalism and law enforcement work    amp  x200b   when you  do  have a clue   1  oppression works  among other ways  through the authoritative enforcement of restrictive moral codes on people  so imposing  no sex for money  values oppresses people because it gives a select authority the power to enforce a set of rules over people  2  the patriarchy doesn t work by just giving men sex and showing women as sexually provocative individuals  it works by putting men in positions of control over women  which is what you do when     1  you just assume that women are the only ones engaging in prostitution    2  while failing to notice that men will be the ones mostly in charge of enforcing bans on prostitution 3  capitalism is the commodification and marketization of everything  if you ban prostitution  you just increase the costs of entry for prostitutes and force them to submit themselves to criminal enterprises that can cover the costs of bribing law enforcement and anything else  4  law enforcement isn t automatic and perfect  it just creates the rules that authorities have the power to enforce at their own discretion  so combining all of the above  you give an authority  mostly masculine  a two fold service of protection and punishment and power over a specific group of people  with the incentive to use it for their benefit  so you don t ban prostitution and liberate victims of sex trafficking  but instead allow authorities to punish prostitutes and sex slaves if they deviate from what is considered as acceptable behavior for them  while also incentivizing a partnership between organized crime  basically clandestine corporate networks  and state authorities   so within a capitalistic framework  legalizing prostitution is the best first step to solving the problems swerfs claim to care about  namely the objectification and denigration of women  since at least you remove a significant element of patriarchal control  and from there you can move on to the next issues regarding capitalism and patriarchal hierarchies in the broader sense    amp  x200b      or at least that s how i see it ',\n",
              " 'is it automatically a bad thing  they are more mature and have more experience and wisdom ',\n",
              " 'i am talking about cow shit that gets in the milk when the cows are being pumped of their milk and use the restroom simultaneously  which happens all the time in dairy farms  not to mention the puss  blood and urine that also gets in the milk  good try ',\n",
              " 'lol you ll find a lot more people care about you than you think  just notice the little things people say to you and you ll understand',\n",
              " 'if this is a dank meme    upvote   this comment    if this is not a dank meme    downvote   this comment    if this post breaks the rules    report   it and   downvote   this comment    ^thank ^you ^for ^helping ^us ^in ^keeping ^ r dankmemes ^dank  [^hit ^us ^up] https   www reddit com message compose to  r dankmemes  ^if ^you ^have ^any ^questions  ^  ^i m ^a ^bot ',\n",
              " 'lord gunther the destroyer',\n",
              " 'haha  yeah the snarks and the ice monsters  not the political intrigue  is really t what made the book series great  thanks for enlightening the ignorant ',\n",
              " '',\n",
              " 'then this sub should stop talking football ',\n",
              " 'i thought the same i initially the it kinda left the news cycle so i thought it was over  surprise surprise huh',\n",
              " 'rvp shouldve been sold to juve by force  wenger is such a pushover ',\n",
              " 'i think he hit her with a silver spoon',\n",
              " 'and  people are allowed to be mad',\n",
              " 'it looks like you ve posted a premise or a question  as such  your submission has been removed   for future reference  showerthoughts are almost exclusively conclusions  and should not be  what if   questions  inquiries  or requests for information     i am a bot  and this action was performed automatically  please [contact the moderators of this subreddit]  message compose  to  r showerthoughts  if you have any questions or concerns  ',\n",
              " 'yes i m just a mindless drone that will like anything fed to me  you re entitled to your opinion and i won t call you a mindless moron for it  maybe a crybaby but only once lol',\n",
              " 'what a fucking dive lmfao',\n",
              " 'it s an extremely informed appraisal of modern anarchists  yes  in theory they share the goals of marxists  of whom  i should add  m ls make up a relatively small minority   but the epistemological differences underpinning their different strategy   namely the anarchists  rejection of historical and dialectical materialism   almost invariably leads them to embrace what are essentially liberal politics married to a more radical aesthetic   the defining characteristic lot of the contemporary left is that it rejects marxism largely on the basis that the marxist projects of the 20th century were too mean  instead  we have adopted a sort of  left liberalism  which  while nominally concerned with class as an issue  regards it as simply that   one issue amongst a myriad   rather than the common thread that runs between them  and the driving force behind history at large  as a marxist would argue  consequently  most leftist analysis these days rarely extends beyond what marx called the superstructural  a realm dominated in large part by bourgeois ideology  while there are those marxists who regard the superstructure as an important site of class struggle in it s own right  today s radicals largely aren t engaging in the gramscian war of position  they re just arguing over the same basic issues of bourgeois ideology as liberals  there s little real concern for the material base there  which means there s little concern for the basic epistemological presumptions on which socialism is predicated  namely that a right can only be guaranteed by guaranteeing the material means to exercise it  not just abstract legality ',\n",
              " 'assange is a rapist russian asset ',\n",
              " 'i feel like virtually everyone with strong opinions  including yourself  look for the worst possible person from the  other side    and come out of it smelling like shit',\n",
              " '^this tho    i would much rather wait for some amazingly polished content than a lump of coal that will be gradually polished to the same level',\n",
              " 'in that case  don t stay together for the kids  i ve heard it to be counterproductive but absolutely get other opinions  i think ant man portrays  an arrangement to aspire to but i do understand it s fiction   the rest of those questions can only be answered by you ',\n",
              " 'trader      karma     cake day     upvotes                                   u snowman_91   194   12 28 2018      4 months ago  posts  54 [ps4] ign  snowman_91_     comments  551  [^ about box ] https   www reddit com r market76 comments bj7uzm 43019_big_subreddit_changes   [^       set   ign   ] https   www reddit com r market76 comments biz92l ign_megathread   [^       wiki ] https   www reddit com r market76 wiki index  [^         discord   ] https   discord gg bzunwjt  [^         msg mods   ] https   reddit com message compose to  2fr 2fmarket76 ',\n",
              " 'all that and you didn t even subcategorize cinematography  that movie was a masterpiece ',\n",
              " 'it s praiseworthy that a person is doing it  but it doesn t make one presidential  his lack policy understanding is exactly the opposite of what we need right now  and what he has said policy wise errs on the side of centrism  which is all fine and good just not my cup of tea ',\n",
              " 'it can t be  all people are individuals for themselves  and if one day all people become same  the society will lose all of its color',\n",
              " 'and there it is',\n",
              " 'but he was destroyed  sauron was destroyed ',\n",
              " 'i really hope messi dicks them in the second half ',\n",
              " 'gt  you ve never heard of hr departments  apparently   sure    hr departments protect companies from bad pr the same way this committee will  i e  by firing any perceived problem in their path    but the question here isn t  can  the nas create a committee empowered to expel members for whatever reason  i e  their own equivalent of an hr department    the question is  should  they  and what are the parameters under which such a committee will operate ',\n",
              " 'what am i getting that they aren t  i m paying off the card at the exact same rate as them ',\n",
              " 'of course he s going to bring race to this ',\n",
              " 'it s funny cuz after that i felt like bb was basically over  that was the real climax of the story and i feel the same way about s8 e3',\n",
              " 'if they are acting out days of our chiefs  that kid has a recurring role on general hospital ',\n",
              " 'yup  ban someone who is 7 7  from playing basketball  they need to trim off a foot from their legs or they can play walking on their knees  anything else is unfair ',\n",
              " 'rockets playing like thunder rn',\n",
              " 'you are making assumptions about me  i dislike most fan service  to a greater or lesser extent  but if it fits within the confines of the setting  then it is easier to swallow because it doesn t take me out of the movie  if it s something that s obviously meant just for the audience  then it feels jarring and out of place  i always find irony in people telling others to  grow up  ',\n",
              " 'him   idk bout you  but i surely saw it coming  ',\n",
              " 'don t you think there is a reason for that  the devs at respawn make awesome games  i don t want to see them suffer so i can have an extra character twice as often ',\n",
              " 'what groups of people would those be ',\n",
              " 'being against mandatory vaccination is not being anti vax',\n",
              " 'are people really up voting you for saying you d assault and or murder somebody because of threats  it s not like in this hypothetical situation they actually hit a special needs 6 year old  and even then vigilantism is pretty scummy    edit  are people really downvoting me for saying vigilantism is wrong  god damn reddit  sometimes i wonder about ya ll ',\n",
              " '4   16          1999                                                                                                                                                                     ',\n",
              " 'thank you for taking it down ',\n",
              " 'can t offend vegans if they re all dead',\n",
              " 'i m sorry just travel  with what money can i move my whole family with  from new hampshire  i m only going south and we ain t walking lol',\n",
              " 'the nk was never going to do a 1v1 pissing contest because there was a chance he d lose  why would he  a cold and relentless force of nature  give up his advantages to seek out his opposite number for a cinematic duel when he can instead use his army of wights  he doesn t have a personal beef with jon  he doesn t give a shit about jon  jon is simply another obstacle for him  he was never going to have some dramatic duel with him  jon brought the news  jon brought the armies together  jon got them the weapons they needed to have a fighting chance  jon tried his damnedest to stick to the plan and be ready for when the nk came for bran  hell  he helped get the bastard stuck on foot  this whole setup wouldn t have been possible without jon  as for bran  well  bran can t move  he can t fight him  the best he could do is warg into someone else to fight for him  but why would he do that when pretty much anyone could fight better than he could anyway   tldr  the nk was fighting to win  and would never get into a straight fight that he could lose  that s why it had to be arya  we can argue that they should have given a better explanation of her approach than what we got  and i can agree with that ',\n",
              " 'yeah  it places a higher value for productive members for society',\n",
              " 'absolutely  and many shows do this when it comes to characters that can be heavily mocked up like this  i was just trying to explain that directly to the op  c ',\n",
              " 'i don t care that i get drowned in downvotes when i say this  but mad max is boring  the film is incredibly shot  gorgeous  great set pieces  fantastic scenes  literally nothing else going on in it  i couldn t have cared less about what was going on ',\n",
              " 'or she wants to go on this trip because she wants to go in the trip  why does everyone think that when someone wants to do something expensive it s for social media   she just had a kid  i m sure she just wants to still be able to do things even with the kid ',\n",
              " 'van dijk looking like bonucci on this one',\n",
              " 'ok we get it the  wooosh  wasn t funny but can you please chill the fuck out',\n",
              " 'watched the full interview  this guy is great  but he s got some work to do with brushing up more on these topics he s talking about',\n",
              " 'yep  remember when banner hulk said he could take it because he s bigger and something about gamma rays that i wish i knew   the power of the stones just overwhelmed tony s body ',\n",
              " 'shit  i turned off my screen and just listened to the audio  really made me feel like spider man ',\n",
              " 'gt the avengers should have known that the soul stone required a sacrifice  right   why ',\n",
              " 'jewish  isn t a race just like christian or american aren t   jewish covers both religion and nationality but not race ',\n",
              " 'the  people who say this sort of thing aren t actually funny to begin with ',\n",
              " 'well  that s the only way chavez survived bushes attempted coup ',\n",
              " 'it wouldnt surprise me if they hadn t ',\n",
              " 'yes because those took place   are there memorials in armenia for all the turks that died  no ',\n",
              " 'it s not a matter of need  it s a basic human right   spez  the people downvoting can feel free to prove me wrong any time now  just downvoting me with no reply tells me you don t have a leg to stand on  but you feeeeeeeeel like i m wrong',\n",
              " 'i think i had heard the criticism a little before her injuries as well though idk  i ll pay closer attention to her matches maybe now just to see if she does bump',\n",
              " 'these paws are too cute ',\n",
              " 'ok  you obviously have no idea what you re talking about  later ',\n",
              " 'yes  he is making that argument    as well as most people who want to abolish aa',\n",
              " 'he s against having mandatory vaccinations',\n",
              " 'ofc they do  plough lane is a dump tbh when you walk through  as i ve mentioned  it was a bit of joke  everywhere has nice area and the opposite',\n",
              " 'why we have like 6 different lava skins ',\n",
              " 'thank you   u seb22990  you have awarded karma to user  u zachj23     moderators of  r market76',\n",
              " 'damn blues got snipers in the building aimed at bishop',\n",
              " 'gt he still flop tho  shit ass fans',\n",
              " 'of course he s going to bring race to this ',\n",
              " 'i m not the op  do you know what boundaries are  the guy  is going  into ops bedroom  with  his  garbage ',\n",
              " 'why is jon fighting the nightking his arc  people keep chucking this around because he s had a stare off with him a few times  so you not think that s because the night king realises jon has a sword that can kill him  the nk doesn t want to 1v1 jon and that s foreshadowed multiple times by raising multiple dead to protect him whenever jon gets close to him even remotely    it seems to me you re disappointed because you assumed his arc was to fight the nk when there s no more evidence to support this than there is that his arc is to warn the rest of westeros that he s coming and only he can rally everyone in time to be ready for him and his army  that isn t bad storytelling at all   the 3er arc is definitely linked with the nk specifically rather than jon anyway  and bran is technically responsible for killing him  by sending his very own catspaw assassin to do it  like the catspaw assassinh was sent for bran in season 1 same dagger ties together poetically    peoples misconception of the arcs and mixing that with theories they ve heard and prophecies they ve taken either literally or misinterpreted is the problem here more than bad writing',\n",
              " 'oh man  i wonder if that ll factor into the plot  like someone gets bit and it turns out they were 1 64 instead of 1 32 and they turn  it ll end up being someone who lied to weasel their way onto the council for the casino money or something  ',\n",
              " 'this isn t metaphor and i m really disappointed this mess of a thought process is so common here  that white people partook in colonialism is not justification for making a zombie movie where all the bad guys are specifically white  this is no different from the now widely panned portrayal of native americans in old western films as just  the enemy   when you are boiling down a race to  the enemy   you have failed  this isn t a poignant message on racism or a metaphor of a greater injustice  it s a lazy  nonsensical premise to appeal to a certain mindset  which is made blatantly obvious by them specifically pointing out the hordes of whites ',\n",
              " 'i can hate the entire religion  don t worry  religion is a poison ',\n",
              " 'venom   it used to say it on an older version of their set and they never updated the tron so it looks incredibly stupid now ',\n",
              " 'eh  when it comes to wwe guys i ll take miz over someone like ziggler who s flip bumping of everything makes it look way more fake ',\n",
              " 'the problem with listing arya s qualifications for this is that everyone else who is trained to fight  except maybe sam  is supposed to be a better fighter in show  and plainly are in tbe books  most by skill alone but all by physical advantage  she s literally a little girl with a little sword  her combat kills with it are extremely few and under select circumstances   the only thing that is supposed to set arya aside from the two dozen far better  larger fighters is ability to assassinate people  however  thats entirely irrelevant here  the faceless men don t kill people by dropping off roofs and stabbing them  their entire schtick  literally represented in the name  is the ability to disguise themselves as friendlies to bypass any security  this is how they take out high priority targets that nobody else can  it involves denying and destroying the concept of a self identity  becoming nobody so that you can become anyone  arya  fails  this training because she s fundamentally a stark  but gets the power anyway and is sent on her way because jaqen is a nice guy inexplicably  ok   in the show  the ninja training  if you can call stick fighting that  starts once d amp d had decided arya would kill the night king  maybe we can say that here she learns how to use her other senses better thats fair  but she doesnt use a sword again at all until the waif comes for her head  and thats where the payoff of being experienced fighting with restricted vision is  lets ignore the whole grievious wounding and swim in the poo canal   yet when she comes back to westeros she s beating brienne  arguably the best knight in existence since jaime s hand was cut off  in a swordfight  all because d amp d were setting her up for the night king  its a contrived joke where the character suddenly changes because the plot needs them to be different for x event down the line   but lets say arya has trained and fairly earned her skills  for the sake of argument  even then there s absolutely nothing to suggest the night king is a good fighter or that anything about him necessitates that any particular skill is needed to strike him  aside from his bodyguard squad and his ability to raise wights on the spot to stop a single pursuer in their tracks   for which we literally had a group of the nation s greatest warriors gathered with super rare valyrian steel weapons  right fucking there   there s no reason this could not have happened   of course  though  they did nothing so that arya could have yet another kill handed to her  and of course  the way it played out had nothing to do with her syrio hound faceless men training  as some of her previous scenes did  she teleports out of nowhere onto his back  or was it a jetpack  it seems she was trained by littlefinger rather than syrio  and the blade drop is more of a bronn move  hell a sand snake move  in any case  with the superhuman reflexes and strength he has previously displayed  arya should have died the second the night king s hand closed around her throat   i appreciate your effort to make sense of a crazy decision  truly  but i think here its best to just take the writers  word for it  it was done because they thought it would be cool and unexpected ',\n",
              " 'dunno   ask trump  he should know ',\n",
              " 'as a reminder  this subreddit [is for civil discussion ]  r politics wiki index wiki_be_civil   in general  be courteous to others  attack ideas  not users  personal insults  shill or troll accusations  hate speech    any   advocating or wishing death physical harm  and other rule violations can result in a permanent ban    if you see comments in violation of our rules  please report them          i am a bot  and this action was performed automatically  please [contact the moderators of this subreddit]  message compose  to  r politics  if you have any questions or concerns  ',\n",
              " 'i m not saying that it always turns people into assholes  just that it s likely to  also  you might be an asshole while on coke and just not know it ',\n",
              " 'i put the retriever ahead  at least he s a good boy ',\n",
              " 'i thought about this  i wouldnt trust anyone else with this task  you have to do it yourself to know that its done  i dont know if i would trust any of my generals telling me  hes dead ',\n",
              " 'are you sure it s not from gay cows ',\n",
              " 'i m so happy i m not the only one  i literally go out of my way contacting the packaging dept of products i buy online and make sure they re not packaged with styrofoam before purchasing',\n",
              " 'fair  but i like the adjustment where you shot 49  from deep and hit a franchise record for 3s in a playoff game in only 3 quarters better',\n",
              " 'okay bye stfu already ',\n",
              " 'get your eyeball scratched by a finger and tell me that ',\n",
              " 'i hear summer breaks from catholic seminary school are the 2nd hardest things you face   just keep your chins up  as usual ',\n",
              " 'first year in the call centre ',\n",
              " 'by dumping illegals into them and not letting traffic out',\n",
              " 'iirc he said something about being against abortion  but he s still a democrat and got a lot of hate for it     i m just reporting  i m on the side of   i don t give a fuck  give me the cartoon aliens   ',\n",
              " 'america makes me feel sick to my stomach with all this disgusting culture of mass shootings  blaming the mentally ill shooter  yes that s definitely part of the solution  better mental health care but sure the guns are the innocent party in all this  no the people being shot at and murdered for no damn good reason are the ones that need protecting   and the cheek of equally disgusting humans who feel that proud of such a terrible event that they post this like this on their car makes me want to cry    england had on mass shooting in a school  in 1996  none since because once was enough  if america is so patriotic why is killing americans okay to protect gun laws ',\n",
              " 'very good points  of course it isn t up to america to solve all these problems  i m from canada and i think the same thing  solve our problems first    it s just so fucking sad to see people living like this  when north americans protest  all that happens is the other political side roasts them online  these people are being run over by armoured cars ',\n",
              " 'it s too bad trumps admin crossed so many ethical lines that an investigation was necessary  it s also too bad that trump seems to have obstructed justice ',\n",
              " 'i m sorry dude you re right    like you i m frustrated with this whole process     i feel like both sides are disingenuous to our true beliefs   sure i feel the bern    but he s super far left on a lot of things for me  and i like libertarianism but at some point it becomes anarchy  everyone is on the spectrum but the media we use kinda inherently puts us in bubbles because of these algorithms that try to feed us more of what we like    i ve longed for the old days of google where everybody got the same search results     everybody watched the same guy on the news every night   now everybody s become super polarized because we ve each developed our own echo chambers  that seems to be a result of our first past the pole system   and a ranking election system i feel would work a lot better but i digress     i consider myself in the middle leaning towards the left  i like bernie and his ideas but also we have to pay for it somehow      and i want you to smoke weed and marry your lesbian girlfriend on your own property while firing your rifles   but i also want those rifles registered and for background checks to be performed    every citizen to have basic science and arts education    regular mental health check ins and the ability for the police to revoke your weapons with a judge s consent    so like i love freedom but like also people be crazy so we need laws and enforcement   maybe people we elect to argue these laws and have studied them for years in college   who can state their beliefs and reach the great compromise    why does this sound familiar   sure the whole 2 3rds person thing was a problem   but we re not our parents or grandparents and this is part of the great experiment   australians have more guns per capita now than they did before their  assault weapons ban  followed by massive regulation and people turning in their unregistered or illegal weapons for government compensation  basically you could take your illegal rifle to a government point and you could sell it to them for the market value of the weapon  i honestly think that s a pretty good way to go about it and a model that we could follow     they have more guns in more people s hands but no mass shootings    so we could remove that embarrassment from america s facade and image    i feel like it s become a running joke that we have shootings in our schools daily and nobody cares   parkland kids started killing themselves because i think they see what i see and how polarized and awful the environment has become for everybody   my point is they have a successful gun control program without affecting legal owners and it works  common sense gun control is effective  and the nra is awful  not to mention i own a weapons  myself    more than a few rifles  two pistols and a shotgun  i love the second amendment but i feel like it s being abused   it was designed for times with muskets and technology has gone so far that       let me put it this way    if you need an assault rifle to take down a deer  you either really like lead and steel and copper in your food  or just really suck at shooting     i have a 22 target pistol that i really like because of the low kick back and i can put a lot of hurt in a little space in a short amount of time   same with the 9mm     my point is i want to talk to the government once a year and if i get in trouble with the law    i want my weapons taken away    because there are people out there much crazier than me and i would want the same rules applied   obviously the inner semantics of figuring out the rights of people would be hard but it s something we have to face and we have to recognize the influence of outside organizations like the nra   i guess what i m trying to say is i m sorry    i wasn t trying to offend you    and we need to work together to try to find a solution       or at least convince the people we elect  of the idea of having the great argument with each other rather than just painting smears and caricatures of each other    lt  3  i am a scientist displaced by the removal of scientific research into climate change    i m sure you re aware of the   administrative changes at that level around two years ago   i want to move to another country because i m embarrassed   and i m scared for the future of science and engineering in this part of the world   but i want to stay because i recently acquired a dream job and generally in the past that s put me in a position to hire people from other countries to really make america great again   you might have heard of them   it s a little start up that likes to land its rockets    not really a big deal   i m italian german  but american first  we are a country of immigrants  except for the obvious indigenous exceptions    sorry people who aren t white  we need to celebrate each other s heritage and each other s prosperity also bettering the land of freedom our ancestors or ourselves travel to   the owner of fox news is famously an immigrant and went before congress to testify in favor of laxing immigration policies     when did our melting pot become queso blanco   i want some flavor and some funk in that cheese   give me what only america can and give us   the best of the world not just the best of our rich  ethnically blessed few    the southern switch and the rise of fundamentalism and religion in conservative politics has poisoned conservative and libertarian ideas to a point where it is unrecognizable and lincoln would be ashamed of the party that republicanism has become      sorry for the ramble and i hope we can continue this tomorrow when i am both the more sober and had some time to think on this   god bless america and goodnight my man  keep fighting the good fight   edit  grammar and typos and stuff ',\n",
              " 'weird flex but okay',\n",
              " 'terran campaign is free ',\n",
              " 'she said roast not cremate god dam',\n",
              " 'how about not buying it and complaining about it in a forum rioters usually hang around in ',\n",
              " 'why  are you assuming western europeans abort more   the major thing explaining the difference in crime rates is quite obviously gun control ',\n",
              " 'gt  maybe top 5 and 4 get 30  top 3 and 2 get 60 and the champions get 200 or so   lol  dude do the math  this would devaluate apex coins so much no one would spend a single dollar   why spend cash when you can just craft your favourite skin with no effort at all ',\n",
              " 'you seem like a very caring and wonderful person  thank you for being there for others ',\n",
              " 'there it is   and of course it s someone with patriots flair ',\n",
              " 'i think that is a great quirk ',\n",
              " 'top floor apartment  not too uncommon ',\n",
              " 'is maduro backed by russia ',\n",
              " 'nerdy chicks are hotter ',\n",
              " 'hello  u secret_path_yt   thank you for your submission  unfortunately your account does not have enough karma to submit things to  r videos at this time    r videos requires users to have a minimum of 10 link karma   and   10 comment karma  we suggest that you comment in some popular threads and make submissions to other subreddits to build up your karma and then come back   we are sorry for any inconvenience caused  and look forward to your submissions in the future            i am a bot  and this action was performed automatically  please [contact the moderators of this subreddit]  message compose  to  r videos  if you have any questions or concerns  ',\n",
              " 'i should do this to make sure my kids are provided for ',\n",
              " 'shut the fuck up ',\n",
              " 'is there a version of r bestof for borderline illegal comments ',\n",
              " 'stop posting on here and work on petscop 2',\n",
              " 'gt  forced everyone to comment on it   guys i really  really don t want to complain on the internet but i literally have no choice ',\n",
              " 'can t say i m confident at the nou camp but i trust the team to come away with a result personally ',\n",
              " 'omg bishop would wipe the fucking ice with that punky little shit ',\n",
              " 'i m not too great at modeling as i more so work in texturing and premade assets  so the apex pack is a little wonky but i tried haha  here is the link for a 4k version  feel free to use as a phone computer backround or in videos etc  [https   www megaupload2 com 54902da4725e09e5] https   www megaupload2 com 54902da4725e09e5 ',\n",
              " 'if you have 3000 kills and 150 wins you should absolutely know how many fucking robots play this game lol you are vastly overestimating the majority of the player base there dude  and i ve done it to enough teams  and had it done to me plenty of times  farming damage and shields would become synonymous  the other guys solution was just better homie  faster rez is more balanced and more reasonable ',\n",
              " 'of course she can masturbate  but you are advocating he buy a 12 year old child a sex toy ',\n",
              " 'unsullied just became 10 000 wights though ',\n",
              " 'makes for a coolish slo mo effect',\n",
              " 'shut the fuck up ',\n",
              " 'sjws    its wrong to shame people for their gender identitiy  homosexuality  and sexual preferences    also sjws   its righteous to shame incels for wanting scantily clad mk ninjas ',\n",
              " 'wait  we re you praying for death because you were afraid of dying  that doesn t make any sense   or we re you just so nauseous that you wish you could die  sorry i don t understand ',\n",
              " 'i mean  there s a 5 star hiac match  the match type itself isn t what s making the main roster bad ',\n",
              " 'sniper must ve gotten harden',\n",
              " 'i find it odd that six months ago venezuela wasnt on anyone s radar in the us and now its used as a talking point of both sides to reinforce their own political biases   the right loves to point out venezuela and say  look thats what socialism does      when the maduro regime is a full blown dictatorship   unlike venezuela almost all socialist countries are democratic   maduro has banned oposition from running in election and stripped congress of power   thats not democracy   socialist or otherwise   which isnt to say i support socialism   im not   also most of the dnc would be right wing compared to latin american socialists   then on the other side of things you have leftists claiming maduro is a legit guy and everything would be fine without us sanctions   again not true   venezuelas problems started long before us sanctions which began with obama in 2016 and only targeted corrupt  individuals not venezuela as a whole   millions of people had already fled venezuela long before trump and the us media started paying attention   trump and cronies may be looking to take advantage but venezuela s problems began in venezuela and continue because of maduro ',\n",
              " 'but then you meet sam ',\n",
              " 'nta that s pretty sexist of them tbh',\n",
              " 'i can t find anything that says he even finished college  do you have a source on this ',\n",
              " 'well  consdering most of it takes place in high school  i dont know   im thinking just maybe there is less meeting in person for situations to    arrise   because people are in constant contact and meet up less  maybe ',\n",
              " 'i don t know if being from europe has anything to do with it  but i can t believe shooting someone as he is getting away is viewed in the us as justice  yes  he is in the wrong but does he deserve to die when he is no longer a threat to the resident s life ',\n",
              " '2 20                                                                                         ',\n",
              " 'rockets resisting the urge to cry on the refs so they can finna say they truly are victims  ',\n",
              " 'i don t care what anyone says here or assumes about me  if the drum gun wins  i d be the happiest man alive  god i miss that gun and the sound of it  although just to play it on the safe side  update their rarity to legendary epic because a gun as op as drum gun shouldn t be a rare uncommon  to nerf it  they can reduce the magazine and fire rate on it so it doesn t shred builds as quickly  make the spawns as frequent as a scar  or less to it ',\n",
              " 'gt  but you married a manchild  second husband and she picks this jackass  i don t want to be too judgemental because i do not know their full story  but how do people like her  pick such lame ass fools     gt  who s the more foolish  the fool  or the fool who follows him  ',\n",
              " 'jokes about abortion  they always bring out the kid in me ',\n",
              " 'i think it was cause they showed steph checking in and they taped two fingers and he must ve thought that meant he dislocated both',\n",
              " 'warren is struggling to raise money from small dollar donors  at this point  she is only splitting the vote between her and bernie which gives biden  corporate joe  the nomination ',\n",
              " 'the vietcong repelling the american militarily though   ',\n",
              " 'does this thing have any processing power  i mean you cant fit a decent grafics card in there',\n",
              " 'naw  give him to our girl sansa to deal with  she ll do the job right  just ask uncle petyr ',\n",
              " 'you dont seem to be listening  pls listen  i know you never said i was a scrub  i jist got the vibe you assumed so  now  the enhanced version of his spear buff   not the regular spear  the spear buff  where the spear stars to burn  the ex version does nothing in mk11  go check  it has no special property ',\n",
              " 'maybe he had a legendary armor',\n",
              " 'oh god her whining in the crypt about dany when the world is ending   that honestly did it for me that was the final straw',\n",
              " 'ya gotta love wieners   ',\n",
              " 'you look the opposite of virile  so how someone like you managed to have 3 children is beyond me ',\n",
              " 'because they are retarded',\n",
              " 'i haven t checked in a while  if so i am so getting the dlcs to play it ',\n",
              " 'i totally agree  it was just hard to phrase the title without sounding like al isn t a genius  so in the end i settled for the quotation marks  to indicate the irony  guess it didn t work    ',\n",
              " 'yeah it was an above average episode of barry against a below average episode of thrones  and they re both great shows',\n",
              " 'i have not come across any liverpool fans in any way excusing this  either on here or on the liverpool sub    i get that you re pissed that chelsea are treated differently on here  and rightly so  but this is a mod issue  not a fan issue   by the way  these guys in the video are compete cunts',\n",
              " 'just get barr out of here and be done with it',\n",
              " 'she can t do that  shoot her or something',\n",
              " 'the vampire facial  otherwise known as a prp  platelet rich plasma   so they like put blood out of their bodies for their face  so like health sacrifice for beauty  no idea if it works i know nothing about the beauty industry ',\n",
              " 'on mobile and not wanting to go adding links and all  but national gdp is up into 4  which is great  unemployment is down below 4  which is the lowest it s been in a couple decades and job openings are up 26   something is working ',\n",
              " 'there was a lot more to it  i just made it short  to summarize    he got pulled over  cops thought he was reaching for a gun and began to assault him  he fought back and broke one s jaw  they searched the car found the drugs  arrested him on charges of assaulting an officer  drug trafficking  and other weird shit but never mirandized him     amp  x200b   these things do not move fast when you have conflicting witnesses and evidence  the state then had to try to make the charges stick but couldn t get around the unwarranted assaulting of a citizen arrest without mirandizing him  they searched his vehicle on the assault pretense to discover the drugs which they then charged him for also   his attorney had to argue all of this while the state tried to cover its ass and make the charges stick     amp  x200b   3 years of his life  yes  he was breaking the law  but that doesn t mean an officer can not follow proper procedure and send you to jail for other charges that were discovered created by their incompetence     amp  x200b   money is why he made it out and changed his life  many others do not get the chance to change their ways ',\n",
              " 'what s it like to hate people because they re poor ',\n",
              " 'that s not burying the lead  that sentence is the third most important detail in the article ',\n",
              " 'yeah  the fda had to intervene',\n",
              " 'was tyrion really the best of them ',\n",
              " 'but if you get in a bad mood after then therefore it doesn t  only  happen after  as your first statement claimed ',\n",
              " '10    10                               ',\n",
              " 'wikileaks referred to the panama papers as an attack on putin produced by occrp which is funded [in part] by usaid and a soros organization  is there something fundamentally incorrect about this outside of potentially undue emphasis on putin explicitly and specific donors to occrp   us leaders were notably absent from the panama papers  no  while the statement arguably plays to specific conspiracy narratives of behind the scenes involvement by the us government and soros  i m not sure i see the fundamental harm with bringing up a point that  in effect  is a call to be critical of motives and potential conflicts of interest  it seems unfair to paint it as nothing more than a soros conspiracy driven paranoia ',\n",
              " 'absolutely not  i ve had 16 year olds with breasts the size of your fucking head come onto me and pursue me actively   i m supposed to deny that  completely completely different if she was 14 or 13  but 16  where in some countries they re considered a straight up adult  disagree   disagree ',\n",
              " 'i mean  that first model looks like it would stick out like a sore thumb in the real world  if looks like something we d get from the people behind the rocky and bullwinkle movie   my guess is also that sonic isn t actually going to be from another dimension in this movie  but actually a mutated experimented hedgehog  hence the shift to try and make him  realistic  ',\n",
              " 'i mean it s a troll that you re just giving more attention  they re just gonna keep going with it',\n",
              " 'writer   write a       teachers   oh shit that s deep',\n",
              " 'wow   i guess all those  i m venezuelan  and i want the coup  redditors should have been out on the street yesterday instead of on reddit misrepresenting guaido s support with the military ',\n",
              " 'downvoted not for being wrong  but for not understanding why that is  it s not because he makes way more contested 3s  he doesn t shoot contested 3s in order to make the shot  it s to get the foul  and i m not saying he can t shoot  i m not an idiot  i m saying contested 3s are a staple of his game mostly because of the foul shots they bring him  this is not a controversial opinion  this is evident in statistics  the eye test  the box scores  you name it and it follows the pattern perfectly ',\n",
              " 'you were fighting bots',\n",
              " 'i thought of that but seeing the preview for one of the three coming episodes i  as much as would like it  don t think it s happening ',\n",
              " 'the sign isn t even weathered in the slightest yet the op is acting like they ve driven past it for several days    amp  x200b   sorry  not buying it ',\n",
              " 'much harder and like 6 guys piled on top of him    poor steve',\n",
              " 'oh well  i never use my eyes  back up camera and 170 degree motion sensors  the sensors pick up shit way outside of my visual range so i ve come to trust it ',\n",
              " 'looks like a genuine dog s leg that s been cooked ',\n",
              " 'anti competitive  anti consumer practices  non existent store security  no 2fa or geolocking  none of the expected storefront features for a 2019 product ',\n",
              " 'no  that isn t what this is like ',\n",
              " 'tbf it is exactly what capitalists did according to the theory of primitive accumulation',\n",
              " '1  rookie   2  theshy    3  teddy    4  faker    5  jackeylove    6  caps     7  doublelift    8  wunder    9  khan    10  clid    11  jensen    12  zeros    13  perkz    14  ning   15  betty   16  rather    17  jankos   18  duke    19  naul   20  hanabi     when i think of top 20 players   i don t rate supportive players at all     imo it should always be star players tbf to everyone   this is just my opinion on lists',\n",
              " 'man i wish i wrote my diary when i was a kid  my innocence back then was probably cute af',\n",
              " 'yeah  if a few years of faceless man training making anyone a fantasy jedi basically destroys any and all world cohesion  if it was that easy to become that strong  their would be no slavery  no despots  the faceless men would just train an army and destroy all of it ',\n",
              " 'sequential drawings with dialogue for the purposes of humour printed on thinly sliced wood  exuberance was had   congratulations mr  pyle  many thanks for the wonderful art and i wish you the best ',\n",
              " 'because software development  or anything dealing with employees having high skill level  isn t an industry where you just hire someone after posting a  help wanted  ad and they come in creating skins and maps day 1  if they are paying you  100k to  200k a year  you better believe they are going to do some research on you before the even talk to you  interviews have to be done and people have to be vetted to make sure they are getting the best fit for the job  and overall this takes away from how fast content gets put out because normally they have people who are working on the actual game selecting applicants and conducting interviews   i could go into more detail on how that person has to be trained and how content has to be tested  debugged  and balanced before it makes it into game but that would take all day  in short  even if they hired people after they realized how successful apex was  those people probably wouldn t have been able to make meaningful content for the game until possibly season 2 or 3   the point i m trying to get at is apex feels like a beta because no one  not even respawn  knew how it would go over with gamers  and i don t blame them for not adding much content because had it flopped from jump  they d be sitting with millions of dollars of work with nothing do with it  and that s a waste of money ',\n",
              " 'op addressed in their post why her getting caught by the 12 walkers supports the way things went down   i m with op  you can dislike how it went down and feel like you had a better way you would ve written it but the way things turned out was well supported in the show and doesn t break the logic the show has set out   op is not saying it was good or bad  just like i m not  they simply said the event was supported by the logic set out by the story ',\n",
              " 'as a reminder  this subreddit [is for civil discussion ]  r politics wiki index wiki_be_civil   in general  be courteous to others  attack ideas  not users  personal insults  shill or troll accusations  hate speech    any   advocating or wishing death physical harm  and other rule violations can result in a permanent ban    if you see comments in violation of our rules  please report them          i am a bot  and this action was performed automatically  please [contact the moderators of this subreddit]  message compose  to  r politics  if you have any questions or concerns  ',\n",
              " '',\n",
              " 'ummm   ketchup on everything boi ',\n",
              " 'it s quality of life  from what i ve seen  is pretty good  they can have spinal problems and hollow chest issues  but the same can happen to humans with similar genetic dwarfism ',\n",
              " 'xinjiang is a buffer state connected to 8 foreign borders  china cannot afford to piss off any of these or let it fall to revolution  also the revolutionary force is freedom first  islam second  also the  re education camps  are closer to concentration camps  in the 50s they got all the leaders and fucked them into the desert to die  i understand that human rights can t be implemented into china for economic and geopolitical reasons  and for those same reasons like i said  xinjiang cannot fall  so it s a fucked up and muddy situation with no clear good and bad side',\n",
              " 'you should check out this book by gabriel kolko called  the triumph of conservatism   the usa has never had anything like  liberal revolutions   instead  movements like the progressive movement  and even the civil rights movement  were more evolutionary than revolutionary  they were more compromises with capitalism than movements that genuinely changed the system     maybe the uk or another country had more revolutionary reform that worked  and i m not cognizant of it  help me out and point some out for me ',\n",
              " 'i figured she was in the tree',\n",
              " 'see if my dis calls bleed to death or moon to heaven',\n",
              " 'i don t play him so wouldn t know exactly just pick the variation that supports your play style and utilise the acid of the ex slide ',\n",
              " 'its grasping at straws though  how many posts have been on this sub with scenes from past seasons with vague quotes to spin them to justify the scene  also calling someone who disagrees with you butthurt instead of trying to justify the point presented is so immature and ignorant ',\n",
              " 'topics like these attract regressives  the type of person that thinks any dissenting opinion should be silenced  the majority of genz is better than that and open to discussion  but this sub doesn t just have teens watching it ',\n",
              " 'they moved him back the following week to stay with charlotte  they also moved alliester with them so he can stay with his wife ',\n",
              " 'because democrats are amoral  they murder their own staffers  seth rich   they cheat   ballot harvesting   they steal  aoc s boyfriend on govt payroll  mad maxine s 7 million dollar estate despite her having 0 work experience and a 100k govt salary   do i need to go on ',\n",
              " 'and that makes it ok to feed to children because    ',\n",
              " 'then you re lucky and have young people reactions  https   www youtube com user pndketchup  there s the link to their youtube page',\n",
              " 'something tells me he s part of the 40 ',\n",
              " 'of course  1 idiot acting like a prat means it s an issue with the nation as a whole ',\n",
              " 'and  people are allowed to be mad',\n",
              " 'lol   i can just make out that bear over by the wood pile ',\n",
              " 'this is immensely good  inshallah brothers ',\n",
              " 'dude i m just fucking glad you didn t actually die at the end of american history x',\n",
              " 'it s possible to support the venezuelan proletariat while still lending only a soft support for maduro s management   as far as rojava goes    owned i guess  who knew that anarchists could be pragmatists within certain  ultimately difficult and deeply subjective  parameters by which principled positions must be reconciled with material realities  like say  for instance  all of the last 150 years which saw tentative solidarity with international socialist liberation struggles all over the world',\n",
              " 'i was actually going to make the same statement about dr  henry jekyll and mr  edward hyde being the better example  but seems you beat me to it     the reason i view jekyll and hyde as being a better portrayal of split personality is because  unlike the incredible hulk  dr  henry jekyll doesn t go through any physical transformation when the edward hyde personality takes over ',\n",
              " 'people used it against me at least 5 times so far and i never had issues with it tbh',\n",
              " 'and nibble while your dripping pussy is taking three fingers deep',\n",
              " 'i watched full metal jacket yesterday',\n",
              " 'you should look up lindsey graham  you don t need to prove a crime to prove a president is unfit for the white house quote    though when he said it  he specifically meant a democratic president  not a god given republican president ',\n",
              " 'he s probably trying to deny his own sexuality  also  this is not common  this is the first time i have heard of this ',\n",
              " 'can i offer 5k for the plasma riffle ',\n",
              " 'how is this nsfw ',\n",
              " 'it s crazy how much i can t stand warriors fans now  they used to be really cool',\n",
              " 'unrepentantly  isn t  it is ',\n",
              " 'going through exactly the same thing  wish i had some good advice to give  nothing really works unfortunately  i m doing the distancing myself thing also  seems like the only way to go  i m tired of feeling so miserable over how much i care about someone  there s no point in wasting yourself on someone else who doesn t feel the same  doesn t mean you can t be friends  just no more of this talking everyday  best friends bullshit  you just gotta distance yourself and move on ',\n",
              " 'van dijk will shut messi down',\n",
              " 'pedophiles  i mean i don t like those guys but i don t see the link with people who need to keep a control on others  pedophiles go by their sexual drive  i don t see them as the same type of people   where did you read about the correlation of the three ',\n",
              " 'dallas fans tip only 15  at restaurants',\n",
              " 'you do not know de wae  ',\n",
              " 'gogo yubari  that you ',\n",
              " 'it must suck being such little bitches ',\n",
              " 'you appear to have submitted a common or unoriginal thought  as such  it has been automatically removed             important    please read [our rules] https   www reddit com r showerthoughts wiki rules  and [the faq] https   www reddit com r showerthoughts wiki faq  before messaging the moderators    please also [do a google search] http   www google com  for your thought to ensure that it is both original and unique             i am a bot  and this action was performed automatically  please [contact the moderators of this subreddit]  message compose  to  r showerthoughts  if you have any questions or concerns  ',\n",
              " 'gt nfkrz liked   the one good channel to come from a group of shitty commentator channels',\n",
              " 'i would imagine i would    actually like the game  better       amp  x200b   it just does not seem fair that for some stupid reason there exists a weapon upgrade for 3 weapon types that explicitly hard counters the primary ability of a single character   amp  x200b   this would be like getting a barrel attachment that can shoot wraith while she is phasing  or could bypass gibraltars shields     amp  x200b   or a gold helmet attachment that made the user immune to caustic gas or able to instantly tell that mirage clones are fake  with a ui indicator    amp  x200b   those attachments plus the knowledge that you actually can make the smoke see through with a setting that keeps me from touching bangalor at all  ',\n",
              " 'so  if it was their son vrother grandson  would that be funny as well ',\n",
              " 'i agree   how many people were just blown up ',\n",
              " 'kids nowadays are will know about  the boston scoot party before the boston tea party',\n",
              " 'nta   amp  don t let anyone make you believe you are one for feeling uncomfortable with this situation  i m a straight woman  amp  i wouldn t even feel comfortable sharing a bed with another straight woman ',\n",
              " 'yes i m just a mindless drone that will like anything fed to me  you re entitled to your opinion and i won t call you a mindless moron for it  maybe a crybaby but only once lol',\n",
              " 'if you re afraid of what she will do  check with your state laws for recording purposes  if it s a state where the other party doesn t need consent to record  record while breaking up with her  take photos of your body and make sure it s time stamped  if she assaults you  take photos  should be enough for at least a restraining order until more legal issues arise',\n",
              " 'yes  the senate hearing was scheduled for today a while ago  it just got far less coverage because it didn t have barr threatening to back out ',\n",
              " 'hahaha  bro accept it  more and more are leaving  it s a toxic working environment  i too am surprised that they perform for nazis in saudi arabia ',\n",
              " 'what about sex work that helps two disabled people have sex together  your idea of sex work assumes that the sex worker is always the one having sex  and that just isn t true  two consenting adults that are wheelchair bound etc  shouldn t be deprived of that part of their relationship because of their physical abilities',\n",
              " 'it would take away individual skill from players  if you had an op coach with insane macro and game knowledge  you could get 5 raw mechanically talented players and make them an op team   whereas if they didn t have the coach  they probably would ve been your regular challenger team    what separates great teams from weaker teams isn t much micro compared to macro  world class teams have individual players skilled both in micro and macro  and they have learnt to play as a 5 together with cohesion and teamwork  they have an identity of how they play league  their macro is really good that they don t need a coach to tell them what to do  but if they did have an in game coach  polishing macro even further  games would be higher quality    make it a 6v6 with a coach operating a team you could take 5 extremely mechanically gifted players and an op coach and make a super team  whereas if you had the same team in esports how it is today  you would just have 5 extremely mechanically gifted players who could have low end macro compared to their competition and fail to close out games  it would be harder to improve macro as they would have to improve it outside of games  in practise and have no coach to babysit their macro in game  they would have to actually learn macro    adding a coach to league games would overall make teams stronger  but take away the beauty of individual macro knowledge within the players  if the coach was really fucking good  if 2 teams with equally similar skill faced  mechanically  it would be a coach vs coach macro game with some macro input from the players of course since they re pro gamers ',\n",
              " 'i hated the promo   i m done with these ridiculous  lengthy monologues in pro wrestling   he sounded so obviously scripted and nothing about it just felt like a stream of consciousness   it felt like a guy who d sat around writing himself a little speech and then proceeding to read it while dramatic music plays   the absolute last thing i want in a pro wrestler ',\n",
              " 'just got named whl defenseman of the year ',\n",
              " 'yea cuz that happened',\n",
              " 'let s go through a little thought experiment here   1  create one or more throwaway accounts every couple of weeks   2  never post or comment on anything during those two weeks   3  go to r unpopularopinion and post  as a black person  a story that is such tone deaf bullshit that not only do i not believe you are black  i question if you even know any black people to any really degree     4      5  profit   r quityourbullshit  try harder next time ',\n",
              " 'they don t wanna tell us that we re in wwwiii and have been since the twin towers  war in afghanistan  look around you  everything dried up and shit quality cos the spending and efforts are going towards arms ',\n",
              " 'honestly  i don t think you need to do anything other than stop apologizing to him  i wouldn t give in to his little tantrum  the more you apologize or give attention to his issues  the more it ll seem like you re justifying the way he feels ',\n",
              " 'info  did you text her about this  i don t think you re wrong for having a discussion with her about this  but the channel  amp  how you present this topic matters  this is a heavy conversation  she s a preteen  amp  she s obviously going through some emotional upheaval if she is reaching out to you in an attempt to reconnect  i don t think this type of conversation is appropriate to have over text between adults  but especially not for an adult to text this to a child ',\n",
              " 'gt  take away people s desperation  you also take away their motivation to commit crimes    people will do anything at anytime for any reason ',\n",
              " 'haha cop dead funny is one of the highest forms of humor ',\n",
              " 'please explain this to sharks east  please',\n",
              " 'libtards  repubtards  they are all the same  just a difference in how the see things ',\n",
              " 'its sounds lazy but also still metal  i d listen ',\n",
              " 'who cares about them anymore  they just got killed by a teenage girl  they can t be taken seriously as a threat anymore ',\n",
              " 'your comment has been removed because it violates rule 1  [be civil] https   www reddit com r amitheasshole wiki index wiki_1 _be_civil   please [review our rulebook] https   www reddit com r amitheasshole wiki index  before posting again   [message the mods] https   www reddit com message compose to  r amitheasshole  if you have any questions or concerns  please do not reply to this comment with an explanation  argument or apology and instead use modmail ',\n",
              " 'where we disagree is on how you seem to view  human conflict  as it s own separate part of the story  you think that the walker plot is the sub plot because it doesn t have  enough  human conflict  and the war for the iron throne as the main plot because it s solely between humans  i disagree  the walker plot is riddled with human conflict in both the show and the books ',\n",
              " 'reported because this is a personal attack against me  s',\n",
              " 'same from me happy late cake day',\n",
              " 'problem is  they cost an arm and a leg  yes  it s the price of innovation  technology is expensive  etc  but look at xiaomi today  look at huawei  look at oneplus  a few years back  just like samsung  they re based in asia  have access to the same parts  but manage to make great phones that don t break the bank  although those oneplus 7 pro leaks are frightening my wallet   samsung makes decent phones  sure  so does any brand   it might seem like i m just hating on samsung  but the same goes for huawei  yeah  p30 pro   apple  duh   oneplus today and so on  what i specifically want to point out is that samsung today only releases expensive phones  be it their note or galaxy series ',\n",
              " 'and there s no law requiring you to use their definition',\n",
              " 'gcw now is what ecw was in the 90s and roh in the 2000s ',\n",
              " 'my experience is quite different  i tend to have interesting  wide ranging conversations on it  but even what you describe isn t an anti social effect like cocaine has  nobody wants to fight when they re stoned  but coke makes a lot of people aggressive  i mean  antisocial  in this sense    gt anti social behaviours are actions that harm or lack consideration for the well being of others [1] it has also been defined as any type of conduct that violates the basic rights of another person[2] and any behaviour that is considered to be disruptive to others in society [3]  https   en wikipedia org wiki anti social_behaviour',\n",
              " 'i honestly don t even hold that view against people anymore  some people have seriously been harassed over and over for their skin color  clothing choices  etc    talk to someone who has systematically been singled out over and over by multiple cops from multiple precincts  and it makes sense they d feel that way  most aren t coming with it out of nowhere  and base it on a multitude of experiences all going down the same way   it d be like getting mad at someone for trying corn over and over  hating it  and not giving it another chance other than their past experiences  what else can they base their outlook on ',\n",
              " 'you left out explicit quotas   cops and their supervisors have been documented arresting people in order to make department quotas   i ve read about this in nyc for arrest quotas for drugs  and some towns like ferguson  where michael brown was shot  depend on fines from arrests for petty offenses to make their budget   so this happens a lot ',\n",
              " 'have you truly forgiven her  what does forgiveness mean to you   are you at the point right now where you are certain you want to break up with her  remember that whatever you do  there is no going back  there are no trial runs  once you break up with her  you must assume you will have zero contact with her from that point until forever  remaining as friends is not an option ',\n",
              " 'i love your posts pk  but goddamn are they depressing ',\n",
              " 'when did i say that      i was referring to 2016  i think  that one season when aj green had like 800 yards and 4 tds  missed a bunch of games  and still made the pro bowl  cooks definitively had better stats that year with the saints     amp  x200b   ps    dude u gotta read what ur replyin to and not misspell shit like  braindin  if you wanna call dudes dumb   ',\n",
              " 'should have been matching minors  a slash and a bitch ',\n",
              " 'he just jumped right into my car onto my lap when i opened the door  such a cutie  ',\n",
              " 'no one pick the sword  pick drummy',\n",
              " 'thank you for taking it down ',\n",
              " 'it s almost like giannis is a better player than kyrie      lmao',\n",
              " 'i watched a line of bikers go down on a chick one after another  they each payed a dollar  it was disgusting to say the least ',\n",
              " 'didn t his wife have a big part of getting him back on his feet ',\n",
              " 'like  any  film history  boy do i have some movies for you if that s the best you ve  ever  seen ',\n",
              " 'totally called that post history  you people are so easy to spot nowadays',\n",
              " 'excellent   yes  very excellent ',\n",
              " 'it s a valid  criticism  if that s the way he s taking it   i wasn t a fan of putting the title on him  but if they re going to keep it on him for any length of time  he s got to elevate himself along with it   leave the pancake tossing to woods ',\n",
              " 'now where is that esc key again ',\n",
              " 'he better win  i m banking on it',\n",
              " 'if she snuck up and killed him even more people would complain  in my mind the nk has some kind of spider sense so he d know she was coming and take her out before she could get close enough plus how could she sneak past the wws  she could jump over them with spring heeled boots or come down from a branch but not sneak past them unless she could turn invisible  she needed to challenge the nk to make him expose himself  he exposed himself for a second after jon s and daenery s challenges before brushing them off only this time he got caught in a zugzwang  sansa said she was the smartest person she knew  how she knew the nk s weakness for facing challenges and pausing once he feels he has the upper hand i don t know ',\n",
              " 'mobile os and or app developers should put a counter in the settings that tells you this ',\n",
              " 'trump and fox news ',\n",
              " '100  condescending  it reduced these characters to their gender  with no regard for their relationships to each other  powers  or support  it was absurd ',\n",
              " 'that s a proposed generation date decided by the pew research centre that was adopted by some us companies  generations don t have any  fact  status as they re subjective constructs ',\n",
              " 'proceeds to get shit on by wunder',\n",
              " 'it s cringy and unfunny af lol  id rather watch the office any day ',\n",
              " 'virgil at s oton was already a top 3 defender in the pl  it was laughable to suggest bailly was better  this is coming from a guy who didn t mind his team passing on him and instead went for mike vd hoorn a few years earlier because i didn t think he was good with space behind him  celtic virgil was already good enough to start for current united ',\n",
              " 'the enemy of my enemy is my friend ',\n",
              " 'i made a see through maze for my mouse henry   he was super smart   rip little buddy    [https   www youtube com watch v ov lnfaij3c] https   www youtube com watch v ov lnfaij3c ',\n",
              " 'that s like smoking a cigarette outside  if someone has to walk over to me and say its bothering them  and we are outside  they need to get their ass out of face lol  being next to them is one thing  just because the wind is blowing it in their direction  not really my problem   i m talking more than 15 ft  away ',\n",
              " 'dude that made me actually laugh  first good one ive seen on r funny this week',\n",
              " 'he s against having mandatory vaccinations',\n",
              " 'even if it wasn t supposed to  what stop it to be competitive ',\n",
              " 'they dont need a expensive part timer  they already have jericho ',\n",
              " 'oof  guess i am out of the loop  how bad is it in na  us servers   it really affected my willingness to play another round last night  cheaters suck',\n",
              " 'that s lil pump lmao',\n",
              " 'then go play fortnut  they re two fundamentally different games aside from being brs and fortnite wasnt even initially a br til they saw a market to make money off children with ',\n",
              " 'when someone said that everyone on r frenworld hates women and minorities ',\n",
              " 'you stated yourself in a [previous post] https   www reddit com r relationship_advice comments bi4yxe   you grew up in argentina and are currently living in germany ',\n",
              " 'those crutches behind you help your mom with the unbearable load of knowing her son is a complete piece of shit',\n",
              " 'i hope you are able to find peace within yourself in the next few weeks  i know it will be a difficult process for many hopefully you will take some time for yourself to begin the healing process  take care ',\n",
              " 'i m convinced sonic developers are just exacting revenge for the fanart ',\n",
              " 'absolute dog shit reffing tonight  no excuse for that turnover in our zone to give them the one up with only a few minutes left but holy shit are the refs phoning it in at this point and calling like absolute shit ',\n",
              " 'nigga this isn t hentai',\n",
              " 'by advancements socially  culturally and technologically by the human race ',\n",
              " 'not sure if that s supposed to mean a lot  or not at all  lol  d',\n",
              " 'dunno but i can telling it trading sideways for the past month is fucking lame ',\n",
              " 'i would have called it  beer for breakfast  but whatever works  haha',\n",
              " 'so girls can buy vibrators when they re 12 but boys cany buy fleshlights    111',\n",
              " 'harold s death at hastings ',\n",
              " 'we are here commenting on an article about a union backing biden  so i didn t bring it up  my point is that the right and centrism have spent the last 40 years killing unions  and it s absurd for a union to back another centrist who has taken money from union busting lawyers when there are excellent leftist candidates in the field like warren and sanders  it s really easy to follow what i was saying ',\n",
              " 'ahh bro my child was a blessing and your reply couldn t be further from the truth  it doesn t matter what went on in my life previous to him being born  the day he was born was the day i changed  pm me for clarification or the ending to the story ',\n",
              " 'the reichstag fire was not staged tho  the nazis did benefit from it but it wasn t staged  like how the us government used 9 11 for their own interests but it doesn t mean they did it ',\n",
              " 'be handmade for it ',\n",
              " 'or the government could do something   ',\n",
              " 'that lake  seems familiar',\n",
              " 'make america great again  again ',\n",
              " '002 is not my religion because i m not a degenerate  only horo',\n",
              " 'there are 10 trillion videos to post  this is posted to make a political statement and rile up racists  it s not a secret that the maga crowds dominate this sub   no one is saying that what she said wasn t stupid  but this is here as a dogwhistle  the most upvoted comments in this thread are pretty racist  and the downvoted ones are the ones that bring any kind of attention to the culture around what is happening in this video   edit  you prove me right with every downvote  and go look at ops post history  plenty of overt racism in there ',\n",
              " 'sheldon and raj had a baby',\n",
              " 'i m pretty sure that  kid  would have never had the opportunity to say no to unplanned pregnancy   ',\n",
              " 'the van was the portal connecting the two dimensions  tony said they need to shut the portal down',\n",
              " 'global warming  climate change  whatever they call it now is a myth ',\n",
              " 'no  keep the gas going',\n",
              " 'dirty diaper is on the table',\n",
              " 'so you don t believe in the impact of build up    i m merely stating that it is likely much less effective without it ',\n",
              " 'refs are slightly biased against the celtics  but they look like they got this anyway ',\n",
              " 'huh  they re all buffs  removing random strikes means you can freeze effectively now and not accidentally steal minions    your argument for new r makes no sense  blitz isn t a damage champ so it doesn t matter if the jax gets hit or not  it s meant for early damage in lane  i don t even know why you included the part about champs being able to dodge hook  that would be the same regardless',\n",
              " 'gotta make sure her parents get together at prom before she all the way disappears ',\n",
              " 'tranquility base hotel and casino  mark speaking  please tell me how may i direct your call ',\n",
              " 'that s is giving me distinct vibes of  shooting that happened to be at or near a college  versus the  school shooting  everyone is making it out to be ',\n",
              " 'the champions are the hound and the mountain     give me my cleganebowl  ',\n",
              " 'i put away 2 3 liters a day  just really like it  don t like alcohol or coffee  so i m not biting through lots of money  also not fat  helps me feel full ',\n",
              " 'did you see the scene right before where one of the white walkers hair is blown by a gust of wind  that s her sprinting past them  they show you her sneaking through the godswood right behind jon in the first episode of the season  she trains all her life to be as swift as a cat  she spends all of her time back at winterfell lurking around  she does the switching dagger hands is season 7  she is a member of the faceless men who seem to have almost superhuman abilities as shown by jaquen at harrenhall  they told us the episode before that they need to draw the night king in and somehow kill him there  arya is the one that asks if he can be killed by dragon fire  bran says he doesn t know so of course it s in the back of her mind that there needs to be alternatives  the prophecy the red woman gave makes this a pretty satisfying way for it to be done  yes she jumped pretty high and had to be moving pretty fast but god dammit if i didn t scream at the tv thinking that she was going to die to cheering and happy crying when she killed him  i ve read all the books and listened to them in audiobook form and watched the show multiple times and i will still say the show is better',\n",
              " 'not normal stone it needs smooth stone you need to smelt cobblestone into stone and then smelt stone into smooth stone',\n",
              " 'that looks nasty  not just bloodshot but is right eye has like a bloody spot',\n",
              " 'laughs in 150  used s8 active  ',\n",
              " 'more like four hours late lol  edit  why are y all mad  i m right',\n",
              " 'he broke his leg  it is not comparable to giving birth in the slightest ',\n",
              " 'i really wish i could pull off kombos in this game   i don t play as much because of it ',\n",
              " 'that s where you re wrong  kiddo ',\n",
              " 'there s not a single thing in the post that implies sexism',\n",
              " 'i m pretty sure ea pressured respawn to release the game early because they knew anthem was going to be trash  respawn also doesn t want to make their employees burn out  just look at the recent polygon article about fortnite employees working 70 100 hour weeks ',\n",
              " 'ngl it looks like shredder from ninja turtles',\n",
              " 'fuller house got 6 seasons   there s no rhyme or reason to what does and doesn t get cancelled on netflix ',\n",
              " 'donnie literally has   no   rational or coherent thoughts on any of those topics',\n",
              " 'he just put the race card against the wwe  the company he works where he indirectly said hazing with some kinda slavery  i don t understand how did he become a wrestler without understanding that very small thing   the tweet definitely isn t going to help other than fuelling the fire    sometimes talent isn t the only thing you need to posses  look it the miz ',\n",
              " 'what the actual fuck did i just experience   scenes of vietnam flash in his memory ',\n",
              " 'yeah that would suck ',\n",
              " 'this game is much less fun now ',\n",
              " 'wow  you read all 4 of those links in 9 minutes ',\n",
              " 'if she doesn t i sure do ',\n",
              " 'alright i officially have a fetish now ',\n",
              " 'the edits prompted the post  the edits say it was dany ',\n",
              " 'yes  read my other comments  there are hooligans and there are cunts  also  red star fans being bad doesn t magically justify liverpool fans being cunts ',\n",
              " 'um  they already aren t  passive modifiers are used but so far there hasn t been an instance where the ai called an assist while i was hitting them ',\n",
              " 'gt  shut up and dribble    u suprem3_d4d  probably',\n",
              " '',\n",
              " 'there are complaints that are obviously stupid  but some aren t   just an example  i actually liked that it was arya to kill the nk  but how she did was completely over the top  she didn t sneak to the nk  the faceless assassins are discreet   she just sprinted through all the wights and ww s without anyone noticing her and does a micheal jordan jump on the nk    amp  x200b   with her powers  she should be able to kill cersei and euron without any problems  plus  she could  force  daenerys to rule only over the 6 kingdoms and the north would be ruled by the starks ',\n",
              " 'here the best i can do on mobile and at work   jungling basic jobs    clear your camps   watching your lanes and assist if you see them being pushed hard   freeze minion waves when your lanes back   vision   control objectives  baron drakes    help take towers   counter gank   counter jungle  those are the basic jobs of a jungler  so champs are better at certain jobs  figure out your playstyle and pick champs accordingly   buffs  there are only 2 buffs in the game now    red buff  damage slow buff and health regen      blue buff  cdr and mana regen ',\n",
              " 'yes officer  this is the one right here ',\n",
              " 'well  consdering most of it takes place in high school  i dont know   im thinking just maybe there is less meeting in person for situations to    arrise   because people are in constant contact and meet up less  maybe ',\n",
              " 'the ones that love us never  really  leave us  you can always find them     touches chest  in here ',\n",
              " 'what a presumptuous comment',\n",
              " 'cha cha real smooth',\n",
              " '',\n",
              " 'i d love to take that off of you myself and then throw you onto your bed',\n",
              " 'and that s a bad thing because    ',\n",
              " 'who cares about them anymore  they just got killed by a teenage girl  they can t be taken seriously as a threat anymore ',\n",
              " 'you re wrong on that lol  gun violence has gone wayyyyy down ',\n",
              " 'is maduro backed by russia ',\n",
              " 'you re thinking of  mimic   and as long as you also have the emote  it s available on the wheel ',\n",
              " 'there was an interview to a bomber s player  don t remember who  where he said that his jungler  balkhan  almost didn t pick any champ because he didn t know how to write it in english  nautilus   this is not right riot',\n",
              " 'blues fans like to eat da poo poo',\n",
              " 'sequential drawings with dialogue for the purposes of humour printed on thinly sliced wood  exuberance was had   congratulations mr  pyle  many thanks for the wonderful art and i wish you the best ',\n",
              " 'only if he win     they don t have to worry about it if he lost ',\n",
              " 'im missing the reason  no one is watching it on twitch   facepalm',\n",
              " 'my fellow ifunny master race where u at           we must overthrow the infidels ',\n",
              " 'dubs are for scrubs lol',\n",
              " 'i did exactly this but she doesnt want to talk  i like live music  beer  and good vibes  we do go out and have a good time but shes taking this personal and guilting me and i dont feels its fair',\n",
              " 'oce region lul  this feels like solo q absolutely no communication between mid top jg  the dive top was too much to take ',\n",
              " 'i doubt it is as simple as that  the reality is that when you re deciding on a specific course of action  values need to be interpreted  and people interpret them differently  also when politicians are talking about values  they tend to be thinking about what their voters want to hear  their real views are often a bit more nuanced ',\n",
              " 'you say that  but look at bush and trunp  both complete idiots  but their voters are just dumber',\n",
              " 'can t offend vegans if they re all dead',\n",
              " 'that s an oversimplification of jon s character ',\n",
              " 'they do this too  right after the first hit  then they die before the next cooldown for the health ',\n",
              " 'i like your thinking',\n",
              " 'i would love to see a fortnite x pok mon collab ',\n",
              " 'the post has changed teams ',\n",
              " 'the problem is how to identify a facist  so far  the antifa group are violently opposed to free speech  free association  any opinion not in lock step with their own   they are facists ',\n",
              " 'if you think it was a brilliant piece of art you can not really have a say about professional criticism  sorry',\n",
              " 'i mean it s not the absence it s the biological substitution of a paternal or maternal figure  which is even worse for a young human mind',\n",
              " 'in front of a denny s   sorry  but this is art   thank you ',\n",
              " 'i once had to defend my step brother from my drunk father   i hit him three times in the back of the skull with a wooden baseball bat   good times ',\n",
              " 'it s sad how dishonest and irrational the gettleman haters have become',\n",
              " 'he floated the idea on twittwr when they announced booger was gonna be in the booth',\n",
              " 'hits on emelin martin and sedin were beauties  clean as fuck  and wingels had just tried to elbow marner in the head  come on now  marchands rap sheet dwarfs kadris ',\n",
              " 'i d guess that they left to defend the vale in case that winterfell fell',\n",
              " 'like hillary who was subpoenaed about the 30k secret server emails  ok  apply it retroactively ',\n",
              " 'on mobile and not wanting to go adding links and all  but national gdp is up into 4  which is great  unemployment is down below 4  which is the lowest it s been in a couple decades and job openings are up 26   something is working ',\n",
              " 'lol it s more complicated than you seem to think  believe it or not there is more to combat sports than just punching each other in the head  just like there is more to hockey than just scoring  you are grossly over simplifying the sport  i don t really care to continue this further though because i don t see you changing your mind and i have too much work to do to even be on reddit in the first place    fuck brad marchand ',\n",
              " 'it s not that they can t  but that most people would think  100 is expensive  you ve completely missed the point of what he said',\n",
              " 'short tsla  it s going out of business  buy oil companies',\n",
              " 'what i didn t watch yet djsjsja',\n",
              " 'lmao debate over  so one series changes everything ',\n",
              " 'the more i learn about the catholic church the more i m glad i don t practice anymore',\n",
              " 'same  i mean am 11',\n",
              " 'sjws    its wrong to shame people for their gender identitiy  homosexuality  and sexual preferences    also sjws   its righteous to shame incels for wanting scantily clad mk ninjas ',\n",
              " 'they signed jansen for this role but he s been shit   injuries   spurs need to be a lot smarter with their signings this window',\n",
              " 'because people are stupid  probably ',\n",
              " 'i want to hug this boi so much  but even more so i want to have him neutered to help control the pet population ',\n",
              " 'i absolutely agree  it s so weird and funny ',\n",
              " 'as a person who is coming close to the end of depression   i can say what helped me was  eating fruit and getting sunlight on my skin  also gardening and working out ',\n",
              " 'he was an unqualified candidate simply picked because he was a somali muslim  amp  rushed  amp  pushed through an inadequate training program approved by a democrat city administration  amp  democrat police chief purely for the sake of diversity  every single safe guard put in place to try  amp  avoid bad police officers was avoided  amp  ignored by the administration to try  amp  prove that a completely shit program based on progressive ideologies would work ',\n",
              " 'which is clearly not the case ',\n",
              " 'then stop complaining about the mass shootings and just accept it as a part of your  culture',\n",
              " 'oh gawd    trust sessions  and  stealth jeff  was a psyop to lull the base into thinking   stuffs actually happening behind the scenes by sleepy jeff   trust us  guys  there s 1 7 million sealed indictments that will send everyone in d c to gitmo soon   honest       give me a break ',\n",
              " 'am i the only one who gets goosebumps when eomer rallies the riders of rohan to set forth to gondor   now is the hour  riders of rohan  oaths you have taken  now fulfill them all  to lord and land ',\n",
              " 'omg bishop would wipe the fucking ice with that punky little shit ',\n",
              " 'well it was a little too convenient for all of the other characters to join the remaining ones for the final battle  but it was so awesome seeing everyone arrive  plus  i mean it s a movie lmao  so a certain amount of logic is thrown out the window  but i still couldn t help but notice it  regardless though  it was amazing',\n",
              " 'have you read it ',\n",
              " 'yta   why in the world would you not think to go talk to them  your first resort was to scream profanities at an infant  then call the dcf    you went from 0 to 100 extremely fast  completely skipping the first step which is to be an adult and talk to the parents ',\n",
              " ...]"
            ]
          },
          "execution_count": 156,
          "metadata": {},
          "output_type": "execute_result"
        }
      ],
      "source": [
        "cor = train_set['body'].to_list() + test_set['body'].to_list()\n",
        "corpus"
      ]
    },
    {
      "cell_type": "code",
      "execution_count": 158,
      "metadata": {},
      "outputs": [
        {
          "data": {
            "text/plain": [
              "97042"
            ]
          },
          "execution_count": 158,
          "metadata": {},
          "output_type": "execute_result"
        }
      ],
      "source": []
    },
    {
      "cell_type": "code",
      "execution_count": null,
      "metadata": {},
      "outputs": [],
      "source": []
    }
  ],
  "metadata": {
    "accelerator": "GPU",
    "colab": {
      "gpuType": "T4",
      "provenance": []
    },
    "kernelspec": {
      "display_name": "Python 3",
      "name": "python3"
    },
    "language_info": {
      "codemirror_mode": {
        "name": "ipython",
        "version": 3
      },
      "file_extension": ".py",
      "mimetype": "text/x-python",
      "name": "python",
      "nbconvert_exporter": "python",
      "pygments_lexer": "ipython3",
      "version": "3.10.0"
    }
  },
  "nbformat": 4,
  "nbformat_minor": 0
}
