{
  "cells": [
    {
      "cell_type": "markdown",
      "metadata": {
        "id": "QsepwKhXZQoV"
      },
      "source": [
        "## Reddit Toxicity Detection\n",
        "\n",
        "This dataset contains posts from various subreddits, with each entry providing information on the subreddit name, the text content of the post (body), its controversiality (indicating if it sparked significant discussion), and the score (upvotes minus downvotes) received by the post. It can be used to analyze user engagement and sentiment across different subreddits."
      ]
    },
    {
      "cell_type": "markdown",
      "metadata": {
        "id": "dH2jgYZ5ZUjF"
      },
      "source": [
        "### The Dataset has following attributes\n",
        "1. **subreddit**: The name of the subreddit where the post was made.\n",
        "2. **body:** The content or text of the post or comment.\n",
        "3. **controversiality:** Indicates whether the post is controversial (1 for controversial, 0 for not).\n",
        "4. **score:** The score (upvotes minus downvotes) received by the post."
      ]
    },
    {
      "cell_type": "code",
      "execution_count": 1,
      "metadata": {
        "id": "wZvlPPODZKc-"
      },
      "outputs": [],
      "source": [
        "import pandas as pd\n",
        "import numpy as np"
      ]
    },
    {
      "cell_type": "code",
      "execution_count": 5,
      "metadata": {
        "colab": {
          "base_uri": "https://localhost:8080/",
          "height": 206
        },
        "id": "hhUluWzhw6jd",
        "outputId": "6b520180-c471-4a70-ce4e-1a3e5719c506"
      },
      "outputs": [
        {
          "data": {
            "text/html": [
              "<div>\n",
              "<style scoped>\n",
              "    .dataframe tbody tr th:only-of-type {\n",
              "        vertical-align: middle;\n",
              "    }\n",
              "\n",
              "    .dataframe tbody tr th {\n",
              "        vertical-align: top;\n",
              "    }\n",
              "\n",
              "    .dataframe thead th {\n",
              "        text-align: right;\n",
              "    }\n",
              "</style>\n",
              "<table border=\"1\" class=\"dataframe\">\n",
              "  <thead>\n",
              "    <tr style=\"text-align: right;\">\n",
              "      <th></th>\n",
              "      <th>subreddit</th>\n",
              "      <th>body</th>\n",
              "      <th>controversiality</th>\n",
              "      <th>score</th>\n",
              "    </tr>\n",
              "  </thead>\n",
              "  <tbody>\n",
              "    <tr>\n",
              "      <th>0</th>\n",
              "      <td>gameofthrones</td>\n",
              "      <td>Your submission has been automatically removed...</td>\n",
              "      <td>0</td>\n",
              "      <td>1</td>\n",
              "    </tr>\n",
              "    <tr>\n",
              "      <th>1</th>\n",
              "      <td>aww</td>\n",
              "      <td>Dont squeeze her with you massive hand, you me...</td>\n",
              "      <td>0</td>\n",
              "      <td>19</td>\n",
              "    </tr>\n",
              "    <tr>\n",
              "      <th>2</th>\n",
              "      <td>gaming</td>\n",
              "      <td>It's pretty well known and it was a paid produ...</td>\n",
              "      <td>0</td>\n",
              "      <td>3</td>\n",
              "    </tr>\n",
              "    <tr>\n",
              "      <th>3</th>\n",
              "      <td>news</td>\n",
              "      <td>You know we have laws against that currently c...</td>\n",
              "      <td>0</td>\n",
              "      <td>10</td>\n",
              "    </tr>\n",
              "    <tr>\n",
              "      <th>4</th>\n",
              "      <td>politics</td>\n",
              "      <td>Yes, there is a difference between gentle supp...</td>\n",
              "      <td>0</td>\n",
              "      <td>1</td>\n",
              "    </tr>\n",
              "  </tbody>\n",
              "</table>\n",
              "</div>"
            ],
            "text/plain": [
              "       subreddit                                               body  \\\n",
              "0  gameofthrones  Your submission has been automatically removed...   \n",
              "1            aww  Dont squeeze her with you massive hand, you me...   \n",
              "2         gaming  It's pretty well known and it was a paid produ...   \n",
              "3           news  You know we have laws against that currently c...   \n",
              "4       politics  Yes, there is a difference between gentle supp...   \n",
              "\n",
              "   controversiality  score  \n",
              "0                 0      1  \n",
              "1                 0     19  \n",
              "2                 0      3  \n",
              "3                 0     10  \n",
              "4                 0      1  "
            ]
          },
          "execution_count": 5,
          "metadata": {},
          "output_type": "execute_result"
        }
      ],
      "source": [
        "## read the dataset\n",
        "df = pd.read_csv(\"data\\kaggle_RC_2019-05.csv\")\n",
        "df.head()"
      ]
    },
    {
      "cell_type": "code",
      "execution_count": 6,
      "metadata": {
        "colab": {
          "base_uri": "https://localhost:8080/"
        },
        "id": "Qt2fFk2Bw_bn",
        "outputId": "4b32f92a-c902-4734-b44b-fd5750d7ed81"
      },
      "outputs": [
        {
          "data": {
            "text/plain": [
              "(1000000, 4)"
            ]
          },
          "execution_count": 6,
          "metadata": {},
          "output_type": "execute_result"
        }
      ],
      "source": [
        "df.shape"
      ]
    },
    {
      "cell_type": "code",
      "execution_count": 7,
      "metadata": {
        "colab": {
          "base_uri": "https://localhost:8080/",
          "height": 209
        },
        "id": "yaIqiTy91zfT",
        "outputId": "7f1c8cb7-7052-4009-ef16-155bed4ed05f"
      },
      "outputs": [
        {
          "data": {
            "text/plain": [
              "subreddit           0\n",
              "body                0\n",
              "controversiality    0\n",
              "score               0\n",
              "dtype: int64"
            ]
          },
          "execution_count": 7,
          "metadata": {},
          "output_type": "execute_result"
        }
      ],
      "source": [
        "## null values\n",
        "df.isnull().sum()"
      ]
    },
    {
      "cell_type": "markdown",
      "metadata": {
        "id": "lDApcAhtZqzp"
      },
      "source": [
        "There are no null values"
      ]
    },
    {
      "cell_type": "code",
      "execution_count": 8,
      "metadata": {
        "colab": {
          "base_uri": "https://localhost:8080/"
        },
        "id": "Z624JtBW8NXd",
        "outputId": "1b60b8f5-93d1-4ce3-b12f-5bdf5512272d"
      },
      "outputs": [
        {
          "name": "stdout",
          "output_type": "stream",
          "text": [
            "['gameofthrones' 'aww' 'gaming' 'news' 'politics' 'dankmemes'\n",
            " 'relationship_advice' 'nba' 'worldnews' 'AskReddit' 'AmItheAsshole'\n",
            " 'SquaredCircle' 'The_Donald' 'leagueoflegends' 'hockey' 'videos'\n",
            " 'teenagers' 'gonewild' 'movies' 'funny' 'pics' 'marvelstudios' 'memes'\n",
            " 'soccer' 'freefolk' 'MortalKombat' 'todayilearned' 'apexlegends' 'asoiaf'\n",
            " 'Market76' 'Animemes' 'FortNiteBR' 'nfl' 'trashy' 'unpopularopinion'\n",
            " 'ChapoTrapHouse' 'RoastMe' 'Showerthoughts' 'wallstreetbets' 'Pikabu']\n",
            "\n",
            "Total number of distinct subreddit categories:  40\n"
          ]
        }
      ],
      "source": [
        "## Different subreddit categorirs\n",
        "print(df['subreddit'].unique())\n",
        "print(\"\\nTotal number of distinct subreddit categories: \",df['subreddit'].nunique())"
      ]
    },
    {
      "cell_type": "code",
      "execution_count": 9,
      "metadata": {
        "colab": {
          "base_uri": "https://localhost:8080/",
          "height": 428
        },
        "id": "AYeFt-Bo9Wk8",
        "outputId": "2b73a4bf-9c84-4d11-893f-5694d411d594"
      },
      "outputs": [
        {
          "data": {
            "image/png": "[encoded data removed]",
            "text/plain": [
              "<Figure size 640x480 with 1 Axes>"
            ]
          },
          "metadata": {},
          "output_type": "display_data"
        }
      ],
      "source": [
        "import matplotlib.pyplot as plt\n",
        "import seaborn as sns\n",
        "\n",
        "size = df['controversiality'].value_counts()\n",
        "\n",
        "plt.pie(x = size, labels=['Non-controversial','Controversial'], autopct='%1.2f%%')\n",
        "plt.title(\"Percentage of Controversial Comments\")\n",
        "plt.legend(loc = 'upper left', bbox_to_anchor = (1,1))\n",
        "plt.show()"
      ]
    },
    {
      "cell_type": "markdown",
      "metadata": {
        "id": "ktXQcUk-Z4mT"
      },
      "source": [
        "The dataset is imbalanced and therefore needs to be sampled into a balanced dataset"
      ]
    },
    {
      "cell_type": "code",
      "execution_count": 10,
      "metadata": {
        "colab": {
          "base_uri": "https://localhost:8080/"
        },
        "id": "swzDYs4U6o6C",
        "outputId": "27dceab0-8cf6-4969-ff36-1403200fa2a1"
      },
      "outputs": [
        {
          "name": "stdout",
          "output_type": "stream",
          "text": [
            "<class 'pandas.core.frame.DataFrame'>\n",
            "RangeIndex: 1000000 entries, 0 to 999999\n",
            "Data columns (total 4 columns):\n",
            " #   Column            Non-Null Count    Dtype \n",
            "---  ------            --------------    ----- \n",
            " 0   subreddit         1000000 non-null  object\n",
            " 1   body              1000000 non-null  object\n",
            " 2   controversiality  1000000 non-null  int64 \n",
            " 3   score             1000000 non-null  int64 \n",
            "dtypes: int64(2), object(2)\n",
            "memory usage: 30.5+ MB\n"
          ]
        }
      ],
      "source": [
        "df.info()"
      ]
    },
    {
      "cell_type": "code",
      "execution_count": 11,
      "metadata": {
        "colab": {
          "base_uri": "https://localhost:8080/",
          "height": 300
        },
        "id": "KcdZnmM88DeG",
        "outputId": "d8e4962c-1195-49ab-95c3-5455c818caa8"
      },
      "outputs": [
        {
          "data": {
            "text/html": [
              "<div>\n",
              "<style scoped>\n",
              "    .dataframe tbody tr th:only-of-type {\n",
              "        vertical-align: middle;\n",
              "    }\n",
              "\n",
              "    .dataframe tbody tr th {\n",
              "        vertical-align: top;\n",
              "    }\n",
              "\n",
              "    .dataframe thead th {\n",
              "        text-align: right;\n",
              "    }\n",
              "</style>\n",
              "<table border=\"1\" class=\"dataframe\">\n",
              "  <thead>\n",
              "    <tr style=\"text-align: right;\">\n",
              "      <th></th>\n",
              "      <th>controversiality</th>\n",
              "      <th>score</th>\n",
              "    </tr>\n",
              "  </thead>\n",
              "  <tbody>\n",
              "    <tr>\n",
              "      <th>count</th>\n",
              "      <td>1000000.000000</td>\n",
              "      <td>1000000.000000</td>\n",
              "    </tr>\n",
              "    <tr>\n",
              "      <th>mean</th>\n",
              "      <td>0.029583</td>\n",
              "      <td>11.510103</td>\n",
              "    </tr>\n",
              "    <tr>\n",
              "      <th>std</th>\n",
              "      <td>0.169434</td>\n",
              "      <td>149.671560</td>\n",
              "    </tr>\n",
              "    <tr>\n",
              "      <th>min</th>\n",
              "      <td>0.000000</td>\n",
              "      <td>-889.000000</td>\n",
              "    </tr>\n",
              "    <tr>\n",
              "      <th>25%</th>\n",
              "      <td>0.000000</td>\n",
              "      <td>1.000000</td>\n",
              "    </tr>\n",
              "    <tr>\n",
              "      <th>50%</th>\n",
              "      <td>0.000000</td>\n",
              "      <td>2.000000</td>\n",
              "    </tr>\n",
              "    <tr>\n",
              "      <th>75%</th>\n",
              "      <td>0.000000</td>\n",
              "      <td>4.000000</td>\n",
              "    </tr>\n",
              "    <tr>\n",
              "      <th>max</th>\n",
              "      <td>1.000000</td>\n",
              "      <td>35619.000000</td>\n",
              "    </tr>\n",
              "  </tbody>\n",
              "</table>\n",
              "</div>"
            ],
            "text/plain": [
              "       controversiality           score\n",
              "count    1000000.000000  1000000.000000\n",
              "mean           0.029583       11.510103\n",
              "std            0.169434      149.671560\n",
              "min            0.000000     -889.000000\n",
              "25%            0.000000        1.000000\n",
              "50%            0.000000        2.000000\n",
              "75%            0.000000        4.000000\n",
              "max            1.000000    35619.000000"
            ]
          },
          "execution_count": 11,
          "metadata": {},
          "output_type": "execute_result"
        }
      ],
      "source": [
        "df.describe()"
      ]
    },
    {
      "cell_type": "markdown",
      "metadata": {
        "id": "bLuwR0nMaDqq"
      },
      "source": [
        "There are a total of 1 million rows.\n",
        "1. controversiality is a binary attribute that has either 0 or 1\n",
        "2. score ranges from -889 to a maximum of 35619 which a total of upvotes and down votes for each commenter"
      ]
    },
    {
      "cell_type": "code",
      "execution_count": 12,
      "metadata": {
        "id": "s5zQfjCG933L"
      },
      "outputs": [],
      "source": [
        "from sklearn.utils import resample\n",
        "from imblearn.over_sampling import RandomOverSampler"
      ]
    },
    {
      "cell_type": "code",
      "execution_count": 13,
      "metadata": {
        "colab": {
          "base_uri": "https://localhost:8080/",
          "height": 206
        },
        "id": "siH9Go0BaGwC",
        "outputId": "a5d2ee4a-6ba1-4200-fcd1-28cdc7958575"
      },
      "outputs": [
        {
          "data": {
            "text/html": [
              "<div>\n",
              "<style scoped>\n",
              "    .dataframe tbody tr th:only-of-type {\n",
              "        vertical-align: middle;\n",
              "    }\n",
              "\n",
              "    .dataframe tbody tr th {\n",
              "        vertical-align: top;\n",
              "    }\n",
              "\n",
              "    .dataframe thead th {\n",
              "        text-align: right;\n",
              "    }\n",
              "</style>\n",
              "<table border=\"1\" class=\"dataframe\">\n",
              "  <thead>\n",
              "    <tr style=\"text-align: right;\">\n",
              "      <th></th>\n",
              "      <th>subreddit</th>\n",
              "      <th>body</th>\n",
              "      <th>controversiality</th>\n",
              "      <th>score</th>\n",
              "    </tr>\n",
              "  </thead>\n",
              "  <tbody>\n",
              "    <tr>\n",
              "      <th>0</th>\n",
              "      <td>Showerthoughts</td>\n",
              "      <td>Huh. Then my grandmother was the complete oppo...</td>\n",
              "      <td>0</td>\n",
              "      <td>1</td>\n",
              "    </tr>\n",
              "    <tr>\n",
              "      <th>1</th>\n",
              "      <td>MortalKombat</td>\n",
              "      <td>The grinding is my main concern... Consumables...</td>\n",
              "      <td>0</td>\n",
              "      <td>1</td>\n",
              "    </tr>\n",
              "    <tr>\n",
              "      <th>2</th>\n",
              "      <td>SquaredCircle</td>\n",
              "      <td>I remember seeing the promo on TV via Star Wor...</td>\n",
              "      <td>0</td>\n",
              "      <td>1</td>\n",
              "    </tr>\n",
              "    <tr>\n",
              "      <th>3</th>\n",
              "      <td>Market76</td>\n",
              "      <td>Sounds good! I’ll join you in a bit then</td>\n",
              "      <td>0</td>\n",
              "      <td>1</td>\n",
              "    </tr>\n",
              "    <tr>\n",
              "      <th>4</th>\n",
              "      <td>ChapoTrapHouse</td>\n",
              "      <td>Maybe I’m naive but I don’t understand how tha...</td>\n",
              "      <td>0</td>\n",
              "      <td>7</td>\n",
              "    </tr>\n",
              "  </tbody>\n",
              "</table>\n",
              "</div>"
            ],
            "text/plain": [
              "        subreddit                                               body  \\\n",
              "0  Showerthoughts  Huh. Then my grandmother was the complete oppo...   \n",
              "1    MortalKombat  The grinding is my main concern... Consumables...   \n",
              "2   SquaredCircle  I remember seeing the promo on TV via Star Wor...   \n",
              "3        Market76           Sounds good! I’ll join you in a bit then   \n",
              "4  ChapoTrapHouse  Maybe I’m naive but I don’t understand how tha...   \n",
              "\n",
              "   controversiality  score  \n",
              "0                 0      1  \n",
              "1                 0      1  \n",
              "2                 0      1  \n",
              "3                 0      1  \n",
              "4                 0      7  "
            ]
          },
          "execution_count": 13,
          "metadata": {},
          "output_type": "execute_result"
        }
      ],
      "source": [
        "## Taking the sample of data\n",
        "df_reduced = resample(df,\n",
        "                      n_samples=50000,\n",
        "                      stratify=df['controversiality'],\n",
        "                      random_state=42)\n",
        "\n",
        "df_reduced = df_reduced.reset_index().drop(columns = ['index'])\n",
        "df_reduced.head()"
      ]
    },
    {
      "cell_type": "code",
      "execution_count": 14,
      "metadata": {
        "colab": {
          "base_uri": "https://localhost:8080/",
          "height": 178
        },
        "id": "nFbbqfZlaJjg",
        "outputId": "044920fa-9709-4228-bda6-efbabd99639f"
      },
      "outputs": [
        {
          "data": {
            "text/plain": [
              "0    48521\n",
              "1     1479\n",
              "Name: controversiality, dtype: int64"
            ]
          },
          "execution_count": 14,
          "metadata": {},
          "output_type": "execute_result"
        }
      ],
      "source": [
        "df_reduced['controversiality'].value_counts()"
      ]
    },
    {
      "cell_type": "code",
      "execution_count": 15,
      "metadata": {
        "id": "rFC96EBNaMAk"
      },
      "outputs": [],
      "source": [
        "## balancing the imbalanced dataset\n",
        "\n",
        "feature = df_reduced['body']\n",
        "target = df_reduced['controversiality']\n",
        "\n",
        "oversampler = RandomOverSampler(sampling_strategy='auto', random_state=42)\n",
        "X, y = oversampler.fit_resample(feature.values.reshape(-1,1), target)\n",
        "\n",
        "df_balanced = pd.DataFrame({'body': X.flatten(), 'controversiality':y})"
      ]
    },
    {
      "cell_type": "code",
      "execution_count": 16,
      "metadata": {
        "colab": {
          "base_uri": "https://localhost:8080/",
          "height": 178
        },
        "id": "vGWiCEd0aN6u",
        "outputId": "c54c544e-3b15-4f71-de6f-a69789ab0535"
      },
      "outputs": [
        {
          "data": {
            "text/plain": [
              "0    48521\n",
              "1    48521\n",
              "Name: controversiality, dtype: int64"
            ]
          },
          "execution_count": 16,
          "metadata": {},
          "output_type": "execute_result"
        }
      ],
      "source": [
        "df_balanced['controversiality'].value_counts()"
      ]
    },
    {
      "cell_type": "markdown",
      "metadata": {
        "id": "BiqpHuvVaSR5"
      },
      "source": [
        "## Preprocessing the data"
      ]
    },
    {
      "cell_type": "code",
      "execution_count": 17,
      "metadata": {
        "id": "ZWrBiubhaQuV"
      },
      "outputs": [],
      "source": [
        "import re\n",
        "\n",
        "df_balanced['body'] = df_balanced['body'].apply(lambda x: re.sub('[^a-zA-Z0-9/s]',' ',x))\n",
        "df_balanced['body'] = df_balanced['body'].apply(lambda x: x.lower())"
      ]
    },
    {
      "cell_type": "code",
      "execution_count": 18,
      "metadata": {
        "colab": {
          "base_uri": "https://localhost:8080/",
          "height": 458
        },
        "id": "fx46QmrOaW3W",
        "outputId": "6a13670d-f0b4-48d0-9a36-dedc1289e31d"
      },
      "outputs": [
        {
          "data": {
            "text/plain": [
              "0        huh  then my grandmother was the complete oppo...\n",
              "1        the grinding is my main concern    consumables...\n",
              "2        i remember seeing the promo on tv via star wor...\n",
              "3                 sounds good  i ll join you in a bit then\n",
              "4        maybe i m naive but i don t understand how tha...\n",
              "                               ...                        \n",
              "97037                      jokes are supposed to be funny \n",
              "97038     gt what did the battle prove in the end  that...\n",
              "97039    i hear isaiah thomas will be available when ky...\n",
              "97040      breathing on him results in paralysis  so yeah \n",
              "97041         it s good you ve taken the high road on this\n",
              "Name: body, Length: 97042, dtype: object"
            ]
          },
          "execution_count": 18,
          "metadata": {},
          "output_type": "execute_result"
        }
      ],
      "source": [
        "df_balanced['body']"
      ]
    },
    {
      "cell_type": "markdown",
      "metadata": {
        "id": "RDPOoEhGbzO0"
      },
      "source": [
        "## Word Embedding\n",
        "\n",
        "vectorization of texts using gensim model"
      ]
    },
    {
      "cell_type": "code",
      "execution_count": 19,
      "metadata": {
        "id": "ZMaNkLGJbynx"
      },
      "outputs": [],
      "source": [
        "import gensim"
      ]
    },
    {
      "cell_type": "code",
      "execution_count": 20,
      "metadata": {
        "id": "oT6Hl3tTbykL"
      },
      "outputs": [],
      "source": [
        "from gensim.models import Word2Vec, KeyedVectors\n",
        "import gensim.downloader as api"
      ]
    },
    {
      "cell_type": "code",
      "execution_count": 21,
      "metadata": {
        "colab": {
          "base_uri": "https://localhost:8080/"
        },
        "id": "ll7AkT9zbygL",
        "outputId": "b60b746e-096a-4688-ce88-7efad9e3d572"
      },
      "outputs": [],
      "source": [
        "## initialize the model\n",
        "wv = api.load('word2vec-google-news-300')"
      ]
    },
    {
      "cell_type": "code",
      "execution_count": 22,
      "metadata": {
        "id": "FkyvknLWbyUz"
      },
      "outputs": [],
      "source": [
        "## a function to vectorize the text\n",
        "\n",
        "def vectorize_text(sentence, word2vec_model, embedding_dim):\n",
        "  \"\"\"Converts a sentence into a vector by averaging the word vectors of all words in the sentence.\"\"\"\n",
        "  words = str(sentence).split()\n",
        "  valid_words = [word2vec_model[word] for word in words if word in word2vec_model]\n",
        "  if valid_words:\n",
        "    return np.mean(valid_words, axis=0)\n",
        "  else:\n",
        "    return np.zeros(embedding_dim)\n",
        "\n",
        "\n",
        "embedding_dim = 300\n",
        "X = np.vstack(df_balanced['body'].apply(lambda x: vectorize_text(x, wv, embedding_dim=embedding_dim)))\n",
        "y = df_balanced['controversiality']"
      ]
    },
    {
      "cell_type": "code",
      "execution_count": 23,
      "metadata": {
        "id": "84B7muteaYkV"
      },
      "outputs": [],
      "source": [
        "import tensorflow as tf\n",
        "from tensorflow.keras.models import Sequential\n",
        "from tensorflow.keras.layers import Dense, Embedding, LSTM, GRU, Dropout\n",
        "from tensorflow.keras.callbacks import EarlyStopping"
      ]
    },
    {
      "cell_type": "markdown",
      "metadata": {
        "id": "lZNWfvsNWWRI"
      },
      "source": [
        "## Split the data into training and test sets"
      ]
    },
    {
      "cell_type": "code",
      "execution_count": 24,
      "metadata": {
        "id": "1QVlhS2yWVer"
      },
      "outputs": [],
      "source": [
        "from sklearn.model_selection import train_test_split\n",
        "X_train, X_test, y_train, y_test = train_test_split(X, y, test_size=0.2, random_state=33)\n",
        "\n",
        "X_train = X_train.reshape(X_train.shape[0], 1, X_train.shape[1])  # (samples, 1 timestep, embedding_dim)\n",
        "X_test = X_test.reshape(X_test.shape[0], 1, X_test.shape[1])"
      ]
    },
    {
      "cell_type": "markdown",
      "metadata": {
        "id": "iWHEI5FnanOh"
      },
      "source": [
        "## Model Building"
      ]
    },
    {
      "cell_type": "code",
      "execution_count": 25,
      "metadata": {
        "colab": {
          "base_uri": "https://localhost:8080/"
        },
        "id": "E_Tktjyyal2b",
        "outputId": "0e1b29c9-54e6-4c78-a6d3-1931cd9eeddd"
      },
      "outputs": [
        {
          "name": "stderr",
          "output_type": "stream",
          "text": [
            "c:\\Vipina\\FindJ\\Resume\\GitHub\\RedditToxicityAnalyser\\venv\\lib\\site-packages\\keras\\src\\layers\\rnn\\rnn.py:200: UserWarning: Do not pass an `input_shape`/`input_dim` argument to a layer. When using Sequential models, prefer using an `Input(shape)` object as the first layer in the model instead.\n",
            "  super().__init__(**kwargs)\n"
          ]
        }
      ],
      "source": [
        "model = Sequential()\n",
        "model.add(GRU(64, return_sequences = False, input_shape = (X_train.shape[1],X_train.shape[2])))\n",
        "model.add(Dropout(0.2))\n",
        "model.add(Dense(1, activation='sigmoid'))"
      ]
    },
    {
      "cell_type": "code",
      "execution_count": 26,
      "metadata": {
        "colab": {
          "base_uri": "https://localhost:8080/",
          "height": 225
        },
        "id": "nVBCD9cSaqqH",
        "outputId": "71178647-6951-4de9-b4a4-b03623e2ca10"
      },
      "outputs": [
        {
          "data": {
            "text/html": [
              "<pre style=\"white-space:pre;overflow-x:auto;line-height:normal;font-family:Menlo,'DejaVu Sans Mono',consolas,'Courier New',monospace\"><span style=\"font-weight: bold\">Model: \"sequential\"</span>\n",
              "</pre>\n"
            ],
            "text/plain": [
              "\u001b[1mModel: \"sequential\"\u001b[0m\n"
            ]
          },
          "metadata": {},
          "output_type": "display_data"
        },
        {
          "data": {
            "text/html": [
              "<pre style=\"white-space:pre;overflow-x:auto;line-height:normal;font-family:Menlo,'DejaVu Sans Mono',consolas,'Courier New',monospace\">┏━━━━━━━━━━━━━━━━━━━━━━━━━━━━━━━━━┳━━━━━━━━━━━━━━━━━━━━━━━━┳━━━━━━━━━━━━━━━┓\n",
              "┃<span style=\"font-weight: bold\"> Layer (type)                    </span>┃<span style=\"font-weight: bold\"> Output Shape           </span>┃<span style=\"font-weight: bold\">       Param # </span>┃\n",
              "┡━━━━━━━━━━━━━━━━━━━━━━━━━━━━━━━━━╇━━━━━━━━━━━━━━━━━━━━━━━━╇━━━━━━━━━━━━━━━┩\n",
              "│ gru (<span style=\"color: #0087ff; text-decoration-color: #0087ff\">GRU</span>)                       │ (<span style=\"color: #00d7ff; text-decoration-color: #00d7ff\">None</span>, <span style=\"color: #00af00; text-decoration-color: #00af00\">64</span>)             │        <span style=\"color: #00af00; text-decoration-color: #00af00\">70,272</span> │\n",
              "├─────────────────────────────────┼────────────────────────┼───────────────┤\n",
              "│ dropout (<span style=\"color: #0087ff; text-decoration-color: #0087ff\">Dropout</span>)               │ (<span style=\"color: #00d7ff; text-decoration-color: #00d7ff\">None</span>, <span style=\"color: #00af00; text-decoration-color: #00af00\">64</span>)             │             <span style=\"color: #00af00; text-decoration-color: #00af00\">0</span> │\n",
              "├─────────────────────────────────┼────────────────────────┼───────────────┤\n",
              "│ dense (<span style=\"color: #0087ff; text-decoration-color: #0087ff\">Dense</span>)                   │ (<span style=\"color: #00d7ff; text-decoration-color: #00d7ff\">None</span>, <span style=\"color: #00af00; text-decoration-color: #00af00\">1</span>)              │            <span style=\"color: #00af00; text-decoration-color: #00af00\">65</span> │\n",
              "└─────────────────────────────────┴────────────────────────┴───────────────┘\n",
              "</pre>\n"
            ],
            "text/plain": [
              "┏━━━━━━━━━━━━━━━━━━━━━━━━━━━━━━━━━┳━━━━━━━━━━━━━━━━━━━━━━━━┳━━━━━━━━━━━━━━━┓\n",
              "┃\u001b[1m \u001b[0m\u001b[1mLayer (type)                   \u001b[0m\u001b[1m \u001b[0m┃\u001b[1m \u001b[0m\u001b[1mOutput Shape          \u001b[0m\u001b[1m \u001b[0m┃\u001b[1m \u001b[0m\u001b[1m      Param #\u001b[0m\u001b[1m \u001b[0m┃\n",
              "┡━━━━━━━━━━━━━━━━━━━━━━━━━━━━━━━━━╇━━━━━━━━━━━━━━━━━━━━━━━━╇━━━━━━━━━━━━━━━┩\n",
              "│ gru (\u001b[38;5;33mGRU\u001b[0m)                       │ (\u001b[38;5;45mNone\u001b[0m, \u001b[38;5;34m64\u001b[0m)             │        \u001b[38;5;34m70,272\u001b[0m │\n",
              "├─────────────────────────────────┼────────────────────────┼───────────────┤\n",
              "│ dropout (\u001b[38;5;33mDropout\u001b[0m)               │ (\u001b[38;5;45mNone\u001b[0m, \u001b[38;5;34m64\u001b[0m)             │             \u001b[38;5;34m0\u001b[0m │\n",
              "├─────────────────────────────────┼────────────────────────┼───────────────┤\n",
              "│ dense (\u001b[38;5;33mDense\u001b[0m)                   │ (\u001b[38;5;45mNone\u001b[0m, \u001b[38;5;34m1\u001b[0m)              │            \u001b[38;5;34m65\u001b[0m │\n",
              "└─────────────────────────────────┴────────────────────────┴───────────────┘\n"
            ]
          },
          "metadata": {},
          "output_type": "display_data"
        },
        {
          "data": {
            "text/html": [
              "<pre style=\"white-space:pre;overflow-x:auto;line-height:normal;font-family:Menlo,'DejaVu Sans Mono',consolas,'Courier New',monospace\"><span style=\"font-weight: bold\"> Total params: </span><span style=\"color: #00af00; text-decoration-color: #00af00\">70,337</span> (274.75 KB)\n",
              "</pre>\n"
            ],
            "text/plain": [
              "\u001b[1m Total params: \u001b[0m\u001b[38;5;34m70,337\u001b[0m (274.75 KB)\n"
            ]
          },
          "metadata": {},
          "output_type": "display_data"
        },
        {
          "data": {
            "text/html": [
              "<pre style=\"white-space:pre;overflow-x:auto;line-height:normal;font-family:Menlo,'DejaVu Sans Mono',consolas,'Courier New',monospace\"><span style=\"font-weight: bold\"> Trainable params: </span><span style=\"color: #00af00; text-decoration-color: #00af00\">70,337</span> (274.75 KB)\n",
              "</pre>\n"
            ],
            "text/plain": [
              "\u001b[1m Trainable params: \u001b[0m\u001b[38;5;34m70,337\u001b[0m (274.75 KB)\n"
            ]
          },
          "metadata": {},
          "output_type": "display_data"
        },
        {
          "data": {
            "text/html": [
              "<pre style=\"white-space:pre;overflow-x:auto;line-height:normal;font-family:Menlo,'DejaVu Sans Mono',consolas,'Courier New',monospace\"><span style=\"font-weight: bold\"> Non-trainable params: </span><span style=\"color: #00af00; text-decoration-color: #00af00\">0</span> (0.00 B)\n",
              "</pre>\n"
            ],
            "text/plain": [
              "\u001b[1m Non-trainable params: \u001b[0m\u001b[38;5;34m0\u001b[0m (0.00 B)\n"
            ]
          },
          "metadata": {},
          "output_type": "display_data"
        }
      ],
      "source": [
        "## summary of the model\n",
        "model.summary()"
      ]
    },
    {
      "cell_type": "code",
      "execution_count": 27,
      "metadata": {
        "id": "D2HDDqyTatOO"
      },
      "outputs": [],
      "source": [
        "## compile the model\n",
        "model.compile(optimizer='adam', loss='binary_crossentropy', metrics=['accuracy'])"
      ]
    },
    {
      "cell_type": "code",
      "execution_count": 28,
      "metadata": {
        "id": "JtDiu1VRav4-"
      },
      "outputs": [],
      "source": [
        "##  Definig the early stopping\n",
        "early_stopping = EarlyStopping(\n",
        "    monitor = 'val_loss',\n",
        "    patience = 5,\n",
        "    restore_best_weights = True\n",
        ")"
      ]
    },
    {
      "cell_type": "code",
      "execution_count": 29,
      "metadata": {
        "colab": {
          "base_uri": "https://localhost:8080/"
        },
        "id": "2uDh_Lgfaxtc",
        "outputId": "05e7e43f-bec0-48e7-e105-f168db15f895"
      },
      "outputs": [
        {
          "name": "stdout",
          "output_type": "stream",
          "text": [
            "Epoch 1/100\n",
            "\u001b[1m971/971\u001b[0m \u001b[32m━━━━━━━━━━━━━━━━━━━━\u001b[0m\u001b[37m\u001b[0m \u001b[1m4s\u001b[0m 3ms/step - accuracy: 0.6107 - loss: 0.6568 - val_accuracy: 0.6465 - val_loss: 0.6303\n",
            "Epoch 2/100\n",
            "\u001b[1m971/971\u001b[0m \u001b[32m━━━━━━━━━━━━━━━━━━━━\u001b[0m\u001b[37m\u001b[0m \u001b[1m2s\u001b[0m 2ms/step - accuracy: 0.6486 - loss: 0.6255 - val_accuracy: 0.6503 - val_loss: 0.6210\n",
            "Epoch 3/100\n",
            "\u001b[1m971/971\u001b[0m \u001b[32m━━━━━━━━━━━━━━━━━━━━\u001b[0m\u001b[37m\u001b[0m \u001b[1m2s\u001b[0m 2ms/step - accuracy: 0.6585 - loss: 0.6149 - val_accuracy: 0.6577 - val_loss: 0.6140\n",
            "Epoch 4/100\n",
            "\u001b[1m971/971\u001b[0m \u001b[32m━━━━━━━━━━━━━━━━━━━━\u001b[0m\u001b[37m\u001b[0m \u001b[1m2s\u001b[0m 2ms/step - accuracy: 0.6657 - loss: 0.6079 - val_accuracy: 0.6684 - val_loss: 0.6021\n",
            "Epoch 5/100\n",
            "\u001b[1m971/971\u001b[0m \u001b[32m━━━━━━━━━━━━━━━━━━━━\u001b[0m\u001b[37m\u001b[0m \u001b[1m2s\u001b[0m 2ms/step - accuracy: 0.6773 - loss: 0.5936 - val_accuracy: 0.6815 - val_loss: 0.5894\n",
            "Epoch 6/100\n",
            "\u001b[1m971/971\u001b[0m \u001b[32m━━━━━━━━━━━━━━━━━━━━\u001b[0m\u001b[37m\u001b[0m \u001b[1m2s\u001b[0m 2ms/step - accuracy: 0.6849 - loss: 0.5802 - val_accuracy: 0.6974 - val_loss: 0.5729\n",
            "Epoch 7/100\n",
            "\u001b[1m971/971\u001b[0m \u001b[32m━━━━━━━━━━━━━━━━━━━━\u001b[0m\u001b[37m\u001b[0m \u001b[1m2s\u001b[0m 2ms/step - accuracy: 0.7020 - loss: 0.5619 - val_accuracy: 0.7113 - val_loss: 0.5573\n",
            "Epoch 8/100\n",
            "\u001b[1m971/971\u001b[0m \u001b[32m━━━━━━━━━━━━━━━━━━━━\u001b[0m\u001b[37m\u001b[0m \u001b[1m2s\u001b[0m 2ms/step - accuracy: 0.7174 - loss: 0.5465 - val_accuracy: 0.7183 - val_loss: 0.5414\n",
            "Epoch 9/100\n",
            "\u001b[1m971/971\u001b[0m \u001b[32m━━━━━━━━━━━━━━━━━━━━\u001b[0m\u001b[37m\u001b[0m \u001b[1m2s\u001b[0m 2ms/step - accuracy: 0.7280 - loss: 0.5303 - val_accuracy: 0.7395 - val_loss: 0.5236\n",
            "Epoch 10/100\n",
            "\u001b[1m971/971\u001b[0m \u001b[32m━━━━━━━━━━━━━━━━━━━━\u001b[0m\u001b[37m\u001b[0m \u001b[1m2s\u001b[0m 2ms/step - accuracy: 0.7419 - loss: 0.5144 - val_accuracy: 0.7473 - val_loss: 0.5136\n",
            "Epoch 11/100\n",
            "\u001b[1m971/971\u001b[0m \u001b[32m━━━━━━━━━━━━━━━━━━━━\u001b[0m\u001b[37m\u001b[0m \u001b[1m2s\u001b[0m 2ms/step - accuracy: 0.7496 - loss: 0.5020 - val_accuracy: 0.7593 - val_loss: 0.4905\n",
            "Epoch 12/100\n",
            "\u001b[1m971/971\u001b[0m \u001b[32m━━━━━━━━━━━━━━━━━━━━\u001b[0m\u001b[37m\u001b[0m \u001b[1m2s\u001b[0m 2ms/step - accuracy: 0.7626 - loss: 0.4825 - val_accuracy: 0.7778 - val_loss: 0.4732\n",
            "Epoch 13/100\n",
            "\u001b[1m971/971\u001b[0m \u001b[32m━━━━━━━━━━━━━━━━━━━━\u001b[0m\u001b[37m\u001b[0m \u001b[1m2s\u001b[0m 3ms/step - accuracy: 0.7746 - loss: 0.4683 - val_accuracy: 0.7785 - val_loss: 0.4653\n",
            "Epoch 14/100\n",
            "\u001b[1m971/971\u001b[0m \u001b[32m━━━━━━━━━━━━━━━━━━━━\u001b[0m\u001b[37m\u001b[0m \u001b[1m2s\u001b[0m 2ms/step - accuracy: 0.7828 - loss: 0.4518 - val_accuracy: 0.7947 - val_loss: 0.4465\n",
            "Epoch 15/100\n",
            "\u001b[1m971/971\u001b[0m \u001b[32m━━━━━━━━━━━━━━━━━━━━\u001b[0m\u001b[37m\u001b[0m \u001b[1m2s\u001b[0m 2ms/step - accuracy: 0.7923 - loss: 0.4388 - val_accuracy: 0.8056 - val_loss: 0.4261\n",
            "Epoch 16/100\n",
            "\u001b[1m971/971\u001b[0m \u001b[32m━━━━━━━━━━━━━━━━━━━━\u001b[0m\u001b[37m\u001b[0m \u001b[1m2s\u001b[0m 2ms/step - accuracy: 0.7998 - loss: 0.4248 - val_accuracy: 0.8168 - val_loss: 0.4142\n",
            "Epoch 17/100\n",
            "\u001b[1m971/971\u001b[0m \u001b[32m━━━━━━━━━━━━━━━━━━━━\u001b[0m\u001b[37m\u001b[0m \u001b[1m2s\u001b[0m 2ms/step - accuracy: 0.8072 - loss: 0.4094 - val_accuracy: 0.8207 - val_loss: 0.4040\n",
            "Epoch 18/100\n",
            "\u001b[1m971/971\u001b[0m \u001b[32m━━━━━━━━━━━━━━━━━━━━\u001b[0m\u001b[37m\u001b[0m \u001b[1m2s\u001b[0m 2ms/step - accuracy: 0.8148 - loss: 0.3985 - val_accuracy: 0.8288 - val_loss: 0.3872\n",
            "Epoch 19/100\n",
            "\u001b[1m971/971\u001b[0m \u001b[32m━━━━━━━━━━━━━━━━━━━━\u001b[0m\u001b[37m\u001b[0m \u001b[1m2s\u001b[0m 2ms/step - accuracy: 0.8259 - loss: 0.3820 - val_accuracy: 0.8208 - val_loss: 0.3826\n",
            "Epoch 20/100\n",
            "\u001b[1m971/971\u001b[0m \u001b[32m━━━━━━━━━━━━━━━━━━━━\u001b[0m\u001b[37m\u001b[0m \u001b[1m2s\u001b[0m 2ms/step - accuracy: 0.8317 - loss: 0.3734 - val_accuracy: 0.8432 - val_loss: 0.3648\n",
            "Epoch 21/100\n",
            "\u001b[1m971/971\u001b[0m \u001b[32m━━━━━━━━━━━━━━━━━━━━\u001b[0m\u001b[37m\u001b[0m \u001b[1m2s\u001b[0m 2ms/step - accuracy: 0.8375 - loss: 0.3625 - val_accuracy: 0.8546 - val_loss: 0.3512\n",
            "Epoch 22/100\n",
            "\u001b[1m971/971\u001b[0m \u001b[32m━━━━━━━━━━━━━━━━━━━━\u001b[0m\u001b[37m\u001b[0m \u001b[1m2s\u001b[0m 2ms/step - accuracy: 0.8455 - loss: 0.3472 - val_accuracy: 0.8338 - val_loss: 0.3560\n",
            "Epoch 23/100\n",
            "\u001b[1m971/971\u001b[0m \u001b[32m━━━━━━━━━━━━━━━━━━━━\u001b[0m\u001b[37m\u001b[0m \u001b[1m2s\u001b[0m 2ms/step - accuracy: 0.8509 - loss: 0.3387 - val_accuracy: 0.8720 - val_loss: 0.3265\n",
            "Epoch 24/100\n",
            "\u001b[1m971/971\u001b[0m \u001b[32m━━━━━━━━━━━━━━━━━━━━\u001b[0m\u001b[37m\u001b[0m \u001b[1m2s\u001b[0m 2ms/step - accuracy: 0.8559 - loss: 0.3289 - val_accuracy: 0.8714 - val_loss: 0.3171\n",
            "Epoch 25/100\n",
            "\u001b[1m971/971\u001b[0m \u001b[32m━━━━━━━━━━━━━━━━━━━━\u001b[0m\u001b[37m\u001b[0m \u001b[1m2s\u001b[0m 2ms/step - accuracy: 0.8621 - loss: 0.3199 - val_accuracy: 0.8733 - val_loss: 0.3117\n",
            "Epoch 26/100\n",
            "\u001b[1m971/971\u001b[0m \u001b[32m━━━━━━━━━━━━━━━━━━━━\u001b[0m\u001b[37m\u001b[0m \u001b[1m2s\u001b[0m 2ms/step - accuracy: 0.8647 - loss: 0.3111 - val_accuracy: 0.8825 - val_loss: 0.2991\n",
            "Epoch 27/100\n",
            "\u001b[1m971/971\u001b[0m \u001b[32m━━━━━━━━━━━━━━━━━━━━\u001b[0m\u001b[37m\u001b[0m \u001b[1m2s\u001b[0m 2ms/step - accuracy: 0.8692 - loss: 0.3010 - val_accuracy: 0.8852 - val_loss: 0.2916\n",
            "Epoch 28/100\n",
            "\u001b[1m971/971\u001b[0m \u001b[32m━━━━━━━━━━━━━━━━━━━━\u001b[0m\u001b[37m\u001b[0m \u001b[1m2s\u001b[0m 2ms/step - accuracy: 0.8757 - loss: 0.2944 - val_accuracy: 0.8895 - val_loss: 0.2853\n",
            "Epoch 29/100\n",
            "\u001b[1m971/971\u001b[0m \u001b[32m━━━━━━━━━━━━━━━━━━━━\u001b[0m\u001b[37m\u001b[0m \u001b[1m2s\u001b[0m 2ms/step - accuracy: 0.8790 - loss: 0.2832 - val_accuracy: 0.8917 - val_loss: 0.2810\n",
            "Epoch 30/100\n",
            "\u001b[1m971/971\u001b[0m \u001b[32m━━━━━━━━━━━━━━━━━━━━\u001b[0m\u001b[37m\u001b[0m \u001b[1m2s\u001b[0m 2ms/step - accuracy: 0.8840 - loss: 0.2790 - val_accuracy: 0.8978 - val_loss: 0.2684\n",
            "Epoch 31/100\n",
            "\u001b[1m971/971\u001b[0m \u001b[32m━━━━━━━━━━━━━━━━━━━━\u001b[0m\u001b[37m\u001b[0m \u001b[1m2s\u001b[0m 2ms/step - accuracy: 0.8878 - loss: 0.2691 - val_accuracy: 0.8998 - val_loss: 0.2613\n",
            "Epoch 32/100\n",
            "\u001b[1m971/971\u001b[0m \u001b[32m━━━━━━━━━━━━━━━━━━━━\u001b[0m\u001b[37m\u001b[0m \u001b[1m2s\u001b[0m 2ms/step - accuracy: 0.8906 - loss: 0.2621 - val_accuracy: 0.9074 - val_loss: 0.2545\n",
            "Epoch 33/100\n",
            "\u001b[1m971/971\u001b[0m \u001b[32m━━━━━━━━━━━━━━━━━━━━\u001b[0m\u001b[37m\u001b[0m \u001b[1m2s\u001b[0m 2ms/step - accuracy: 0.8958 - loss: 0.2550 - val_accuracy: 0.9084 - val_loss: 0.2493\n",
            "Epoch 34/100\n",
            "\u001b[1m971/971\u001b[0m \u001b[32m━━━━━━━━━━━━━━━━━━━━\u001b[0m\u001b[37m\u001b[0m \u001b[1m2s\u001b[0m 2ms/step - accuracy: 0.8988 - loss: 0.2498 - val_accuracy: 0.9030 - val_loss: 0.2496\n",
            "Epoch 35/100\n",
            "\u001b[1m971/971\u001b[0m \u001b[32m━━━━━━━━━━━━━━━━━━━━\u001b[0m\u001b[37m\u001b[0m \u001b[1m2s\u001b[0m 2ms/step - accuracy: 0.9040 - loss: 0.2403 - val_accuracy: 0.9174 - val_loss: 0.2332\n",
            "Epoch 36/100\n",
            "\u001b[1m971/971\u001b[0m \u001b[32m━━━━━━━━━━━━━━━━━━━━\u001b[0m\u001b[37m\u001b[0m \u001b[1m2s\u001b[0m 2ms/step - accuracy: 0.9064 - loss: 0.2325 - val_accuracy: 0.9098 - val_loss: 0.2348\n",
            "Epoch 37/100\n",
            "\u001b[1m971/971\u001b[0m \u001b[32m━━━━━━━━━━━━━━━━━━━━\u001b[0m\u001b[37m\u001b[0m \u001b[1m2s\u001b[0m 2ms/step - accuracy: 0.9106 - loss: 0.2250 - val_accuracy: 0.9130 - val_loss: 0.2267\n",
            "Epoch 38/100\n",
            "\u001b[1m971/971\u001b[0m \u001b[32m━━━━━━━━━━━━━━━━━━━━\u001b[0m\u001b[37m\u001b[0m \u001b[1m2s\u001b[0m 2ms/step - accuracy: 0.9117 - loss: 0.2223 - val_accuracy: 0.9239 - val_loss: 0.2158\n",
            "Epoch 39/100\n",
            "\u001b[1m971/971\u001b[0m \u001b[32m━━━━━━━━━━━━━━━━━━━━\u001b[0m\u001b[37m\u001b[0m \u001b[1m2s\u001b[0m 2ms/step - accuracy: 0.9176 - loss: 0.2139 - val_accuracy: 0.9288 - val_loss: 0.2130\n",
            "Epoch 40/100\n",
            "\u001b[1m971/971\u001b[0m \u001b[32m━━━━━━━━━━━━━━━━━━━━\u001b[0m\u001b[37m\u001b[0m \u001b[1m2s\u001b[0m 2ms/step - accuracy: 0.9170 - loss: 0.2100 - val_accuracy: 0.9262 - val_loss: 0.2068\n",
            "Epoch 41/100\n",
            "\u001b[1m971/971\u001b[0m \u001b[32m━━━━━━━━━━━━━━━━━━━━\u001b[0m\u001b[37m\u001b[0m \u001b[1m2s\u001b[0m 2ms/step - accuracy: 0.9205 - loss: 0.2040 - val_accuracy: 0.9292 - val_loss: 0.2051\n",
            "Epoch 42/100\n",
            "\u001b[1m971/971\u001b[0m \u001b[32m━━━━━━━━━━━━━━━━━━━━\u001b[0m\u001b[37m\u001b[0m \u001b[1m2s\u001b[0m 2ms/step - accuracy: 0.9226 - loss: 0.1960 - val_accuracy: 0.9312 - val_loss: 0.1987\n",
            "Epoch 43/100\n",
            "\u001b[1m971/971\u001b[0m \u001b[32m━━━━━━━━━━━━━━━━━━━━\u001b[0m\u001b[37m\u001b[0m \u001b[1m2s\u001b[0m 2ms/step - accuracy: 0.9252 - loss: 0.1913 - val_accuracy: 0.9321 - val_loss: 0.1964\n",
            "Epoch 44/100\n",
            "\u001b[1m971/971\u001b[0m \u001b[32m━━━━━━━━━━━━━━━━━━━━\u001b[0m\u001b[37m\u001b[0m \u001b[1m2s\u001b[0m 2ms/step - accuracy: 0.9230 - loss: 0.1925 - val_accuracy: 0.9384 - val_loss: 0.1926\n",
            "Epoch 45/100\n",
            "\u001b[1m971/971\u001b[0m \u001b[32m━━━━━━━━━━━━━━━━━━━━\u001b[0m\u001b[37m\u001b[0m \u001b[1m2s\u001b[0m 2ms/step - accuracy: 0.9287 - loss: 0.1877 - val_accuracy: 0.9281 - val_loss: 0.1943\n",
            "Epoch 46/100\n",
            "\u001b[1m971/971\u001b[0m \u001b[32m━━━━━━━━━━━━━━━━━━━━\u001b[0m\u001b[37m\u001b[0m \u001b[1m2s\u001b[0m 2ms/step - accuracy: 0.9296 - loss: 0.1799 - val_accuracy: 0.9327 - val_loss: 0.1880\n",
            "Epoch 47/100\n",
            "\u001b[1m971/971\u001b[0m \u001b[32m━━━━━━━━━━━━━━━━━━━━\u001b[0m\u001b[37m\u001b[0m \u001b[1m2s\u001b[0m 2ms/step - accuracy: 0.9291 - loss: 0.1829 - val_accuracy: 0.9265 - val_loss: 0.1868\n",
            "Epoch 48/100\n",
            "\u001b[1m971/971\u001b[0m \u001b[32m━━━━━━━━━━━━━━━━━━━━\u001b[0m\u001b[37m\u001b[0m \u001b[1m2s\u001b[0m 2ms/step - accuracy: 0.9333 - loss: 0.1725 - val_accuracy: 0.9328 - val_loss: 0.1831\n",
            "Epoch 49/100\n",
            "\u001b[1m971/971\u001b[0m \u001b[32m━━━━━━━━━━━━━━━━━━━━\u001b[0m\u001b[37m\u001b[0m \u001b[1m2s\u001b[0m 2ms/step - accuracy: 0.9347 - loss: 0.1699 - val_accuracy: 0.9395 - val_loss: 0.1743\n",
            "Epoch 50/100\n",
            "\u001b[1m971/971\u001b[0m \u001b[32m━━━━━━━━━━━━━━━━━━━━\u001b[0m\u001b[37m\u001b[0m \u001b[1m2s\u001b[0m 2ms/step - accuracy: 0.9350 - loss: 0.1691 - val_accuracy: 0.9367 - val_loss: 0.1757\n",
            "Epoch 51/100\n",
            "\u001b[1m971/971\u001b[0m \u001b[32m━━━━━━━━━━━━━━━━━━━━\u001b[0m\u001b[37m\u001b[0m \u001b[1m2s\u001b[0m 2ms/step - accuracy: 0.9353 - loss: 0.1642 - val_accuracy: 0.9471 - val_loss: 0.1618\n",
            "Epoch 52/100\n",
            "\u001b[1m971/971\u001b[0m \u001b[32m━━━━━━━━━━━━━━━━━━━━\u001b[0m\u001b[37m\u001b[0m \u001b[1m2s\u001b[0m 2ms/step - accuracy: 0.9386 - loss: 0.1581 - val_accuracy: 0.9445 - val_loss: 0.1642\n",
            "Epoch 53/100\n",
            "\u001b[1m971/971\u001b[0m \u001b[32m━━━━━━━━━━━━━━━━━━━━\u001b[0m\u001b[37m\u001b[0m \u001b[1m2s\u001b[0m 2ms/step - accuracy: 0.9387 - loss: 0.1589 - val_accuracy: 0.9475 - val_loss: 0.1586\n",
            "Epoch 54/100\n",
            "\u001b[1m971/971\u001b[0m \u001b[32m━━━━━━━━━━━━━━━━━━━━\u001b[0m\u001b[37m\u001b[0m \u001b[1m2s\u001b[0m 2ms/step - accuracy: 0.9439 - loss: 0.1520 - val_accuracy: 0.9247 - val_loss: 0.1862\n",
            "Epoch 55/100\n",
            "\u001b[1m971/971\u001b[0m \u001b[32m━━━━━━━━━━━━━━━━━━━━\u001b[0m\u001b[37m\u001b[0m \u001b[1m2s\u001b[0m 2ms/step - accuracy: 0.9423 - loss: 0.1499 - val_accuracy: 0.9474 - val_loss: 0.1562\n",
            "Epoch 56/100\n",
            "\u001b[1m971/971\u001b[0m \u001b[32m━━━━━━━━━━━━━━━━━━━━\u001b[0m\u001b[37m\u001b[0m \u001b[1m2s\u001b[0m 2ms/step - accuracy: 0.9439 - loss: 0.1440 - val_accuracy: 0.9453 - val_loss: 0.1552\n",
            "Epoch 57/100\n",
            "\u001b[1m971/971\u001b[0m \u001b[32m━━━━━━━━━━━━━━━━━━━━\u001b[0m\u001b[37m\u001b[0m \u001b[1m2s\u001b[0m 2ms/step - accuracy: 0.9449 - loss: 0.1439 - val_accuracy: 0.9503 - val_loss: 0.1532\n",
            "Epoch 58/100\n",
            "\u001b[1m971/971\u001b[0m \u001b[32m━━━━━━━━━━━━━━━━━━━━\u001b[0m\u001b[37m\u001b[0m \u001b[1m2s\u001b[0m 2ms/step - accuracy: 0.9476 - loss: 0.1397 - val_accuracy: 0.9476 - val_loss: 0.1539\n",
            "Epoch 59/100\n",
            "\u001b[1m971/971\u001b[0m \u001b[32m━━━━━━━━━━━━━━━━━━━━\u001b[0m\u001b[37m\u001b[0m \u001b[1m2s\u001b[0m 2ms/step - accuracy: 0.9486 - loss: 0.1366 - val_accuracy: 0.9529 - val_loss: 0.1405\n",
            "Epoch 60/100\n",
            "\u001b[1m971/971\u001b[0m \u001b[32m━━━━━━━━━━━━━━━━━━━━\u001b[0m\u001b[37m\u001b[0m \u001b[1m2s\u001b[0m 2ms/step - accuracy: 0.9509 - loss: 0.1348 - val_accuracy: 0.9448 - val_loss: 0.1560\n",
            "Epoch 61/100\n",
            "\u001b[1m971/971\u001b[0m \u001b[32m━━━━━━━━━━━━━━━━━━━━\u001b[0m\u001b[37m\u001b[0m \u001b[1m2s\u001b[0m 2ms/step - accuracy: 0.9504 - loss: 0.1320 - val_accuracy: 0.9591 - val_loss: 0.1348\n",
            "Epoch 62/100\n",
            "\u001b[1m971/971\u001b[0m \u001b[32m━━━━━━━━━━━━━━━━━━━━\u001b[0m\u001b[37m\u001b[0m \u001b[1m2s\u001b[0m 2ms/step - accuracy: 0.9511 - loss: 0.1318 - val_accuracy: 0.9554 - val_loss: 0.1364\n",
            "Epoch 63/100\n",
            "\u001b[1m971/971\u001b[0m \u001b[32m━━━━━━━━━━━━━━━━━━━━\u001b[0m\u001b[37m\u001b[0m \u001b[1m2s\u001b[0m 2ms/step - accuracy: 0.9532 - loss: 0.1236 - val_accuracy: 0.9453 - val_loss: 0.1492\n",
            "Epoch 64/100\n",
            "\u001b[1m971/971\u001b[0m \u001b[32m━━━━━━━━━━━━━━━━━━━━\u001b[0m\u001b[37m\u001b[0m \u001b[1m2s\u001b[0m 2ms/step - accuracy: 0.9530 - loss: 0.1229 - val_accuracy: 0.9471 - val_loss: 0.1444\n",
            "Epoch 65/100\n",
            "\u001b[1m971/971\u001b[0m \u001b[32m━━━━━━━━━━━━━━━━━━━━\u001b[0m\u001b[37m\u001b[0m \u001b[1m2s\u001b[0m 2ms/step - accuracy: 0.9518 - loss: 0.1264 - val_accuracy: 0.9474 - val_loss: 0.1472\n",
            "Epoch 66/100\n",
            "\u001b[1m971/971\u001b[0m \u001b[32m━━━━━━━━━━━━━━━━━━━━\u001b[0m\u001b[37m\u001b[0m \u001b[1m2s\u001b[0m 2ms/step - accuracy: 0.9543 - loss: 0.1212 - val_accuracy: 0.9616 - val_loss: 0.1303\n",
            "Epoch 67/100\n",
            "\u001b[1m971/971\u001b[0m \u001b[32m━━━━━━━━━━━━━━━━━━━━\u001b[0m\u001b[37m\u001b[0m \u001b[1m2s\u001b[0m 2ms/step - accuracy: 0.9549 - loss: 0.1178 - val_accuracy: 0.9586 - val_loss: 0.1289\n",
            "Epoch 68/100\n",
            "\u001b[1m971/971\u001b[0m \u001b[32m━━━━━━━━━━━━━━━━━━━━\u001b[0m\u001b[37m\u001b[0m \u001b[1m2s\u001b[0m 2ms/step - accuracy: 0.9563 - loss: 0.1168 - val_accuracy: 0.9549 - val_loss: 0.1294\n",
            "Epoch 69/100\n",
            "\u001b[1m971/971\u001b[0m \u001b[32m━━━━━━━━━━━━━━━━━━━━\u001b[0m\u001b[37m\u001b[0m \u001b[1m2s\u001b[0m 2ms/step - accuracy: 0.9588 - loss: 0.1116 - val_accuracy: 0.9542 - val_loss: 0.1273\n",
            "Epoch 70/100\n",
            "\u001b[1m971/971\u001b[0m \u001b[32m━━━━━━━━━━━━━━━━━━━━\u001b[0m\u001b[37m\u001b[0m \u001b[1m2s\u001b[0m 2ms/step - accuracy: 0.9584 - loss: 0.1113 - val_accuracy: 0.9536 - val_loss: 0.1343\n",
            "Epoch 71/100\n",
            "\u001b[1m971/971\u001b[0m \u001b[32m━━━━━━━━━━━━━━━━━━━━\u001b[0m\u001b[37m\u001b[0m \u001b[1m2s\u001b[0m 2ms/step - accuracy: 0.9584 - loss: 0.1113 - val_accuracy: 0.9608 - val_loss: 0.1243\n",
            "Epoch 72/100\n",
            "\u001b[1m971/971\u001b[0m \u001b[32m━━━━━━━━━━━━━━━━━━━━\u001b[0m\u001b[37m\u001b[0m \u001b[1m2s\u001b[0m 2ms/step - accuracy: 0.9597 - loss: 0.1104 - val_accuracy: 0.9495 - val_loss: 0.1402\n",
            "Epoch 73/100\n",
            "\u001b[1m971/971\u001b[0m \u001b[32m━━━━━━━━━━━━━━━━━━━━\u001b[0m\u001b[37m\u001b[0m \u001b[1m2s\u001b[0m 2ms/step - accuracy: 0.9614 - loss: 0.1050 - val_accuracy: 0.9603 - val_loss: 0.1193\n",
            "Epoch 74/100\n",
            "\u001b[1m971/971\u001b[0m \u001b[32m━━━━━━━━━━━━━━━━━━━━\u001b[0m\u001b[37m\u001b[0m \u001b[1m2s\u001b[0m 2ms/step - accuracy: 0.9617 - loss: 0.1054 - val_accuracy: 0.9675 - val_loss: 0.1166\n",
            "Epoch 75/100\n",
            "\u001b[1m971/971\u001b[0m \u001b[32m━━━━━━━━━━━━━━━━━━━━\u001b[0m\u001b[37m\u001b[0m \u001b[1m2s\u001b[0m 2ms/step - accuracy: 0.9629 - loss: 0.1025 - val_accuracy: 0.9554 - val_loss: 0.1242\n",
            "Epoch 76/100\n",
            "\u001b[1m971/971\u001b[0m \u001b[32m━━━━━━━━━━━━━━━━━━━━\u001b[0m\u001b[37m\u001b[0m \u001b[1m2s\u001b[0m 2ms/step - accuracy: 0.9627 - loss: 0.1017 - val_accuracy: 0.9525 - val_loss: 0.1260\n",
            "Epoch 77/100\n",
            "\u001b[1m971/971\u001b[0m \u001b[32m━━━━━━━━━━━━━━━━━━━━\u001b[0m\u001b[37m\u001b[0m \u001b[1m2s\u001b[0m 2ms/step - accuracy: 0.9646 - loss: 0.0985 - val_accuracy: 0.9590 - val_loss: 0.1177\n",
            "Epoch 78/100\n",
            "\u001b[1m971/971\u001b[0m \u001b[32m━━━━━━━━━━━━━━━━━━━━\u001b[0m\u001b[37m\u001b[0m \u001b[1m2s\u001b[0m 2ms/step - accuracy: 0.9633 - loss: 0.0976 - val_accuracy: 0.9605 - val_loss: 0.1181\n",
            "Epoch 79/100\n",
            "\u001b[1m971/971\u001b[0m \u001b[32m━━━━━━━━━━━━━━━━━━━━\u001b[0m\u001b[37m\u001b[0m \u001b[1m2s\u001b[0m 2ms/step - accuracy: 0.9619 - loss: 0.0992 - val_accuracy: 0.9675 - val_loss: 0.1074\n",
            "Epoch 80/100\n",
            "\u001b[1m971/971\u001b[0m \u001b[32m━━━━━━━━━━━━━━━━━━━━\u001b[0m\u001b[37m\u001b[0m \u001b[1m2s\u001b[0m 2ms/step - accuracy: 0.9646 - loss: 0.0955 - val_accuracy: 0.9589 - val_loss: 0.1199\n",
            "Epoch 81/100\n",
            "\u001b[1m971/971\u001b[0m \u001b[32m━━━━━━━━━━━━━━━━━━━━\u001b[0m\u001b[37m\u001b[0m \u001b[1m2s\u001b[0m 2ms/step - accuracy: 0.9645 - loss: 0.0944 - val_accuracy: 0.9650 - val_loss: 0.1104\n",
            "Epoch 82/100\n",
            "\u001b[1m971/971\u001b[0m \u001b[32m━━━━━━━━━━━━━━━━━━━━\u001b[0m\u001b[37m\u001b[0m \u001b[1m2s\u001b[0m 2ms/step - accuracy: 0.9659 - loss: 0.0928 - val_accuracy: 0.9614 - val_loss: 0.1140\n",
            "Epoch 83/100\n",
            "\u001b[1m971/971\u001b[0m \u001b[32m━━━━━━━━━━━━━━━━━━━━\u001b[0m\u001b[37m\u001b[0m \u001b[1m2s\u001b[0m 2ms/step - accuracy: 0.9645 - loss: 0.0922 - val_accuracy: 0.9612 - val_loss: 0.1133\n",
            "Epoch 84/100\n",
            "\u001b[1m971/971\u001b[0m \u001b[32m━━━━━━━━━━━━━━━━━━━━\u001b[0m\u001b[37m\u001b[0m \u001b[1m2s\u001b[0m 2ms/step - accuracy: 0.9657 - loss: 0.0905 - val_accuracy: 0.9646 - val_loss: 0.1034\n",
            "Epoch 85/100\n",
            "\u001b[1m971/971\u001b[0m \u001b[32m━━━━━━━━━━━━━━━━━━━━\u001b[0m\u001b[37m\u001b[0m \u001b[1m2s\u001b[0m 2ms/step - accuracy: 0.9676 - loss: 0.0858 - val_accuracy: 0.9638 - val_loss: 0.1061\n",
            "Epoch 86/100\n",
            "\u001b[1m971/971\u001b[0m \u001b[32m━━━━━━━━━━━━━━━━━━━━\u001b[0m\u001b[37m\u001b[0m \u001b[1m2s\u001b[0m 2ms/step - accuracy: 0.9687 - loss: 0.0851 - val_accuracy: 0.9717 - val_loss: 0.1014\n",
            "Epoch 87/100\n",
            "\u001b[1m971/971\u001b[0m \u001b[32m━━━━━━━━━━━━━━━━━━━━\u001b[0m\u001b[37m\u001b[0m \u001b[1m2s\u001b[0m 2ms/step - accuracy: 0.9688 - loss: 0.0835 - val_accuracy: 0.9615 - val_loss: 0.1108\n",
            "Epoch 88/100\n",
            "\u001b[1m971/971\u001b[0m \u001b[32m━━━━━━━━━━━━━━━━━━━━\u001b[0m\u001b[37m\u001b[0m \u001b[1m2s\u001b[0m 2ms/step - accuracy: 0.9681 - loss: 0.0857 - val_accuracy: 0.9591 - val_loss: 0.1169\n",
            "Epoch 89/100\n",
            "\u001b[1m971/971\u001b[0m \u001b[32m━━━━━━━━━━━━━━━━━━━━\u001b[0m\u001b[37m\u001b[0m \u001b[1m2s\u001b[0m 2ms/step - accuracy: 0.9695 - loss: 0.0809 - val_accuracy: 0.9680 - val_loss: 0.1000\n",
            "Epoch 90/100\n",
            "\u001b[1m971/971\u001b[0m \u001b[32m━━━━━━━━━━━━━━━━━━━━\u001b[0m\u001b[37m\u001b[0m \u001b[1m2s\u001b[0m 2ms/step - accuracy: 0.9697 - loss: 0.0819 - val_accuracy: 0.9615 - val_loss: 0.1146\n",
            "Epoch 91/100\n",
            "\u001b[1m971/971\u001b[0m \u001b[32m━━━━━━━━━━━━━━━━━━━━\u001b[0m\u001b[37m\u001b[0m \u001b[1m2s\u001b[0m 2ms/step - accuracy: 0.9700 - loss: 0.0824 - val_accuracy: 0.9470 - val_loss: 0.1488\n",
            "Epoch 92/100\n",
            "\u001b[1m971/971\u001b[0m \u001b[32m━━━━━━━━━━━━━━━━━━━━\u001b[0m\u001b[37m\u001b[0m \u001b[1m2s\u001b[0m 2ms/step - accuracy: 0.9688 - loss: 0.0821 - val_accuracy: 0.9691 - val_loss: 0.0998\n",
            "Epoch 93/100\n",
            "\u001b[1m971/971\u001b[0m \u001b[32m━━━━━━━━━━━━━━━━━━━━\u001b[0m\u001b[37m\u001b[0m \u001b[1m2s\u001b[0m 2ms/step - accuracy: 0.9710 - loss: 0.0796 - val_accuracy: 0.9697 - val_loss: 0.0984\n",
            "Epoch 94/100\n",
            "\u001b[1m971/971\u001b[0m \u001b[32m━━━━━━━━━━━━━━━━━━━━\u001b[0m\u001b[37m\u001b[0m \u001b[1m2s\u001b[0m 2ms/step - accuracy: 0.9724 - loss: 0.0758 - val_accuracy: 0.9670 - val_loss: 0.0983\n",
            "Epoch 95/100\n",
            "\u001b[1m971/971\u001b[0m \u001b[32m━━━━━━━━━━━━━━━━━━━━\u001b[0m\u001b[37m\u001b[0m \u001b[1m2s\u001b[0m 2ms/step - accuracy: 0.9712 - loss: 0.0770 - val_accuracy: 0.9706 - val_loss: 0.0981\n",
            "Epoch 96/100\n",
            "\u001b[1m971/971\u001b[0m \u001b[32m━━━━━━━━━━━━━━━━━━━━\u001b[0m\u001b[37m\u001b[0m \u001b[1m2s\u001b[0m 2ms/step - accuracy: 0.9709 - loss: 0.0751 - val_accuracy: 0.9681 - val_loss: 0.1010\n",
            "Epoch 97/100\n",
            "\u001b[1m971/971\u001b[0m \u001b[32m━━━━━━━━━━━━━━━━━━━━\u001b[0m\u001b[37m\u001b[0m \u001b[1m2s\u001b[0m 2ms/step - accuracy: 0.9720 - loss: 0.0747 - val_accuracy: 0.9693 - val_loss: 0.0975\n",
            "Epoch 98/100\n",
            "\u001b[1m971/971\u001b[0m \u001b[32m━━━━━━━━━━━━━━━━━━━━\u001b[0m\u001b[37m\u001b[0m \u001b[1m2s\u001b[0m 2ms/step - accuracy: 0.9711 - loss: 0.0755 - val_accuracy: 0.9708 - val_loss: 0.0955\n",
            "Epoch 99/100\n",
            "\u001b[1m971/971\u001b[0m \u001b[32m━━━━━━━━━━━━━━━━━━━━\u001b[0m\u001b[37m\u001b[0m \u001b[1m2s\u001b[0m 2ms/step - accuracy: 0.9719 - loss: 0.0747 - val_accuracy: 0.9742 - val_loss: 0.0886\n",
            "Epoch 100/100\n",
            "\u001b[1m971/971\u001b[0m \u001b[32m━━━━━━━━━━━━━━━━━━━━\u001b[0m\u001b[37m\u001b[0m \u001b[1m2s\u001b[0m 2ms/step - accuracy: 0.9715 - loss: 0.0745 - val_accuracy: 0.9690 - val_loss: 0.0988\n"
          ]
        },
        {
          "data": {
            "text/plain": [
              "<keras.src.callbacks.history.History at 0x26460bd0ac0>"
            ]
          },
          "execution_count": 29,
          "metadata": {},
          "output_type": "execute_result"
        }
      ],
      "source": [
        "## train the model\n",
        "model.fit(X_train, y_train, epochs=100, batch_size=64, validation_split=0.2, callbacks=early_stopping)"
      ]
    },
    {
      "cell_type": "code",
      "execution_count": 30,
      "metadata": {
        "colab": {
          "base_uri": "https://localhost:8080/",
          "height": 623
        },
        "id": "4o1KJBaKqreg",
        "outputId": "de2863df-0001-4658-e1cd-745c3a5bd7bc"
      },
      "outputs": [
        {
          "name": "stdout",
          "output_type": "stream",
          "text": [
            "\u001b[1m607/607\u001b[0m \u001b[32m━━━━━━━━━━━━━━━━━━━━\u001b[0m\u001b[37m\u001b[0m \u001b[1m1s\u001b[0m 974us/step\n",
            "              precision    recall  f1-score   support\n",
            "\n",
            "           0       0.98      0.96      0.97      9797\n",
            "           1       0.96      0.98      0.97      9612\n",
            "\n",
            "    accuracy                           0.97     19409\n",
            "   macro avg       0.97      0.97      0.97     19409\n",
            "weighted avg       0.97      0.97      0.97     19409\n",
            "\n"
          ]
        },
        {
          "data": {
            "image/png": "[encoded data removed]",
            "text/plain": [
              "<Figure size 640x480 with 2 Axes>"
            ]
          },
          "metadata": {},
          "output_type": "display_data"
        }
      ],
      "source": [
        "## Evaluate the model\n",
        "from sklearn.metrics import confusion_matrix, ConfusionMatrixDisplay, classification_report\n",
        "\n",
        "predictions = model.predict(X_test)\n",
        "predicted_labels = (predictions > 0.5).astype(int)\n",
        "\n",
        "print(classification_report(y_test, predicted_labels))\n",
        "\n",
        "cm = confusion_matrix(y_test, predicted_labels)\n",
        "disp = ConfusionMatrixDisplay(confusion_matrix=cm, display_labels=['Non-Toxic', 'Toxic'])\n",
        "disp.plot(values_format = '')\n",
        "plt.show()"
      ]
    },
    {
      "cell_type": "markdown",
      "metadata": {},
      "source": [
        "The model has given an accuracy of 97% with the train as well as test data."
      ]
    },
    {
      "cell_type": "code",
      "execution_count": 29,
      "metadata": {
        "colab": {
          "base_uri": "https://localhost:8080/"
        },
        "id": "po42twGNa2i8",
        "outputId": "8dbe832b-ac84-4338-a7de-6a399a88161b"
      },
      "outputs": [
        {
          "name": "stderr",
          "output_type": "stream",
          "text": [
            "WARNING:absl:You are saving your model as an HDF5 file via `model.save()` or `keras.saving.save_model(model)`. This file format is considered legacy. We recommend using instead the native Keras format, e.g. `model.save('my_model.keras')` or `keras.saving.save_model(model, 'my_model.keras')`. \n"
          ]
        }
      ],
      "source": [
        "## save the model\n",
        "model.save('reddit_gru_model.h5')\n",
        "model.save('reddit_gru_model.keras')"
      ]
    },
    {
      "cell_type": "code",
      "execution_count": 32,
      "metadata": {
        "id": "ChV9-eXJsdYO"
      },
      "outputs": [],
      "source": [
        "## save the google gensim model\n",
        "import pickle\n",
        "\n",
        "with open('gensim_model.pkl', 'wb') as file:\n",
        "  pickle.dump(wv, file)"
      ]
    }
  ],
  "metadata": {
    "accelerator": "GPU",
    "colab": {
      "gpuType": "T4",
      "provenance": []
    },
    "kernelspec": {
      "display_name": "Python 3",
      "name": "python3"
    },
    "language_info": {
      "codemirror_mode": {
        "name": "ipython",
        "version": 3
      },
      "file_extension": ".py",
      "mimetype": "text/x-python",
      "name": "python",
      "nbconvert_exporter": "python",
      "pygments_lexer": "ipython3",
      "version": "3.10.0"
    }
  },
  "nbformat": 4,
  "nbformat_minor": 0
}
